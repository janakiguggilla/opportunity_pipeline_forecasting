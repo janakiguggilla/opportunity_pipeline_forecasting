{
 "cells": [
  {
   "cell_type": "code",
   "execution_count": 52,
   "metadata": {},
   "outputs": [
    {
     "name": "stderr",
     "output_type": "stream",
     "text": [
      "WARNING:param.panel_extension: bokeh extension not recognized and will be skipped.\n",
      "bokeh extension not recognized and will be skipped.\n"
     ]
    },
    {
     "name": "stdout",
     "output_type": "stream",
     "text": [
      "The autoreload extension is already loaded. To reload it, use:\n",
      "  %reload_ext autoreload\n"
     ]
    }
   ],
   "source": [
    "%load_ext autoreload\n",
    "%autoreload 2\n",
    "import warnings\n",
    "\n",
    "warnings.filterwarnings('ignore', message=\"The sklearn.metrics.classification module\", category=FutureWarning)\n",
    "warnings.filterwarnings('ignore', message=\".*title_format is deprecated. Please use title instead.*\")\n",
    "warnings.filterwarnings('ignore', message=\"optional dependency `torch` is not available. - skipping import of NN models.\")\n",
    "warnings.filterwarnings('ignore', message=\"The default value of regex will change from True to False in a future version.\", \n",
    "                        category=FutureWarning)\n",
    "\n",
    "import os\n",
    "import os.path as op\n",
    "import shutil\n",
    "import bokeh\n",
    "\n",
    "import pandas as pd\n",
    "import numpy as np\n",
    "import matplotlib.pyplot as plt\n",
    "import scipy.stats as stats\n",
    "import datetime\n",
    "\n",
    "from dateutil.relativedelta import relativedelta\n",
    "from matplotlib import pyplot as plt\n",
    "from sklearn.pipeline import FeatureUnion, Pipeline\n",
    "from sklearn.base import BaseEstimator, TransformerMixin\n",
    "from sklearn.feature_selection import SelectFromModel, VarianceThreshold\n",
    "from sklearn.model_selection import GridSearchCV\n",
    "from sklearn.preprocessing import FunctionTransformer\n",
    "from sklearn.compose import ColumnTransformer\n",
    "from category_encoders import OneHotEncoder\n",
    "\n",
    "from sklearn.experimental import enable_iterative_imputer\n",
    "from sklearn.impute import KNNImputer, IterativeImputer, SimpleImputer\n",
    "import sys\n",
    "import panel as pn\n",
    "pn.extension('bokeh')"
   ]
  },
  {
   "cell_type": "code",
   "execution_count": 53,
   "metadata": {},
   "outputs": [],
   "source": [
    "#standard code-template imports\n",
    "from ta_lib.core.api import (\n",
    "    create_context, get_dataframe, get_feature_names_from_column_transformer, string_cleaning, initialize_environment,\n",
    "    get_package_path, display_as_tabs, save_data, save_pipeline, load_dataframe, load_pipeline, load_dataset, DEFAULT_ARTIFACTS_PATH\n",
    ")\n",
    "import ta_lib.core.api as dataset\n",
    "import ta_lib.eda.api as ta_analysis\n",
    "from ta_lib.reports.api import create_report\n",
    "import ta_lib.reports.api as health\n",
    "from sklearn.ensemble import RandomForestClassifier\n",
    "from ta_lib.classification.api import ClassificationComparison, ClassificationReport, confusion_matrix_by_feature, SKLStatsmodelLogit\n",
    "from ta_lib.data_processing.api import Outlier, WoeBinningTransformer\n",
    "\n",
    "#from scripts import * \n",
    "\n",
    "os.environ['TA_DEBUG'] = \"False\"\n",
    "os.environ['TA_ALLOW_EXCEPTIONS'] = \"True\"\n",
    "\n",
    "# Initialization\n",
    "initialize_environment(debug=False, hide_warnings=True)"
   ]
  },
  {
   "cell_type": "code",
   "execution_count": 54,
   "metadata": {},
   "outputs": [],
   "source": [
    "%matplotlib inline"
   ]
  },
  {
   "cell_type": "code",
   "execution_count": 66,
   "metadata": {},
   "outputs": [
    {
     "name": "stdout",
     "output_type": "stream",
     "text": [
      "['/raw/opportunity', '/raw/product', '/cleaned/opportunity', '/cleaned/product', '/processed/merged_final_dataset', '/train/features', '/train/target', '/test/features', '/test/target']\n"
     ]
    }
   ],
   "source": [
    "config_path = op.join('conf', 'config.yml')\n",
    "context = create_context(config_path)\n",
    "print(dataset.list_datasets(context))"
   ]
  },
  {
   "cell_type": "code",
   "execution_count": 67,
   "metadata": {},
   "outputs": [
    {
     "data": {
      "text/html": [
       "<div>\n",
       "<style scoped>\n",
       "    .dataframe tbody tr th:only-of-type {\n",
       "        vertical-align: middle;\n",
       "    }\n",
       "\n",
       "    .dataframe tbody tr th {\n",
       "        vertical-align: top;\n",
       "    }\n",
       "\n",
       "    .dataframe thead th {\n",
       "        text-align: right;\n",
       "    }\n",
       "</style>\n",
       "<table border=\"1\" class=\"dataframe\">\n",
       "  <thead>\n",
       "    <tr style=\"text-align: right;\">\n",
       "      <th></th>\n",
       "      <th>Unnamed: 0</th>\n",
       "      <th>opportunity id</th>\n",
       "      <th>transition to stage</th>\n",
       "      <th>transition to timestamp</th>\n",
       "      <th>transition from stage name</th>\n",
       "      <th>transition from timestamp</th>\n",
       "      <th>customer name</th>\n",
       "      <th>risk status</th>\n",
       "      <th>creation date</th>\n",
       "      <th>decision date</th>\n",
       "      <th>...</th>\n",
       "      <th>core sales segment</th>\n",
       "      <th>geography</th>\n",
       "      <th>core product application</th>\n",
       "      <th>time taken for transition</th>\n",
       "      <th>product id</th>\n",
       "      <th>product status</th>\n",
       "      <th>product $</th>\n",
       "      <th>product quantity</th>\n",
       "      <th>snapshot time</th>\n",
       "      <th>cost_per_unit</th>\n",
       "    </tr>\n",
       "  </thead>\n",
       "  <tbody>\n",
       "    <tr>\n",
       "      <th>0</th>\n",
       "      <td>2</td>\n",
       "      <td>5</td>\n",
       "      <td>3</td>\n",
       "      <td>2015-03-04 21:00:02</td>\n",
       "      <td>3</td>\n",
       "      <td>2015-03-04 21:00:02</td>\n",
       "      <td>83</td>\n",
       "      <td>0</td>\n",
       "      <td>11-02-2015</td>\n",
       "      <td>12-03-2015</td>\n",
       "      <td>...</td>\n",
       "      <td>8</td>\n",
       "      <td>-1</td>\n",
       "      <td>4</td>\n",
       "      <td>0.0</td>\n",
       "      <td>404</td>\n",
       "      <td>1</td>\n",
       "      <td>230400.0</td>\n",
       "      <td>1200.0</td>\n",
       "      <td>2015-02-11 21:00:01</td>\n",
       "      <td>192.0</td>\n",
       "    </tr>\n",
       "    <tr>\n",
       "      <th>1</th>\n",
       "      <td>3</td>\n",
       "      <td>5</td>\n",
       "      <td>4</td>\n",
       "      <td>2015-03-16 13:00:01</td>\n",
       "      <td>3</td>\n",
       "      <td>2015-03-04 21:00:02</td>\n",
       "      <td>83</td>\n",
       "      <td>0</td>\n",
       "      <td>11-02-2015</td>\n",
       "      <td>12-03-2015</td>\n",
       "      <td>...</td>\n",
       "      <td>8</td>\n",
       "      <td>-1</td>\n",
       "      <td>4</td>\n",
       "      <td>11919999.0</td>\n",
       "      <td>404</td>\n",
       "      <td>1</td>\n",
       "      <td>230400.0</td>\n",
       "      <td>1200.0</td>\n",
       "      <td>2015-02-11 21:00:01</td>\n",
       "      <td>192.0</td>\n",
       "    </tr>\n",
       "    <tr>\n",
       "      <th>2</th>\n",
       "      <td>4</td>\n",
       "      <td>5</td>\n",
       "      <td>4</td>\n",
       "      <td>2015-03-17 13:00:01</td>\n",
       "      <td>4</td>\n",
       "      <td>2015-03-16 13:00:01</td>\n",
       "      <td>83</td>\n",
       "      <td>0</td>\n",
       "      <td>11-02-2015</td>\n",
       "      <td>12-03-2015</td>\n",
       "      <td>...</td>\n",
       "      <td>8</td>\n",
       "      <td>1</td>\n",
       "      <td>4</td>\n",
       "      <td>1000000.0</td>\n",
       "      <td>404</td>\n",
       "      <td>1</td>\n",
       "      <td>230400.0</td>\n",
       "      <td>1200.0</td>\n",
       "      <td>2015-02-11 21:00:01</td>\n",
       "      <td>192.0</td>\n",
       "    </tr>\n",
       "    <tr>\n",
       "      <th>3</th>\n",
       "      <td>5</td>\n",
       "      <td>5</td>\n",
       "      <td>4</td>\n",
       "      <td>2015-03-23 21:00:01</td>\n",
       "      <td>4</td>\n",
       "      <td>2015-03-17 13:00:01</td>\n",
       "      <td>83</td>\n",
       "      <td>0</td>\n",
       "      <td>11-02-2015</td>\n",
       "      <td>12-03-2015</td>\n",
       "      <td>...</td>\n",
       "      <td>8</td>\n",
       "      <td>3</td>\n",
       "      <td>4</td>\n",
       "      <td>6080000.0</td>\n",
       "      <td>404</td>\n",
       "      <td>1</td>\n",
       "      <td>230400.0</td>\n",
       "      <td>1200.0</td>\n",
       "      <td>2015-02-11 21:00:01</td>\n",
       "      <td>192.0</td>\n",
       "    </tr>\n",
       "    <tr>\n",
       "      <th>4</th>\n",
       "      <td>6</td>\n",
       "      <td>5</td>\n",
       "      <td>4</td>\n",
       "      <td>2015-08-10 18:37:57</td>\n",
       "      <td>4</td>\n",
       "      <td>2015-07-18 05:00:03</td>\n",
       "      <td>83</td>\n",
       "      <td>0</td>\n",
       "      <td>11-02-2015</td>\n",
       "      <td>12-03-2015</td>\n",
       "      <td>...</td>\n",
       "      <td>8</td>\n",
       "      <td>3</td>\n",
       "      <td>4</td>\n",
       "      <td>92133754.0</td>\n",
       "      <td>404</td>\n",
       "      <td>1</td>\n",
       "      <td>230400.0</td>\n",
       "      <td>1200.0</td>\n",
       "      <td>2015-02-11 21:00:01</td>\n",
       "      <td>192.0</td>\n",
       "    </tr>\n",
       "  </tbody>\n",
       "</table>\n",
       "<p>5 rows × 24 columns</p>\n",
       "</div>"
      ],
      "text/plain": [
       "   Unnamed: 0  opportunity id  transition to stage transition to timestamp  \\\n",
       "0           2               5                    3     2015-03-04 21:00:02   \n",
       "1           3               5                    4     2015-03-16 13:00:01   \n",
       "2           4               5                    4     2015-03-17 13:00:01   \n",
       "3           5               5                    4     2015-03-23 21:00:01   \n",
       "4           6               5                    4     2015-08-10 18:37:57   \n",
       "\n",
       "   transition from stage name transition from timestamp  customer name  \\\n",
       "0                           3       2015-03-04 21:00:02             83   \n",
       "1                           3       2015-03-04 21:00:02             83   \n",
       "2                           4       2015-03-16 13:00:01             83   \n",
       "3                           4       2015-03-17 13:00:01             83   \n",
       "4                           4       2015-07-18 05:00:03             83   \n",
       "\n",
       "   risk status creation date decision date  ...  core sales segment  \\\n",
       "0            0    11-02-2015    12-03-2015  ...                   8   \n",
       "1            0    11-02-2015    12-03-2015  ...                   8   \n",
       "2            0    11-02-2015    12-03-2015  ...                   8   \n",
       "3            0    11-02-2015    12-03-2015  ...                   8   \n",
       "4            0    11-02-2015    12-03-2015  ...                   8   \n",
       "\n",
       "   geography  core product application  time taken for transition  product id  \\\n",
       "0         -1                         4                        0.0         404   \n",
       "1         -1                         4                 11919999.0         404   \n",
       "2          1                         4                  1000000.0         404   \n",
       "3          3                         4                  6080000.0         404   \n",
       "4          3                         4                 92133754.0         404   \n",
       "\n",
       "   product status  product $  product quantity        snapshot time  \\\n",
       "0               1   230400.0            1200.0  2015-02-11 21:00:01   \n",
       "1               1   230400.0            1200.0  2015-02-11 21:00:01   \n",
       "2               1   230400.0            1200.0  2015-02-11 21:00:01   \n",
       "3               1   230400.0            1200.0  2015-02-11 21:00:01   \n",
       "4               1   230400.0            1200.0  2015-02-11 21:00:01   \n",
       "\n",
       "   cost_per_unit  \n",
       "0          192.0  \n",
       "1          192.0  \n",
       "2          192.0  \n",
       "3          192.0  \n",
       "4          192.0  \n",
       "\n",
       "[5 rows x 24 columns]"
      ]
     },
     "execution_count": 67,
     "metadata": {},
     "output_type": "execute_result"
    }
   ],
   "source": [
    "data = dataset.load_dataset(context,'/processed/merged_final_dataset')\n",
    "data.head()"
   ]
  },
  {
   "cell_type": "code",
   "execution_count": 68,
   "metadata": {},
   "outputs": [],
   "source": [
    "data.drop(['Unnamed: 0'], axis =1, inplace = True)"
   ]
  },
  {
   "cell_type": "code",
   "execution_count": 71,
   "metadata": {},
   "outputs": [
    {
     "data": {
      "text/plain": [
       "<AxesSubplot:xlabel='opportunity id', ylabel='transition to timestamp'>"
      ]
     },
     "execution_count": 71,
     "metadata": {},
     "output_type": "execute_result"
    },
    {
     "data": {
      "image/png": "[encoded data removed]",
      "text/plain": [
       "<Figure size 720x504 with 2 Axes>"
      ]
     },
     "metadata": {
      "needs_background": "light"
     },
     "output_type": "display_data"
    }
   ],
   "source": [
    "data.iloc[:100].plot(kind=\"scatter\", x='opportunity id', y=\"transition to timestamp\",\n",
    "figsize=(10,7),c=\"transition to stage\",cmap=plt.get_cmap(\"jet\"), colorbar=True)\n"
   ]
  },
  {
   "cell_type": "code",
   "execution_count": 72,
   "metadata": {},
   "outputs": [
    {
     "data": {
      "image/png": "[encoded data removed]",
      "text/plain": [
       "<Figure size 432x288 with 1 Axes>"
      ]
     },
     "metadata": {
      "needs_background": "light"
     },
     "output_type": "display_data"
    }
   ],
   "source": [
    "stages = data['transition to stage'].unique()\n",
    "stages.sort()\n",
    "stage_counts = data['transition to stage'].value_counts().sort_index()\n",
    "\n",
    "# Create line chart\n",
    "plt.bar(stages, stage_counts, width=0.4)\n",
    "plt.xlabel('Stage')\n",
    "plt.ylabel('Number of Opportunities')\n",
    "plt.title('Opportunity Movement Through Stages')\n",
    "\n",
    "# Show chart\n",
    "plt.show()"
   ]
  },
  {
   "cell_type": "code",
   "execution_count": 73,
   "metadata": {},
   "outputs": [
    {
     "data": {
      "text/plain": [
       "<AxesSubplot:xlabel='opportunity id', ylabel='transition to stage'>"
      ]
     },
     "execution_count": 73,
     "metadata": {},
     "output_type": "execute_result"
    },
    {
     "data": {
      "image/png": "[encoded data removed]",
      "text/plain": [
       "<Figure size 1080x504 with 2 Axes>"
      ]
     },
     "metadata": {
      "needs_background": "light"
     },
     "output_type": "display_data"
    }
   ],
   "source": [
    "data.plot(kind=\"scatter\", c=\"opportunity type\", y=\"transition to stage\",figsize=(15,7),\n",
    "       x=\"opportunity id\", cmap=plt.get_cmap(\"jet\"), colorbar=True)"
   ]
  },
  {
   "cell_type": "code",
   "execution_count": 74,
   "metadata": {},
   "outputs": [
    {
     "data": {
      "text/plain": [
       "Text(0, 0.5, 'Mean Transition Time in Seconds')"
      ]
     },
     "execution_count": 74,
     "metadata": {},
     "output_type": "execute_result"
    },
    {
     "data": {
      "image/png": "[encoded data removed]",
      "text/plain": [
       "<Figure size 432x288 with 1 Axes>"
      ]
     },
     "metadata": {
      "needs_background": "light"
     },
     "output_type": "display_data"
    }
   ],
   "source": [
    "data['time taken for transition'].fillna(data['time taken for transition'].median(), inplace = True)\n",
    "df = data.groupby('geography')['time taken for transition'].mean()\n",
    "ax = df.plot.bar()\n",
    "ax.set_ylabel(\"Mean Transition Time in Seconds\")"
   ]
  },
  {
   "cell_type": "code",
   "execution_count": 75,
   "metadata": {},
   "outputs": [
    {
     "data": {
      "text/plain": [
       "F_onewayResult(statistic=62.01513250469123, pvalue=1.8578238769673208e-64)"
      ]
     },
     "execution_count": 75,
     "metadata": {},
     "output_type": "execute_result"
    }
   ],
   "source": [
    "df = data\n",
    "stats.f_oneway(df[df['geography'] == -1]['time taken for transition'],df[df['geography'] == 1]['time taken for transition'],\n",
    "df[df['geography'] == 2]['time taken for transition'],df[df['geography'] == 3]['time taken for transition'],\n",
    "df[df['geography'] == 4]['time taken for transition'],df[df['geography'] == 5]['time taken for transition']) # ANOVA"
   ]
  },
  {
   "cell_type": "code",
   "execution_count": 76,
   "metadata": {},
   "outputs": [
    {
     "data": {
      "text/html": [
       "<div>\n",
       "<style scoped>\n",
       "    .dataframe tbody tr th:only-of-type {\n",
       "        vertical-align: middle;\n",
       "    }\n",
       "\n",
       "    .dataframe tbody tr th {\n",
       "        vertical-align: top;\n",
       "    }\n",
       "\n",
       "    .dataframe thead th {\n",
       "        text-align: right;\n",
       "    }\n",
       "</style>\n",
       "<table border=\"1\" class=\"dataframe\">\n",
       "  <thead>\n",
       "    <tr style=\"text-align: right;\">\n",
       "      <th>transition to stage</th>\n",
       "      <th>Early Stage</th>\n",
       "      <th>Later Stage</th>\n",
       "    </tr>\n",
       "    <tr>\n",
       "      <th>opportunity status</th>\n",
       "      <th></th>\n",
       "      <th></th>\n",
       "    </tr>\n",
       "  </thead>\n",
       "  <tbody>\n",
       "    <tr>\n",
       "      <th>False</th>\n",
       "      <td>0</td>\n",
       "      <td>10396</td>\n",
       "    </tr>\n",
       "    <tr>\n",
       "      <th>True</th>\n",
       "      <td>5232</td>\n",
       "      <td>7715</td>\n",
       "    </tr>\n",
       "  </tbody>\n",
       "</table>\n",
       "</div>"
      ],
      "text/plain": [
       "transition to stage  Early Stage  Later Stage\n",
       "opportunity status                           \n",
       "False                          0        10396\n",
       "True                        5232         7715"
      ]
     },
     "execution_count": 76,
     "metadata": {},
     "output_type": "execute_result"
    }
   ],
   "source": [
    "stage = df['transition to stage'].apply(lambda x : 'Early Stage' if x in [6,5] else 'Later Stage') \n",
    "losses = df['opportunity status'].apply(lambda x : True if x == 0 else False )\n",
    "tab = pd.crosstab(losses,stage)\n",
    "tab"
   ]
  },
  {
   "cell_type": "code",
   "execution_count": 77,
   "metadata": {},
   "outputs": [
    {
     "data": {
      "text/plain": [
       "array([3, 4, 5, 9, 2, 6, 1, 8, 7], dtype=int64)"
      ]
     },
     "execution_count": 77,
     "metadata": {},
     "output_type": "execute_result"
    }
   ],
   "source": [
    "df['transition to stage'].unique()"
   ]
  },
  {
   "cell_type": "code",
   "execution_count": 78,
   "metadata": {},
   "outputs": [
    {
     "data": {
      "text/plain": [
       "([<matplotlib.patches.Wedge at 0x17c73531d90>,\n",
       "  <matplotlib.patches.Wedge at 0x17c7353e4f0>],\n",
       " [Text(-0.650109361902567, 0.8873318531229664, 'Early Stage'),\n",
       "  Text(0.6501093619025665, -0.8873318531229666, 'Later Stage')],\n",
       " [Text(-0.35460510649230925, 0.483999192612527, '70.1%'),\n",
       "  Text(0.354605106492309, -0.48399919261252716, '29.9%')])"
      ]
     },
     "execution_count": 78,
     "metadata": {},
     "output_type": "execute_result"
    },
    {
     "data": {
      "image/png": "[encoded data removed]",
      "text/plain": [
       "<Figure size 432x288 with 1 Axes>"
      ]
     },
     "metadata": {},
     "output_type": "display_data"
    }
   ],
   "source": [
    "temp = []\n",
    "for i in tab.columns: \n",
    "    s = tab[i].iloc[1]*100 / (tab[i].iloc[0] + tab[i].iloc[1])\n",
    "    temp.append(s)\n",
    "\n",
    "labels = ['Early Stage', 'Later Stage']\n",
    "plt.pie(x = temp, labels = labels, autopct='%1.1f%%')"
   ]
  },
  {
   "cell_type": "code",
   "execution_count": 79,
   "metadata": {},
   "outputs": [
    {
     "data": {
      "text/plain": [
       "(5412.435006607813,\n",
       " 0.0,\n",
       " 1,\n",
       " array([[ 2330.11489526,  8065.88510474],\n",
       "        [ 2901.88510474, 10045.11489526]]))"
      ]
     },
     "execution_count": 79,
     "metadata": {},
     "output_type": "execute_result"
    }
   ],
   "source": [
    "stats.chi2_contingency(tab) # test of association"
   ]
  },
  {
   "cell_type": "code",
   "execution_count": 80,
   "metadata": {},
   "outputs": [
    {
     "data": {
      "text/html": [
       "<div>\n",
       "<style scoped>\n",
       "    .dataframe tbody tr th:only-of-type {\n",
       "        vertical-align: middle;\n",
       "    }\n",
       "\n",
       "    .dataframe tbody tr th {\n",
       "        vertical-align: top;\n",
       "    }\n",
       "\n",
       "    .dataframe thead th {\n",
       "        text-align: right;\n",
       "    }\n",
       "</style>\n",
       "<table border=\"1\" class=\"dataframe\">\n",
       "  <thead>\n",
       "    <tr style=\"text-align: right;\">\n",
       "      <th>core product segment</th>\n",
       "      <th>2</th>\n",
       "      <th>3</th>\n",
       "      <th>4</th>\n",
       "      <th>5</th>\n",
       "      <th>6</th>\n",
       "      <th>7</th>\n",
       "      <th>8</th>\n",
       "      <th>9</th>\n",
       "      <th>11</th>\n",
       "    </tr>\n",
       "    <tr>\n",
       "      <th>opportunity status</th>\n",
       "      <th></th>\n",
       "      <th></th>\n",
       "      <th></th>\n",
       "      <th></th>\n",
       "      <th></th>\n",
       "      <th></th>\n",
       "      <th></th>\n",
       "      <th></th>\n",
       "      <th></th>\n",
       "    </tr>\n",
       "  </thead>\n",
       "  <tbody>\n",
       "    <tr>\n",
       "      <th>False</th>\n",
       "      <td>12</td>\n",
       "      <td>11914</td>\n",
       "      <td>479</td>\n",
       "      <td>276</td>\n",
       "      <td>51</td>\n",
       "      <td>40</td>\n",
       "      <td>151</td>\n",
       "      <td>20</td>\n",
       "      <td>4</td>\n",
       "    </tr>\n",
       "    <tr>\n",
       "      <th>True</th>\n",
       "      <td>6</td>\n",
       "      <td>9999</td>\n",
       "      <td>203</td>\n",
       "      <td>81</td>\n",
       "      <td>18</td>\n",
       "      <td>0</td>\n",
       "      <td>86</td>\n",
       "      <td>0</td>\n",
       "      <td>3</td>\n",
       "    </tr>\n",
       "  </tbody>\n",
       "</table>\n",
       "</div>"
      ],
      "text/plain": [
       "core product segment  2      3    4    5   6   7    8   9   11\n",
       "opportunity status                                            \n",
       "False                 12  11914  479  276  51  40  151  20   4\n",
       "True                   6   9999  203   81  18   0   86   0   3"
      ]
     },
     "execution_count": 80,
     "metadata": {},
     "output_type": "execute_result"
    }
   ],
   "source": [
    "cat = df['core product segment']\n",
    "won = df['opportunity status'].apply(lambda x : True if x == 1 else False )\n",
    "tab = pd.crosstab(won,cat)\n",
    "tab"
   ]
  },
  {
   "cell_type": "code",
   "execution_count": 85,
   "metadata": {},
   "outputs": [
    {
     "data": {
      "text/plain": [
       "Text(0, 0.5, 'Win %')"
      ]
     },
     "execution_count": 85,
     "metadata": {},
     "output_type": "execute_result"
    },
    {
     "data": {
      "image/png": "[encoded data removed]",
      "text/plain": [
       "<Figure size 432x288 with 1 Axes>"
      ]
     },
     "metadata": {
      "needs_background": "light"
     },
     "output_type": "display_data"
    }
   ],
   "source": [
    "temp = []\n",
    "for i in tab.columns: \n",
    "    s = tab[i].iloc[1]*100 / (tab[i].iloc[0] + tab[i].iloc[1])\n",
    "    temp.append(s)\n",
    "df = pd.Series(temp, index =  np.arange(2,11)).sort_values()\n",
    "ax= df.plot.bar()\n",
    "ax.set_xlabel(\"Product Segment\")\n",
    "ax.set_ylabel('Win %')"
   ]
  },
  {
   "cell_type": "code",
   "execution_count": 86,
   "metadata": {},
   "outputs": [
    {
     "data": {
      "text/plain": [
       "(204.9802999139624,\n",
       " 5.69851423754374e-40,\n",
       " 8,\n",
       " array([[9.98354967e+00, 1.21538624e+04, 3.78265604e+02, 1.98007069e+02,\n",
       "         3.82702737e+01, 2.21856659e+01, 1.31450071e+02, 1.10928330e+01,\n",
       "         3.88249154e+00],\n",
       "        [8.01645033e+00, 9.75913756e+03, 3.03734396e+02, 1.58992931e+02,\n",
       "         3.07297263e+01, 1.78143341e+01, 1.05549929e+02, 8.90716703e+00,\n",
       "         3.11750846e+00]]))"
      ]
     },
     "execution_count": 86,
     "metadata": {},
     "output_type": "execute_result"
    }
   ],
   "source": [
    "stats.chi2_contingency(tab)"
   ]
  },
  {
   "cell_type": "code",
   "execution_count": 95,
   "metadata": {},
   "outputs": [
    {
     "name": "stdout",
     "output_type": "stream",
     "text": [
      "<class 'pandas.core.frame.DataFrame'>\n",
      "RangeIndex: 23343 entries, 0 to 23342\n",
      "Data columns (total 23 columns):\n",
      " #   Column                      Non-Null Count  Dtype  \n",
      "---  ------                      --------------  -----  \n",
      " 0   opportunity id              23343 non-null  int64  \n",
      " 1   transition to stage         23343 non-null  int64  \n",
      " 2   transition to timestamp     23343 non-null  object \n",
      " 3   transition from stage name  23343 non-null  int64  \n",
      " 4   transition from timestamp   23343 non-null  object \n",
      " 5   customer name               23343 non-null  int64  \n",
      " 6   risk status                 23343 non-null  int64  \n",
      " 7   creation date               23343 non-null  object \n",
      " 8   decision date               23343 non-null  object \n",
      " 9   opportunity status          23343 non-null  int64  \n",
      " 10  opportunity type            23343 non-null  int64  \n",
      " 11  core consumption market     23343 non-null  int64  \n",
      " 12  core product segment        23343 non-null  int64  \n",
      " 13  core sales segment          23343 non-null  int64  \n",
      " 14  geography                   23343 non-null  int64  \n",
      " 15  core product application    23343 non-null  int64  \n",
      " 16  time taken for transition   23343 non-null  float64\n",
      " 17  product id                  23343 non-null  int64  \n",
      " 18  product status              23343 non-null  int64  \n",
      " 19  product $                   23343 non-null  float64\n",
      " 20  product quantity            23343 non-null  float64\n",
      " 21  snapshot time               23343 non-null  object \n",
      " 22  cost_per_unit               23343 non-null  float64\n",
      "dtypes: float64(4), int64(14), object(5)\n",
      "memory usage: 4.1+ MB\n"
     ]
    }
   ],
   "source": [
    "data.info()"
   ]
  },
  {
   "cell_type": "code",
   "execution_count": 105,
   "metadata": {},
   "outputs": [],
   "source": [
    "data['creation date'] = pd.to_datetime(data['creation date'], format = '%d-%m-%Y')\n",
    "data['decision date'] = pd.to_datetime(data['decision date'], format = '%d-%m-%Y')\n",
    "data['days'] = (data['decision date'] - data['creation date']).dt.days"
   ]
  },
  {
   "cell_type": "code",
   "execution_count": 106,
   "metadata": {},
   "outputs": [
    {
     "data": {
      "text/plain": [
       "Index(['opportunity id', 'transition to stage', 'transition to timestamp',\n",
       "       'transition from stage name', 'transition from timestamp',\n",
       "       'customer name', 'risk status', 'creation date', 'decision date',\n",
       "       'opportunity status', 'opportunity type', 'core consumption market',\n",
       "       'core product segment', 'core sales segment', 'geography',\n",
       "       'core product application', 'time taken for transition', 'product id',\n",
       "       'product status', 'product $', 'product quantity', 'snapshot time',\n",
       "       'cost_per_unit', 'days'],\n",
       "      dtype='object')"
      ]
     },
     "execution_count": 106,
     "metadata": {},
     "output_type": "execute_result"
    }
   ],
   "source": [
    "data.columns"
   ]
  },
  {
   "cell_type": "code",
   "execution_count": 107,
   "metadata": {},
   "outputs": [],
   "source": [
    "data.drop(['opportunity id', 'transition to timestamp', 'transition from timestamp','creation date', 'decision date', 'customer name','snapshot time', 'product id'], axis =1, inplace = True)"
   ]
  },
  {
   "cell_type": "code",
   "execution_count": 108,
   "metadata": {},
   "outputs": [
    {
     "data": {
      "text/html": [
       "<div>\n",
       "<style scoped>\n",
       "    .dataframe tbody tr th:only-of-type {\n",
       "        vertical-align: middle;\n",
       "    }\n",
       "\n",
       "    .dataframe tbody tr th {\n",
       "        vertical-align: top;\n",
       "    }\n",
       "\n",
       "    .dataframe thead th {\n",
       "        text-align: right;\n",
       "    }\n",
       "</style>\n",
       "<table border=\"1\" class=\"dataframe\">\n",
       "  <thead>\n",
       "    <tr style=\"text-align: right;\">\n",
       "      <th></th>\n",
       "      <th>transition to stage</th>\n",
       "      <th>transition from stage name</th>\n",
       "      <th>risk status</th>\n",
       "      <th>opportunity status</th>\n",
       "      <th>opportunity type</th>\n",
       "      <th>core consumption market</th>\n",
       "      <th>core product segment</th>\n",
       "      <th>core sales segment</th>\n",
       "      <th>geography</th>\n",
       "      <th>core product application</th>\n",
       "      <th>time taken for transition</th>\n",
       "      <th>product status</th>\n",
       "      <th>product $</th>\n",
       "      <th>product quantity</th>\n",
       "      <th>cost_per_unit</th>\n",
       "      <th>days</th>\n",
       "    </tr>\n",
       "  </thead>\n",
       "  <tbody>\n",
       "    <tr>\n",
       "      <th>0</th>\n",
       "      <td>3</td>\n",
       "      <td>3</td>\n",
       "      <td>0</td>\n",
       "      <td>0</td>\n",
       "      <td>0</td>\n",
       "      <td>11</td>\n",
       "      <td>3</td>\n",
       "      <td>8</td>\n",
       "      <td>-1</td>\n",
       "      <td>4</td>\n",
       "      <td>0.0</td>\n",
       "      <td>1</td>\n",
       "      <td>230400.0</td>\n",
       "      <td>1200.0</td>\n",
       "      <td>192.0</td>\n",
       "      <td>29</td>\n",
       "    </tr>\n",
       "    <tr>\n",
       "      <th>1</th>\n",
       "      <td>4</td>\n",
       "      <td>3</td>\n",
       "      <td>0</td>\n",
       "      <td>1</td>\n",
       "      <td>0</td>\n",
       "      <td>11</td>\n",
       "      <td>3</td>\n",
       "      <td>8</td>\n",
       "      <td>-1</td>\n",
       "      <td>4</td>\n",
       "      <td>11919999.0</td>\n",
       "      <td>1</td>\n",
       "      <td>230400.0</td>\n",
       "      <td>1200.0</td>\n",
       "      <td>192.0</td>\n",
       "      <td>29</td>\n",
       "    </tr>\n",
       "    <tr>\n",
       "      <th>2</th>\n",
       "      <td>4</td>\n",
       "      <td>4</td>\n",
       "      <td>0</td>\n",
       "      <td>1</td>\n",
       "      <td>0</td>\n",
       "      <td>11</td>\n",
       "      <td>3</td>\n",
       "      <td>8</td>\n",
       "      <td>1</td>\n",
       "      <td>4</td>\n",
       "      <td>1000000.0</td>\n",
       "      <td>1</td>\n",
       "      <td>230400.0</td>\n",
       "      <td>1200.0</td>\n",
       "      <td>192.0</td>\n",
       "      <td>29</td>\n",
       "    </tr>\n",
       "    <tr>\n",
       "      <th>3</th>\n",
       "      <td>4</td>\n",
       "      <td>4</td>\n",
       "      <td>0</td>\n",
       "      <td>1</td>\n",
       "      <td>0</td>\n",
       "      <td>11</td>\n",
       "      <td>3</td>\n",
       "      <td>8</td>\n",
       "      <td>3</td>\n",
       "      <td>4</td>\n",
       "      <td>6080000.0</td>\n",
       "      <td>1</td>\n",
       "      <td>230400.0</td>\n",
       "      <td>1200.0</td>\n",
       "      <td>192.0</td>\n",
       "      <td>29</td>\n",
       "    </tr>\n",
       "    <tr>\n",
       "      <th>4</th>\n",
       "      <td>4</td>\n",
       "      <td>4</td>\n",
       "      <td>0</td>\n",
       "      <td>1</td>\n",
       "      <td>1</td>\n",
       "      <td>11</td>\n",
       "      <td>3</td>\n",
       "      <td>8</td>\n",
       "      <td>3</td>\n",
       "      <td>4</td>\n",
       "      <td>92133754.0</td>\n",
       "      <td>1</td>\n",
       "      <td>230400.0</td>\n",
       "      <td>1200.0</td>\n",
       "      <td>192.0</td>\n",
       "      <td>29</td>\n",
       "    </tr>\n",
       "    <tr>\n",
       "      <th>...</th>\n",
       "      <td>...</td>\n",
       "      <td>...</td>\n",
       "      <td>...</td>\n",
       "      <td>...</td>\n",
       "      <td>...</td>\n",
       "      <td>...</td>\n",
       "      <td>...</td>\n",
       "      <td>...</td>\n",
       "      <td>...</td>\n",
       "      <td>...</td>\n",
       "      <td>...</td>\n",
       "      <td>...</td>\n",
       "      <td>...</td>\n",
       "      <td>...</td>\n",
       "      <td>...</td>\n",
       "      <td>...</td>\n",
       "    </tr>\n",
       "    <tr>\n",
       "      <th>23338</th>\n",
       "      <td>1</td>\n",
       "      <td>6</td>\n",
       "      <td>0</td>\n",
       "      <td>0</td>\n",
       "      <td>2</td>\n",
       "      <td>16</td>\n",
       "      <td>5</td>\n",
       "      <td>4</td>\n",
       "      <td>2</td>\n",
       "      <td>5</td>\n",
       "      <td>2138660.0</td>\n",
       "      <td>1</td>\n",
       "      <td>6000.0</td>\n",
       "      <td>1000.0</td>\n",
       "      <td>6.0</td>\n",
       "      <td>291</td>\n",
       "    </tr>\n",
       "    <tr>\n",
       "      <th>23339</th>\n",
       "      <td>1</td>\n",
       "      <td>1</td>\n",
       "      <td>0</td>\n",
       "      <td>0</td>\n",
       "      <td>2</td>\n",
       "      <td>16</td>\n",
       "      <td>5</td>\n",
       "      <td>4</td>\n",
       "      <td>2</td>\n",
       "      <td>5</td>\n",
       "      <td>2919999.0</td>\n",
       "      <td>1</td>\n",
       "      <td>60000.0</td>\n",
       "      <td>10000.0</td>\n",
       "      <td>6.0</td>\n",
       "      <td>291</td>\n",
       "    </tr>\n",
       "    <tr>\n",
       "      <th>23340</th>\n",
       "      <td>1</td>\n",
       "      <td>1</td>\n",
       "      <td>0</td>\n",
       "      <td>0</td>\n",
       "      <td>2</td>\n",
       "      <td>16</td>\n",
       "      <td>5</td>\n",
       "      <td>4</td>\n",
       "      <td>2</td>\n",
       "      <td>5</td>\n",
       "      <td>2919999.0</td>\n",
       "      <td>1</td>\n",
       "      <td>6000.0</td>\n",
       "      <td>1000.0</td>\n",
       "      <td>6.0</td>\n",
       "      <td>291</td>\n",
       "    </tr>\n",
       "    <tr>\n",
       "      <th>23341</th>\n",
       "      <td>1</td>\n",
       "      <td>1</td>\n",
       "      <td>1</td>\n",
       "      <td>0</td>\n",
       "      <td>2</td>\n",
       "      <td>16</td>\n",
       "      <td>5</td>\n",
       "      <td>4</td>\n",
       "      <td>2</td>\n",
       "      <td>5</td>\n",
       "      <td>76000001.0</td>\n",
       "      <td>1</td>\n",
       "      <td>60000.0</td>\n",
       "      <td>10000.0</td>\n",
       "      <td>6.0</td>\n",
       "      <td>291</td>\n",
       "    </tr>\n",
       "    <tr>\n",
       "      <th>23342</th>\n",
       "      <td>1</td>\n",
       "      <td>1</td>\n",
       "      <td>1</td>\n",
       "      <td>0</td>\n",
       "      <td>2</td>\n",
       "      <td>16</td>\n",
       "      <td>5</td>\n",
       "      <td>4</td>\n",
       "      <td>2</td>\n",
       "      <td>5</td>\n",
       "      <td>76000001.0</td>\n",
       "      <td>1</td>\n",
       "      <td>6000.0</td>\n",
       "      <td>1000.0</td>\n",
       "      <td>6.0</td>\n",
       "      <td>291</td>\n",
       "    </tr>\n",
       "  </tbody>\n",
       "</table>\n",
       "<p>23343 rows × 16 columns</p>\n",
       "</div>"
      ],
      "text/plain": [
       "       transition to stage  transition from stage name  risk status  \\\n",
       "0                        3                           3            0   \n",
       "1                        4                           3            0   \n",
       "2                        4                           4            0   \n",
       "3                        4                           4            0   \n",
       "4                        4                           4            0   \n",
       "...                    ...                         ...          ...   \n",
       "23338                    1                           6            0   \n",
       "23339                    1                           1            0   \n",
       "23340                    1                           1            0   \n",
       "23341                    1                           1            1   \n",
       "23342                    1                           1            1   \n",
       "\n",
       "       opportunity status  opportunity type  core consumption market  \\\n",
       "0                       0                 0                       11   \n",
       "1                       1                 0                       11   \n",
       "2                       1                 0                       11   \n",
       "3                       1                 0                       11   \n",
       "4                       1                 1                       11   \n",
       "...                   ...               ...                      ...   \n",
       "23338                   0                 2                       16   \n",
       "23339                   0                 2                       16   \n",
       "23340                   0                 2                       16   \n",
       "23341                   0                 2                       16   \n",
       "23342                   0                 2                       16   \n",
       "\n",
       "       core product segment  core sales segment  geography  \\\n",
       "0                         3                   8         -1   \n",
       "1                         3                   8         -1   \n",
       "2                         3                   8          1   \n",
       "3                         3                   8          3   \n",
       "4                         3                   8          3   \n",
       "...                     ...                 ...        ...   \n",
       "23338                     5                   4          2   \n",
       "23339                     5                   4          2   \n",
       "23340                     5                   4          2   \n",
       "23341                     5                   4          2   \n",
       "23342                     5                   4          2   \n",
       "\n",
       "       core product application  time taken for transition  product status  \\\n",
       "0                             4                        0.0               1   \n",
       "1                             4                 11919999.0               1   \n",
       "2                             4                  1000000.0               1   \n",
       "3                             4                  6080000.0               1   \n",
       "4                             4                 92133754.0               1   \n",
       "...                         ...                        ...             ...   \n",
       "23338                         5                  2138660.0               1   \n",
       "23339                         5                  2919999.0               1   \n",
       "23340                         5                  2919999.0               1   \n",
       "23341                         5                 76000001.0               1   \n",
       "23342                         5                 76000001.0               1   \n",
       "\n",
       "       product $  product quantity  cost_per_unit  days  \n",
       "0       230400.0            1200.0          192.0    29  \n",
       "1       230400.0            1200.0          192.0    29  \n",
       "2       230400.0            1200.0          192.0    29  \n",
       "3       230400.0            1200.0          192.0    29  \n",
       "4       230400.0            1200.0          192.0    29  \n",
       "...          ...               ...            ...   ...  \n",
       "23338     6000.0            1000.0            6.0   291  \n",
       "23339    60000.0           10000.0            6.0   291  \n",
       "23340     6000.0            1000.0            6.0   291  \n",
       "23341    60000.0           10000.0            6.0   291  \n",
       "23342     6000.0            1000.0            6.0   291  \n",
       "\n",
       "[23343 rows x 16 columns]"
      ]
     },
     "execution_count": 108,
     "metadata": {},
     "output_type": "execute_result"
    }
   ],
   "source": [
    "data"
   ]
  },
  {
   "cell_type": "markdown",
   "metadata": {},
   "source": [
    "## Univariate analysis"
   ]
  },
  {
   "cell_type": "code",
   "execution_count": 109,
   "metadata": {},
   "outputs": [
    {
     "data": {},
     "metadata": {},
     "output_type": "display_data"
    },
    {
     "data": {
      "application/vnd.holoviews_exec.v0+json": "",
      "text/html": [
       "<div id='7332'>\n",
       "  <div class=\"bk-root\" id=\"e929428f-1998-44a3-854b-7c731ad4da9a\" data-root-id=\"7332\"></div>\n",
       "</div>\n",
       "<script type=\"application/javascript\">(function(root) {\n",
       "  function embed_document(root) {\n",
       "    var docs_json = {\"2bacb896-3727-4cc1-9d88-f33f16471612\":{\"defs\":[{\"extends\":null,\"module\":null,\"name\":\"ReactiveHTML1\",\"overrides\":[],\"properties\":[]},{\"extends\":null,\"module\":null,\"name\":\"FlexBox1\",\"overrides\":[],\"properties\":[{\"default\":\"flex-start\",\"kind\":null,\"name\":\"align_content\"},{\"default\":\"flex-start\",\"kind\":null,\"name\":\"align_items\"},{\"default\":\"row\",\"kind\":null,\"name\":\"flex_direction\"},{\"default\":\"wrap\",\"kind\":null,\"name\":\"flex_wrap\"},{\"default\":\"flex-start\",\"kind\":null,\"name\":\"justify_content\"}]},{\"extends\":null,\"module\":null,\"name\":\"GridStack1\",\"overrides\":[],\"properties\":[{\"default\":\"warn\",\"kind\":null,\"name\":\"mode\"},{\"default\":null,\"kind\":null,\"name\":\"ncols\"},{\"default\":null,\"kind\":null,\"name\":\"nrows\"},{\"default\":true,\"kind\":null,\"name\":\"allow_resize\"},{\"default\":true,\"kind\":null,\"name\":\"allow_drag\"},{\"default\":[],\"kind\":null,\"name\":\"state\"}]},{\"extends\":null,\"module\":null,\"name\":\"click1\",\"overrides\":[],\"properties\":[{\"default\":\"\",\"kind\":null,\"name\":\"terminal_output\"},{\"default\":\"\",\"kind\":null,\"name\":\"debug_name\"},{\"default\":0,\"kind\":null,\"name\":\"clears\"}]},{\"extends\":null,\"module\":null,\"name\":\"NotificationAreaBase1\",\"overrides\":[],\"properties\":[{\"default\":\"bottom-right\",\"kind\":null,\"name\":\"position\"},{\"default\":0,\"kind\":null,\"name\":\"_clear\"}]},{\"extends\":null,\"module\":null,\"name\":\"NotificationArea1\",\"overrides\":[],\"properties\":[{\"default\":[],\"kind\":null,\"name\":\"notifications\"},{\"default\":\"bottom-right\",\"kind\":null,\"name\":\"position\"},{\"default\":0,\"kind\":null,\"name\":\"_clear\"},{\"default\":[{\"background\":\"#ffc107\",\"icon\":{\"className\":\"fas fa-exclamation-triangle\",\"color\":\"white\",\"tagName\":\"i\"},\"type\":\"warning\"},{\"background\":\"#007bff\",\"icon\":{\"className\":\"fas fa-info-circle\",\"color\":\"white\",\"tagName\":\"i\"},\"type\":\"info\"}],\"kind\":null,\"name\":\"types\"}]},{\"extends\":null,\"module\":null,\"name\":\"Notification\",\"overrides\":[],\"properties\":[{\"default\":null,\"kind\":null,\"name\":\"background\"},{\"default\":3000,\"kind\":null,\"name\":\"duration\"},{\"default\":null,\"kind\":null,\"name\":\"icon\"},{\"default\":\"\",\"kind\":null,\"name\":\"message\"},{\"default\":null,\"kind\":null,\"name\":\"notification_type\"},{\"default\":false,\"kind\":null,\"name\":\"_destroyed\"}]},{\"extends\":null,\"module\":null,\"name\":\"TemplateActions1\",\"overrides\":[],\"properties\":[{\"default\":0,\"kind\":null,\"name\":\"open_modal\"},{\"default\":0,\"kind\":null,\"name\":\"close_modal\"}]},{\"extends\":null,\"module\":null,\"name\":\"MaterialTemplateActions1\",\"overrides\":[],\"properties\":[{\"default\":0,\"kind\":null,\"name\":\"open_modal\"},{\"default\":0,\"kind\":null,\"name\":\"close_modal\"}]}],\"roots\":{\"references\":[{\"attributes\":{\"margin\":[5,5,5,5],\"name\":\"HSpacer17935\",\"sizing_mode\":\"stretch_width\"},\"id\":\"7758\",\"type\":\"Spacer\"},{\"attributes\":{\"toolbars\":[{\"id\":\"7363\"}],\"tools\":[{\"id\":\"7339\"},{\"id\":\"7357\"},{\"id\":\"7358\"},{\"id\":\"7359\"},{\"id\":\"7360\"},{\"id\":\"7361\"}]},\"id\":\"7565\",\"type\":\"ProxyToolbar\"},{\"attributes\":{\"fill_alpha\":0.2,\"fill_color\":\"#30a2da\",\"hatch_alpha\":0.2,\"hatch_color\":\"#30a2da\",\"line_alpha\":0.2,\"x\":{\"field\":\"x\"},\"y\":{\"field\":\"y\"}},\"id\":\"7390\",\"type\":\"Patch\"},{\"attributes\":{},\"id\":\"7350\",\"type\":\"BasicTicker\"},{\"attributes\":{\"coordinates\":null,\"data_source\":{\"id\":\"7385\"},\"glyph\":{\"id\":\"7388\"},\"group\":null,\"hover_glyph\":null,\"muted_glyph\":{\"id\":\"7390\"},\"nonselection_glyph\":{\"id\":\"7389\"},\"selection_glyph\":{\"id\":\"7393\"},\"view\":{\"id\":\"7392\"},\"y_range_name\":\"twiny\"},\"id\":\"7391\",\"type\":\"GlyphRenderer\"},{\"attributes\":{\"children\":[{\"id\":\"7336\"},{\"id\":\"7569\"},{\"id\":\"7752\"}],\"margin\":[0,0,0,0],\"name\":\"Row17933\"},\"id\":\"7335\",\"type\":\"Row\"},{\"attributes\":{\"source\":{\"id\":\"7385\"}},\"id\":\"7392\",\"type\":\"CDSView\"},{\"attributes\":{\"fill_alpha\":0.5,\"fill_color\":\"#30a2da\",\"hatch_color\":\"#30a2da\",\"x\":{\"field\":\"x\"},\"y\":{\"field\":\"y\"}},\"id\":\"7393\",\"type\":\"Patch\"},{\"attributes\":{\"margin\":[5,5,5,5],\"name\":\"HSpacer17931\",\"sizing_mode\":\"stretch_width\"},\"id\":\"7336\",\"type\":\"Spacer\"},{\"attributes\":{\"axis_label\":\"Frequency\",\"coordinates\":null,\"formatter\":{\"id\":\"7374\"},\"group\":null,\"major_label_policy\":{\"id\":\"7375\"},\"ticker\":{\"id\":\"7354\"}},\"id\":\"7353\",\"type\":\"LinearAxis\"},{\"attributes\":{\"end\":0.9321120649965188},\"id\":\"7394\",\"type\":\"Range1d\"},{\"attributes\":{\"children\":[{\"id\":\"7566\"},{\"id\":\"7564\"}]},\"id\":\"7567\",\"type\":\"Column\"},{\"attributes\":{},\"id\":\"7347\",\"type\":\"LinearScale\"},{\"attributes\":{\"format\":\"0,0.0[00000]\"},\"id\":\"7695\",\"type\":\"NumberFormatter\"},{\"attributes\":{},\"id\":\"7502\",\"type\":\"Selection\"},{\"attributes\":{\"children\":[[{\"id\":\"7340\"},0,0],[{\"id\":\"7543\"},1,0]]},\"id\":\"7564\",\"type\":\"GridBox\"},{\"attributes\":{\"children\":[{\"id\":\"7568\"},{\"id\":\"7567\"}]},\"id\":\"7569\",\"type\":\"Column\"},{\"attributes\":{\"end\":10133.33,\"reset_end\":11036.3,\"reset_start\":0.0,\"tags\":[[[\"Frequency\",\"Frequency\",null]]]},\"id\":\"7338\",\"type\":\"Range1d\"},{\"attributes\":{\"end\":10.001612464245275,\"reset_end\":10.001612464245275,\"reset_start\":-0.001612464245274725,\"start\":-0.001612464245274725,\"tags\":[[[\"x\",\"x\",null]]]},\"id\":\"7337\",\"type\":\"Range1d\"},{\"attributes\":{\"axis_label\":\"transition to stage_density, y\",\"coordinates\":null,\"formatter\":{\"id\":\"7401\"},\"group\":null,\"major_label_policy\":{\"id\":\"7402\"},\"ticker\":{\"id\":\"7400\"},\"y_range_name\":\"twiny\"},\"id\":\"7395\",\"type\":\"LinearAxis\"},{\"attributes\":{\"data\":{\"A_25_percent\":{\"__ndarray__\":\"AAAAAAAACEA=\",\"dtype\":\"float64\",\"order\":\"little\",\"shape\":[1]},\"A_50_percent\":{\"__ndarray__\":\"AAAAAAAAEEA=\",\"dtype\":\"float64\",\"order\":\"little\",\"shape\":[1]},\"A_75_percent\":{\"__ndarray__\":\"AAAAAAAAEEA=\",\"dtype\":\"float64\",\"order\":\"little\",\"shape\":[1]},\"count\":{\"__ndarray__\":\"AAAAAMDL1kA=\",\"dtype\":\"float64\",\"order\":\"little\",\"shape\":[1]},\"max\":{\"__ndarray__\":\"AAAAAAAAIkA=\",\"dtype\":\"float64\",\"order\":\"little\",\"shape\":[1]},\"mean\":{\"__ndarray__\":\"16NwPQrXD0A=\",\"dtype\":\"float64\",\"order\":\"little\",\"shape\":[1]},\"min\":{\"__ndarray__\":\"AAAAAAAA8D8=\",\"dtype\":\"float64\",\"order\":\"little\",\"shape\":[1]},\"std\":{\"__ndarray__\":\"w/UoXI/C9T8=\",\"dtype\":\"float64\",\"order\":\"little\",\"shape\":[1]}},\"selected\":{\"id\":\"7502\"},\"selection_policy\":{\"id\":\"7562\"}},\"id\":\"7501\",\"type\":\"ColumnDataSource\"},{\"attributes\":{},\"id\":\"7371\",\"type\":\"BasicTickFormatter\"},{\"attributes\":{},\"id\":\"7372\",\"type\":\"AllLabels\"},{\"attributes\":{},\"id\":\"7562\",\"type\":\"UnionRenderers\"},{\"attributes\":{},\"id\":\"7377\",\"type\":\"Selection\"},{\"attributes\":{},\"id\":\"7375\",\"type\":\"AllLabels\"},{\"attributes\":{},\"id\":\"7358\",\"type\":\"PanTool\"},{\"attributes\":{},\"id\":\"7386\",\"type\":\"Selection\"},{\"attributes\":{\"data\":{\"x\":{\"__ndarray__\":\"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\",\"dtype\":\"float64\",\"order\":\"little\",\"shape\":[200]},\"y\":{\"__ndarray__\":\"AAAAAAAAAAAAAAAAAAAAAAAAAAAAAAAAAAAAAAAAAAAAAAAAAAAAAAAAAAAAAAAAAAAAAAAAAAAAAAAAAAAAAAAAAAAAAAAAAAAAAAAAAAAAAAAAAAAAAAAAAAAAAAAAAAAAAAAAAAAAAAAAAAAAAAAAAAAAAAAAAAAAAAAAAAAAAAAAAAAAAAAAAAAAAAAAAAAAAAAAAAAAAAAAAAAAAAAAAAAAAAAAAAAAAAAAAAAAAAAAAAAAAAAAAAAAAAAAAAAAAAAAAAAAAAAAAAAAAAAAAAAAAAAAAAAAAAAAAAAAAAAAAAAAAAAAAAAAAAAAAAAAAAAAAAAAAAAAAAAAAAAAAAAAAAAAAAAAAAAAAAAAAAAAAAAAAAAAAAAAAAAAAAAAAAAAAAAAAAAAAAAAAAAAAAAAAAAAAAAAAAAAAAAAAAAAAAAAAAAAAAAAAAAAAAAAAAAAAAAAAAAAAAAAAAAAAAAAAAAAAAAAAAAAAAAAAAAAAAAAAAAAAAAAAAAAAAAAAAAAAAAAAAAAAAAAAAAAAAAAAAAAAAAAAAAAAAAAAAAAAAAAAAAAAAAAAAAAAAAAAAAAAAAAAAAAAAAAAAAAAAAAAAAAAAAAAAAAAAAAAAAAAAAAAAAAAAAAAAAAAAAAAAAAAAAAAAAAAAAAAAAAAAAAAAAAAAAAAAAAAAAAAAAAAAAAAAAAAAAAAAAAAAAAAAAAAAAAAAAAAAAAAAAAAAAAAAAAAAAAAAAAAAAAAAAAAAAAAAAAAAAAAAAAAAAAAAAAAAAAAAAAAAAAAAAAAAAAAAAAAAAAAAAAAAAAAAAAAAAAAAAAAAAAAAAAAAAAAAAAAAAAAAAAAAAAAAAAAAAAAAAAAAAAAAAAAAAAAAAAAAAAAAAAAAAAAAAAAAAAAAAAAAAAAAAAAAAAAAAAAAAAAAAAAAAAAAAAAAAAAAAAAAAAAAAAAAAAAAAAAAAAAAAAAAAAAAAAAAAAAAAAAAAAAAAAAAAAAAAAAAAAAAAAAAAAAAAAAAAAAAAAAAAAAAAAAAAAAAAAAAAAAAAAAAAAAAAAAAAAAAAAAACkYF/MX8Y4P/d9fizlu1g/I0V/5Bkocz/r0HU3TgWHP8A5oFEsdpU/6bKBm0wLnz9x+MvPImuhP5ph81IGVJ4/xDXDnut7lD9Lw9YZPXuFP3W23/Z9q3E/1j7eCTprWj+JUaY6b31WP0PFP6NAQWo/smlqM3YYfj85BBIldjqLP7auusfNIZM/UZ0xSgzclD/bBDP+1qSRP5TcUrDdJ4c/DHBjLHGTdz/4yrljwZ9iP4QZgqiA3kY/LTnzPQVrJj/RYVRor24IP1P1+kyIaQU/M/SgwNb0ED/hJAtlPv4WP+8+bjcoYRg/dVbW4lx3FD8iFFf4+GgRPx3ikGDGaSU/6RoyFPkUTD9FbFv/vGdwPzsst6smBo4/Xa8c+rpTpT/fgjRom4G3P9eqjRFtGcQ/jhfgo2qqyj+62ZFmAXLLP4GfBkYm6sU/iRs3EBkouz8ShQo1QjSqP+b5UsvhwpQ//awT2zc6hz+Q6KaI+JCWP42d0mdMhK0/FTytc55/vz/iP1W+jinKP3Tgv4uM3NA/Y08ZwI/c0D/zX5Ti4inKP41rISvlhb8/D/AlZEDhrT851TO6+LyaP8igKW/1NJ4/nbrkCwxDtT+28BnuBBvMP8uR7Ok0N90/dZv1UKuU5z8V/8pqQojtP+/FS0OBsew/uWcaXMGg5T8Af3ioeUzZPztp9ixqBcc/WAK+1Rn2sD9pkTdy9aSfPyhE81XJY6k/avZWpLDNvj+Of4DPa/7OP5numaywTNg/oeGojk6R3T/OCKCMYenbPwkhdLHqcNQ/LCeqzjM7xz+BjQY5Noq0P++JU4lVa50/RAyw9ubDij9KWQW6O/aUPzBIBbGkuag/PJJmMx8suD9tkehtxGnCPxVnohjDxMU/1ZcumTj3wz9ggi9tx2m8P4XRPF17YK8/+PGKgjj9mj9p2rPekCaDP60L9C/l03M/1RWbEsDEgT+6ngQ+6cuUP7vz7HwwyKM/rLYtUr9IrT+RjuhaltGwPyCBb9qh+a0/Gwkj1/q4pD/aU1E2XjqWPw2wnyU6f4I/U/BW0NrhZz9JtrwP+etHPw==\",\"dtype\":\"float64\",\"order\":\"little\",\"shape\":[200]}},\"selected\":{\"id\":\"7386\"},\"selection_policy\":{\"id\":\"7408\"}},\"id\":\"7385\",\"type\":\"ColumnDataSource\"},{\"attributes\":{\"margin\":[5,5,5,5],\"name\":\"HSpacer17932\",\"sizing_mode\":\"stretch_width\"},\"id\":\"7752\",\"type\":\"Spacer\"},{\"attributes\":{},\"id\":\"7374\",\"type\":\"BasicTickFormatter\"},{\"attributes\":{},\"id\":\"7357\",\"type\":\"SaveTool\"},{\"attributes\":{\"format\":\"0,0.0[00000]\"},\"id\":\"7700\",\"type\":\"NumberFormatter\"},{\"attributes\":{},\"id\":\"7701\",\"type\":\"NumberEditor\"},{\"attributes\":{\"tools\":[{\"id\":\"7339\"},{\"id\":\"7357\"},{\"id\":\"7358\"},{\"id\":\"7359\"},{\"id\":\"7360\"},{\"id\":\"7361\"}]},\"id\":\"7363\",\"type\":\"Toolbar\"},{\"attributes\":{\"editor\":{\"id\":\"7696\"},\"field\":\"count\",\"formatter\":{\"id\":\"7695\"},\"title\":\"count\"},\"id\":\"7697\",\"type\":\"TableColumn\"},{\"attributes\":{},\"id\":\"7696\",\"type\":\"NumberEditor\"},{\"attributes\":{},\"id\":\"7345\",\"type\":\"LinearScale\"},{\"attributes\":{},\"id\":\"7726\",\"type\":\"NumberEditor\"},{\"attributes\":{},\"id\":\"7401\",\"type\":\"BasicTickFormatter\"},{\"attributes\":{\"bottom\":{\"value\":0},\"fill_alpha\":{\"value\":0.1},\"fill_color\":{\"value\":\"#00fff0\"},\"hatch_alpha\":{\"value\":0.1},\"hatch_color\":{\"value\":\"#00fff0\"},\"left\":{\"field\":\"left\"},\"line_alpha\":{\"value\":0.1},\"right\":{\"field\":\"right\"},\"top\":{\"field\":\"top\"}},\"id\":\"7380\",\"type\":\"Quad\"},{\"attributes\":{\"coordinates\":null,\"group\":null,\"text\":\"Density Plot for transition to stage\",\"text_color\":\"black\",\"text_font_size\":\"12pt\"},\"id\":\"7341\",\"type\":\"Title\"},{\"attributes\":{\"editor\":{\"id\":\"7711\"},\"field\":\"min\",\"formatter\":{\"id\":\"7710\"},\"title\":\"min\"},\"id\":\"7712\",\"type\":\"TableColumn\"},{\"attributes\":{\"bottom\":{\"value\":0},\"fill_alpha\":{\"value\":0.2},\"fill_color\":{\"value\":\"#00fff0\"},\"hatch_alpha\":{\"value\":0.2},\"hatch_color\":{\"value\":\"#00fff0\"},\"left\":{\"field\":\"left\"},\"line_alpha\":{\"value\":0.2},\"right\":{\"field\":\"right\"},\"top\":{\"field\":\"top\"}},\"id\":\"7381\",\"type\":\"Quad\"},{\"attributes\":{\"below\":[{\"id\":\"7349\"}],\"center\":[{\"id\":\"7352\"},{\"id\":\"7356\"}],\"extra_y_ranges\":{\"twiny\":{\"id\":\"7394\"}},\"height\":300,\"left\":[{\"id\":\"7353\"}],\"margin\":null,\"min_border_bottom\":10,\"min_border_left\":10,\"min_border_right\":10,\"min_border_top\":10,\"renderers\":[{\"id\":\"7382\"},{\"id\":\"7391\"}],\"right\":[{\"id\":\"7395\"}],\"sizing_mode\":\"fixed\",\"title\":{\"id\":\"7341\"},\"toolbar\":{\"id\":\"7363\"},\"toolbar_location\":null,\"x_range\":{\"id\":\"7337\"},\"x_scale\":{\"id\":\"7345\"},\"y_range\":{\"id\":\"7338\"},\"y_scale\":{\"id\":\"7347\"}},\"id\":\"7340\",\"subtype\":\"Figure\",\"type\":\"Plot\"},{\"attributes\":{\"fill_alpha\":0.5,\"fill_color\":\"#30a2da\",\"hatch_alpha\":0.1,\"hatch_color\":\"#30a2da\",\"line_alpha\":1,\"x\":{\"field\":\"x\"},\"y\":{\"field\":\"y\"}},\"id\":\"7389\",\"type\":\"Patch\"},{\"attributes\":{},\"id\":\"7400\",\"type\":\"BasicTicker\"},{\"attributes\":{},\"id\":\"7402\",\"type\":\"AllLabels\"},{\"attributes\":{},\"id\":\"7706\",\"type\":\"NumberEditor\"},{\"attributes\":{\"editor\":{\"id\":\"7701\"},\"field\":\"mean\",\"formatter\":{\"id\":\"7700\"},\"title\":\"mean\"},\"id\":\"7702\",\"type\":\"TableColumn\"},{\"attributes\":{\"format\":\"0,0.0[00000]\"},\"id\":\"7720\",\"type\":\"NumberFormatter\"},{\"attributes\":{\"callback\":null,\"renderers\":[{\"id\":\"7391\"}],\"tags\":[\"hv_created\"],\"tooltips\":[[\"transition to stage\",\"@{transition_to_stage}\"],[\"Density\",\"@{transition_to_stage_density}\"]]},\"id\":\"7339\",\"type\":\"HoverTool\"},{\"attributes\":{\"editor\":{\"id\":\"7706\"},\"field\":\"std\",\"formatter\":{\"id\":\"7705\"},\"title\":\"std\"},\"id\":\"7707\",\"type\":\"TableColumn\"},{\"attributes\":{\"editor\":{\"id\":\"7716\"},\"field\":\"A_25_percent\",\"formatter\":{\"id\":\"7715\"},\"title\":\"25%\"},\"id\":\"7717\",\"type\":\"TableColumn\"},{\"attributes\":{\"margin\":[5,5,5,5],\"name\":\"HSpacer17927\",\"sizing_mode\":\"stretch_width\"},\"id\":\"7754\",\"type\":\"Spacer\"},{\"attributes\":{\"axis\":{\"id\":\"7353\"},\"coordinates\":null,\"dimension\":1,\"grid_line_color\":null,\"group\":null,\"ticker\":null},\"id\":\"7356\",\"type\":\"Grid\"},{\"attributes\":{},\"id\":\"7711\",\"type\":\"NumberEditor\"},{\"attributes\":{},\"id\":\"7361\",\"type\":\"ResetTool\"},{\"attributes\":{\"coordinates\":null,\"data_source\":{\"id\":\"7376\"},\"glyph\":{\"id\":\"7379\"},\"group\":null,\"hover_glyph\":null,\"muted_glyph\":{\"id\":\"7381\"},\"nonselection_glyph\":{\"id\":\"7380\"},\"selection_glyph\":{\"id\":\"7384\"},\"view\":{\"id\":\"7383\"}},\"id\":\"7382\",\"type\":\"GlyphRenderer\"},{\"attributes\":{},\"id\":\"7716\",\"type\":\"NumberEditor\"},{\"attributes\":{\"children\":[{\"id\":\"7756\"}],\"css_classes\":[\"panel-widget-box\"],\"margin\":[5,5,5,5],\"name\":\"WidgetBox17922\"},\"id\":\"7755\",\"type\":\"Column\"},{\"attributes\":{\"format\":\"0,0.0[00000]\"},\"id\":\"7705\",\"type\":\"NumberFormatter\"},{\"attributes\":{},\"id\":\"7721\",\"type\":\"NumberEditor\"},{\"attributes\":{},\"id\":\"7406\",\"type\":\"UnionRenderers\"},{\"attributes\":{\"margin\":[20,20,20,20],\"min_width\":250,\"options\":[\"transition to stage\",\"transition from stage name\",\"opportunity status\",\"risk status\",\"opportunity type\",\"core consumption market\",\"core product segment\",\"core sales segment\",\"geography\",\"core product application\",\"time taken for transition\",\"product status\",\"product $\",\"product quantity\",\"days\"],\"title\":\"col\",\"value\":\"transition to stage\",\"width\":250},\"id\":\"7756\",\"type\":\"panel.models.widgets.CustomSelect\"},{\"attributes\":{\"format\":\"0,0.0[00000]\"},\"id\":\"7715\",\"type\":\"NumberFormatter\"},{\"attributes\":{\"margin\":[5,5,5,5],\"name\":\"HSpacer17928\",\"sizing_mode\":\"stretch_width\"},\"id\":\"7757\",\"type\":\"Spacer\"},{\"attributes\":{\"bottom_units\":\"screen\",\"coordinates\":null,\"fill_alpha\":0.5,\"fill_color\":\"lightgrey\",\"group\":null,\"left_units\":\"screen\",\"level\":\"overlay\",\"line_alpha\":1.0,\"line_color\":\"black\",\"line_dash\":[4,4],\"line_width\":2,\"right_units\":\"screen\",\"syncable\":false,\"top_units\":\"screen\"},\"id\":\"7362\",\"type\":\"BoxAnnotation\"},{\"attributes\":{\"format\":\"0,0.0[00000]\"},\"id\":\"7710\",\"type\":\"NumberFormatter\"},{\"attributes\":{\"editor\":{\"id\":\"7726\"},\"field\":\"A_75_percent\",\"formatter\":{\"id\":\"7725\"},\"title\":\"75%\"},\"id\":\"7727\",\"type\":\"TableColumn\"},{\"attributes\":{\"columns\":[{\"id\":\"7697\"},{\"id\":\"7702\"},{\"id\":\"7707\"},{\"id\":\"7712\"},{\"id\":\"7717\"},{\"id\":\"7722\"},{\"id\":\"7727\"},{\"id\":\"7732\"}],\"height\":60,\"reorderable\":false,\"source\":{\"id\":\"7501\"},\"view\":{\"id\":\"7545\"}},\"id\":\"7543\",\"type\":\"DataTable\"},{\"attributes\":{\"editor\":{\"id\":\"7721\"},\"field\":\"A_50_percent\",\"formatter\":{\"id\":\"7720\"},\"title\":\"50%\"},\"id\":\"7722\",\"type\":\"TableColumn\"},{\"attributes\":{\"data\":{\"left\":{\"__ndarray__\":\"AAAAAAAA8D9mZmZmZmb2P83MzMzMzPw/mpmZmZmZAUDNzMzMzMwEQAAAAAAAAAhANDMzMzMzC0BnZmZmZmYOQM3MzMzMzBBAZmZmZmZmEkAAAAAAAAAUQJqZmZmZmRVANDMzMzMzF0DNzMzMzMwYQGdmZmZmZhpAAAAAAAAAHECamZmZmZkdQDQzMzMzMx9AZmZmZmZmIEA0MzMzMzMhQA==\",\"dtype\":\"float64\",\"order\":\"little\",\"shape\":[20]},\"right\":{\"__ndarray__\":\"ZmZmZmZm9j/NzMzMzMz8P5qZmZmZmQFAzczMzMzMBEAAAAAAAAAIQDQzMzMzMwtAZ2ZmZmZmDkDNzMzMzMwQQGZmZmZmZhJAAAAAAAAAFECamZmZmZkVQDQzMzMzMxdAzczMzMzMGEBnZmZmZmYaQAAAAAAAABxAmpmZmZmZHUA0MzMzMzMfQGZmZmZmZiBANDMzMzMzIUAAAAAAAAAiQA==\",\"dtype\":\"float64\",\"order\":\"little\",\"shape\":[20]},\"top\":[701,0,1820,0,0,4975,0,10033,0,0,2901,0,2331,0,0,1,0,218,0,363]},\"selected\":{\"id\":\"7377\"},\"selection_policy\":{\"id\":\"7406\"}},\"id\":\"7376\",\"type\":\"ColumnDataSource\"},{\"attributes\":{},\"id\":\"7731\",\"type\":\"NumberEditor\"},{\"attributes\":{\"format\":\"0,0.0[00000]\"},\"id\":\"7725\",\"type\":\"NumberFormatter\"},{\"attributes\":{\"editor\":{\"id\":\"7731\"},\"field\":\"max\",\"formatter\":{\"id\":\"7730\"},\"title\":\"max\"},\"id\":\"7732\",\"type\":\"TableColumn\"},{\"attributes\":{\"source\":{\"id\":\"7376\"}},\"id\":\"7383\",\"type\":\"CDSView\"},{\"attributes\":{},\"id\":\"7354\",\"type\":\"BasicTicker\"},{\"attributes\":{\"axis_label\":\"transition to stage\",\"coordinates\":null,\"formatter\":{\"id\":\"7371\"},\"group\":null,\"major_label_policy\":{\"id\":\"7372\"},\"ticker\":{\"id\":\"7350\"}},\"id\":\"7349\",\"type\":\"LinearAxis\"},{\"attributes\":{\"format\":\"0,0.0[00000]\"},\"id\":\"7730\",\"type\":\"NumberFormatter\"},{\"attributes\":{},\"id\":\"7359\",\"type\":\"WheelZoomTool\"},{\"attributes\":{\"children\":[{\"id\":\"7335\"},{\"id\":\"7753\"}],\"margin\":[0,0,0,0],\"name\":\"Column17934\"},\"id\":\"7334\",\"type\":\"Column\"},{\"attributes\":{\"style\":{\"white-space\":\"nowrap\"},\"text\":\"<span style=\\\"color:black;font-family:Arial;font-style:bold;font-weight:bold;font-size:12pt\\\">col: transition to stage</span>\",\"width\":450},\"id\":\"7568\",\"type\":\"Div\"},{\"attributes\":{\"fill_alpha\":0.5,\"fill_color\":\"#30a2da\",\"hatch_color\":\"#30a2da\",\"x\":{\"field\":\"x\"},\"y\":{\"field\":\"y\"}},\"id\":\"7388\",\"type\":\"Patch\"},{\"attributes\":{\"margin\":[5,5,5,5],\"name\":\"HSpacer17930\",\"sizing_mode\":\"stretch_width\"},\"id\":\"7333\",\"type\":\"Spacer\"},{\"attributes\":{\"bottom\":{\"value\":0},\"fill_alpha\":{\"value\":1.0},\"fill_color\":{\"value\":\"#00fff0\"},\"hatch_alpha\":{\"value\":1.0},\"hatch_color\":{\"value\":\"#00fff0\"},\"hatch_scale\":{\"value\":12.0},\"hatch_weight\":{\"value\":1.0},\"left\":{\"field\":\"left\"},\"line_alpha\":{\"value\":1.0},\"line_cap\":{\"value\":\"butt\"},\"line_color\":{\"value\":\"black\"},\"line_dash\":{\"value\":[]},\"line_dash_offset\":{\"value\":0},\"line_join\":{\"value\":\"bevel\"},\"line_width\":{\"value\":1},\"right\":{\"field\":\"right\"},\"top\":{\"field\":\"top\"}},\"id\":\"7384\",\"type\":\"Quad\"},{\"attributes\":{\"overlay\":{\"id\":\"7362\"}},\"id\":\"7360\",\"type\":\"BoxZoomTool\"},{\"attributes\":{\"axis\":{\"id\":\"7349\"},\"coordinates\":null,\"grid_line_color\":null,\"group\":null,\"ticker\":null},\"id\":\"7352\",\"type\":\"Grid\"},{\"attributes\":{\"client_comm_id\":\"af92e3ad6f5541ec9dc375c40f96e173\",\"comm_id\":\"5a1b20876acf4ec5a3b38e5740ef0ce2\",\"plot_id\":\"7332\"},\"id\":\"7810\",\"type\":\"panel.models.comm_manager.CommManager\"},{\"attributes\":{\"children\":[{\"id\":\"7333\"},{\"id\":\"7334\"},{\"id\":\"7758\"}],\"margin\":[0,0,0,0],\"name\":\"Row17921\"},\"id\":\"7332\",\"type\":\"Row\"},{\"attributes\":{\"children\":[{\"id\":\"7754\"},{\"id\":\"7755\"},{\"id\":\"7757\"}],\"margin\":[0,0,0,0],\"name\":\"Row17929\"},\"id\":\"7753\",\"type\":\"Row\"},{\"attributes\":{\"source\":{\"id\":\"7501\"}},\"id\":\"7545\",\"type\":\"CDSView\"},{\"attributes\":{\"toolbar\":{\"id\":\"7565\"},\"toolbar_location\":\"above\"},\"id\":\"7566\",\"type\":\"ToolbarBox\"},{\"attributes\":{},\"id\":\"7408\",\"type\":\"UnionRenderers\"},{\"attributes\":{\"bottom\":{\"value\":0},\"fill_color\":{\"value\":\"#00fff0\"},\"hatch_color\":{\"value\":\"#00fff0\"},\"left\":{\"field\":\"left\"},\"right\":{\"field\":\"right\"},\"top\":{\"field\":\"top\"}},\"id\":\"7379\",\"type\":\"Quad\"}],\"root_ids\":[\"7332\",\"7810\"]},\"title\":\"Bokeh Application\",\"version\":\"2.4.3\"}};\n",
       "    var render_items = [{\"docid\":\"2bacb896-3727-4cc1-9d88-f33f16471612\",\"root_ids\":[\"7332\"],\"roots\":{\"7332\":\"e929428f-1998-44a3-854b-7c731ad4da9a\"}}];\n",
       "    root.Bokeh.embed.embed_items_notebook(docs_json, render_items);\n",
       "  }\n",
       "  if (root.Bokeh !== undefined && root.Bokeh.Panel !== undefined) {\n",
       "    embed_document(root);\n",
       "  } else {\n",
       "    var attempts = 0;\n",
       "    var timer = setInterval(function(root) {\n",
       "      if (root.Bokeh !== undefined && root.Bokeh.Panel !== undefined) {\n",
       "        clearInterval(timer);\n",
       "        embed_document(root);\n",
       "      } else if (document.readyState == \"complete\") {\n",
       "        attempts++;\n",
       "        if (attempts > 200) {\n",
       "          clearInterval(timer);\n",
       "          console.log(\"Bokeh: ERROR: Unable to run BokehJS code because BokehJS library is missing\");\n",
       "        }\n",
       "      }\n",
       "    }, 25, root)\n",
       "  }\n",
       "})(window);</script>"
      ],
      "text/plain": [
       ":DynamicMap   [col]\n",
       "   :Layout\n",
       "      .Overlay.I :Overlay\n",
       "         .Histogram.I    :Histogram   [x]   (Frequency)\n",
       "         .Distribution.I :Distribution   [days]   (Density)\n",
       "      .Table.I   :Table   [count,mean,std,min,25%,50%,75%,max]"
      ]
     },
     "execution_count": 109,
     "metadata": {
      "application/vnd.holoviews_exec.v0+json": {
       "id": "7332"
      }
     },
     "output_type": "execute_result"
    }
   ],
   "source": [
    "univariate_plot = ta_analysis.get_density_plots(data, cols=['transition to stage','transition from stage name','opportunity status',\n",
    " 'risk status','opportunity type','core consumption market','core product segment','core sales segment','geography',\n",
    " 'core product application', 'time taken for transition', 'product status', 'product $',\n",
    " 'product quantity', 'days'])\n",
    "# save the plots are html\n",
    "create_report({'univariate': univariate_plot}, name='feature_analysis_univariate')\n",
    "univariate_plot"
   ]
  },
  {
   "cell_type": "markdown",
   "metadata": {},
   "source": [
    "## Bivariate analysis"
   ]
  },
  {
   "cell_type": "code",
   "execution_count": 110,
   "metadata": {},
   "outputs": [
    {
     "data": {},
     "metadata": {},
     "output_type": "display_data"
    },
    {
     "data": {
      "application/vnd.holoviews_exec.v0+json": "",
      "text/html": [
       "<div id='7896'>\n",
       "  <div class=\"bk-root\" id=\"2543df2e-b56f-4577-b66d-1d1ba6f1112a\" data-root-id=\"7896\"></div>\n",
       "</div>\n",
       "<script type=\"application/javascript\">(function(root) {\n",
       "  function embed_document(root) {\n",
       "    var docs_json = {\"2f19346f-81fd-412e-b2bd-a079398b49ff\":{\"defs\":[{\"extends\":null,\"module\":null,\"name\":\"ReactiveHTML1\",\"overrides\":[],\"properties\":[]},{\"extends\":null,\"module\":null,\"name\":\"FlexBox1\",\"overrides\":[],\"properties\":[{\"default\":\"flex-start\",\"kind\":null,\"name\":\"align_content\"},{\"default\":\"flex-start\",\"kind\":null,\"name\":\"align_items\"},{\"default\":\"row\",\"kind\":null,\"name\":\"flex_direction\"},{\"default\":\"wrap\",\"kind\":null,\"name\":\"flex_wrap\"},{\"default\":\"flex-start\",\"kind\":null,\"name\":\"justify_content\"}]},{\"extends\":null,\"module\":null,\"name\":\"GridStack1\",\"overrides\":[],\"properties\":[{\"default\":\"warn\",\"kind\":null,\"name\":\"mode\"},{\"default\":null,\"kind\":null,\"name\":\"ncols\"},{\"default\":null,\"kind\":null,\"name\":\"nrows\"},{\"default\":true,\"kind\":null,\"name\":\"allow_resize\"},{\"default\":true,\"kind\":null,\"name\":\"allow_drag\"},{\"default\":[],\"kind\":null,\"name\":\"state\"}]},{\"extends\":null,\"module\":null,\"name\":\"click1\",\"overrides\":[],\"properties\":[{\"default\":\"\",\"kind\":null,\"name\":\"terminal_output\"},{\"default\":\"\",\"kind\":null,\"name\":\"debug_name\"},{\"default\":0,\"kind\":null,\"name\":\"clears\"}]},{\"extends\":null,\"module\":null,\"name\":\"NotificationAreaBase1\",\"overrides\":[],\"properties\":[{\"default\":\"bottom-right\",\"kind\":null,\"name\":\"position\"},{\"default\":0,\"kind\":null,\"name\":\"_clear\"}]},{\"extends\":null,\"module\":null,\"name\":\"NotificationArea1\",\"overrides\":[],\"properties\":[{\"default\":[],\"kind\":null,\"name\":\"notifications\"},{\"default\":\"bottom-right\",\"kind\":null,\"name\":\"position\"},{\"default\":0,\"kind\":null,\"name\":\"_clear\"},{\"default\":[{\"background\":\"#ffc107\",\"icon\":{\"className\":\"fas fa-exclamation-triangle\",\"color\":\"white\",\"tagName\":\"i\"},\"type\":\"warning\"},{\"background\":\"#007bff\",\"icon\":{\"className\":\"fas fa-info-circle\",\"color\":\"white\",\"tagName\":\"i\"},\"type\":\"info\"}],\"kind\":null,\"name\":\"types\"}]},{\"extends\":null,\"module\":null,\"name\":\"Notification\",\"overrides\":[],\"properties\":[{\"default\":null,\"kind\":null,\"name\":\"background\"},{\"default\":3000,\"kind\":null,\"name\":\"duration\"},{\"default\":null,\"kind\":null,\"name\":\"icon\"},{\"default\":\"\",\"kind\":null,\"name\":\"message\"},{\"default\":null,\"kind\":null,\"name\":\"notification_type\"},{\"default\":false,\"kind\":null,\"name\":\"_destroyed\"}]},{\"extends\":null,\"module\":null,\"name\":\"TemplateActions1\",\"overrides\":[],\"properties\":[{\"default\":0,\"kind\":null,\"name\":\"open_modal\"},{\"default\":0,\"kind\":null,\"name\":\"close_modal\"}]},{\"extends\":null,\"module\":null,\"name\":\"MaterialTemplateActions1\",\"overrides\":[],\"properties\":[{\"default\":0,\"kind\":null,\"name\":\"open_modal\"},{\"default\":0,\"kind\":null,\"name\":\"close_modal\"}]}],\"roots\":{\"references\":[{\"attributes\":{},\"id\":\"7906\",\"type\":\"StringEditor\"},{\"attributes\":{\"editor\":{\"id\":\"7911\"},\"field\":\"Variable 2\",\"formatter\":{\"id\":\"7910\"},\"title\":\"Variable 2\",\"width\":0},\"id\":\"7912\",\"type\":\"TableColumn\"},{\"attributes\":{\"source\":{\"id\":\"7897\"}},\"id\":\"7927\",\"type\":\"CDSView\"},{\"attributes\":{},\"id\":\"7921\",\"type\":\"NumberEditor\"},{\"attributes\":{\"child\":{\"id\":\"7925\"},\"name\":\"combinations with > 0.6 correlation\",\"title\":\"combinations with > 0.6 correlation\"},\"id\":\"7929\",\"type\":\"Panel\"},{\"attributes\":{\"editor\":{\"id\":\"7901\"},\"field\":\"index\",\"formatter\":{\"id\":\"7899\"},\"title\":\"index\",\"width\":0},\"id\":\"7902\",\"type\":\"TableColumn\"},{\"attributes\":{\"margin\":[0,0,0,0],\"tabs\":[{\"id\":\"7929\"},{\"id\":\"7931\"},{\"id\":\"7933\"}]},\"id\":\"7896\",\"type\":\"panel.models.tabs.Tabs\"},{\"attributes\":{\"child\":{\"id\":\"7932\"},\"name\":\"percentage of combinations\",\"title\":\"percentage of combinations\"},\"id\":\"7933\",\"type\":\"Panel\"},{\"attributes\":{\"editor\":{\"id\":\"7916\"},\"field\":\"Corr Coef\",\"formatter\":{\"id\":\"7915\"},\"title\":\"Corr Coef\",\"width\":0},\"id\":\"7917\",\"type\":\"TableColumn\"},{\"attributes\":{\"editor\":{\"id\":\"7921\"},\"field\":\"Abs Corr Coef\",\"formatter\":{\"id\":\"7920\"},\"title\":\"Abs Corr Coef\",\"width\":0},\"id\":\"7922\",\"type\":\"TableColumn\"},{\"attributes\":{\"margin\":[5,5,5,5],\"name\":\"number of combinations\",\"text\":\"&lt;pre&gt;0&lt;/pre&gt;\"},\"id\":\"7930\",\"type\":\"panel.models.markup.HTML\"},{\"attributes\":{},\"id\":\"7911\",\"type\":\"StringEditor\"},{\"attributes\":{\"client_comm_id\":\"ed4768f1ac0243f6a4423c504916ff28\",\"comm_id\":\"2ed47b881085430c9fcbe5b87d235345\",\"plot_id\":\"7896\"},\"id\":\"7940\",\"type\":\"panel.models.comm_manager.CommManager\"},{\"attributes\":{\"text_align\":\"left\"},\"id\":\"7899\",\"type\":\"NumberFormatter\"},{\"attributes\":{\"columns\":[{\"id\":\"7902\"},{\"id\":\"7907\"},{\"id\":\"7912\"},{\"id\":\"7917\"},{\"id\":\"7922\"}],\"editable\":true,\"height\":300,\"index_position\":null,\"margin\":[5,10,5,10],\"name\":\"combinations with > 0.6 correlation\",\"row_height\":40,\"sizing_mode\":\"fixed\",\"source\":{\"id\":\"7897\"},\"view\":{\"id\":\"7927\"},\"width\":800},\"id\":\"7925\",\"type\":\"DataTable\"},{\"attributes\":{\"margin\":[5,5,5,5],\"name\":\"percentage of combinations\",\"text\":\"&lt;pre&gt;0.0&lt;/pre&gt;\"},\"id\":\"7932\",\"type\":\"panel.models.markup.HTML\"},{\"attributes\":{},\"id\":\"7916\",\"type\":\"NumberEditor\"},{\"attributes\":{\"indices\":[]},\"id\":\"7898\",\"type\":\"Selection\"},{\"attributes\":{},\"id\":\"7905\",\"type\":\"StringFormatter\"},{\"attributes\":{\"child\":{\"id\":\"7930\"},\"name\":\"number of combinations\",\"title\":\"number of combinations\"},\"id\":\"7931\",\"type\":\"Panel\"},{\"attributes\":{},\"id\":\"7910\",\"type\":\"StringFormatter\"},{\"attributes\":{},\"id\":\"7901\",\"type\":\"CellEditor\"},{\"attributes\":{\"format\":\"0,0.0[00000]\",\"text_align\":\"right\"},\"id\":\"7920\",\"type\":\"NumberFormatter\"},{\"attributes\":{},\"id\":\"7934\",\"type\":\"UnionRenderers\"},{\"attributes\":{\"data\":{\"Abs Corr Coef\":{\"__ndarray__\":\"\",\"dtype\":\"float64\",\"order\":\"little\",\"shape\":[0]},\"Corr Coef\":{\"__ndarray__\":\"\",\"dtype\":\"float64\",\"order\":\"little\",\"shape\":[0]},\"Variable 1\":[],\"Variable 2\":[],\"index\":[]},\"selected\":{\"id\":\"7898\"},\"selection_policy\":{\"id\":\"7934\"}},\"id\":\"7897\",\"type\":\"ColumnDataSource\"},{\"attributes\":{\"editor\":{\"id\":\"7906\"},\"field\":\"Variable 1\",\"formatter\":{\"id\":\"7905\"},\"title\":\"Variable 1\",\"width\":0},\"id\":\"7907\",\"type\":\"TableColumn\"},{\"attributes\":{\"format\":\"0,0.0[00000]\",\"text_align\":\"right\"},\"id\":\"7915\",\"type\":\"NumberFormatter\"}],\"root_ids\":[\"7896\",\"7940\"]},\"title\":\"Bokeh Application\",\"version\":\"2.4.3\"}};\n",
       "    var render_items = [{\"docid\":\"2f19346f-81fd-412e-b2bd-a079398b49ff\",\"root_ids\":[\"7896\"],\"roots\":{\"7896\":\"2543df2e-b56f-4577-b66d-1d1ba6f1112a\"}}];\n",
       "    root.Bokeh.embed.embed_items_notebook(docs_json, render_items);\n",
       "  }\n",
       "  if (root.Bokeh !== undefined && root.Bokeh.Panel !== undefined) {\n",
       "    embed_document(root);\n",
       "  } else {\n",
       "    var attempts = 0;\n",
       "    var timer = setInterval(function(root) {\n",
       "      if (root.Bokeh !== undefined && root.Bokeh.Panel !== undefined) {\n",
       "        clearInterval(timer);\n",
       "        embed_document(root);\n",
       "      } else if (document.readyState == \"complete\") {\n",
       "        attempts++;\n",
       "        if (attempts > 200) {\n",
       "          clearInterval(timer);\n",
       "          console.log(\"Bokeh: ERROR: Unable to run BokehJS code because BokehJS library is missing\");\n",
       "        }\n",
       "      }\n",
       "    }, 25, root)\n",
       "  }\n",
       "})(window);</script>"
      ],
      "text/plain": [
       "Tabs\n",
       "    [0] DataFrame(height=300, name='combinations w..., sizing_mode='fixed', value=Empty DataFrame\n",
       "Columns: [..., width=800)\n",
       "    [1] Str(int, name='number of combinations')\n",
       "    [2] Str(float, name='percentage of c...)"
      ]
     },
     "execution_count": 110,
     "metadata": {
      "application/vnd.holoviews_exec.v0+json": {
       "id": "7896"
      }
     },
     "output_type": "execute_result"
    }
   ],
   "source": [
    "binary_num_columns = [x for x in data.columns if data[x].dropna().nunique()<=2]\n",
    "corr_table = ta_analysis.get_correlation_table(data[list(set(data.columns).difference(set(binary_num_columns)))])\n",
    "corr_table_drop = corr_table[corr_table[\"Abs Corr Coef\"] > 0.6]\n",
    "display_as_tabs([('combinations with > 0.6 correlation', corr_table_drop.head()),('number of combinations', len(corr_table_drop)), \n",
    "('percentage of combinations', len(corr_table_drop)*100/len(corr_table))])"
   ]
  },
  {
   "cell_type": "code",
   "execution_count": 111,
   "metadata": {},
   "outputs": [
    {
     "data": {},
     "metadata": {},
     "output_type": "display_data"
    },
    {
     "data": {},
     "metadata": {},
     "output_type": "display_data"
    },
    {
     "data": {
      "application/vnd.holoviews_exec.v0+json": "",
      "text/html": [
       "<div id='18346'>\n",
       "  <div class=\"bk-root\" id=\"92ad5e53-259f-41c4-92fc-249363c89658\" data-root-id=\"18346\"></div>\n",
       "</div>\n",
       "<script type=\"application/javascript\">(function(root) {\n",
       "  function embed_document(root) {\n",
       "    var docs_json = {\"8848761b-4a1e-4539-87db-3a203187095f\":{\"defs\":[{\"extends\":null,\"module\":null,\"name\":\"ReactiveHTML1\",\"overrides\":[],\"properties\":[]},{\"extends\":null,\"module\":null,\"name\":\"FlexBox1\",\"overrides\":[],\"properties\":[{\"default\":\"flex-start\",\"kind\":null,\"name\":\"align_content\"},{\"default\":\"flex-start\",\"kind\":null,\"name\":\"align_items\"},{\"default\":\"row\",\"kind\":null,\"name\":\"flex_direction\"},{\"default\":\"wrap\",\"kind\":null,\"name\":\"flex_wrap\"},{\"default\":\"flex-start\",\"kind\":null,\"name\":\"justify_content\"}]},{\"extends\":null,\"module\":null,\"name\":\"GridStack1\",\"overrides\":[],\"properties\":[{\"default\":\"warn\",\"kind\":null,\"name\":\"mode\"},{\"default\":null,\"kind\":null,\"name\":\"ncols\"},{\"default\":null,\"kind\":null,\"name\":\"nrows\"},{\"default\":true,\"kind\":null,\"name\":\"allow_resize\"},{\"default\":true,\"kind\":null,\"name\":\"allow_drag\"},{\"default\":[],\"kind\":null,\"name\":\"state\"}]},{\"extends\":null,\"module\":null,\"name\":\"click1\",\"overrides\":[],\"properties\":[{\"default\":\"\",\"kind\":null,\"name\":\"terminal_output\"},{\"default\":\"\",\"kind\":null,\"name\":\"debug_name\"},{\"default\":0,\"kind\":null,\"name\":\"clears\"}]},{\"extends\":null,\"module\":null,\"name\":\"NotificationAreaBase1\",\"overrides\":[],\"properties\":[{\"default\":\"bottom-right\",\"kind\":null,\"name\":\"position\"},{\"default\":0,\"kind\":null,\"name\":\"_clear\"}]},{\"extends\":null,\"module\":null,\"name\":\"NotificationArea1\",\"overrides\":[],\"properties\":[{\"default\":[],\"kind\":null,\"name\":\"notifications\"},{\"default\":\"bottom-right\",\"kind\":null,\"name\":\"position\"},{\"default\":0,\"kind\":null,\"name\":\"_clear\"},{\"default\":[{\"background\":\"#ffc107\",\"icon\":{\"className\":\"fas fa-exclamation-triangle\",\"color\":\"white\",\"tagName\":\"i\"},\"type\":\"warning\"},{\"background\":\"#007bff\",\"icon\":{\"className\":\"fas fa-info-circle\",\"color\":\"white\",\"tagName\":\"i\"},\"type\":\"info\"}],\"kind\":null,\"name\":\"types\"}]},{\"extends\":null,\"module\":null,\"name\":\"Notification\",\"overrides\":[],\"properties\":[{\"default\":null,\"kind\":null,\"name\":\"background\"},{\"default\":3000,\"kind\":null,\"name\":\"duration\"},{\"default\":null,\"kind\":null,\"name\":\"icon\"},{\"default\":\"\",\"kind\":null,\"name\":\"message\"},{\"default\":null,\"kind\":null,\"name\":\"notification_type\"},{\"default\":false,\"kind\":null,\"name\":\"_destroyed\"}]},{\"extends\":null,\"module\":null,\"name\":\"TemplateActions1\",\"overrides\":[],\"properties\":[{\"default\":0,\"kind\":null,\"name\":\"open_modal\"},{\"default\":0,\"kind\":null,\"name\":\"close_modal\"}]},{\"extends\":null,\"module\":null,\"name\":\"MaterialTemplateActions1\",\"overrides\":[],\"properties\":[{\"default\":0,\"kind\":null,\"name\":\"open_modal\"},{\"default\":0,\"kind\":null,\"name\":\"close_modal\"}]}],\"roots\":{\"references\":[{\"attributes\":{},\"id\":\"18392\",\"type\":\"CategoricalTickFormatter\"},{\"attributes\":{\"bottom_units\":\"screen\",\"coordinates\":null,\"fill_alpha\":0.5,\"fill_color\":\"lightgrey\",\"group\":null,\"left_units\":\"screen\",\"level\":\"overlay\",\"line_alpha\":1.0,\"line_color\":\"black\",\"line_dash\":[4,4],\"line_width\":2,\"right_units\":\"screen\",\"syncable\":false,\"top_units\":\"screen\"},\"id\":\"18429\",\"type\":\"BoxAnnotation\"},{\"attributes\":{},\"id\":\"18426\",\"type\":\"WheelZoomTool\"},{\"attributes\":{},\"id\":\"18425\",\"type\":\"PanTool\"},{\"attributes\":{},\"id\":\"18380\",\"type\":\"Selection\"},{\"attributes\":{},\"id\":\"18424\",\"type\":\"SaveTool\"},{\"attributes\":{\"axis_label\":\"Pearson_correlation_with_Target\",\"coordinates\":null,\"formatter\":{\"id\":\"18389\"},\"group\":null,\"major_label_policy\":{\"id\":\"18390\"},\"ticker\":{\"id\":\"18360\"}},\"id\":\"18359\",\"type\":\"LinearAxis\"},{\"attributes\":{\"fill_color\":{\"value\":\"#30a2da\"},\"hatch_color\":{\"value\":\"#30a2da\"},\"height\":{\"value\":0.8},\"right\":{\"field\":\"Mutual_information_with_Target\"},\"y\":{\"field\":\"index\"}},\"id\":\"18440\",\"type\":\"HBar\"},{\"attributes\":{\"fill_alpha\":{\"value\":0.1},\"fill_color\":{\"value\":\"#30a2da\"},\"hatch_alpha\":{\"value\":0.1},\"hatch_color\":{\"value\":\"#30a2da\"},\"height\":{\"value\":0.8},\"line_alpha\":{\"value\":0.1},\"right\":{\"field\":\"Pearson_correlation_with_Target\"},\"y\":{\"field\":\"index\"}},\"id\":\"18383\",\"type\":\"HBar\"},{\"attributes\":{\"fill_alpha\":{\"value\":0.2},\"fill_color\":{\"value\":\"#30a2da\"},\"hatch_alpha\":{\"value\":0.2},\"hatch_color\":{\"value\":\"#30a2da\"},\"height\":{\"value\":0.8},\"line_alpha\":{\"value\":0.2},\"right\":{\"field\":\"Mutual_information_with_Target\"},\"y\":{\"field\":\"index\"}},\"id\":\"18442\",\"type\":\"HBar\"},{\"attributes\":{\"child\":{\"id\":\"18350\"},\"name\":\"feature_correlation\",\"title\":\"feature_correlation\"},\"id\":\"18404\",\"type\":\"Panel\"},{\"attributes\":{\"axis\":{\"id\":\"18417\"},\"coordinates\":null,\"grid_line_color\":null,\"group\":null,\"ticker\":null},\"id\":\"18420\",\"type\":\"Grid\"},{\"attributes\":{},\"id\":\"18364\",\"type\":\"CategoricalTicker\"},{\"attributes\":{},\"id\":\"18355\",\"type\":\"LinearScale\"},{\"attributes\":{\"overlay\":{\"id\":\"18429\"}},\"id\":\"18427\",\"type\":\"BoxZoomTool\"},{\"attributes\":{\"factors\":[\"days\",\"core product segment\",\"product status\",\"product quantity\",\"core product application\",\"product $\",\"cost_per_unit\",\"time taken for transition\",\"core consumption market\",\"core sales segment\",\"transition to stage\",\"geography\",\"opportunity type\",\"transition from stage name\",\"risk status\"],\"tags\":[[[\"index\",\"index\",null]]]},\"id\":\"18348\",\"type\":\"FactorRange\"},{\"attributes\":{},\"id\":\"18367\",\"type\":\"PanTool\"},{\"attributes\":{\"axis_label\":\"\",\"coordinates\":null,\"formatter\":{\"id\":\"18392\"},\"group\":null,\"major_label_policy\":{\"id\":\"18393\"},\"ticker\":{\"id\":\"18364\"}},\"id\":\"18363\",\"type\":\"CategoricalAxis\"},{\"attributes\":{},\"id\":\"18428\",\"type\":\"ResetTool\"},{\"attributes\":{\"fill_color\":{\"value\":\"#30a2da\"},\"hatch_color\":{\"value\":\"#30a2da\"},\"height\":{\"value\":0.8},\"right\":{\"field\":\"Pearson_correlation_with_Target\"},\"y\":{\"field\":\"index\"}},\"id\":\"18382\",\"type\":\"HBar\"},{\"attributes\":{\"coordinates\":null,\"data_source\":{\"id\":\"18437\"},\"glyph\":{\"id\":\"18440\"},\"group\":null,\"hover_glyph\":null,\"muted_glyph\":{\"id\":\"18442\"},\"nonselection_glyph\":{\"id\":\"18441\"},\"selection_glyph\":{\"id\":\"18445\"},\"view\":{\"id\":\"18444\"}},\"id\":\"18443\",\"type\":\"GlyphRenderer\"},{\"attributes\":{\"fill_alpha\":{\"value\":1.0},\"fill_color\":{\"value\":\"#30a2da\"},\"hatch_alpha\":{\"value\":1.0},\"hatch_color\":{\"value\":\"#30a2da\"},\"hatch_scale\":{\"value\":12.0},\"hatch_weight\":{\"value\":1.0},\"height\":{\"value\":0.8},\"left\":{\"value\":0},\"line_alpha\":{\"value\":1.0},\"line_cap\":{\"value\":\"butt\"},\"line_color\":{\"value\":\"black\"},\"line_dash\":{\"value\":[]},\"line_dash_offset\":{\"value\":0},\"line_join\":{\"value\":\"bevel\"},\"line_width\":{\"value\":1},\"right\":{\"field\":\"Mutual_information_with_Target\"},\"y\":{\"field\":\"index\"}},\"id\":\"18445\",\"type\":\"HBar\"},{\"attributes\":{\"margin\":[0,0,0,0],\"tabs\":[{\"id\":\"18404\"},{\"id\":\"18462\"}]},\"id\":\"18346\",\"type\":\"panel.models.tabs.Tabs\"},{\"attributes\":{\"fill_alpha\":{\"value\":1.0},\"fill_color\":{\"value\":\"#30a2da\"},\"hatch_alpha\":{\"value\":1.0},\"hatch_color\":{\"value\":\"#30a2da\"},\"hatch_scale\":{\"value\":12.0},\"hatch_weight\":{\"value\":1.0},\"height\":{\"value\":0.8},\"left\":{\"value\":0},\"line_alpha\":{\"value\":1.0},\"line_cap\":{\"value\":\"butt\"},\"line_color\":{\"value\":\"black\"},\"line_dash\":{\"value\":[]},\"line_dash_offset\":{\"value\":0},\"line_join\":{\"value\":\"bevel\"},\"line_width\":{\"value\":1},\"right\":{\"field\":\"Pearson_correlation_with_Target\"},\"y\":{\"field\":\"index\"}},\"id\":\"18387\",\"type\":\"HBar\"},{\"attributes\":{},\"id\":\"18451\",\"type\":\"AllLabels\"},{\"attributes\":{\"source\":{\"id\":\"18379\"}},\"id\":\"18386\",\"type\":\"CDSView\"},{\"attributes\":{\"coordinates\":null,\"data_source\":{\"id\":\"18379\"},\"glyph\":{\"id\":\"18382\"},\"group\":null,\"hover_glyph\":null,\"muted_glyph\":{\"id\":\"18384\"},\"nonselection_glyph\":{\"id\":\"18383\"},\"selection_glyph\":{\"id\":\"18387\"},\"view\":{\"id\":\"18386\"}},\"id\":\"18385\",\"type\":\"GlyphRenderer\"},{\"attributes\":{\"tools\":[{\"id\":\"18407\"},{\"id\":\"18424\"},{\"id\":\"18425\"},{\"id\":\"18426\"},{\"id\":\"18427\"},{\"id\":\"18428\"}]},\"id\":\"18430\",\"type\":\"Toolbar\"},{\"attributes\":{},\"id\":\"18389\",\"type\":\"BasicTickFormatter\"},{\"attributes\":{\"source\":{\"id\":\"18437\"}},\"id\":\"18444\",\"type\":\"CDSView\"},{\"attributes\":{},\"id\":\"18450\",\"type\":\"CategoricalTickFormatter\"},{\"attributes\":{},\"id\":\"18418\",\"type\":\"BasicTicker\"},{\"attributes\":{\"client_comm_id\":\"9629f7d267c04c678816ea1a42e095aa\",\"comm_id\":\"814d7612987349299b48c368cec80a86\",\"plot_id\":\"18346\"},\"id\":\"18523\",\"type\":\"panel.models.comm_manager.CommManager\"},{\"attributes\":{},\"id\":\"18366\",\"type\":\"SaveTool\"},{\"attributes\":{},\"id\":\"18438\",\"type\":\"Selection\"},{\"attributes\":{\"below\":[{\"id\":\"18359\"}],\"center\":[{\"id\":\"18362\"},{\"id\":\"18365\"}],\"height\":300,\"left\":[{\"id\":\"18363\"}],\"margin\":[5,5,5,5],\"min_border_bottom\":10,\"min_border_left\":10,\"min_border_right\":10,\"min_border_top\":10,\"renderers\":[{\"id\":\"18385\"}],\"sizing_mode\":\"fixed\",\"title\":{\"id\":\"18351\"},\"toolbar\":{\"id\":\"18372\"},\"width\":700,\"x_range\":{\"id\":\"18347\"},\"x_scale\":{\"id\":\"18355\"},\"y_range\":{\"id\":\"18348\"},\"y_scale\":{\"id\":\"18357\"}},\"id\":\"18350\",\"subtype\":\"Figure\",\"type\":\"Plot\"},{\"attributes\":{},\"id\":\"18459\",\"type\":\"UnionRenderers\"},{\"attributes\":{\"axis\":{\"id\":\"18359\"},\"coordinates\":null,\"grid_line_color\":null,\"group\":null,\"ticker\":null},\"id\":\"18362\",\"type\":\"Grid\"},{\"attributes\":{},\"id\":\"18357\",\"type\":\"CategoricalScale\"},{\"attributes\":{},\"id\":\"18393\",\"type\":\"AllLabels\"},{\"attributes\":{},\"id\":\"18360\",\"type\":\"BasicTicker\"},{\"attributes\":{\"below\":[{\"id\":\"18417\"}],\"center\":[{\"id\":\"18420\"},{\"id\":\"18423\"}],\"height\":300,\"left\":[{\"id\":\"18421\"}],\"margin\":[5,5,5,5],\"min_border_bottom\":10,\"min_border_left\":10,\"min_border_right\":10,\"min_border_top\":10,\"renderers\":[{\"id\":\"18443\"}],\"sizing_mode\":\"fixed\",\"title\":{\"id\":\"18409\"},\"toolbar\":{\"id\":\"18430\"},\"width\":700,\"x_range\":{\"id\":\"18405\"},\"x_scale\":{\"id\":\"18413\"},\"y_range\":{\"id\":\"18348\"},\"y_scale\":{\"id\":\"18415\"}},\"id\":\"18408\",\"subtype\":\"Figure\",\"type\":\"Plot\"},{\"attributes\":{\"end\":0.7566296230705194,\"reset_end\":0.7566296230705194,\"reset_start\":0.0,\"tags\":[[[\"Mutual_information_with_Target\",\"Mutual_information_with_Target\",null]]]},\"id\":\"18405\",\"type\":\"Range1d\"},{\"attributes\":{\"coordinates\":null,\"group\":null,\"text\":\"Feature Correlation with Target Function\",\"text_color\":\"black\",\"text_font_size\":\"12pt\"},\"id\":\"18351\",\"type\":\"Title\"},{\"attributes\":{},\"id\":\"18415\",\"type\":\"CategoricalScale\"},{\"attributes\":{},\"id\":\"18401\",\"type\":\"UnionRenderers\"},{\"attributes\":{\"coordinates\":null,\"group\":null,\"text\":\"Mutual Information with Target\",\"text_color\":\"black\",\"text_font_size\":\"12pt\"},\"id\":\"18409\",\"type\":\"Title\"},{\"attributes\":{},\"id\":\"18448\",\"type\":\"AllLabels\"},{\"attributes\":{\"callback\":null,\"renderers\":[{\"id\":\"18443\"}],\"tags\":[\"hv_created\"],\"tooltips\":[[\"index\",\"@{index}\"],[\"Mutual_information_with_Target\",\"@{Mutual_information_with_Target}\"]]},\"id\":\"18407\",\"type\":\"HoverTool\"},{\"attributes\":{},\"id\":\"18370\",\"type\":\"ResetTool\"},{\"attributes\":{\"data\":{\"Mutual_information_with_Target\":{\"__ndarray__\":\"AKnnLjRZdz8AcZF7qMyGP4BWzifF8Ig/QMbn+7xwkD+Afb0ZY2iRPwAxUUJRVJQ/wN+cN8LHoD+AGnX+U7uhP0D2xaTIU6U/AFFNR5dBsD8QZDOEQyGzP0DewUQ2kLQ/cPMVuLb/yT/M5fHt3d7aP7heM4QSB+Y/\",\"dtype\":\"float64\",\"order\":\"little\",\"shape\":[15]},\"index\":[\"core product segment\",\"core sales segment\",\"core product application\",\"geography\",\"cost_per_unit\",\"core consumption market\",\"opportunity type\",\"product quantity\",\"product status\",\"risk status\",\"product $\",\"days\",\"time taken for transition\",\"transition from stage name\",\"transition to stage\"]},\"selected\":{\"id\":\"18438\"},\"selection_policy\":{\"id\":\"18459\"}},\"id\":\"18437\",\"type\":\"ColumnDataSource\"},{\"attributes\":{\"axis\":{\"id\":\"18363\"},\"coordinates\":null,\"dimension\":1,\"grid_line_color\":null,\"group\":null,\"ticker\":null},\"id\":\"18365\",\"type\":\"Grid\"},{\"attributes\":{\"axis_label\":\"\",\"coordinates\":null,\"formatter\":{\"id\":\"18450\"},\"group\":null,\"major_label_policy\":{\"id\":\"18451\"},\"ticker\":{\"id\":\"18422\"}},\"id\":\"18421\",\"type\":\"CategoricalAxis\"},{\"attributes\":{},\"id\":\"18390\",\"type\":\"AllLabels\"},{\"attributes\":{},\"id\":\"18447\",\"type\":\"BasicTickFormatter\"},{\"attributes\":{},\"id\":\"18413\",\"type\":\"LinearScale\"},{\"attributes\":{},\"id\":\"18368\",\"type\":\"WheelZoomTool\"},{\"attributes\":{\"overlay\":{\"id\":\"18371\"}},\"id\":\"18369\",\"type\":\"BoxZoomTool\"},{\"attributes\":{\"data\":{\"Pearson_correlation_with_Target\":{\"__ndarray__\":\"PGN5fJtwx7/w/ty5mFixv3pE8a3z4rC/6rP16o/Yq79Yvo69DmSmv7lcTf5ZPqK/U/ElZ9zwoz8Wp6TK9wqnP4FBT4+ljqo/0nUEHJaatz/mR2B76F7AP5GQOzegwcA/SMp610nTwT86hMgr2LXSPxD/Be4PxdU/\",\"dtype\":\"float64\",\"order\":\"little\",\"shape\":[15]},\"index\":[\"days\",\"core product segment\",\"product status\",\"product quantity\",\"core product application\",\"product $\",\"cost_per_unit\",\"time taken for transition\",\"core consumption market\",\"core sales segment\",\"transition to stage\",\"geography\",\"opportunity type\",\"transition from stage name\",\"risk status\"]},\"selected\":{\"id\":\"18380\"},\"selection_policy\":{\"id\":\"18401\"}},\"id\":\"18379\",\"type\":\"ColumnDataSource\"},{\"attributes\":{\"fill_alpha\":{\"value\":0.1},\"fill_color\":{\"value\":\"#30a2da\"},\"hatch_alpha\":{\"value\":0.1},\"hatch_color\":{\"value\":\"#30a2da\"},\"height\":{\"value\":0.8},\"line_alpha\":{\"value\":0.1},\"right\":{\"field\":\"Mutual_information_with_Target\"},\"y\":{\"field\":\"index\"}},\"id\":\"18441\",\"type\":\"HBar\"},{\"attributes\":{\"child\":{\"id\":\"18408\"},\"name\":\"mutual_information\",\"title\":\"mutual_information\"},\"id\":\"18462\",\"type\":\"Panel\"},{\"attributes\":{\"callback\":null,\"renderers\":[{\"id\":\"18385\"}],\"tags\":[\"hv_created\"],\"tooltips\":[[\"index\",\"@{index}\"],[\"Pearson_correlation_with_Target\",\"@{Pearson_correlation_with_Target}\"]]},\"id\":\"18349\",\"type\":\"HoverTool\"},{\"attributes\":{\"end\":0.39248039652544453,\"reset_end\":0.39248039652544453,\"reset_start\":-0.2354516769416035,\"start\":-0.2354516769416035,\"tags\":[[[\"Pearson_correlation_with_Target\",\"Pearson_correlation_with_Target\",null]]]},\"id\":\"18347\",\"type\":\"Range1d\"},{\"attributes\":{\"tools\":[{\"id\":\"18349\"},{\"id\":\"18366\"},{\"id\":\"18367\"},{\"id\":\"18368\"},{\"id\":\"18369\"},{\"id\":\"18370\"}]},\"id\":\"18372\",\"type\":\"Toolbar\"},{\"attributes\":{\"bottom_units\":\"screen\",\"coordinates\":null,\"fill_alpha\":0.5,\"fill_color\":\"lightgrey\",\"group\":null,\"left_units\":\"screen\",\"level\":\"overlay\",\"line_alpha\":1.0,\"line_color\":\"black\",\"line_dash\":[4,4],\"line_width\":2,\"right_units\":\"screen\",\"syncable\":false,\"top_units\":\"screen\"},\"id\":\"18371\",\"type\":\"BoxAnnotation\"},{\"attributes\":{\"axis\":{\"id\":\"18421\"},\"coordinates\":null,\"dimension\":1,\"grid_line_color\":null,\"group\":null,\"ticker\":null},\"id\":\"18423\",\"type\":\"Grid\"},{\"attributes\":{\"fill_alpha\":{\"value\":0.2},\"fill_color\":{\"value\":\"#30a2da\"},\"hatch_alpha\":{\"value\":0.2},\"hatch_color\":{\"value\":\"#30a2da\"},\"height\":{\"value\":0.8},\"line_alpha\":{\"value\":0.2},\"right\":{\"field\":\"Pearson_correlation_with_Target\"},\"y\":{\"field\":\"index\"}},\"id\":\"18384\",\"type\":\"HBar\"},{\"attributes\":{\"axis_label\":\"Mutual_information_with_Target\",\"coordinates\":null,\"formatter\":{\"id\":\"18447\"},\"group\":null,\"major_label_policy\":{\"id\":\"18448\"},\"ticker\":{\"id\":\"18418\"}},\"id\":\"18417\",\"type\":\"LinearAxis\"},{\"attributes\":{},\"id\":\"18422\",\"type\":\"CategoricalTicker\"}],\"root_ids\":[\"18346\",\"18523\"]},\"title\":\"Bokeh Application\",\"version\":\"2.4.3\"}};\n",
       "    var render_items = [{\"docid\":\"8848761b-4a1e-4539-87db-3a203187095f\",\"root_ids\":[\"18346\"],\"roots\":{\"18346\":\"92ad5e53-259f-41c4-92fc-249363c89658\"}}];\n",
       "    root.Bokeh.embed.embed_items_notebook(docs_json, render_items);\n",
       "  }\n",
       "  if (root.Bokeh !== undefined && root.Bokeh.Panel !== undefined) {\n",
       "    embed_document(root);\n",
       "  } else {\n",
       "    var attempts = 0;\n",
       "    var timer = setInterval(function(root) {\n",
       "      if (root.Bokeh !== undefined && root.Bokeh.Panel !== undefined) {\n",
       "        clearInterval(timer);\n",
       "        embed_document(root);\n",
       "      } else if (document.readyState == \"complete\") {\n",
       "        attempts++;\n",
       "        if (attempts > 200) {\n",
       "          clearInterval(timer);\n",
       "          console.log(\"Bokeh: ERROR: Unable to run BokehJS code because BokehJS library is missing\");\n",
       "        }\n",
       "      }\n",
       "    }, 25, root)\n",
       "  }\n",
       "})(window);</script>"
      ],
      "text/plain": [
       "Tabs\n",
       "    [0] HoloViews(Bars, name='feature_correlation')\n",
       "    [1] HoloViews(Bars, name='mutual_information')"
      ]
     },
     "execution_count": 111,
     "metadata": {
      "application/vnd.holoviews_exec.v0+json": {
       "id": "18346"
      }
     },
     "output_type": "execute_result"
    }
   ],
   "source": [
    "curated_columns = list(set(data.columns))\n",
    "\n",
    "# create reports as needed for all the column combinations other than binary columns\n",
    "all_plots = dict()\n",
    "select_cols_for_bivariate_plots = list(set(curated_columns).difference(binary_num_columns))\n",
    "for i, col1 in enumerate(select_cols_for_bivariate_plots): \n",
    "    for j in range(i+1, len(select_cols_for_bivariate_plots)):\n",
    "        col2 = select_cols_for_bivariate_plots[j]\n",
    "        out = ta_analysis.get_bivariate_plots(data, x_cols=[col1], y_cols=[col2])\n",
    "        all_plots.update({f'{col2} vs {col1}': out})\n",
    "\n",
    "create_report(all_plots, name='feature_analysis_bivariate')\n",
    "target_corr = ta_analysis.get_target_correlation(data[list(set(curated_columns).difference(binary_num_columns))], data['opportunity status'])\n",
    "display_as_tabs([(k, v) for k,v in target_corr.items()])"
   ]
  },
  {
   "cell_type": "markdown",
   "metadata": {},
   "source": [
    "## Test Train Split."
   ]
  },
  {
   "cell_type": "code",
   "execution_count": 112,
   "metadata": {},
   "outputs": [
    {
     "name": "stdout",
     "output_type": "stream",
     "text": [
      "Saving training datasets\n",
      "Saving test datasets\n"
     ]
    }
   ],
   "source": [
    "from sklearn.model_selection import train_test_split\n",
    "\n",
    "train_X, test_X, train_y, test_y = train_test_split(\n",
    "    data.drop('opportunity status',axis=1), data[['opportunity status']], test_size=0.2, random_state=context.random_seed)\n",
    "\n",
    "train_X = train_X.reset_index()\n",
    "train_y = train_y.reset_index()\n",
    "test_X = test_X.reset_index()\n",
    "test_y = test_y.reset_index()\n",
    "\n",
    "print(f\"Saving training datasets\")\n",
    "dataset.save_dataset(context, train_X, 'train/features')\n",
    "dataset.save_dataset(context, train_y, 'train/target')\n",
    "\n",
    "print(f\"Saving test datasets\")\n",
    "dataset.save_dataset(context, test_X, 'test/features')\n",
    "dataset.save_dataset(context, test_y, 'test/target')"
   ]
  },
  {
   "cell_type": "code",
   "execution_count": null,
   "metadata": {},
   "outputs": [],
   "source": []
  }
 ],
 "metadata": {
  "kernelspec": {
   "display_name": "base",
   "language": "python",
   "name": "python3"
  },
  "language_info": {
   "codemirror_mode": {
    "name": "ipython",
    "version": 3
   },
   "file_extension": ".py",
   "mimetype": "text/x-python",
   "name": "python",
   "nbconvert_exporter": "python",
   "pygments_lexer": "ipython3",
   "version": "3.9.12 (main, Apr  4 2022, 05:22:27) [MSC v.1916 64 bit (AMD64)]"
  },
  "vscode": {
   "interpreter": {
    "hash": "42d69d3ae29efc6fd53c383c4c5284ecbac92c311988865272477fe4598f9048"
   }
  }
 },
 "nbformat": 4,
 "nbformat_minor": 2
}
