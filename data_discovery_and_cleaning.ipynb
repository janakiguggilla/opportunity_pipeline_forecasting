{
 "cells": [
  {
   "cell_type": "markdown",
   "metadata": {},
   "source": [
    "# Purpose\n",
    "This notebook describes beginning to a Springboard Project: Opportunity Pipeline Forecasting. We will be trying to understand the tables, columns and information flow. Typically we also look for data issues try for resolution. At the end of this activity, the data sources and their treatment is finalized. Code in this notebook will not be part of the production code."
   ]
  },
  {
   "cell_type": "markdown",
   "metadata": {},
   "source": [
    "# Initialization"
   ]
  },
  {
   "cell_type": "code",
   "execution_count": 72,
   "metadata": {},
   "outputs": [
    {
     "name": "stdout",
     "output_type": "stream",
     "text": [
      "The autoreload extension is already loaded. To reload it, use:\n",
      "  %reload_ext autoreload\n"
     ]
    }
   ],
   "source": [
    "%load_ext autoreload\n",
    "%autoreload 2 "
   ]
  },
  {
   "cell_type": "code",
   "execution_count": 73,
   "metadata": {},
   "outputs": [],
   "source": [
    "import os\n",
    "import os.path as op\n",
    "import shutil\n",
    "\n",
    "# standard third party imports\n",
    "import numpy as np\n",
    "import pandas as pd\n",
    "from sklearn.model_selection import train_test_split\n",
    "#from imblearn.over_sampling import SMOTE\n",
    "pd.options.mode.use_inf_as_na = True\n",
    "\n",
    "from datetime import datetime\n",
    "from dateutil.relativedelta import relativedelta"
   ]
  },
  {
   "cell_type": "code",
   "execution_count": 74,
   "metadata": {},
   "outputs": [],
   "source": [
    "import os\n",
    "import os.path as op\n",
    "import pandas as pd \n",
    "import great_expectations as ge\n",
    "from dateutil.relativedelta import relativedelta\n",
    "os.environ['TA_DEBUG'] = \"False\"\n",
    "os.environ['TA_ALLOW_EXCEPTIONS'] = \"True\""
   ]
  },
  {
   "cell_type": "code",
   "execution_count": 75,
   "metadata": {},
   "outputs": [],
   "source": [
    "import warnings\n",
    "\n",
    "warnings.filterwarnings('ignore', message=\"The sklearn.metrics.classification module\", category=FutureWarning)\n",
    "warnings.filterwarnings('ignore', message=\".*title_format is deprecated. Please use title instead.*\")\n",
    "warnings.filterwarnings('ignore', message=\"The default value of regex will change from True to False in a future version.\", \n",
    "                        category=FutureWarning)\n",
    "warnings.filterwarnings('ignore', message=\"this method is deprecated in favour of `Styler.to_html()`\")"
   ]
  },
  {
   "cell_type": "code",
   "execution_count": 76,
   "metadata": {},
   "outputs": [
    {
     "name": "stdout",
     "output_type": "stream",
     "text": [
      "CPU times: total: 0 ns\n",
      "Wall time: 0 ns\n"
     ]
    }
   ],
   "source": [
    "%%time\n",
    "from ta_lib.core.api import (\n",
    "    create_context,\n",
    "    get_package_path,\n",
    "    display_as_tabs,\n",
    "    initialize_environment,\n",
    "    string_cleaning,\n",
    "    setanalyse,\n",
    "    merge_expectations\n",
    ")\n",
    "import ta_lib.core.api as dataset\n",
    "import ta_lib.eda.api as analysis\n",
    "import ta_lib.reports.api as health"
   ]
  },
  {
   "cell_type": "code",
   "execution_count": 77,
   "metadata": {},
   "outputs": [],
   "source": [
    "# Initialization\n",
    "initialize_environment(debug=False, hide_warnings=True)"
   ]
  },
  {
   "cell_type": "markdown",
   "metadata": {},
   "source": [
    "# Data"
   ]
  },
  {
   "cell_type": "markdown",
   "metadata": {},
   "source": [
    "## Background\n",
    "\n",
    "The sales group of a technology and chip manufacturing company is provided with annual targets in \\\\$ that they need to sell. The team tries to achieve the same by pursuing multiple opportunities (an opportunity can be defined as a potential customer with specific asks of products in type, design and quantity with their \\\\$ values negotiated) across customers and business segments.\n",
    "The sales enablement group of the same organization has identified that while a number of opportunities are being pursued, the sales group lacks a means to quantify the potential of conversion of these group of opportunities (hereon referred as sales pipeline portfolio) within a specific timeframe (say a quarter). The conversion potential of a sales pipeline portfolio is realized by,\n",
    " - Quality of an opportunity: How likely is an opportunity to convert within a specific timeframe? \n",
    "\n",
    "\n",
    "Below is an overview of each of the keys in the dataset:\n",
    "\n",
    "| | Key | Dataset | Details |\n",
    "|--|--|--|--|\n",
    "| 1 | Opportunity ID | prod_data.csv & opp_data.csv | Opportunity Identifier |\n",
    "| 2 | Product ID | prod_data.csv | Product Identifier |\n",
    "| 3 | Product Segment Name | prod_data.csv | Product Segment |\n",
    "| 4 | Product Status | prod_data.csv | Product Status (Pending,Win Approved,Win Submitted,Lost,Cancelled)  |\n",
    "|5 | Product \\\\$ | prod_data.csv | Price in Proposal |\n",
    "| 6 | Product Quantity | prod_data.csv | Quantity in Proposal | \n",
    "| 7 | Decision Date | prod_data.csv & opp_data | Opportunity Decision Date (Deadline to decide on opportunity)| \n",
    "| 8 | Snapshot Time | prod_data.csv | Quantity in Proposal | \n",
    "| 9 | Transition To Stage | opp_data.csv | Oppurtunity Stage at Snapshot Time | \n",
    "| 10 | Transition To Timestamp | opp_data.csv | Snapshot Time |\n",
    "| 11 | Transition From Stage Name | opp_data.csv | Opportunity Stage at previous Snapshot | \n",
    "| 12 | Transition From Timestamp | opp_data.csv | Previous Snapshot Time| \n",
    "| 13 | Customer Name | opp_data.csv | Customer Name | \n",
    "| 14 | Risk Status | opp_data.csv | Opportunity Risk |\n",
    "| 15 | Creation Date | opp_data.csv | Opportunity Creation Date |\n",
    "| 16 | Opportunity Status | opp_data.csv | Opportuinity Status (Open, Closed won,Closed Lost) |\n",
    "| 17 | Opportunity Type | opp_data.csv | Opportunity Type(Deal, if customer interested in existing product configuration and Design if customer interested in entirely new design) |\n",
    "| 18 | Core Consumption Market | opp_data.csv | Consumption market(Entertainment,Office use etc. )|\n",
    "| 19 | Core Product Segment | opp_data.csv | Product Segment(Processors, Graphic Card, Mother Board etc.) |\n",
    "| 20 | Core Sales Segment | opp_data.csv | Sales Segment |\n",
    "| 21 | Geography | opp_data.csv | Customer Geography |\n",
    "| 22 | Core Product Application | opp_data.csv | Product Application(Pc,Server,Mobile,Tablet,etc.) |"
   ]
  },
  {
   "cell_type": "code",
   "execution_count": 78,
   "metadata": {},
   "outputs": [
    {
     "data": {
      "text/plain": [
       "['/raw/opportunity',\n",
       " '/raw/product',\n",
       " '/cleaned/opportunity',\n",
       " '/cleaned/product',\n",
       " '/processed/merged_final_dataset',\n",
       " '/train/features',\n",
       " '/train/target',\n",
       " '/test/features',\n",
       " '/test/target',\n",
       " '/test/test2']"
      ]
     },
     "execution_count": 78,
     "metadata": {},
     "output_type": "execute_result"
    }
   ],
   "source": [
    "config_path = op.join('conf', 'config.yml')\n",
    "context = create_context(config_path)\n",
    "dataset.list_datasets(context)"
   ]
  },
  {
   "cell_type": "code",
   "execution_count": 79,
   "metadata": {},
   "outputs": [],
   "source": [
    "# Loading all datasets in a loop\n",
    "data = dict()\n",
    "for i in dataset.list_datasets(context):\n",
    "    if '/raw/' in i:\n",
    "        key_ = i.replace('/raw/','')+'_df'\n",
    "        data[key_] = dataset.load_dataset(context,i)\n",
    "        # Standardize column names\n",
    "        data[key_].columns = string_cleaning(data[key_].columns,lower=True)"
   ]
  },
  {
   "cell_type": "markdown",
   "metadata": {},
   "source": [
    "## Exploratory Data Analysis"
   ]
  },
  {
   "cell_type": "markdown",
   "metadata": {},
   "source": [
    "### Shape of Data"
   ]
  },
  {
   "cell_type": "code",
   "execution_count": 80,
   "metadata": {},
   "outputs": [
    {
     "data": {
      "text/html": [
       "<div>\n",
       "<style scoped>\n",
       "    .dataframe tbody tr th:only-of-type {\n",
       "        vertical-align: middle;\n",
       "    }\n",
       "\n",
       "    .dataframe tbody tr th {\n",
       "        vertical-align: top;\n",
       "    }\n",
       "\n",
       "    .dataframe thead th {\n",
       "        text-align: right;\n",
       "    }\n",
       "</style>\n",
       "<table border=\"1\" class=\"dataframe\">\n",
       "  <thead>\n",
       "    <tr style=\"text-align: right;\">\n",
       "      <th></th>\n",
       "      <th>rows</th>\n",
       "      <th>columns</th>\n",
       "    </tr>\n",
       "  </thead>\n",
       "  <tbody>\n",
       "    <tr>\n",
       "      <th>opportunity_df</th>\n",
       "      <td>313571</td>\n",
       "      <td>16</td>\n",
       "    </tr>\n",
       "    <tr>\n",
       "      <th>product_df</th>\n",
       "      <td>142431</td>\n",
       "      <td>8</td>\n",
       "    </tr>\n",
       "  </tbody>\n",
       "</table>\n",
       "</div>"
      ],
      "text/plain": [
       "                  rows  columns\n",
       "opportunity_df  313571       16\n",
       "product_df      142431        8"
      ]
     },
     "execution_count": 80,
     "metadata": {},
     "output_type": "execute_result"
    }
   ],
   "source": [
    "(\n",
    "    pd.DataFrame({x:data[x].shape for x in data.keys()})\n",
    "    .T\n",
    "    .rename(columns={0:'rows',1:'columns'})\n",
    "    .sort_values('rows',ascending=False)\n",
    ")"
   ]
  },
  {
   "cell_type": "markdown",
   "metadata": {},
   "source": [
    "## Variable summary"
   ]
  },
  {
   "cell_type": "code",
   "execution_count": 81,
   "metadata": {},
   "outputs": [
    {
     "data": {},
     "metadata": {},
     "output_type": "display_data"
    },
    {
     "data": {
      "application/vnd.holoviews_exec.v0+json": "",
      "text/html": [
       "<div id='8999'>\n",
       "  <div class=\"bk-root\" id=\"e245bdd8-4e4b-49d3-ac8e-094ebf378fba\" data-root-id=\"8999\"></div>\n",
       "</div>\n",
       "<script type=\"application/javascript\">(function(root) {\n",
       "  function embed_document(root) {\n",
       "    var docs_json = {\"a1fffa1a-cbe3-455c-a5e6-211c006fb7da\":{\"defs\":[{\"extends\":null,\"module\":null,\"name\":\"ReactiveHTML1\",\"overrides\":[],\"properties\":[]},{\"extends\":null,\"module\":null,\"name\":\"FlexBox1\",\"overrides\":[],\"properties\":[{\"default\":\"flex-start\",\"kind\":null,\"name\":\"align_content\"},{\"default\":\"flex-start\",\"kind\":null,\"name\":\"align_items\"},{\"default\":\"row\",\"kind\":null,\"name\":\"flex_direction\"},{\"default\":\"wrap\",\"kind\":null,\"name\":\"flex_wrap\"},{\"default\":\"flex-start\",\"kind\":null,\"name\":\"justify_content\"}]},{\"extends\":null,\"module\":null,\"name\":\"GridStack1\",\"overrides\":[],\"properties\":[{\"default\":\"warn\",\"kind\":null,\"name\":\"mode\"},{\"default\":null,\"kind\":null,\"name\":\"ncols\"},{\"default\":null,\"kind\":null,\"name\":\"nrows\"},{\"default\":true,\"kind\":null,\"name\":\"allow_resize\"},{\"default\":true,\"kind\":null,\"name\":\"allow_drag\"},{\"default\":[],\"kind\":null,\"name\":\"state\"}]},{\"extends\":null,\"module\":null,\"name\":\"click1\",\"overrides\":[],\"properties\":[{\"default\":\"\",\"kind\":null,\"name\":\"terminal_output\"},{\"default\":\"\",\"kind\":null,\"name\":\"debug_name\"},{\"default\":0,\"kind\":null,\"name\":\"clears\"}]},{\"extends\":null,\"module\":null,\"name\":\"NotificationAreaBase1\",\"overrides\":[],\"properties\":[{\"default\":\"bottom-right\",\"kind\":null,\"name\":\"position\"},{\"default\":0,\"kind\":null,\"name\":\"_clear\"}]},{\"extends\":null,\"module\":null,\"name\":\"NotificationArea1\",\"overrides\":[],\"properties\":[{\"default\":[],\"kind\":null,\"name\":\"notifications\"},{\"default\":\"bottom-right\",\"kind\":null,\"name\":\"position\"},{\"default\":0,\"kind\":null,\"name\":\"_clear\"},{\"default\":[{\"background\":\"#ffc107\",\"icon\":{\"className\":\"fas fa-exclamation-triangle\",\"color\":\"white\",\"tagName\":\"i\"},\"type\":\"warning\"},{\"background\":\"#007bff\",\"icon\":{\"className\":\"fas fa-info-circle\",\"color\":\"white\",\"tagName\":\"i\"},\"type\":\"info\"}],\"kind\":null,\"name\":\"types\"}]},{\"extends\":null,\"module\":null,\"name\":\"Notification\",\"overrides\":[],\"properties\":[{\"default\":null,\"kind\":null,\"name\":\"background\"},{\"default\":3000,\"kind\":null,\"name\":\"duration\"},{\"default\":null,\"kind\":null,\"name\":\"icon\"},{\"default\":\"\",\"kind\":null,\"name\":\"message\"},{\"default\":null,\"kind\":null,\"name\":\"notification_type\"},{\"default\":false,\"kind\":null,\"name\":\"_destroyed\"}]},{\"extends\":null,\"module\":null,\"name\":\"TemplateActions1\",\"overrides\":[],\"properties\":[{\"default\":0,\"kind\":null,\"name\":\"open_modal\"},{\"default\":0,\"kind\":null,\"name\":\"close_modal\"}]},{\"extends\":null,\"module\":null,\"name\":\"MaterialTemplateActions1\",\"overrides\":[],\"properties\":[{\"default\":0,\"kind\":null,\"name\":\"open_modal\"},{\"default\":0,\"kind\":null,\"name\":\"close_modal\"}]}],\"roots\":{\"references\":[{\"attributes\":{\"editor\":{\"id\":\"9037\"},\"field\":\"index\",\"formatter\":{\"id\":\"9035\"},\"title\":\"index\",\"width\":0},\"id\":\"9038\",\"type\":\"TableColumn\"},{\"attributes\":{},\"id\":\"9019\",\"type\":\"StringEditor\"},{\"attributes\":{\"indices\":[]},\"id\":\"9001\",\"type\":\"Selection\"},{\"attributes\":{\"editor\":{\"id\":\"9047\"},\"field\":\"Datatype\",\"formatter\":{\"id\":\"9046\"},\"title\":\"Datatype\",\"width\":0},\"id\":\"9048\",\"type\":\"TableColumn\"},{\"attributes\":{\"data\":{\"Datatype\":[\"int64\",\"int64\",\"object\",\"object\",\"float64\",\"float64\",\"datetime64[ns]\",\"int64\"],\"No of Unique\":[\"2538\",\"4384\",\"1\",\"6\",\"2775\",\"1098\",\"496\",\"783\"],\"Samples\":[\"[1361, 1363, 1364, 5, 19]\",\"[6669, 6756, 6659, 6660, 404]\",\"['Product Segment NA']\",\"['Win Approved', 'Pending', 'Win Submitted', 'Cancelled', 'Deleted']\",\"[0.0, 230400.0, 1056000.0, 777000.0, 647500.0]\",\"[1.0, 1200.0, 400000.0, 200000.0, 3000.0]\",\"[numpy.datetime64('2015-08-12T00:00:00.000000000'), numpy.datetime64('2015-08-31T00:00:00.000000000'), numpy.datetime64('2015-04-15T00:00:00.000000000'), numpy.datetime64('2015-07-19T00:00:00.000000000'), numpy.datetime64('2015-07-31T00:00:00.000000000')]\",\"[20151125050002, 20151025050002, 20160105050003, 20160101050003, 20150525050003]\"],\"Variable Name\":[\"\\u00efopportunity id\",\"product id\",\"product segment name\",\"product status\",\"product $\",\"product quantity\",\"decision date\",\"snapshot time\"],\"index\":[\"\\u00efopportunity id\",\"product id\",\"product segment name\",\"product status\",\"product $\",\"product quantity\",\"decision date\",\"snapshot time\"]},\"selected\":{\"id\":\"9034\"},\"selection_policy\":{\"id\":\"9068\"}},\"id\":\"9033\",\"type\":\"ColumnDataSource\"},{\"attributes\":{},\"id\":\"9047\",\"type\":\"StringEditor\"},{\"attributes\":{},\"id\":\"9042\",\"type\":\"StringEditor\"},{\"attributes\":{\"indices\":[]},\"id\":\"9034\",\"type\":\"Selection\"},{\"attributes\":{\"child\":{\"id\":\"9061\"},\"name\":\"product_df\",\"title\":\"product_df\"},\"id\":\"9065\",\"type\":\"Panel\"},{\"attributes\":{\"editor\":{\"id\":\"9024\"},\"field\":\"Samples\",\"formatter\":{\"id\":\"9023\"},\"title\":\"Samples\",\"width\":0},\"id\":\"9025\",\"type\":\"TableColumn\"},{\"attributes\":{},\"id\":\"9018\",\"type\":\"StringFormatter\"},{\"attributes\":{},\"id\":\"9046\",\"type\":\"StringFormatter\"},{\"attributes\":{},\"id\":\"9014\",\"type\":\"StringEditor\"},{\"attributes\":{\"editor\":{\"id\":\"9052\"},\"field\":\"No of Unique\",\"formatter\":{\"id\":\"9051\"},\"title\":\"No of Unique\",\"width\":0},\"id\":\"9053\",\"type\":\"TableColumn\"},{\"attributes\":{},\"id\":\"9056\",\"type\":\"StringFormatter\"},{\"attributes\":{},\"id\":\"9009\",\"type\":\"StringEditor\"},{\"attributes\":{\"editor\":{\"id\":\"9004\"},\"field\":\"index\",\"formatter\":{\"id\":\"9002\"},\"title\":\"index\",\"width\":0},\"id\":\"9005\",\"type\":\"TableColumn\"},{\"attributes\":{\"editor\":{\"id\":\"9014\"},\"field\":\"Datatype\",\"formatter\":{\"id\":\"9013\"},\"title\":\"Datatype\",\"width\":0},\"id\":\"9015\",\"type\":\"TableColumn\"},{\"attributes\":{\"columns\":[{\"id\":\"9005\"},{\"id\":\"9010\"},{\"id\":\"9015\"},{\"id\":\"9020\"},{\"id\":\"9025\"}],\"editable\":true,\"height\":300,\"index_position\":null,\"margin\":[5,10,5,10],\"name\":\"opportunity_df\",\"row_height\":40,\"sizing_mode\":\"fixed\",\"source\":{\"id\":\"9000\"},\"view\":{\"id\":\"9030\"},\"width\":800},\"id\":\"9028\",\"type\":\"DataTable\"},{\"attributes\":{},\"id\":\"9024\",\"type\":\"StringEditor\"},{\"attributes\":{},\"id\":\"9037\",\"type\":\"CellEditor\"},{\"attributes\":{},\"id\":\"9068\",\"type\":\"UnionRenderers\"},{\"attributes\":{},\"id\":\"9013\",\"type\":\"StringFormatter\"},{\"attributes\":{},\"id\":\"9041\",\"type\":\"StringFormatter\"},{\"attributes\":{},\"id\":\"9051\",\"type\":\"StringFormatter\"},{\"attributes\":{},\"id\":\"9052\",\"type\":\"StringEditor\"},{\"attributes\":{\"data\":{\"Datatype\":[\"int64\",\"object\",\"int64\",\"object\",\"float64\",\"object\",\"object\",\"datetime64[ns]\",\"datetime64[ns]\",\"object\",\"object\",\"object\",\"object\",\"object\",\"object\",\"object\"],\"No of Unique\":[\"5250\",\"9\",\"1558\",\"9\",\"1557\",\"2649\",\"3\",\"559\",\"779\",\"3\",\"2\",\"20\",\"11\",\"20\",\"6\",\"49\"],\"Samples\":[\"[5, 19, 46, 47, 93]\",\"['Stage 3', 'Stage 4', 'Stage 5', 'Stage 9', 'Stage 2']\",\"[20150211130001, 20150213050002, 20150218210007, 20150304210002, 20150316130001]\",\"['Stage 3', 'Stage 4', 'Stage 5', 'Stage 9', 'Stage 2']\",\"[nan, 20150211130001.0, 20150213050002.0, 20150218210007.0, 20150304210002.0]\",\"['Customer 83', 'Customer 216', 'Customer 108', 'Customer 8478', 'Customer 117']\",\"['No Risk', 'Others', 'Pricing']\",\"[numpy.datetime64('2015-02-11T00:00:00.000000000'), numpy.datetime64('2015-02-12T00:00:00.000000000'), numpy.datetime64('2015-02-13T00:00:00.000000000'), numpy.datetime64('2015-02-14T00:00:00.000000000'), numpy.datetime64('2015-02-16T00:00:00.000000000')]\",\"[numpy.datetime64('2015-03-12T00:00:00.000000000'), numpy.datetime64('2015-01-01T00:00:00.000000000'), numpy.datetime64('2015-08-14T00:00:00.000000000'), numpy.datetime64('2015-04-17T00:00:00.000000000'), numpy.datetime64('2015-06-01T00:00:00.000000000')]\",\"['Open', 'Closed/Won', 'Closed/Lost']\",\"['Deal', 'Design']\",\"['Core Market 11', 'Core Market 19', 'Core Market 3', 'Core Market 16', 'Core Market 6']\",\"['Core Prd Seg 3', 'Core Prd Seg 4', 'Core Prd Seg 5', 'Core Prd Seg 8', 'Core Prd Seg 2']\",\"['Sales Segment 8', 'Sales Segment 1', 'Sales Segment 2', 'Sales Segment 4', 'Sales Segment 7']\",\"['Geo NA', 'Geo 1', 'Geo 3', 'Geo 5', 'Geo 2']\",\"['Prd App 4', 'Prd App 13', 'Prd App 15', 'Prd App 22', 'Prd App 18']\"],\"Variable Name\":[\"\\u00efopportunity id\",\"transition to stage\",\"transition to timestamp\",\"transition from stage name\",\"transition from timestamp\",\"customer name\",\"risk status\",\"creation date\",\"decision date\",\"opportunity status\",\"opportunity type\",\"core consumption market\",\"core product segment\",\"core sales segment\",\"geography\",\"core product application\"],\"index\":[\"\\u00efopportunity id\",\"transition to stage\",\"transition to timestamp\",\"transition from stage name\",\"transition from timestamp\",\"customer name\",\"risk status\",\"creation date\",\"decision date\",\"opportunity status\",\"opportunity type\",\"core consumption market\",\"core product segment\",\"core sales segment\",\"geography\",\"core product application\"]},\"selected\":{\"id\":\"9001\"},\"selection_policy\":{\"id\":\"9066\"}},\"id\":\"9000\",\"type\":\"ColumnDataSource\"},{\"attributes\":{},\"id\":\"9057\",\"type\":\"StringEditor\"},{\"attributes\":{\"child\":{\"id\":\"9028\"},\"name\":\"opportunity_df\",\"title\":\"opportunity_df\"},\"id\":\"9032\",\"type\":\"Panel\"},{\"attributes\":{},\"id\":\"9023\",\"type\":\"StringFormatter\"},{\"attributes\":{\"columns\":[{\"id\":\"9038\"},{\"id\":\"9043\"},{\"id\":\"9048\"},{\"id\":\"9053\"},{\"id\":\"9058\"}],\"editable\":true,\"height\":300,\"index_position\":null,\"margin\":[5,10,5,10],\"name\":\"product_df\",\"row_height\":40,\"sizing_mode\":\"fixed\",\"source\":{\"id\":\"9033\"},\"view\":{\"id\":\"9063\"},\"width\":800},\"id\":\"9061\",\"type\":\"DataTable\"},{\"attributes\":{\"client_comm_id\":\"0bbdc561387e4544955eef407aa7c0b6\",\"comm_id\":\"4361751b6aa54f5cb3f3bcc2e8ded8c7\",\"plot_id\":\"8999\"},\"id\":\"9078\",\"type\":\"panel.models.comm_manager.CommManager\"},{\"attributes\":{},\"id\":\"9004\",\"type\":\"CellEditor\"},{\"attributes\":{\"editor\":{\"id\":\"9019\"},\"field\":\"No of Unique\",\"formatter\":{\"id\":\"9018\"},\"title\":\"No of Unique\",\"width\":0},\"id\":\"9020\",\"type\":\"TableColumn\"},{\"attributes\":{\"editor\":{\"id\":\"9042\"},\"field\":\"Variable Name\",\"formatter\":{\"id\":\"9041\"},\"title\":\"Variable Name\",\"width\":0},\"id\":\"9043\",\"type\":\"TableColumn\"},{\"attributes\":{},\"id\":\"9035\",\"type\":\"StringFormatter\"},{\"attributes\":{\"margin\":[0,0,0,0],\"tabs\":[{\"id\":\"9032\"},{\"id\":\"9065\"}]},\"id\":\"8999\",\"type\":\"panel.models.tabs.Tabs\"},{\"attributes\":{\"editor\":{\"id\":\"9009\"},\"field\":\"Variable Name\",\"formatter\":{\"id\":\"9008\"},\"title\":\"Variable Name\",\"width\":0},\"id\":\"9010\",\"type\":\"TableColumn\"},{\"attributes\":{},\"id\":\"9066\",\"type\":\"UnionRenderers\"},{\"attributes\":{},\"id\":\"9002\",\"type\":\"StringFormatter\"},{\"attributes\":{},\"id\":\"9008\",\"type\":\"StringFormatter\"},{\"attributes\":{\"source\":{\"id\":\"9000\"}},\"id\":\"9030\",\"type\":\"CDSView\"},{\"attributes\":{\"editor\":{\"id\":\"9057\"},\"field\":\"Samples\",\"formatter\":{\"id\":\"9056\"},\"title\":\"Samples\",\"width\":0},\"id\":\"9058\",\"type\":\"TableColumn\"},{\"attributes\":{\"source\":{\"id\":\"9033\"}},\"id\":\"9063\",\"type\":\"CDSView\"}],\"root_ids\":[\"8999\",\"9078\"]},\"title\":\"Bokeh Application\",\"version\":\"2.4.3\"}};\n",
       "    var render_items = [{\"docid\":\"a1fffa1a-cbe3-455c-a5e6-211c006fb7da\",\"root_ids\":[\"8999\"],\"roots\":{\"8999\":\"e245bdd8-4e4b-49d3-ac8e-094ebf378fba\"}}];\n",
       "    root.Bokeh.embed.embed_items_notebook(docs_json, render_items);\n",
       "  }\n",
       "  if (root.Bokeh !== undefined && root.Bokeh.Panel !== undefined) {\n",
       "    embed_document(root);\n",
       "  } else {\n",
       "    var attempts = 0;\n",
       "    var timer = setInterval(function(root) {\n",
       "      if (root.Bokeh !== undefined && root.Bokeh.Panel !== undefined) {\n",
       "        clearInterval(timer);\n",
       "        embed_document(root);\n",
       "      } else if (document.readyState == \"complete\") {\n",
       "        attempts++;\n",
       "        if (attempts > 200) {\n",
       "          clearInterval(timer);\n",
       "          console.log(\"Bokeh: ERROR: Unable to run BokehJS code because BokehJS library is missing\");\n",
       "        }\n",
       "      }\n",
       "    }, 25, root)\n",
       "  }\n",
       "})(window);</script>"
      ],
      "text/plain": [
       "Tabs\n",
       "    [0] DataFrame(height=300, name='opportunity_df', sizing_mode='fixed', value=                          ..., width=800)\n",
       "    [1] DataFrame(height=300, name='product_df', sizing_mode='fixed', value=                          ..., width=800)"
      ]
     },
     "execution_count": 81,
     "metadata": {
      "application/vnd.holoviews_exec.v0+json": {
       "id": "8999"
      }
     },
     "output_type": "execute_result"
    }
   ],
   "source": [
    "summaries = [analysis.get_variable_summary(data[x]) for x in data.keys()]\n",
    "display_as_tabs([(x, summaries[idx]) for idx, x in enumerate(data.keys())])"
   ]
  },
  {
   "cell_type": "markdown",
   "metadata": {},
   "source": [
    "## Health Analysis\n",
    "\n",
    "Get an overview of the overall health of your dataset. This is usually quick to compute and hopefully highlights some problems to focus on.\n",
    "\n"
   ]
  },
  {
   "cell_type": "code",
   "execution_count": 82,
   "metadata": {},
   "outputs": [
    {
     "data": {},
     "metadata": {},
     "output_type": "display_data"
    },
    {
     "data": {},
     "metadata": {},
     "output_type": "display_data"
    },
    {
     "data": {
      "application/vnd.holoviews_exec.v0+json": "",
      "text/html": [
       "<div id='9099'>\n",
       "  <div class=\"bk-root\" id=\"78cc50e0-4042-4f34-98d3-04da1c891946\" data-root-id=\"9099\"></div>\n",
       "</div>\n",
       "<script type=\"application/javascript\">(function(root) {\n",
       "  function embed_document(root) {\n",
       "    var docs_json = {\"8e298d63-4bbf-4d37-852f-8fcd873fe88f\":{\"defs\":[{\"extends\":null,\"module\":null,\"name\":\"ReactiveHTML1\",\"overrides\":[],\"properties\":[]},{\"extends\":null,\"module\":null,\"name\":\"FlexBox1\",\"overrides\":[],\"properties\":[{\"default\":\"flex-start\",\"kind\":null,\"name\":\"align_content\"},{\"default\":\"flex-start\",\"kind\":null,\"name\":\"align_items\"},{\"default\":\"row\",\"kind\":null,\"name\":\"flex_direction\"},{\"default\":\"wrap\",\"kind\":null,\"name\":\"flex_wrap\"},{\"default\":\"flex-start\",\"kind\":null,\"name\":\"justify_content\"}]},{\"extends\":null,\"module\":null,\"name\":\"GridStack1\",\"overrides\":[],\"properties\":[{\"default\":\"warn\",\"kind\":null,\"name\":\"mode\"},{\"default\":null,\"kind\":null,\"name\":\"ncols\"},{\"default\":null,\"kind\":null,\"name\":\"nrows\"},{\"default\":true,\"kind\":null,\"name\":\"allow_resize\"},{\"default\":true,\"kind\":null,\"name\":\"allow_drag\"},{\"default\":[],\"kind\":null,\"name\":\"state\"}]},{\"extends\":null,\"module\":null,\"name\":\"click1\",\"overrides\":[],\"properties\":[{\"default\":\"\",\"kind\":null,\"name\":\"terminal_output\"},{\"default\":\"\",\"kind\":null,\"name\":\"debug_name\"},{\"default\":0,\"kind\":null,\"name\":\"clears\"}]},{\"extends\":null,\"module\":null,\"name\":\"NotificationAreaBase1\",\"overrides\":[],\"properties\":[{\"default\":\"bottom-right\",\"kind\":null,\"name\":\"position\"},{\"default\":0,\"kind\":null,\"name\":\"_clear\"}]},{\"extends\":null,\"module\":null,\"name\":\"NotificationArea1\",\"overrides\":[],\"properties\":[{\"default\":[],\"kind\":null,\"name\":\"notifications\"},{\"default\":\"bottom-right\",\"kind\":null,\"name\":\"position\"},{\"default\":0,\"kind\":null,\"name\":\"_clear\"},{\"default\":[{\"background\":\"#ffc107\",\"icon\":{\"className\":\"fas fa-exclamation-triangle\",\"color\":\"white\",\"tagName\":\"i\"},\"type\":\"warning\"},{\"background\":\"#007bff\",\"icon\":{\"className\":\"fas fa-info-circle\",\"color\":\"white\",\"tagName\":\"i\"},\"type\":\"info\"}],\"kind\":null,\"name\":\"types\"}]},{\"extends\":null,\"module\":null,\"name\":\"Notification\",\"overrides\":[],\"properties\":[{\"default\":null,\"kind\":null,\"name\":\"background\"},{\"default\":3000,\"kind\":null,\"name\":\"duration\"},{\"default\":null,\"kind\":null,\"name\":\"icon\"},{\"default\":\"\",\"kind\":null,\"name\":\"message\"},{\"default\":null,\"kind\":null,\"name\":\"notification_type\"},{\"default\":false,\"kind\":null,\"name\":\"_destroyed\"}]},{\"extends\":null,\"module\":null,\"name\":\"TemplateActions1\",\"overrides\":[],\"properties\":[{\"default\":0,\"kind\":null,\"name\":\"open_modal\"},{\"default\":0,\"kind\":null,\"name\":\"close_modal\"}]},{\"extends\":null,\"module\":null,\"name\":\"MaterialTemplateActions1\",\"overrides\":[],\"properties\":[{\"default\":0,\"kind\":null,\"name\":\"open_modal\"},{\"default\":0,\"kind\":null,\"name\":\"close_modal\"}]}],\"roots\":{\"references\":[{\"attributes\":{},\"id\":\"9701\",\"type\":\"CategoricalTicker\"},{\"attributes\":{\"overlay\":{\"id\":\"9310\"}},\"id\":\"9308\",\"type\":\"BoxZoomTool\"},{\"attributes\":{\"axis_label\":\"\",\"coordinates\":null,\"formatter\":{\"id\":\"9730\"},\"group\":null,\"major_label_policy\":{\"id\":\"9731\"},\"ticker\":{\"id\":\"9738\"}},\"id\":\"9696\",\"type\":\"LinearAxis\"},{\"attributes\":{},\"id\":\"9309\",\"type\":\"ResetTool\"},{\"attributes\":{},\"id\":\"9704\",\"type\":\"PanTool\"},{\"attributes\":{\"data\":{\"bottom\":{\"__ndarray__\":\"AAAAAAAAAAAAAAAAAABZQA==\",\"dtype\":\"float64\",\"order\":\"little\",\"shape\":[2]},\"index\":[\"values\",\"values\"],\"labels\":[\"Unique\",\"Duplicate\"],\"top\":{\"__ndarray__\":\"AAAAAAAAWUAAAAAAAABZQA==\",\"dtype\":\"float64\",\"order\":\"little\",\"shape\":[2]},\"value\":{\"__ndarray__\":\"AAAAAAAAWUAAAAAAAAAAAA==\",\"dtype\":\"float64\",\"order\":\"little\",\"shape\":[2]}},\"selected\":{\"id\":\"9904\"},\"selection_policy\":{\"id\":\"9918\"}},\"id\":\"9903\",\"type\":\"ColumnDataSource\"},{\"attributes\":{\"data\":{\"bottom\":{\"__ndarray__\":\"AAAAAAAAAAAAAAAAAABZQA==\",\"dtype\":\"float64\",\"order\":\"little\",\"shape\":[2]},\"index\":[\"values\",\"values\"],\"labels\":[\"Unique\",\"Duplicate\"],\"top\":{\"__ndarray__\":\"AAAAAAAAWUAAAAAAAABZQA==\",\"dtype\":\"float64\",\"order\":\"little\",\"shape\":[2]},\"value\":{\"__ndarray__\":\"AAAAAAAAWUAAAAAAAAAAAA==\",\"dtype\":\"float64\",\"order\":\"little\",\"shape\":[2]}},\"selected\":{\"id\":\"9258\"},\"selection_policy\":{\"id\":\"9272\"}},\"id\":\"9257\",\"type\":\"ColumnDataSource\"},{\"attributes\":{\"bottom_units\":\"screen\",\"coordinates\":null,\"fill_alpha\":0.5,\"fill_color\":\"lightgrey\",\"group\":null,\"left_units\":\"screen\",\"level\":\"overlay\",\"line_alpha\":1.0,\"line_color\":\"black\",\"line_dash\":[4,4],\"line_width\":2,\"right_units\":\"screen\",\"syncable\":false,\"top_units\":\"screen\"},\"id\":\"9310\",\"type\":\"BoxAnnotation\"},{\"attributes\":{},\"id\":\"9196\",\"type\":\"Selection\"},{\"attributes\":{},\"id\":\"9320\",\"type\":\"Selection\"},{\"attributes\":{},\"id\":\"9792\",\"type\":\"BasicTickFormatter\"},{\"attributes\":{\"bottom_units\":\"screen\",\"coordinates\":null,\"fill_alpha\":0.5,\"fill_color\":\"lightgrey\",\"group\":null,\"left_units\":\"screen\",\"level\":\"overlay\",\"line_alpha\":1.0,\"line_color\":\"black\",\"line_dash\":[4,4],\"line_width\":2,\"right_units\":\"screen\",\"syncable\":false,\"top_units\":\"screen\"},\"id\":\"9186\",\"type\":\"BoxAnnotation\"},{\"attributes\":{\"bottom_units\":\"screen\",\"coordinates\":null,\"fill_alpha\":0.5,\"fill_color\":\"lightgrey\",\"group\":null,\"left_units\":\"screen\",\"level\":\"overlay\",\"line_alpha\":1.0,\"line_color\":\"black\",\"line_dash\":[4,4],\"line_width\":2,\"right_units\":\"screen\",\"syncable\":false,\"top_units\":\"screen\"},\"id\":\"9832\",\"type\":\"BoxAnnotation\"},{\"attributes\":{\"fill_color\":{\"field\":\"labels\",\"transform\":{\"id\":\"9318\"}},\"hatch_color\":{\"field\":\"labels\",\"transform\":{\"id\":\"9318\"}},\"height\":{\"value\":0.8},\"left\":{\"field\":\"bottom\"},\"right\":{\"field\":\"top\"},\"y\":{\"field\":\"index\"}},\"id\":\"9322\",\"type\":\"HBar\"},{\"attributes\":{\"tools\":[{\"id\":\"9164\"},{\"id\":\"9181\"},{\"id\":\"9182\"},{\"id\":\"9183\"},{\"id\":\"9184\"},{\"id\":\"9185\"}]},\"id\":\"9187\",\"type\":\"Toolbar\"},{\"attributes\":{},\"id\":\"9842\",\"type\":\"Selection\"},{\"attributes\":{\"factors\":[\"Available\",\"Missing\"],\"palette\":[\"#30a2da\",\"#fc4f30\"]},\"id\":\"9778\",\"type\":\"CategoricalColorMapper\"},{\"attributes\":{\"fill_color\":{\"field\":\"labels\",\"transform\":{\"id\":\"9194\"}},\"hatch_color\":{\"field\":\"labels\",\"transform\":{\"id\":\"9194\"}},\"height\":{\"value\":0.8},\"left\":{\"field\":\"bottom\"},\"right\":{\"field\":\"top\"},\"y\":{\"field\":\"index\"}},\"id\":\"9198\",\"type\":\"HBar\"},{\"attributes\":{\"callback\":null,\"renderers\":[{\"id\":\"9723\"}],\"tags\":[\"hv_created\"],\"tooltips\":[[\"index\",\"@{index}\"],[\"labels\",\"@{labels}\"],[\"value\",\"@{value}\"]]},\"id\":\"9686\",\"type\":\"HoverTool\"},{\"attributes\":{\"children\":[{\"id\":\"9975\"},{\"id\":\"9973\"}]},\"id\":\"9976\",\"type\":\"Column\"},{\"attributes\":{\"tools\":[{\"id\":\"9288\"},{\"id\":\"9305\"},{\"id\":\"9306\"},{\"id\":\"9307\"},{\"id\":\"9308\"},{\"id\":\"9309\"}]},\"id\":\"9311\",\"type\":\"Toolbar\"},{\"attributes\":{},\"id\":\"9694\",\"type\":\"CategoricalScale\"},{\"attributes\":{\"tools\":[{\"id\":\"9810\"},{\"id\":\"9827\"},{\"id\":\"9828\"},{\"id\":\"9829\"},{\"id\":\"9830\"},{\"id\":\"9831\"}]},\"id\":\"9833\",\"type\":\"Toolbar\"},{\"attributes\":{},\"id\":\"9789\",\"type\":\"CategoricalTickFormatter\"},{\"attributes\":{\"child\":{\"id\":\"9978\"},\"name\":\"product_df\",\"title\":\"product_df\"},\"id\":\"10267\",\"type\":\"Panel\"},{\"attributes\":{\"coordinates\":null,\"group\":null,\"items\":[{\"id\":\"9214\"}],\"location\":[0,0]},\"id\":\"9213\",\"type\":\"Legend\"},{\"attributes\":{},\"id\":\"9793\",\"type\":\"AllLabels\"},{\"attributes\":{\"fill_color\":{\"field\":\"labels\",\"transform\":{\"id\":\"9840\"}},\"hatch_color\":{\"field\":\"labels\",\"transform\":{\"id\":\"9840\"}},\"height\":{\"value\":0.8},\"left\":{\"field\":\"bottom\"},\"right\":{\"field\":\"top\"},\"y\":{\"field\":\"index\"}},\"id\":\"9844\",\"type\":\"HBar\"},{\"attributes\":{\"style\":{\"white-space\":\"nowrap\"},\"text\":\"<span style=\\\"color:black;font-family:Arial;font-style:bold;font-weight:bold;font-size:12pt\\\">Data Shape:(142431, 8)</span>\",\"width\":450},\"id\":\"9977\",\"type\":\"Div\"},{\"attributes\":{\"below\":[{\"id\":\"9820\"}],\"center\":[{\"id\":\"9823\"},{\"id\":\"9826\"},{\"id\":\"9859\"}],\"height\":100,\"left\":[{\"id\":\"9824\"}],\"margin\":null,\"min_border_bottom\":10,\"min_border_left\":10,\"min_border_right\":10,\"min_border_top\":10,\"renderers\":[{\"id\":\"9847\"}],\"right\":[{\"id\":\"9859\"}],\"sizing_mode\":\"fixed\",\"title\":{\"id\":\"9812\"},\"toolbar\":{\"id\":\"9833\"},\"toolbar_location\":null,\"width\":700,\"x_range\":{\"id\":\"9100\"},\"x_scale\":{\"id\":\"9816\"},\"y_range\":{\"id\":\"9101\"},\"y_scale\":{\"id\":\"9818\"}},\"id\":\"9811\",\"subtype\":\"Figure\",\"type\":\"Plot\"},{\"attributes\":{\"children\":[{\"id\":\"9977\"},{\"id\":\"9976\"}]},\"id\":\"9978\",\"type\":\"Column\"},{\"attributes\":{\"fill_alpha\":{\"value\":0.2},\"fill_color\":{\"field\":\"labels\",\"transform\":{\"id\":\"9840\"}},\"hatch_alpha\":{\"value\":0.2},\"hatch_color\":{\"field\":\"labels\",\"transform\":{\"id\":\"9840\"}},\"height\":{\"value\":0.8},\"left\":{\"field\":\"bottom\"},\"line_alpha\":{\"value\":0.2},\"right\":{\"field\":\"top\"},\"y\":{\"field\":\"index\"}},\"id\":\"9846\",\"type\":\"HBar\"},{\"attributes\":{\"fill_alpha\":{\"value\":0.2},\"fill_color\":{\"field\":\"labels\",\"transform\":{\"id\":\"9318\"}},\"hatch_alpha\":{\"value\":0.2},\"hatch_color\":{\"field\":\"labels\",\"transform\":{\"id\":\"9318\"}},\"height\":{\"value\":0.8},\"left\":{\"field\":\"bottom\"},\"line_alpha\":{\"value\":0.2},\"right\":{\"field\":\"top\"},\"y\":{\"field\":\"index\"}},\"id\":\"9324\",\"type\":\"HBar\"},{\"attributes\":{\"ticks\":[0]},\"id\":\"9800\",\"type\":\"FixedTicker\"},{\"attributes\":{\"coordinates\":null,\"group\":null,\"items\":[{\"id\":\"9860\"}],\"location\":[0,0]},\"id\":\"9859\",\"type\":\"Legend\"},{\"attributes\":{\"label\":{\"field\":\"labels\"},\"renderers\":[{\"id\":\"9201\"}]},\"id\":\"9214\",\"type\":\"LegendItem\"},{\"attributes\":{\"coordinates\":null,\"group\":null,\"items\":[{\"id\":\"9338\"}],\"location\":[0,0]},\"id\":\"9337\",\"type\":\"Legend\"},{\"attributes\":{\"fill_alpha\":{\"value\":0.2},\"fill_color\":{\"field\":\"labels\",\"transform\":{\"id\":\"9194\"}},\"hatch_alpha\":{\"value\":0.2},\"hatch_color\":{\"field\":\"labels\",\"transform\":{\"id\":\"9194\"}},\"height\":{\"value\":0.8},\"left\":{\"field\":\"bottom\"},\"line_alpha\":{\"value\":0.2},\"right\":{\"field\":\"top\"},\"y\":{\"field\":\"index\"}},\"id\":\"9200\",\"type\":\"HBar\"},{\"attributes\":{},\"id\":\"9790\",\"type\":\"AllLabels\"},{\"attributes\":{},\"id\":\"9703\",\"type\":\"SaveTool\"},{\"attributes\":{},\"id\":\"9829\",\"type\":\"WheelZoomTool\"},{\"attributes\":{\"source\":{\"id\":\"9195\"}},\"id\":\"9202\",\"type\":\"CDSView\"},{\"attributes\":{},\"id\":\"9818\",\"type\":\"CategoricalScale\"},{\"attributes\":{\"axis_label\":\"\",\"coordinates\":null,\"formatter\":{\"id\":\"9146\"},\"group\":null,\"major_label_policy\":{\"id\":\"9147\"},\"ticker\":{\"id\":\"9154\"}},\"id\":\"9112\",\"type\":\"LinearAxis\"},{\"attributes\":{\"below\":[{\"id\":\"9696\"}],\"center\":[{\"id\":\"9699\"},{\"id\":\"9702\"},{\"id\":\"9735\"}],\"height\":100,\"left\":[{\"id\":\"9700\"}],\"margin\":null,\"min_border_bottom\":10,\"min_border_left\":10,\"min_border_right\":10,\"min_border_top\":10,\"renderers\":[{\"id\":\"9723\"}],\"right\":[{\"id\":\"9735\"}],\"sizing_mode\":\"fixed\",\"title\":{\"id\":\"9688\"},\"toolbar\":{\"id\":\"9709\"},\"toolbar_location\":null,\"width\":700,\"x_range\":{\"id\":\"9100\"},\"x_scale\":{\"id\":\"9692\"},\"y_range\":{\"id\":\"9101\"},\"y_scale\":{\"id\":\"9694\"}},\"id\":\"9687\",\"subtype\":\"Figure\",\"type\":\"Plot\"},{\"attributes\":{\"factors\":[\"Unique\",\"Duplicate\"],\"palette\":[\"#30a2da\",\"#fc4f30\"]},\"id\":\"9840\",\"type\":\"CategoricalColorMapper\"},{\"attributes\":{\"data\":{\"bottom\":{\"__ndarray__\":\"AAAAAAAAAAAAAAAAAAApQAAAAAAAwFJA\",\"dtype\":\"float64\",\"order\":\"little\",\"shape\":[3]},\"index\":[\"values\",\"values\",\"values\"],\"labels\":[\"Date\",\"Numeric\",\"Others\"],\"top\":{\"__ndarray__\":\"AAAAAAAAKUAAAAAAAMBSQAAAAAAAAFlA\",\"dtype\":\"float64\",\"order\":\"little\",\"shape\":[3]},\"value\":{\"__ndarray__\":\"AAAAAAAAKUAAAAAAAEBPQAAAAAAAADlA\",\"dtype\":\"float64\",\"order\":\"little\",\"shape\":[3]}},\"selected\":{\"id\":\"9718\"},\"selection_policy\":{\"id\":\"9732\"}},\"id\":\"9717\",\"type\":\"ColumnDataSource\"},{\"attributes\":{},\"id\":\"9825\",\"type\":\"CategoricalTicker\"},{\"attributes\":{},\"id\":\"9831\",\"type\":\"ResetTool\"},{\"attributes\":{},\"id\":\"9794\",\"type\":\"UnionRenderers\"},{\"attributes\":{\"axis\":{\"id\":\"9700\"},\"coordinates\":null,\"dimension\":1,\"grid_line_color\":null,\"group\":null,\"ticker\":null},\"id\":\"9702\",\"type\":\"Grid\"},{\"attributes\":{\"coordinates\":null,\"group\":null,\"text\":\"Duplicate Values\",\"text_color\":\"black\",\"text_font_size\":\"12pt\"},\"id\":\"9812\",\"type\":\"Title\"},{\"attributes\":{\"fill_alpha\":{\"value\":0.1},\"fill_color\":{\"field\":\"labels\",\"transform\":{\"id\":\"9840\"}},\"hatch_alpha\":{\"value\":0.1},\"hatch_color\":{\"field\":\"labels\",\"transform\":{\"id\":\"9840\"}},\"height\":{\"value\":0.8},\"left\":{\"field\":\"bottom\"},\"line_alpha\":{\"value\":0.1},\"right\":{\"field\":\"top\"},\"y\":{\"field\":\"index\"}},\"id\":\"9845\",\"type\":\"HBar\"},{\"attributes\":{\"axis\":{\"id\":\"9820\"},\"coordinates\":null,\"grid_line_color\":null,\"group\":null,\"ticker\":null},\"id\":\"9823\",\"type\":\"Grid\"},{\"attributes\":{\"factors\":[\"values\"],\"tags\":[[[\"index\",\"index\",null]]]},\"id\":\"9101\",\"type\":\"FactorRange\"},{\"attributes\":{\"overlay\":{\"id\":\"9832\"}},\"id\":\"9830\",\"type\":\"BoxZoomTool\"},{\"attributes\":{\"coordinates\":null,\"data_source\":{\"id\":\"9195\"},\"glyph\":{\"id\":\"9198\"},\"group\":null,\"hover_glyph\":null,\"muted_glyph\":{\"id\":\"9200\"},\"nonselection_glyph\":{\"id\":\"9199\"},\"selection_glyph\":{\"id\":\"9215\"},\"view\":{\"id\":\"9202\"}},\"id\":\"9201\",\"type\":\"GlyphRenderer\"},{\"attributes\":{},\"id\":\"9816\",\"type\":\"LinearScale\"},{\"attributes\":{\"axis_label\":\"\",\"coordinates\":null,\"formatter\":{\"id\":\"9851\"},\"group\":null,\"major_label_policy\":{\"id\":\"9852\"},\"ticker\":{\"id\":\"9825\"}},\"id\":\"9824\",\"type\":\"CategoricalAxis\"},{\"attributes\":{\"factors\":[\"Unique\",\"Duplicate\"],\"palette\":[\"#30a2da\",\"#fc4f30\"]},\"id\":\"9318\",\"type\":\"CategoricalColorMapper\"},{\"attributes\":{},\"id\":\"9854\",\"type\":\"BasicTickFormatter\"},{\"attributes\":{\"coordinates\":null,\"group\":null,\"text\":\"Datatypes\",\"text_color\":\"black\",\"text_font_size\":\"12pt\"},\"id\":\"9688\",\"type\":\"Title\"},{\"attributes\":{\"children\":[[{\"id\":\"9687\"},0,0],[{\"id\":\"9749\"},1,0],[{\"id\":\"9811\"},2,0],[{\"id\":\"9873\"},3,0]]},\"id\":\"9973\",\"type\":\"GridBox\"},{\"attributes\":{\"axis_label\":\"\",\"coordinates\":null,\"formatter\":{\"id\":\"9854\"},\"group\":null,\"major_label_policy\":{\"id\":\"9855\"},\"ticker\":{\"id\":\"9862\"}},\"id\":\"9820\",\"type\":\"LinearAxis\"},{\"attributes\":{\"fill_alpha\":{\"value\":0.1},\"fill_color\":{\"field\":\"labels\",\"transform\":{\"id\":\"9194\"}},\"hatch_alpha\":{\"value\":0.1},\"hatch_color\":{\"field\":\"labels\",\"transform\":{\"id\":\"9194\"}},\"height\":{\"value\":0.8},\"left\":{\"field\":\"bottom\"},\"line_alpha\":{\"value\":0.1},\"right\":{\"field\":\"top\"},\"y\":{\"field\":\"index\"}},\"id\":\"9199\",\"type\":\"HBar\"},{\"attributes\":{\"label\":{\"field\":\"labels\"},\"renderers\":[{\"id\":\"9325\"}]},\"id\":\"9338\",\"type\":\"LegendItem\"},{\"attributes\":{},\"id\":\"9110\",\"type\":\"CategoricalScale\"},{\"attributes\":{},\"id\":\"9828\",\"type\":\"PanTool\"},{\"attributes\":{},\"id\":\"9108\",\"type\":\"LinearScale\"},{\"attributes\":{\"callback\":null,\"renderers\":[{\"id\":\"9847\"}],\"tags\":[\"hv_created\"],\"tooltips\":[[\"index\",\"@{index}\"],[\"labels\",\"@{labels}\"],[\"value\",\"@{value}\"]]},\"id\":\"9810\",\"type\":\"HoverTool\"},{\"attributes\":{\"label\":{\"field\":\"labels\"},\"renderers\":[{\"id\":\"9847\"}]},\"id\":\"9860\",\"type\":\"LegendItem\"},{\"attributes\":{\"children\":[[{\"id\":\"9103\"},0,0],[{\"id\":\"9165\"},1,0],[{\"id\":\"9227\"},2,0],[{\"id\":\"9289\"},3,0]]},\"id\":\"9389\",\"type\":\"GridBox\"},{\"attributes\":{\"coordinates\":null,\"data_source\":{\"id\":\"9841\"},\"glyph\":{\"id\":\"9844\"},\"group\":null,\"hover_glyph\":null,\"muted_glyph\":{\"id\":\"9846\"},\"nonselection_glyph\":{\"id\":\"9845\"},\"selection_glyph\":{\"id\":\"9861\"},\"view\":{\"id\":\"9848\"}},\"id\":\"9847\",\"type\":\"GlyphRenderer\"},{\"attributes\":{\"fill_alpha\":{\"value\":0.1},\"fill_color\":{\"field\":\"labels\",\"transform\":{\"id\":\"9318\"}},\"hatch_alpha\":{\"value\":0.1},\"hatch_color\":{\"field\":\"labels\",\"transform\":{\"id\":\"9318\"}},\"height\":{\"value\":0.8},\"left\":{\"field\":\"bottom\"},\"line_alpha\":{\"value\":0.1},\"right\":{\"field\":\"top\"},\"y\":{\"field\":\"index\"}},\"id\":\"9323\",\"type\":\"HBar\"},{\"attributes\":{\"coordinates\":null,\"group\":null,\"text\":\"Datatypes\",\"text_color\":\"black\",\"text_font_size\":\"12pt\"},\"id\":\"9104\",\"type\":\"Title\"},{\"attributes\":{},\"id\":\"9852\",\"type\":\"AllLabels\"},{\"attributes\":{\"below\":[{\"id\":\"9112\"}],\"center\":[{\"id\":\"9115\"},{\"id\":\"9118\"},{\"id\":\"9151\"}],\"height\":100,\"left\":[{\"id\":\"9116\"}],\"margin\":null,\"min_border_bottom\":10,\"min_border_left\":10,\"min_border_right\":10,\"min_border_top\":10,\"renderers\":[{\"id\":\"9139\"}],\"right\":[{\"id\":\"9151\"}],\"sizing_mode\":\"fixed\",\"title\":{\"id\":\"9104\"},\"toolbar\":{\"id\":\"9125\"},\"toolbar_location\":null,\"width\":700,\"x_range\":{\"id\":\"9100\"},\"x_scale\":{\"id\":\"9108\"},\"y_range\":{\"id\":\"9101\"},\"y_scale\":{\"id\":\"9110\"}},\"id\":\"9103\",\"subtype\":\"Figure\",\"type\":\"Plot\"},{\"attributes\":{},\"id\":\"9851\",\"type\":\"CategoricalTickFormatter\"},{\"attributes\":{\"callback\":null,\"renderers\":[{\"id\":\"9139\"}],\"tags\":[\"hv_created\"],\"tooltips\":[[\"index\",\"@{index}\"],[\"labels\",\"@{labels}\"],[\"value\",\"@{value}\"]]},\"id\":\"9102\",\"type\":\"HoverTool\"},{\"attributes\":{},\"id\":\"9827\",\"type\":\"SaveTool\"},{\"attributes\":{\"axis\":{\"id\":\"9696\"},\"coordinates\":null,\"grid_line_color\":null,\"group\":null,\"ticker\":null},\"id\":\"9699\",\"type\":\"Grid\"},{\"attributes\":{\"axis_label\":\"\",\"coordinates\":null,\"formatter\":{\"id\":\"9727\"},\"group\":null,\"major_label_policy\":{\"id\":\"9728\"},\"ticker\":{\"id\":\"9701\"}},\"id\":\"9700\",\"type\":\"CategoricalAxis\"},{\"attributes\":{\"toolbars\":[{\"id\":\"9125\"},{\"id\":\"9187\"},{\"id\":\"9249\"},{\"id\":\"9311\"}],\"tools\":[{\"id\":\"9102\"},{\"id\":\"9119\"},{\"id\":\"9120\"},{\"id\":\"9121\"},{\"id\":\"9122\"},{\"id\":\"9123\"},{\"id\":\"9164\"},{\"id\":\"9181\"},{\"id\":\"9182\"},{\"id\":\"9183\"},{\"id\":\"9184\"},{\"id\":\"9185\"},{\"id\":\"9226\"},{\"id\":\"9243\"},{\"id\":\"9244\"},{\"id\":\"9245\"},{\"id\":\"9246\"},{\"id\":\"9247\"},{\"id\":\"9288\"},{\"id\":\"9305\"},{\"id\":\"9306\"},{\"id\":\"9307\"},{\"id\":\"9308\"},{\"id\":\"9309\"}]},\"id\":\"9390\",\"type\":\"ProxyToolbar\"},{\"attributes\":{},\"id\":\"9705\",\"type\":\"WheelZoomTool\"},{\"attributes\":{\"axis\":{\"id\":\"9824\"},\"coordinates\":null,\"dimension\":1,\"grid_line_color\":null,\"group\":null,\"ticker\":null},\"id\":\"9826\",\"type\":\"Grid\"},{\"attributes\":{\"coordinates\":null,\"data_source\":{\"id\":\"9319\"},\"glyph\":{\"id\":\"9322\"},\"group\":null,\"hover_glyph\":null,\"muted_glyph\":{\"id\":\"9324\"},\"nonselection_glyph\":{\"id\":\"9323\"},\"selection_glyph\":{\"id\":\"9339\"},\"view\":{\"id\":\"9326\"}},\"id\":\"9325\",\"type\":\"GlyphRenderer\"},{\"attributes\":{\"data\":{\"bottom\":{\"__ndarray__\":\"AAAAAAAAAAAAAAAAAAApQAAAAAAAQD9A\",\"dtype\":\"float64\",\"order\":\"little\",\"shape\":[3]},\"index\":[\"values\",\"values\",\"values\"],\"labels\":[\"Date\",\"Numeric\",\"Others\"],\"top\":{\"__ndarray__\":\"AAAAAAAAKUAAAAAAAEA/QAAAAAAAAFlA\",\"dtype\":\"float64\",\"order\":\"little\",\"shape\":[3]},\"value\":{\"__ndarray__\":\"AAAAAAAAKUAAAAAAAMAyQAAAAAAAMFFA\",\"dtype\":\"float64\",\"order\":\"little\",\"shape\":[3]}},\"selected\":{\"id\":\"9134\"},\"selection_policy\":{\"id\":\"9148\"}},\"id\":\"9133\",\"type\":\"ColumnDataSource\"},{\"attributes\":{\"source\":{\"id\":\"9841\"}},\"id\":\"9848\",\"type\":\"CDSView\"},{\"attributes\":{\"axis\":{\"id\":\"9112\"},\"coordinates\":null,\"grid_line_color\":null,\"group\":null,\"ticker\":null},\"id\":\"9115\",\"type\":\"Grid\"},{\"attributes\":{\"end\":100.0,\"reset_end\":100.0,\"reset_start\":0.0,\"tags\":[[[\"value\",\"value\",null]]]},\"id\":\"9100\",\"type\":\"Range1d\"},{\"attributes\":{\"below\":[{\"id\":\"9236\"}],\"center\":[{\"id\":\"9239\"},{\"id\":\"9242\"},{\"id\":\"9275\"}],\"height\":100,\"left\":[{\"id\":\"9240\"}],\"margin\":null,\"min_border_bottom\":10,\"min_border_left\":10,\"min_border_right\":10,\"min_border_top\":10,\"renderers\":[{\"id\":\"9263\"}],\"right\":[{\"id\":\"9275\"}],\"sizing_mode\":\"fixed\",\"title\":{\"id\":\"9228\"},\"toolbar\":{\"id\":\"9249\"},\"toolbar_location\":null,\"width\":700,\"x_range\":{\"id\":\"9100\"},\"x_scale\":{\"id\":\"9232\"},\"y_range\":{\"id\":\"9101\"},\"y_scale\":{\"id\":\"9234\"}},\"id\":\"9227\",\"subtype\":\"Figure\",\"type\":\"Plot\"},{\"attributes\":{\"source\":{\"id\":\"9319\"}},\"id\":\"9326\",\"type\":\"CDSView\"},{\"attributes\":{},\"id\":\"9765\",\"type\":\"SaveTool\"},{\"attributes\":{\"axis_label\":\"\",\"coordinates\":null,\"formatter\":{\"id\":\"9913\"},\"group\":null,\"major_label_policy\":{\"id\":\"9914\"},\"ticker\":{\"id\":\"9887\"}},\"id\":\"9886\",\"type\":\"CategoricalAxis\"},{\"attributes\":{},\"id\":\"9329\",\"type\":\"CategoricalTickFormatter\"},{\"attributes\":{},\"id\":\"9732\",\"type\":\"UnionRenderers\"},{\"attributes\":{},\"id\":\"9123\",\"type\":\"ResetTool\"},{\"attributes\":{},\"id\":\"9332\",\"type\":\"BasicTickFormatter\"},{\"attributes\":{\"fill_alpha\":{\"value\":0.2},\"fill_color\":{\"field\":\"labels\",\"transform\":{\"id\":\"9778\"}},\"hatch_alpha\":{\"value\":0.2},\"hatch_color\":{\"field\":\"labels\",\"transform\":{\"id\":\"9778\"}},\"height\":{\"value\":0.8},\"left\":{\"field\":\"bottom\"},\"line_alpha\":{\"value\":0.2},\"right\":{\"field\":\"top\"},\"y\":{\"field\":\"index\"}},\"id\":\"9784\",\"type\":\"HBar\"},{\"attributes\":{\"axis_label\":\"\",\"coordinates\":null,\"formatter\":{\"id\":\"9789\"},\"group\":null,\"major_label_policy\":{\"id\":\"9790\"},\"ticker\":{\"id\":\"9763\"}},\"id\":\"9762\",\"type\":\"CategoricalAxis\"},{\"attributes\":{},\"id\":\"9333\",\"type\":\"AllLabels\"},{\"attributes\":{},\"id\":\"9763\",\"type\":\"CategoricalTicker\"},{\"attributes\":{\"fill_alpha\":{\"value\":1.0},\"fill_color\":{\"field\":\"labels\",\"transform\":{\"id\":\"9318\"}},\"hatch_alpha\":{\"value\":1.0},\"hatch_color\":{\"field\":\"labels\",\"transform\":{\"id\":\"9318\"}},\"hatch_scale\":{\"value\":12.0},\"hatch_weight\":{\"value\":1.0},\"height\":{\"value\":0.8},\"left\":{\"field\":\"bottom\"},\"line_alpha\":{\"value\":1.0},\"line_cap\":{\"value\":\"butt\"},\"line_color\":{\"value\":\"black\"},\"line_dash\":{\"value\":[]},\"line_dash_offset\":{\"value\":0},\"line_join\":{\"value\":\"bevel\"},\"line_width\":{\"value\":1},\"right\":{\"field\":\"top\"},\"y\":{\"field\":\"index\"}},\"id\":\"9339\",\"type\":\"HBar\"},{\"attributes\":{\"tools\":[{\"id\":\"9102\"},{\"id\":\"9119\"},{\"id\":\"9120\"},{\"id\":\"9121\"},{\"id\":\"9122\"},{\"id\":\"9123\"}]},\"id\":\"9125\",\"type\":\"Toolbar\"},{\"attributes\":{\"bottom_units\":\"screen\",\"coordinates\":null,\"fill_alpha\":0.5,\"fill_color\":\"lightgrey\",\"group\":null,\"left_units\":\"screen\",\"level\":\"overlay\",\"line_alpha\":1.0,\"line_color\":\"black\",\"line_dash\":[4,4],\"line_width\":2,\"right_units\":\"screen\",\"syncable\":false,\"top_units\":\"screen\"},\"id\":\"9770\",\"type\":\"BoxAnnotation\"},{\"attributes\":{},\"id\":\"9904\",\"type\":\"Selection\"},{\"attributes\":{},\"id\":\"9756\",\"type\":\"CategoricalScale\"},{\"attributes\":{\"overlay\":{\"id\":\"9770\"}},\"id\":\"9768\",\"type\":\"BoxZoomTool\"},{\"attributes\":{\"bottom_units\":\"screen\",\"coordinates\":null,\"fill_alpha\":0.5,\"fill_color\":\"lightgrey\",\"group\":null,\"left_units\":\"screen\",\"level\":\"overlay\",\"line_alpha\":1.0,\"line_color\":\"black\",\"line_dash\":[4,4],\"line_width\":2,\"right_units\":\"screen\",\"syncable\":false,\"top_units\":\"screen\"},\"id\":\"9124\",\"type\":\"BoxAnnotation\"},{\"attributes\":{},\"id\":\"9121\",\"type\":\"WheelZoomTool\"},{\"attributes\":{\"ticks\":[0]},\"id\":\"9340\",\"type\":\"FixedTicker\"},{\"attributes\":{},\"id\":\"9120\",\"type\":\"PanTool\"},{\"attributes\":{\"source\":{\"id\":\"9717\"}},\"id\":\"9724\",\"type\":\"CDSView\"},{\"attributes\":{\"coordinates\":null,\"group\":null,\"items\":[{\"id\":\"9736\"}],\"location\":[0,0]},\"id\":\"9735\",\"type\":\"Legend\"},{\"attributes\":{\"axis_label\":\"\",\"coordinates\":null,\"formatter\":{\"id\":\"9792\"},\"group\":null,\"major_label_policy\":{\"id\":\"9793\"},\"ticker\":{\"id\":\"9800\"}},\"id\":\"9758\",\"type\":\"LinearAxis\"},{\"attributes\":{},\"id\":\"9330\",\"type\":\"AllLabels\"},{\"attributes\":{},\"id\":\"9780\",\"type\":\"Selection\"},{\"attributes\":{\"margin\":[0,0,0,0],\"tabs\":[{\"id\":\"9683\"},{\"id\":\"10267\"}]},\"id\":\"9099\",\"type\":\"panel.models.tabs.Tabs\"},{\"attributes\":{\"overlay\":{\"id\":\"9124\"}},\"id\":\"9122\",\"type\":\"BoxZoomTool\"},{\"attributes\":{},\"id\":\"9889\",\"type\":\"SaveTool\"},{\"attributes\":{\"axis\":{\"id\":\"9886\"},\"coordinates\":null,\"dimension\":1,\"grid_line_color\":null,\"group\":null,\"ticker\":null},\"id\":\"9888\",\"type\":\"Grid\"},{\"attributes\":{},\"id\":\"9893\",\"type\":\"ResetTool\"},{\"attributes\":{\"callback\":null,\"renderers\":[{\"id\":\"9785\"}],\"tags\":[\"hv_created\"],\"tooltips\":[[\"index\",\"@{index}\"],[\"labels\",\"@{labels}\"],[\"value\",\"@{value}\"]]},\"id\":\"9748\",\"type\":\"HoverTool\"},{\"attributes\":{},\"id\":\"9119\",\"type\":\"SaveTool\"},{\"attributes\":{\"coordinates\":null,\"data_source\":{\"id\":\"9779\"},\"glyph\":{\"id\":\"9782\"},\"group\":null,\"hover_glyph\":null,\"muted_glyph\":{\"id\":\"9784\"},\"nonselection_glyph\":{\"id\":\"9783\"},\"selection_glyph\":{\"id\":\"9799\"},\"view\":{\"id\":\"9786\"}},\"id\":\"9785\",\"type\":\"GlyphRenderer\"},{\"attributes\":{\"label\":{\"field\":\"labels\"},\"renderers\":[{\"id\":\"9909\"}]},\"id\":\"9922\",\"type\":\"LegendItem\"},{\"attributes\":{\"tools\":[{\"id\":\"9872\"},{\"id\":\"9889\"},{\"id\":\"9890\"},{\"id\":\"9891\"},{\"id\":\"9892\"},{\"id\":\"9893\"}]},\"id\":\"9895\",\"type\":\"Toolbar\"},{\"attributes\":{\"axis_label\":\"\",\"coordinates\":null,\"formatter\":{\"id\":\"9143\"},\"group\":null,\"major_label_policy\":{\"id\":\"9144\"},\"ticker\":{\"id\":\"9117\"}},\"id\":\"9116\",\"type\":\"CategoricalAxis\"},{\"attributes\":{\"overlay\":{\"id\":\"9894\"}},\"id\":\"9892\",\"type\":\"BoxZoomTool\"},{\"attributes\":{},\"id\":\"9767\",\"type\":\"WheelZoomTool\"},{\"attributes\":{\"data\":{\"bottom\":{\"__ndarray__\":\"AAAAAAAAAACqBczwqdZXQA==\",\"dtype\":\"float64\",\"order\":\"little\",\"shape\":[2]},\"index\":[\"values\",\"values\"],\"labels\":[\"Available\",\"Missing\"],\"top\":{\"__ndarray__\":\"qgXM8KnWV0AAAAAAAABZQA==\",\"dtype\":\"float64\",\"order\":\"little\",\"shape\":[2]},\"value\":{\"__ndarray__\":\"qgXM8KnWV0BZpT/zYJUSQA==\",\"dtype\":\"float64\",\"order\":\"little\",\"shape\":[2]}},\"selected\":{\"id\":\"9196\"},\"selection_policy\":{\"id\":\"9210\"}},\"id\":\"9195\",\"type\":\"ColumnDataSource\"},{\"attributes\":{\"bottom_units\":\"screen\",\"coordinates\":null,\"fill_alpha\":0.5,\"fill_color\":\"lightgrey\",\"group\":null,\"left_units\":\"screen\",\"level\":\"overlay\",\"line_alpha\":1.0,\"line_color\":\"black\",\"line_dash\":[4,4],\"line_width\":2,\"right_units\":\"screen\",\"syncable\":false,\"top_units\":\"screen\"},\"id\":\"9894\",\"type\":\"BoxAnnotation\"},{\"attributes\":{\"axis\":{\"id\":\"9116\"},\"coordinates\":null,\"dimension\":1,\"grid_line_color\":null,\"group\":null,\"ticker\":null},\"id\":\"9118\",\"type\":\"Grid\"},{\"attributes\":{},\"id\":\"9878\",\"type\":\"LinearScale\"},{\"attributes\":{\"client_comm_id\":\"17e037edd1ba4cb8b90632f873874c98\",\"comm_id\":\"d44049decb5a4294996f86724179aa21\",\"plot_id\":\"9099\"},\"id\":\"10484\",\"type\":\"panel.models.comm_manager.CommManager\"},{\"attributes\":{},\"id\":\"9334\",\"type\":\"UnionRenderers\"},{\"attributes\":{\"factors\":[\"Date\",\"Numeric\",\"Others\"],\"palette\":[\"#30a2da\",\"#fc4f30\",\"#e5ae38\"]},\"id\":\"9716\",\"type\":\"CategoricalColorMapper\"},{\"attributes\":{},\"id\":\"9769\",\"type\":\"ResetTool\"},{\"attributes\":{\"toolbar\":{\"id\":\"9390\"},\"toolbar_location\":\"above\"},\"id\":\"9391\",\"type\":\"ToolbarBox\"},{\"attributes\":{},\"id\":\"9117\",\"type\":\"CategoricalTicker\"},{\"attributes\":{\"label\":{\"field\":\"labels\"},\"renderers\":[{\"id\":\"9723\"}]},\"id\":\"9736\",\"type\":\"LegendItem\"},{\"attributes\":{\"axis_label\":\"\",\"coordinates\":null,\"formatter\":{\"id\":\"9916\"},\"group\":null,\"major_label_policy\":{\"id\":\"9917\"},\"ticker\":{\"id\":\"9924\"}},\"id\":\"9882\",\"type\":\"LinearAxis\"},{\"attributes\":{},\"id\":\"9134\",\"type\":\"Selection\"},{\"attributes\":{\"axis\":{\"id\":\"9882\"},\"coordinates\":null,\"grid_line_color\":null,\"group\":null,\"ticker\":null},\"id\":\"9885\",\"type\":\"Grid\"},{\"attributes\":{},\"id\":\"9728\",\"type\":\"AllLabels\"},{\"attributes\":{\"coordinates\":null,\"group\":null,\"text\":\"Missing Values\",\"text_color\":\"black\",\"text_font_size\":\"12pt\"},\"id\":\"9750\",\"type\":\"Title\"},{\"attributes\":{},\"id\":\"9880\",\"type\":\"CategoricalScale\"},{\"attributes\":{},\"id\":\"9294\",\"type\":\"LinearScale\"},{\"attributes\":{\"axis\":{\"id\":\"9762\"},\"coordinates\":null,\"dimension\":1,\"grid_line_color\":null,\"group\":null,\"ticker\":null},\"id\":\"9764\",\"type\":\"Grid\"},{\"attributes\":{\"fill_alpha\":{\"value\":0.2},\"fill_color\":{\"field\":\"labels\",\"transform\":{\"id\":\"9132\"}},\"hatch_alpha\":{\"value\":0.2},\"hatch_color\":{\"field\":\"labels\",\"transform\":{\"id\":\"9132\"}},\"height\":{\"value\":0.8},\"left\":{\"field\":\"bottom\"},\"line_alpha\":{\"value\":0.2},\"right\":{\"field\":\"top\"},\"y\":{\"field\":\"index\"}},\"id\":\"9138\",\"type\":\"HBar\"},{\"attributes\":{\"below\":[{\"id\":\"9298\"}],\"center\":[{\"id\":\"9301\"},{\"id\":\"9304\"},{\"id\":\"9337\"}],\"height\":100,\"left\":[{\"id\":\"9302\"}],\"margin\":null,\"min_border_bottom\":10,\"min_border_left\":10,\"min_border_right\":10,\"min_border_top\":10,\"renderers\":[{\"id\":\"9325\"}],\"right\":[{\"id\":\"9337\"}],\"sizing_mode\":\"fixed\",\"title\":{\"id\":\"9290\"},\"toolbar\":{\"id\":\"9311\"},\"toolbar_location\":null,\"width\":700,\"x_range\":{\"id\":\"9100\"},\"x_scale\":{\"id\":\"9294\"},\"y_range\":{\"id\":\"9101\"},\"y_scale\":{\"id\":\"9296\"}},\"id\":\"9289\",\"subtype\":\"Figure\",\"type\":\"Plot\"},{\"attributes\":{},\"id\":\"9731\",\"type\":\"AllLabels\"},{\"attributes\":{},\"id\":\"9766\",\"type\":\"PanTool\"},{\"attributes\":{\"fill_alpha\":{\"value\":1.0},\"fill_color\":{\"field\":\"labels\",\"transform\":{\"id\":\"9902\"}},\"hatch_alpha\":{\"value\":1.0},\"hatch_color\":{\"field\":\"labels\",\"transform\":{\"id\":\"9902\"}},\"hatch_scale\":{\"value\":12.0},\"hatch_weight\":{\"value\":1.0},\"height\":{\"value\":0.8},\"left\":{\"field\":\"bottom\"},\"line_alpha\":{\"value\":1.0},\"line_cap\":{\"value\":\"butt\"},\"line_color\":{\"value\":\"black\"},\"line_dash\":{\"value\":[]},\"line_dash_offset\":{\"value\":0},\"line_join\":{\"value\":\"bevel\"},\"line_width\":{\"value\":1},\"right\":{\"field\":\"top\"},\"y\":{\"field\":\"index\"}},\"id\":\"9923\",\"type\":\"HBar\"},{\"attributes\":{\"ticks\":[0]},\"id\":\"9278\",\"type\":\"FixedTicker\"},{\"attributes\":{},\"id\":\"9730\",\"type\":\"BasicTickFormatter\"},{\"attributes\":{\"fill_alpha\":{\"value\":0.2},\"fill_color\":{\"field\":\"labels\",\"transform\":{\"id\":\"9902\"}},\"hatch_alpha\":{\"value\":0.2},\"hatch_color\":{\"field\":\"labels\",\"transform\":{\"id\":\"9902\"}},\"height\":{\"value\":0.8},\"left\":{\"field\":\"bottom\"},\"line_alpha\":{\"value\":0.2},\"right\":{\"field\":\"top\"},\"y\":{\"field\":\"index\"}},\"id\":\"9908\",\"type\":\"HBar\"},{\"attributes\":{},\"id\":\"9754\",\"type\":\"LinearScale\"},{\"attributes\":{\"children\":[{\"id\":\"9393\"},{\"id\":\"9392\"}]},\"id\":\"9394\",\"type\":\"Column\"},{\"attributes\":{\"child\":{\"id\":\"9394\"},\"name\":\"opportunity_df\",\"title\":\"opportunity_df\"},\"id\":\"9683\",\"type\":\"Panel\"},{\"attributes\":{\"axis\":{\"id\":\"9758\"},\"coordinates\":null,\"grid_line_color\":null,\"group\":null,\"ticker\":null},\"id\":\"9761\",\"type\":\"Grid\"},{\"attributes\":{\"coordinates\":null,\"group\":null,\"text\":\"Duplicate Columns\",\"text_color\":\"black\",\"text_font_size\":\"12pt\"},\"id\":\"9874\",\"type\":\"Title\"},{\"attributes\":{\"style\":{\"white-space\":\"nowrap\"},\"text\":\"<span style=\\\"color:black;font-family:Arial;font-style:bold;font-weight:bold;font-size:12pt\\\">Data Shape:(313571, 16)</span>\",\"width\":450},\"id\":\"9393\",\"type\":\"Div\"},{\"attributes\":{},\"id\":\"9887\",\"type\":\"CategoricalTicker\"},{\"attributes\":{\"callback\":null,\"renderers\":[{\"id\":\"9325\"}],\"tags\":[\"hv_created\"],\"tooltips\":[[\"index\",\"@{index}\"],[\"labels\",\"@{labels}\"],[\"value\",\"@{value}\"]]},\"id\":\"9288\",\"type\":\"HoverTool\"},{\"attributes\":{\"label\":{\"field\":\"labels\"},\"renderers\":[{\"id\":\"9785\"}]},\"id\":\"9798\",\"type\":\"LegendItem\"},{\"attributes\":{\"ticks\":[0]},\"id\":\"9924\",\"type\":\"FixedTicker\"},{\"attributes\":{\"fill_alpha\":{\"value\":0.1},\"fill_color\":{\"field\":\"labels\",\"transform\":{\"id\":\"9132\"}},\"hatch_alpha\":{\"value\":0.1},\"hatch_color\":{\"field\":\"labels\",\"transform\":{\"id\":\"9132\"}},\"height\":{\"value\":0.8},\"left\":{\"field\":\"bottom\"},\"line_alpha\":{\"value\":0.1},\"right\":{\"field\":\"top\"},\"y\":{\"field\":\"index\"}},\"id\":\"9137\",\"type\":\"HBar\"},{\"attributes\":{\"source\":{\"id\":\"9779\"}},\"id\":\"9786\",\"type\":\"CDSView\"},{\"attributes\":{\"callback\":null,\"renderers\":[{\"id\":\"9909\"}],\"tags\":[\"hv_created\"],\"tooltips\":[[\"index\",\"@{index}\"],[\"labels\",\"@{labels}\"],[\"value\",\"@{value}\"]]},\"id\":\"9872\",\"type\":\"HoverTool\"},{\"attributes\":{\"source\":{\"id\":\"9133\"}},\"id\":\"9140\",\"type\":\"CDSView\"},{\"attributes\":{\"fill_alpha\":{\"value\":0.1},\"fill_color\":{\"field\":\"labels\",\"transform\":{\"id\":\"9778\"}},\"hatch_alpha\":{\"value\":0.1},\"hatch_color\":{\"field\":\"labels\",\"transform\":{\"id\":\"9778\"}},\"height\":{\"value\":0.8},\"left\":{\"field\":\"bottom\"},\"line_alpha\":{\"value\":0.1},\"right\":{\"field\":\"top\"},\"y\":{\"field\":\"index\"}},\"id\":\"9783\",\"type\":\"HBar\"},{\"attributes\":{\"axis\":{\"id\":\"9302\"},\"coordinates\":null,\"dimension\":1,\"grid_line_color\":null,\"group\":null,\"ticker\":null},\"id\":\"9304\",\"type\":\"Grid\"},{\"attributes\":{},\"id\":\"9727\",\"type\":\"CategoricalTickFormatter\"},{\"attributes\":{\"fill_alpha\":{\"value\":1.0},\"fill_color\":{\"field\":\"labels\",\"transform\":{\"id\":\"9716\"}},\"hatch_alpha\":{\"value\":1.0},\"hatch_color\":{\"field\":\"labels\",\"transform\":{\"id\":\"9716\"}},\"hatch_scale\":{\"value\":12.0},\"hatch_weight\":{\"value\":1.0},\"height\":{\"value\":0.8},\"left\":{\"field\":\"bottom\"},\"line_alpha\":{\"value\":1.0},\"line_cap\":{\"value\":\"butt\"},\"line_color\":{\"value\":\"black\"},\"line_dash\":{\"value\":[]},\"line_dash_offset\":{\"value\":0},\"line_join\":{\"value\":\"bevel\"},\"line_width\":{\"value\":1},\"right\":{\"field\":\"top\"},\"y\":{\"field\":\"index\"}},\"id\":\"9737\",\"type\":\"HBar\"},{\"attributes\":{\"below\":[{\"id\":\"9758\"}],\"center\":[{\"id\":\"9761\"},{\"id\":\"9764\"},{\"id\":\"9797\"}],\"height\":100,\"left\":[{\"id\":\"9762\"}],\"margin\":null,\"min_border_bottom\":10,\"min_border_left\":10,\"min_border_right\":10,\"min_border_top\":10,\"renderers\":[{\"id\":\"9785\"}],\"right\":[{\"id\":\"9797\"}],\"sizing_mode\":\"fixed\",\"title\":{\"id\":\"9750\"},\"toolbar\":{\"id\":\"9771\"},\"toolbar_location\":null,\"width\":700,\"x_range\":{\"id\":\"9100\"},\"x_scale\":{\"id\":\"9754\"},\"y_range\":{\"id\":\"9101\"},\"y_scale\":{\"id\":\"9756\"}},\"id\":\"9749\",\"subtype\":\"Figure\",\"type\":\"Plot\"},{\"attributes\":{},\"id\":\"9307\",\"type\":\"WheelZoomTool\"},{\"attributes\":{\"coordinates\":null,\"group\":null,\"items\":[{\"id\":\"9152\"}],\"location\":[0,0]},\"id\":\"9151\",\"type\":\"Legend\"},{\"attributes\":{},\"id\":\"9890\",\"type\":\"PanTool\"},{\"attributes\":{},\"id\":\"9891\",\"type\":\"WheelZoomTool\"},{\"attributes\":{\"data\":{\"bottom\":{\"__ndarray__\":\"AAAAAAAAAAAAAAAAAABZQA==\",\"dtype\":\"float64\",\"order\":\"little\",\"shape\":[2]},\"index\":[\"values\",\"values\"],\"labels\":[\"Unique\",\"Duplicate\"],\"top\":{\"__ndarray__\":\"AAAAAAAAWUAAAAAAAABZQA==\",\"dtype\":\"float64\",\"order\":\"little\",\"shape\":[2]},\"value\":{\"__ndarray__\":\"AAAAAAAAWUAAAAAAAAAAAA==\",\"dtype\":\"float64\",\"order\":\"little\",\"shape\":[2]}},\"selected\":{\"id\":\"9320\"},\"selection_policy\":{\"id\":\"9334\"}},\"id\":\"9319\",\"type\":\"ColumnDataSource\"},{\"attributes\":{\"axis_label\":\"\",\"coordinates\":null,\"formatter\":{\"id\":\"9329\"},\"group\":null,\"major_label_policy\":{\"id\":\"9330\"},\"ticker\":{\"id\":\"9303\"}},\"id\":\"9302\",\"type\":\"CategoricalAxis\"},{\"attributes\":{\"axis_label\":\"\",\"coordinates\":null,\"formatter\":{\"id\":\"9332\"},\"group\":null,\"major_label_policy\":{\"id\":\"9333\"},\"ticker\":{\"id\":\"9340\"}},\"id\":\"9298\",\"type\":\"LinearAxis\"},{\"attributes\":{\"fill_alpha\":{\"value\":0.1},\"fill_color\":{\"field\":\"labels\",\"transform\":{\"id\":\"9902\"}},\"hatch_alpha\":{\"value\":0.1},\"hatch_color\":{\"field\":\"labels\",\"transform\":{\"id\":\"9902\"}},\"height\":{\"value\":0.8},\"left\":{\"field\":\"bottom\"},\"line_alpha\":{\"value\":0.1},\"right\":{\"field\":\"top\"},\"y\":{\"field\":\"index\"}},\"id\":\"9907\",\"type\":\"HBar\"},{\"attributes\":{\"below\":[{\"id\":\"9882\"}],\"center\":[{\"id\":\"9885\"},{\"id\":\"9888\"},{\"id\":\"9921\"}],\"height\":100,\"left\":[{\"id\":\"9886\"}],\"margin\":null,\"min_border_bottom\":10,\"min_border_left\":10,\"min_border_right\":10,\"min_border_top\":10,\"renderers\":[{\"id\":\"9909\"}],\"right\":[{\"id\":\"9921\"}],\"sizing_mode\":\"fixed\",\"title\":{\"id\":\"9874\"},\"toolbar\":{\"id\":\"9895\"},\"toolbar_location\":null,\"width\":700,\"x_range\":{\"id\":\"9100\"},\"x_scale\":{\"id\":\"9878\"},\"y_range\":{\"id\":\"9101\"},\"y_scale\":{\"id\":\"9880\"}},\"id\":\"9873\",\"subtype\":\"Figure\",\"type\":\"Plot\"},{\"attributes\":{},\"id\":\"9305\",\"type\":\"SaveTool\"},{\"attributes\":{\"fill_color\":{\"field\":\"labels\",\"transform\":{\"id\":\"9902\"}},\"hatch_color\":{\"field\":\"labels\",\"transform\":{\"id\":\"9902\"}},\"height\":{\"value\":0.8},\"left\":{\"field\":\"bottom\"},\"right\":{\"field\":\"top\"},\"y\":{\"field\":\"index\"}},\"id\":\"9906\",\"type\":\"HBar\"},{\"attributes\":{\"coordinates\":null,\"group\":null,\"text\":\"Duplicate Columns\",\"text_color\":\"black\",\"text_font_size\":\"12pt\"},\"id\":\"9290\",\"type\":\"Title\"},{\"attributes\":{\"fill_alpha\":{\"value\":1.0},\"fill_color\":{\"field\":\"labels\",\"transform\":{\"id\":\"9778\"}},\"hatch_alpha\":{\"value\":1.0},\"hatch_color\":{\"field\":\"labels\",\"transform\":{\"id\":\"9778\"}},\"hatch_scale\":{\"value\":12.0},\"hatch_weight\":{\"value\":1.0},\"height\":{\"value\":0.8},\"left\":{\"field\":\"bottom\"},\"line_alpha\":{\"value\":1.0},\"line_cap\":{\"value\":\"butt\"},\"line_color\":{\"value\":\"black\"},\"line_dash\":{\"value\":[]},\"line_dash_offset\":{\"value\":0},\"line_join\":{\"value\":\"bevel\"},\"line_width\":{\"value\":1},\"right\":{\"field\":\"top\"},\"y\":{\"field\":\"index\"}},\"id\":\"9799\",\"type\":\"HBar\"},{\"attributes\":{\"coordinates\":null,\"data_source\":{\"id\":\"9133\"},\"glyph\":{\"id\":\"9136\"},\"group\":null,\"hover_glyph\":null,\"muted_glyph\":{\"id\":\"9138\"},\"nonselection_glyph\":{\"id\":\"9137\"},\"selection_glyph\":{\"id\":\"9153\"},\"view\":{\"id\":\"9140\"}},\"id\":\"9139\",\"type\":\"GlyphRenderer\"},{\"attributes\":{\"toolbar\":{\"id\":\"9974\"},\"toolbar_location\":\"above\"},\"id\":\"9975\",\"type\":\"ToolbarBox\"},{\"attributes\":{\"children\":[{\"id\":\"9391\"},{\"id\":\"9389\"}]},\"id\":\"9392\",\"type\":\"Column\"},{\"attributes\":{\"axis\":{\"id\":\"9298\"},\"coordinates\":null,\"grid_line_color\":null,\"group\":null,\"ticker\":null},\"id\":\"9301\",\"type\":\"Grid\"},{\"attributes\":{\"tools\":[{\"id\":\"9748\"},{\"id\":\"9765\"},{\"id\":\"9766\"},{\"id\":\"9767\"},{\"id\":\"9768\"},{\"id\":\"9769\"}]},\"id\":\"9771\",\"type\":\"Toolbar\"},{\"attributes\":{\"coordinates\":null,\"group\":null,\"items\":[{\"id\":\"9798\"}],\"location\":[0,0]},\"id\":\"9797\",\"type\":\"Legend\"},{\"attributes\":{\"ticks\":[0]},\"id\":\"9738\",\"type\":\"FixedTicker\"},{\"attributes\":{\"data\":{\"bottom\":{\"__ndarray__\":\"AAAAAAAAAABUisNZVstYQA==\",\"dtype\":\"float64\",\"order\":\"little\",\"shape\":[2]},\"index\":[\"values\",\"values\"],\"labels\":[\"Unique\",\"Duplicate\"],\"top\":{\"__ndarray__\":\"VIrDWVbLWED///////9YQA==\",\"dtype\":\"float64\",\"order\":\"little\",\"shape\":[2]},\"value\":{\"__ndarray__\":\"VIrDWVbLWEC31Toe01TqPw==\",\"dtype\":\"float64\",\"order\":\"little\",\"shape\":[2]}},\"selected\":{\"id\":\"9842\"},\"selection_policy\":{\"id\":\"9856\"}},\"id\":\"9841\",\"type\":\"ColumnDataSource\"},{\"attributes\":{},\"id\":\"9306\",\"type\":\"PanTool\"},{\"attributes\":{},\"id\":\"9296\",\"type\":\"CategoricalScale\"},{\"attributes\":{\"fill_color\":{\"field\":\"labels\",\"transform\":{\"id\":\"9132\"}},\"hatch_color\":{\"field\":\"labels\",\"transform\":{\"id\":\"9132\"}},\"height\":{\"value\":0.8},\"left\":{\"field\":\"bottom\"},\"right\":{\"field\":\"top\"},\"y\":{\"field\":\"index\"}},\"id\":\"9136\",\"type\":\"HBar\"},{\"attributes\":{\"fill_color\":{\"field\":\"labels\",\"transform\":{\"id\":\"9778\"}},\"hatch_color\":{\"field\":\"labels\",\"transform\":{\"id\":\"9778\"}},\"height\":{\"value\":0.8},\"left\":{\"field\":\"bottom\"},\"right\":{\"field\":\"top\"},\"y\":{\"field\":\"index\"}},\"id\":\"9782\",\"type\":\"HBar\"},{\"attributes\":{},\"id\":\"9303\",\"type\":\"CategoricalTicker\"},{\"attributes\":{\"label\":{\"field\":\"labels\"},\"renderers\":[{\"id\":\"9139\"}]},\"id\":\"9152\",\"type\":\"LegendItem\"},{\"attributes\":{},\"id\":\"9267\",\"type\":\"CategoricalTickFormatter\"},{\"attributes\":{\"overlay\":{\"id\":\"9708\"}},\"id\":\"9706\",\"type\":\"BoxZoomTool\"},{\"attributes\":{\"bottom_units\":\"screen\",\"coordinates\":null,\"fill_alpha\":0.5,\"fill_color\":\"lightgrey\",\"group\":null,\"left_units\":\"screen\",\"level\":\"overlay\",\"line_alpha\":1.0,\"line_color\":\"black\",\"line_dash\":[4,4],\"line_width\":2,\"right_units\":\"screen\",\"syncable\":false,\"top_units\":\"screen\"},\"id\":\"9248\",\"type\":\"BoxAnnotation\"},{\"attributes\":{\"bottom_units\":\"screen\",\"coordinates\":null,\"fill_alpha\":0.5,\"fill_color\":\"lightgrey\",\"group\":null,\"left_units\":\"screen\",\"level\":\"overlay\",\"line_alpha\":1.0,\"line_color\":\"black\",\"line_dash\":[4,4],\"line_width\":2,\"right_units\":\"screen\",\"syncable\":false,\"top_units\":\"screen\"},\"id\":\"9708\",\"type\":\"BoxAnnotation\"},{\"attributes\":{},\"id\":\"9855\",\"type\":\"AllLabels\"},{\"attributes\":{\"data\":{\"bottom\":{\"__ndarray__\":\"AAAAAAAAAADLmzf7uv9YQA==\",\"dtype\":\"float64\",\"order\":\"little\",\"shape\":[2]},\"index\":[\"values\",\"values\"],\"labels\":[\"Available\",\"Missing\"],\"top\":{\"__ndarray__\":\"y5s3+7r/WEAAAAAAAABZQA==\",\"dtype\":\"float64\",\"order\":\"little\",\"shape\":[2]},\"value\":{\"__ndarray__\":\"y5s3+7r/WEBMNw0ZMkFxPw==\",\"dtype\":\"float64\",\"order\":\"little\",\"shape\":[2]}},\"selected\":{\"id\":\"9780\"},\"selection_policy\":{\"id\":\"9794\"}},\"id\":\"9779\",\"type\":\"ColumnDataSource\"},{\"attributes\":{},\"id\":\"9913\",\"type\":\"CategoricalTickFormatter\"},{\"attributes\":{},\"id\":\"9243\",\"type\":\"SaveTool\"},{\"attributes\":{\"coordinates\":null,\"group\":null,\"items\":[{\"id\":\"9922\"}],\"location\":[0,0]},\"id\":\"9921\",\"type\":\"Legend\"},{\"attributes\":{},\"id\":\"9210\",\"type\":\"UnionRenderers\"},{\"attributes\":{\"coordinates\":null,\"group\":null,\"text\":\"Duplicate Values\",\"text_color\":\"black\",\"text_font_size\":\"12pt\"},\"id\":\"9228\",\"type\":\"Title\"},{\"attributes\":{\"label\":{\"field\":\"labels\"},\"renderers\":[{\"id\":\"9263\"}]},\"id\":\"9276\",\"type\":\"LegendItem\"},{\"attributes\":{\"axis_label\":\"\",\"coordinates\":null,\"formatter\":{\"id\":\"9267\"},\"group\":null,\"major_label_policy\":{\"id\":\"9268\"},\"ticker\":{\"id\":\"9241\"}},\"id\":\"9240\",\"type\":\"CategoricalAxis\"},{\"attributes\":{\"tools\":[{\"id\":\"9226\"},{\"id\":\"9243\"},{\"id\":\"9244\"},{\"id\":\"9245\"},{\"id\":\"9246\"},{\"id\":\"9247\"}]},\"id\":\"9249\",\"type\":\"Toolbar\"},{\"attributes\":{},\"id\":\"9856\",\"type\":\"UnionRenderers\"},{\"attributes\":{\"axis\":{\"id\":\"9240\"},\"coordinates\":null,\"dimension\":1,\"grid_line_color\":null,\"group\":null,\"ticker\":null},\"id\":\"9242\",\"type\":\"Grid\"},{\"attributes\":{},\"id\":\"9247\",\"type\":\"ResetTool\"},{\"attributes\":{\"callback\":null,\"renderers\":[{\"id\":\"9263\"}],\"tags\":[\"hv_created\"],\"tooltips\":[[\"index\",\"@{index}\"],[\"labels\",\"@{labels}\"],[\"value\",\"@{value}\"]]},\"id\":\"9226\",\"type\":\"HoverTool\"},{\"attributes\":{\"fill_alpha\":{\"value\":0.1},\"fill_color\":{\"field\":\"labels\",\"transform\":{\"id\":\"9256\"}},\"hatch_alpha\":{\"value\":0.1},\"hatch_color\":{\"field\":\"labels\",\"transform\":{\"id\":\"9256\"}},\"height\":{\"value\":0.8},\"left\":{\"field\":\"bottom\"},\"line_alpha\":{\"value\":0.1},\"right\":{\"field\":\"top\"},\"y\":{\"field\":\"index\"}},\"id\":\"9261\",\"type\":\"HBar\"},{\"attributes\":{\"axis_label\":\"\",\"coordinates\":null,\"formatter\":{\"id\":\"9270\"},\"group\":null,\"major_label_policy\":{\"id\":\"9271\"},\"ticker\":{\"id\":\"9278\"}},\"id\":\"9236\",\"type\":\"LinearAxis\"},{\"attributes\":{},\"id\":\"9234\",\"type\":\"CategoricalScale\"},{\"attributes\":{\"source\":{\"id\":\"9903\"}},\"id\":\"9910\",\"type\":\"CDSView\"},{\"attributes\":{},\"id\":\"9718\",\"type\":\"Selection\"},{\"attributes\":{\"coordinates\":null,\"data_source\":{\"id\":\"9717\"},\"glyph\":{\"id\":\"9720\"},\"group\":null,\"hover_glyph\":null,\"muted_glyph\":{\"id\":\"9722\"},\"nonselection_glyph\":{\"id\":\"9721\"},\"selection_glyph\":{\"id\":\"9737\"},\"view\":{\"id\":\"9724\"}},\"id\":\"9723\",\"type\":\"GlyphRenderer\"},{\"attributes\":{\"source\":{\"id\":\"9257\"}},\"id\":\"9264\",\"type\":\"CDSView\"},{\"attributes\":{},\"id\":\"9271\",\"type\":\"AllLabels\"},{\"attributes\":{\"overlay\":{\"id\":\"9248\"}},\"id\":\"9246\",\"type\":\"BoxZoomTool\"},{\"attributes\":{},\"id\":\"9245\",\"type\":\"WheelZoomTool\"},{\"attributes\":{\"coordinates\":null,\"data_source\":{\"id\":\"9903\"},\"glyph\":{\"id\":\"9906\"},\"group\":null,\"hover_glyph\":null,\"muted_glyph\":{\"id\":\"9908\"},\"nonselection_glyph\":{\"id\":\"9907\"},\"selection_glyph\":{\"id\":\"9923\"},\"view\":{\"id\":\"9910\"}},\"id\":\"9909\",\"type\":\"GlyphRenderer\"},{\"attributes\":{\"fill_alpha\":{\"value\":0.2},\"fill_color\":{\"field\":\"labels\",\"transform\":{\"id\":\"9716\"}},\"hatch_alpha\":{\"value\":0.2},\"hatch_color\":{\"field\":\"labels\",\"transform\":{\"id\":\"9716\"}},\"height\":{\"value\":0.8},\"left\":{\"field\":\"bottom\"},\"line_alpha\":{\"value\":0.2},\"right\":{\"field\":\"top\"},\"y\":{\"field\":\"index\"}},\"id\":\"9722\",\"type\":\"HBar\"},{\"attributes\":{\"factors\":[\"Unique\",\"Duplicate\"],\"palette\":[\"#30a2da\",\"#fc4f30\"]},\"id\":\"9256\",\"type\":\"CategoricalColorMapper\"},{\"attributes\":{},\"id\":\"9917\",\"type\":\"AllLabels\"},{\"attributes\":{\"tools\":[{\"id\":\"9686\"},{\"id\":\"9703\"},{\"id\":\"9704\"},{\"id\":\"9705\"},{\"id\":\"9706\"},{\"id\":\"9707\"}]},\"id\":\"9709\",\"type\":\"Toolbar\"},{\"attributes\":{},\"id\":\"9270\",\"type\":\"BasicTickFormatter\"},{\"attributes\":{},\"id\":\"9258\",\"type\":\"Selection\"},{\"attributes\":{},\"id\":\"9241\",\"type\":\"CategoricalTicker\"},{\"attributes\":{\"factors\":[\"Unique\",\"Duplicate\"],\"palette\":[\"#30a2da\",\"#fc4f30\"]},\"id\":\"9902\",\"type\":\"CategoricalColorMapper\"},{\"attributes\":{\"fill_alpha\":{\"value\":0.2},\"fill_color\":{\"field\":\"labels\",\"transform\":{\"id\":\"9256\"}},\"hatch_alpha\":{\"value\":0.2},\"hatch_color\":{\"field\":\"labels\",\"transform\":{\"id\":\"9256\"}},\"height\":{\"value\":0.8},\"left\":{\"field\":\"bottom\"},\"line_alpha\":{\"value\":0.2},\"right\":{\"field\":\"top\"},\"y\":{\"field\":\"index\"}},\"id\":\"9262\",\"type\":\"HBar\"},{\"attributes\":{\"coordinates\":null,\"group\":null,\"items\":[{\"id\":\"9276\"}],\"location\":[0,0]},\"id\":\"9275\",\"type\":\"Legend\"},{\"attributes\":{},\"id\":\"9244\",\"type\":\"PanTool\"},{\"attributes\":{},\"id\":\"9268\",\"type\":\"AllLabels\"},{\"attributes\":{},\"id\":\"9916\",\"type\":\"BasicTickFormatter\"},{\"attributes\":{},\"id\":\"9232\",\"type\":\"LinearScale\"},{\"attributes\":{\"fill_alpha\":{\"value\":0.1},\"fill_color\":{\"field\":\"labels\",\"transform\":{\"id\":\"9716\"}},\"hatch_alpha\":{\"value\":0.1},\"hatch_color\":{\"field\":\"labels\",\"transform\":{\"id\":\"9716\"}},\"height\":{\"value\":0.8},\"left\":{\"field\":\"bottom\"},\"line_alpha\":{\"value\":0.1},\"right\":{\"field\":\"top\"},\"y\":{\"field\":\"index\"}},\"id\":\"9721\",\"type\":\"HBar\"},{\"attributes\":{\"toolbars\":[{\"id\":\"9709\"},{\"id\":\"9771\"},{\"id\":\"9833\"},{\"id\":\"9895\"}],\"tools\":[{\"id\":\"9686\"},{\"id\":\"9703\"},{\"id\":\"9704\"},{\"id\":\"9705\"},{\"id\":\"9706\"},{\"id\":\"9707\"},{\"id\":\"9748\"},{\"id\":\"9765\"},{\"id\":\"9766\"},{\"id\":\"9767\"},{\"id\":\"9768\"},{\"id\":\"9769\"},{\"id\":\"9810\"},{\"id\":\"9827\"},{\"id\":\"9828\"},{\"id\":\"9829\"},{\"id\":\"9830\"},{\"id\":\"9831\"},{\"id\":\"9872\"},{\"id\":\"9889\"},{\"id\":\"9890\"},{\"id\":\"9891\"},{\"id\":\"9892\"},{\"id\":\"9893\"}]},\"id\":\"9974\",\"type\":\"ProxyToolbar\"},{\"attributes\":{\"axis\":{\"id\":\"9236\"},\"coordinates\":null,\"grid_line_color\":null,\"group\":null,\"ticker\":null},\"id\":\"9239\",\"type\":\"Grid\"},{\"attributes\":{\"coordinates\":null,\"data_source\":{\"id\":\"9257\"},\"glyph\":{\"id\":\"9260\"},\"group\":null,\"hover_glyph\":null,\"muted_glyph\":{\"id\":\"9262\"},\"nonselection_glyph\":{\"id\":\"9261\"},\"selection_glyph\":{\"id\":\"9277\"},\"view\":{\"id\":\"9264\"}},\"id\":\"9263\",\"type\":\"GlyphRenderer\"},{\"attributes\":{},\"id\":\"9914\",\"type\":\"AllLabels\"},{\"attributes\":{},\"id\":\"9272\",\"type\":\"UnionRenderers\"},{\"attributes\":{\"fill_alpha\":{\"value\":1.0},\"fill_color\":{\"field\":\"labels\",\"transform\":{\"id\":\"9194\"}},\"hatch_alpha\":{\"value\":1.0},\"hatch_color\":{\"field\":\"labels\",\"transform\":{\"id\":\"9194\"}},\"hatch_scale\":{\"value\":12.0},\"hatch_weight\":{\"value\":1.0},\"height\":{\"value\":0.8},\"left\":{\"field\":\"bottom\"},\"line_alpha\":{\"value\":1.0},\"line_cap\":{\"value\":\"butt\"},\"line_color\":{\"value\":\"black\"},\"line_dash\":{\"value\":[]},\"line_dash_offset\":{\"value\":0},\"line_join\":{\"value\":\"bevel\"},\"line_width\":{\"value\":1},\"right\":{\"field\":\"top\"},\"y\":{\"field\":\"index\"}},\"id\":\"9215\",\"type\":\"HBar\"},{\"attributes\":{\"fill_color\":{\"field\":\"labels\",\"transform\":{\"id\":\"9716\"}},\"hatch_color\":{\"field\":\"labels\",\"transform\":{\"id\":\"9716\"}},\"height\":{\"value\":0.8},\"left\":{\"field\":\"bottom\"},\"right\":{\"field\":\"top\"},\"y\":{\"field\":\"index\"}},\"id\":\"9720\",\"type\":\"HBar\"},{\"attributes\":{\"ticks\":[0]},\"id\":\"9862\",\"type\":\"FixedTicker\"},{\"attributes\":{\"ticks\":[0]},\"id\":\"9216\",\"type\":\"FixedTicker\"},{\"attributes\":{},\"id\":\"9918\",\"type\":\"UnionRenderers\"},{\"attributes\":{\"fill_alpha\":{\"value\":1.0},\"fill_color\":{\"field\":\"labels\",\"transform\":{\"id\":\"9840\"}},\"hatch_alpha\":{\"value\":1.0},\"hatch_color\":{\"field\":\"labels\",\"transform\":{\"id\":\"9840\"}},\"hatch_scale\":{\"value\":12.0},\"hatch_weight\":{\"value\":1.0},\"height\":{\"value\":0.8},\"left\":{\"field\":\"bottom\"},\"line_alpha\":{\"value\":1.0},\"line_cap\":{\"value\":\"butt\"},\"line_color\":{\"value\":\"black\"},\"line_dash\":{\"value\":[]},\"line_dash_offset\":{\"value\":0},\"line_join\":{\"value\":\"bevel\"},\"line_width\":{\"value\":1},\"right\":{\"field\":\"top\"},\"y\":{\"field\":\"index\"}},\"id\":\"9861\",\"type\":\"HBar\"},{\"attributes\":{},\"id\":\"9707\",\"type\":\"ResetTool\"},{\"attributes\":{\"fill_alpha\":{\"value\":1.0},\"fill_color\":{\"field\":\"labels\",\"transform\":{\"id\":\"9256\"}},\"hatch_alpha\":{\"value\":1.0},\"hatch_color\":{\"field\":\"labels\",\"transform\":{\"id\":\"9256\"}},\"hatch_scale\":{\"value\":12.0},\"hatch_weight\":{\"value\":1.0},\"height\":{\"value\":0.8},\"left\":{\"field\":\"bottom\"},\"line_alpha\":{\"value\":1.0},\"line_cap\":{\"value\":\"butt\"},\"line_color\":{\"value\":\"black\"},\"line_dash\":{\"value\":[]},\"line_dash_offset\":{\"value\":0},\"line_join\":{\"value\":\"bevel\"},\"line_width\":{\"value\":1},\"right\":{\"field\":\"top\"},\"y\":{\"field\":\"index\"}},\"id\":\"9277\",\"type\":\"HBar\"},{\"attributes\":{\"fill_color\":{\"field\":\"labels\",\"transform\":{\"id\":\"9256\"}},\"hatch_color\":{\"field\":\"labels\",\"transform\":{\"id\":\"9256\"}},\"height\":{\"value\":0.8},\"left\":{\"field\":\"bottom\"},\"right\":{\"field\":\"top\"},\"y\":{\"field\":\"index\"}},\"id\":\"9260\",\"type\":\"HBar\"},{\"attributes\":{\"factors\":[\"Date\",\"Numeric\",\"Others\"],\"palette\":[\"#30a2da\",\"#fc4f30\",\"#e5ae38\"]},\"id\":\"9132\",\"type\":\"CategoricalColorMapper\"},{\"attributes\":{},\"id\":\"9170\",\"type\":\"LinearScale\"},{\"attributes\":{},\"id\":\"9143\",\"type\":\"CategoricalTickFormatter\"},{\"attributes\":{\"fill_alpha\":{\"value\":1.0},\"fill_color\":{\"field\":\"labels\",\"transform\":{\"id\":\"9132\"}},\"hatch_alpha\":{\"value\":1.0},\"hatch_color\":{\"field\":\"labels\",\"transform\":{\"id\":\"9132\"}},\"hatch_scale\":{\"value\":12.0},\"hatch_weight\":{\"value\":1.0},\"height\":{\"value\":0.8},\"left\":{\"field\":\"bottom\"},\"line_alpha\":{\"value\":1.0},\"line_cap\":{\"value\":\"butt\"},\"line_color\":{\"value\":\"black\"},\"line_dash\":{\"value\":[]},\"line_dash_offset\":{\"value\":0},\"line_join\":{\"value\":\"bevel\"},\"line_width\":{\"value\":1},\"right\":{\"field\":\"top\"},\"y\":{\"field\":\"index\"}},\"id\":\"9153\",\"type\":\"HBar\"},{\"attributes\":{},\"id\":\"9147\",\"type\":\"AllLabels\"},{\"attributes\":{},\"id\":\"9181\",\"type\":\"SaveTool\"},{\"attributes\":{},\"id\":\"9146\",\"type\":\"BasicTickFormatter\"},{\"attributes\":{},\"id\":\"9206\",\"type\":\"AllLabels\"},{\"attributes\":{\"ticks\":[0]},\"id\":\"9154\",\"type\":\"FixedTicker\"},{\"attributes\":{},\"id\":\"9208\",\"type\":\"BasicTickFormatter\"},{\"attributes\":{},\"id\":\"9144\",\"type\":\"AllLabels\"},{\"attributes\":{},\"id\":\"9185\",\"type\":\"ResetTool\"},{\"attributes\":{\"axis\":{\"id\":\"9174\"},\"coordinates\":null,\"grid_line_color\":null,\"group\":null,\"ticker\":null},\"id\":\"9177\",\"type\":\"Grid\"},{\"attributes\":{\"axis_label\":\"\",\"coordinates\":null,\"formatter\":{\"id\":\"9205\"},\"group\":null,\"major_label_policy\":{\"id\":\"9206\"},\"ticker\":{\"id\":\"9179\"}},\"id\":\"9178\",\"type\":\"CategoricalAxis\"},{\"attributes\":{},\"id\":\"9172\",\"type\":\"CategoricalScale\"},{\"attributes\":{},\"id\":\"9148\",\"type\":\"UnionRenderers\"},{\"attributes\":{\"axis\":{\"id\":\"9178\"},\"coordinates\":null,\"dimension\":1,\"grid_line_color\":null,\"group\":null,\"ticker\":null},\"id\":\"9180\",\"type\":\"Grid\"},{\"attributes\":{},\"id\":\"9209\",\"type\":\"AllLabels\"},{\"attributes\":{\"callback\":null,\"renderers\":[{\"id\":\"9201\"}],\"tags\":[\"hv_created\"],\"tooltips\":[[\"index\",\"@{index}\"],[\"labels\",\"@{labels}\"],[\"value\",\"@{value}\"]]},\"id\":\"9164\",\"type\":\"HoverTool\"},{\"attributes\":{},\"id\":\"9692\",\"type\":\"LinearScale\"},{\"attributes\":{},\"id\":\"9182\",\"type\":\"PanTool\"},{\"attributes\":{\"factors\":[\"Available\",\"Missing\"],\"palette\":[\"#30a2da\",\"#fc4f30\"]},\"id\":\"9194\",\"type\":\"CategoricalColorMapper\"},{\"attributes\":{},\"id\":\"9179\",\"type\":\"CategoricalTicker\"},{\"attributes\":{\"overlay\":{\"id\":\"9186\"}},\"id\":\"9184\",\"type\":\"BoxZoomTool\"},{\"attributes\":{},\"id\":\"9183\",\"type\":\"WheelZoomTool\"},{\"attributes\":{\"coordinates\":null,\"group\":null,\"text\":\"Missing Values\",\"text_color\":\"black\",\"text_font_size\":\"12pt\"},\"id\":\"9166\",\"type\":\"Title\"},{\"attributes\":{\"axis_label\":\"\",\"coordinates\":null,\"formatter\":{\"id\":\"9208\"},\"group\":null,\"major_label_policy\":{\"id\":\"9209\"},\"ticker\":{\"id\":\"9216\"}},\"id\":\"9174\",\"type\":\"LinearAxis\"},{\"attributes\":{},\"id\":\"9205\",\"type\":\"CategoricalTickFormatter\"},{\"attributes\":{\"below\":[{\"id\":\"9174\"}],\"center\":[{\"id\":\"9177\"},{\"id\":\"9180\"},{\"id\":\"9213\"}],\"height\":100,\"left\":[{\"id\":\"9178\"}],\"margin\":null,\"min_border_bottom\":10,\"min_border_left\":10,\"min_border_right\":10,\"min_border_top\":10,\"renderers\":[{\"id\":\"9201\"}],\"right\":[{\"id\":\"9213\"}],\"sizing_mode\":\"fixed\",\"title\":{\"id\":\"9166\"},\"toolbar\":{\"id\":\"9187\"},\"toolbar_location\":null,\"width\":700,\"x_range\":{\"id\":\"9100\"},\"x_scale\":{\"id\":\"9170\"},\"y_range\":{\"id\":\"9101\"},\"y_scale\":{\"id\":\"9172\"}},\"id\":\"9165\",\"subtype\":\"Figure\",\"type\":\"Plot\"}],\"root_ids\":[\"9099\",\"10484\"]},\"title\":\"Bokeh Application\",\"version\":\"2.4.3\"}};\n",
       "    var render_items = [{\"docid\":\"8e298d63-4bbf-4d37-852f-8fcd873fe88f\",\"root_ids\":[\"9099\"],\"roots\":{\"9099\":\"78cc50e0-4042-4f34-98d3-04da1c891946\"}}];\n",
       "    root.Bokeh.embed.embed_items_notebook(docs_json, render_items);\n",
       "  }\n",
       "  if (root.Bokeh !== undefined && root.Bokeh.Panel !== undefined) {\n",
       "    embed_document(root);\n",
       "  } else {\n",
       "    var attempts = 0;\n",
       "    var timer = setInterval(function(root) {\n",
       "      if (root.Bokeh !== undefined && root.Bokeh.Panel !== undefined) {\n",
       "        clearInterval(timer);\n",
       "        embed_document(root);\n",
       "      } else if (document.readyState == \"complete\") {\n",
       "        attempts++;\n",
       "        if (attempts > 200) {\n",
       "          clearInterval(timer);\n",
       "          console.log(\"Bokeh: ERROR: Unable to run BokehJS code because BokehJS library is missing\");\n",
       "        }\n",
       "      }\n",
       "    }, 25, root)\n",
       "  }\n",
       "})(window);</script>"
      ],
      "text/plain": [
       "Tabs\n",
       "    [0] HoloViews(Layout, name='opportunity_df')\n",
       "    [1] HoloViews(Layout, name='product_df')"
      ]
     },
     "execution_count": 82,
     "metadata": {
      "application/vnd.holoviews_exec.v0+json": {
       "id": "9099"
      }
     },
     "output_type": "execute_result"
    }
   ],
   "source": [
    "summaries_and_plots = [analysis.get_data_health_summary(data[x], return_plot=True) for x in data.keys()]\n",
    "plots = [x[1] for x in summaries_and_plots]\n",
    "display_as_tabs([(x, plots[idx]) for idx, x in enumerate(data.keys())])"
   ]
  },
  {
   "cell_type": "markdown",
   "metadata": {},
   "source": [
    "## Health Analysis\n",
    "\n",
    "Get an overview of the overall health of your dataset. This is usually quick to compute and hopefully highlights some problems to focus on.\n",
    "\n",
    "\n",
    "\n",
    "### Summary Plot\n",
    "\n",
    "Provides a high level summary of the health your dataset.\n",
    "\n",
    "**Watch out for:**\n",
    "\n",
    "* too few numeric values\n",
    "* high % of missing values\n",
    "* high % of duplicate values\n",
    "* high % of duplicate columns "
   ]
  },
  {
   "cell_type": "code",
   "execution_count": 83,
   "metadata": {},
   "outputs": [
    {
     "data": {},
     "metadata": {},
     "output_type": "display_data"
    },
    {
     "data": {},
     "metadata": {},
     "output_type": "display_data"
    },
    {
     "data": {
      "application/vnd.holoviews_exec.v0+json": "",
      "text/html": [
       "<div id='10845'>\n",
       "  <div class=\"bk-root\" id=\"19948a0d-551c-4e95-a8b2-d3d5c991ea71\" data-root-id=\"10845\"></div>\n",
       "</div>\n",
       "<script type=\"application/javascript\">(function(root) {\n",
       "  function embed_document(root) {\n",
       "    var docs_json = {\"15baa194-c6d5-4509-8ec0-b5780ac8b91e\":{\"defs\":[{\"extends\":null,\"module\":null,\"name\":\"ReactiveHTML1\",\"overrides\":[],\"properties\":[]},{\"extends\":null,\"module\":null,\"name\":\"FlexBox1\",\"overrides\":[],\"properties\":[{\"default\":\"flex-start\",\"kind\":null,\"name\":\"align_content\"},{\"default\":\"flex-start\",\"kind\":null,\"name\":\"align_items\"},{\"default\":\"row\",\"kind\":null,\"name\":\"flex_direction\"},{\"default\":\"wrap\",\"kind\":null,\"name\":\"flex_wrap\"},{\"default\":\"flex-start\",\"kind\":null,\"name\":\"justify_content\"}]},{\"extends\":null,\"module\":null,\"name\":\"GridStack1\",\"overrides\":[],\"properties\":[{\"default\":\"warn\",\"kind\":null,\"name\":\"mode\"},{\"default\":null,\"kind\":null,\"name\":\"ncols\"},{\"default\":null,\"kind\":null,\"name\":\"nrows\"},{\"default\":true,\"kind\":null,\"name\":\"allow_resize\"},{\"default\":true,\"kind\":null,\"name\":\"allow_drag\"},{\"default\":[],\"kind\":null,\"name\":\"state\"}]},{\"extends\":null,\"module\":null,\"name\":\"click1\",\"overrides\":[],\"properties\":[{\"default\":\"\",\"kind\":null,\"name\":\"terminal_output\"},{\"default\":\"\",\"kind\":null,\"name\":\"debug_name\"},{\"default\":0,\"kind\":null,\"name\":\"clears\"}]},{\"extends\":null,\"module\":null,\"name\":\"NotificationAreaBase1\",\"overrides\":[],\"properties\":[{\"default\":\"bottom-right\",\"kind\":null,\"name\":\"position\"},{\"default\":0,\"kind\":null,\"name\":\"_clear\"}]},{\"extends\":null,\"module\":null,\"name\":\"NotificationArea1\",\"overrides\":[],\"properties\":[{\"default\":[],\"kind\":null,\"name\":\"notifications\"},{\"default\":\"bottom-right\",\"kind\":null,\"name\":\"position\"},{\"default\":0,\"kind\":null,\"name\":\"_clear\"},{\"default\":[{\"background\":\"#ffc107\",\"icon\":{\"className\":\"fas fa-exclamation-triangle\",\"color\":\"white\",\"tagName\":\"i\"},\"type\":\"warning\"},{\"background\":\"#007bff\",\"icon\":{\"className\":\"fas fa-info-circle\",\"color\":\"white\",\"tagName\":\"i\"},\"type\":\"info\"}],\"kind\":null,\"name\":\"types\"}]},{\"extends\":null,\"module\":null,\"name\":\"Notification\",\"overrides\":[],\"properties\":[{\"default\":null,\"kind\":null,\"name\":\"background\"},{\"default\":3000,\"kind\":null,\"name\":\"duration\"},{\"default\":null,\"kind\":null,\"name\":\"icon\"},{\"default\":\"\",\"kind\":null,\"name\":\"message\"},{\"default\":null,\"kind\":null,\"name\":\"notification_type\"},{\"default\":false,\"kind\":null,\"name\":\"_destroyed\"}]},{\"extends\":null,\"module\":null,\"name\":\"TemplateActions1\",\"overrides\":[],\"properties\":[{\"default\":0,\"kind\":null,\"name\":\"open_modal\"},{\"default\":0,\"kind\":null,\"name\":\"close_modal\"}]},{\"extends\":null,\"module\":null,\"name\":\"MaterialTemplateActions1\",\"overrides\":[],\"properties\":[{\"default\":0,\"kind\":null,\"name\":\"open_modal\"},{\"default\":0,\"kind\":null,\"name\":\"close_modal\"}]}],\"roots\":{\"references\":[{\"attributes\":{},\"id\":\"10925\",\"type\":\"CategoricalTicker\"},{\"attributes\":{\"toolbars\":[{\"id\":\"11455\"},{\"id\":\"11517\"},{\"id\":\"11579\"},{\"id\":\"11641\"}],\"tools\":[{\"id\":\"11432\"},{\"id\":\"11449\"},{\"id\":\"11450\"},{\"id\":\"11451\"},{\"id\":\"11452\"},{\"id\":\"11453\"},{\"id\":\"11494\"},{\"id\":\"11511\"},{\"id\":\"11512\"},{\"id\":\"11513\"},{\"id\":\"11514\"},{\"id\":\"11515\"},{\"id\":\"11556\"},{\"id\":\"11573\"},{\"id\":\"11574\"},{\"id\":\"11575\"},{\"id\":\"11576\"},{\"id\":\"11577\"},{\"id\":\"11618\"},{\"id\":\"11635\"},{\"id\":\"11636\"},{\"id\":\"11637\"},{\"id\":\"11638\"},{\"id\":\"11639\"}]},\"id\":\"11720\",\"type\":\"ProxyToolbar\"},{\"attributes\":{},\"id\":\"10942\",\"type\":\"Selection\"},{\"attributes\":{\"overlay\":{\"id\":\"11454\"}},\"id\":\"11452\",\"type\":\"BoxZoomTool\"},{\"attributes\":{},\"id\":\"11016\",\"type\":\"BasicTickFormatter\"},{\"attributes\":{\"axis_label\":\"\",\"coordinates\":null,\"formatter\":{\"id\":\"11476\"},\"group\":null,\"major_label_policy\":{\"id\":\"11477\"},\"ticker\":{\"id\":\"11484\"}},\"id\":\"11442\",\"type\":\"LinearAxis\"},{\"attributes\":{\"overlay\":{\"id\":\"10932\"}},\"id\":\"10930\",\"type\":\"BoxZoomTool\"},{\"attributes\":{},\"id\":\"10931\",\"type\":\"ResetTool\"},{\"attributes\":{\"axis_label\":\"\",\"coordinates\":null,\"formatter\":{\"id\":\"11473\"},\"group\":null,\"major_label_policy\":{\"id\":\"11474\"},\"ticker\":{\"id\":\"11447\"}},\"id\":\"11446\",\"type\":\"CategoricalAxis\"},{\"attributes\":{\"coordinates\":null,\"data_source\":{\"id\":\"11649\"},\"glyph\":{\"id\":\"11652\"},\"group\":null,\"hover_glyph\":null,\"muted_glyph\":{\"id\":\"11654\"},\"nonselection_glyph\":{\"id\":\"11653\"},\"selection_glyph\":{\"id\":\"11669\"},\"view\":{\"id\":\"11656\"}},\"id\":\"11655\",\"type\":\"GlyphRenderer\"},{\"attributes\":{\"axis\":{\"id\":\"10924\"},\"coordinates\":null,\"dimension\":1,\"grid_line_color\":null,\"group\":null,\"ticker\":null},\"id\":\"10926\",\"type\":\"Grid\"},{\"attributes\":{},\"id\":\"11017\",\"type\":\"AllLabels\"},{\"attributes\":{},\"id\":\"11075\",\"type\":\"CategoricalTickFormatter\"},{\"attributes\":{},\"id\":\"11473\",\"type\":\"CategoricalTickFormatter\"},{\"attributes\":{\"bottom_units\":\"screen\",\"coordinates\":null,\"fill_alpha\":0.5,\"fill_color\":\"lightgrey\",\"group\":null,\"left_units\":\"screen\",\"level\":\"overlay\",\"line_alpha\":1.0,\"line_color\":\"black\",\"line_dash\":[4,4],\"line_width\":2,\"right_units\":\"screen\",\"syncable\":false,\"top_units\":\"screen\"},\"id\":\"11454\",\"type\":\"BoxAnnotation\"},{\"attributes\":{\"bottom_units\":\"screen\",\"coordinates\":null,\"fill_alpha\":0.5,\"fill_color\":\"lightgrey\",\"group\":null,\"left_units\":\"screen\",\"level\":\"overlay\",\"line_alpha\":1.0,\"line_color\":\"black\",\"line_dash\":[4,4],\"line_width\":2,\"right_units\":\"screen\",\"syncable\":false,\"top_units\":\"screen\"},\"id\":\"11640\",\"type\":\"BoxAnnotation\"},{\"attributes\":{},\"id\":\"10929\",\"type\":\"WheelZoomTool\"},{\"attributes\":{},\"id\":\"11447\",\"type\":\"CategoricalTicker\"},{\"attributes\":{},\"id\":\"11449\",\"type\":\"SaveTool\"},{\"attributes\":{},\"id\":\"11451\",\"type\":\"WheelZoomTool\"},{\"attributes\":{\"factors\":[\"Date\",\"Numeric\",\"Others\"],\"palette\":[\"#30a2da\",\"#fc4f30\",\"#e5ae38\"]},\"id\":\"11462\",\"type\":\"CategoricalColorMapper\"},{\"attributes\":{\"label\":{\"field\":\"labels\"},\"renderers\":[{\"id\":\"10947\"}]},\"id\":\"10960\",\"type\":\"LegendItem\"},{\"attributes\":{},\"id\":\"11464\",\"type\":\"Selection\"},{\"attributes\":{},\"id\":\"11440\",\"type\":\"CategoricalScale\"},{\"attributes\":{\"tools\":[{\"id\":\"11618\"},{\"id\":\"11635\"},{\"id\":\"11636\"},{\"id\":\"11637\"},{\"id\":\"11638\"},{\"id\":\"11639\"}]},\"id\":\"11641\",\"type\":\"Toolbar\"},{\"attributes\":{\"label\":{\"field\":\"labels\"},\"renderers\":[{\"id\":\"11469\"}]},\"id\":\"11482\",\"type\":\"LegendItem\"},{\"attributes\":{\"coordinates\":null,\"group\":null,\"items\":[{\"id\":\"11084\"}],\"location\":[0,0]},\"id\":\"11083\",\"type\":\"Legend\"},{\"attributes\":{\"coordinates\":null,\"group\":null,\"text\":\"Missing Values\",\"text_color\":\"black\",\"text_font_size\":\"12pt\"},\"id\":\"10912\",\"type\":\"Title\"},{\"attributes\":{\"factors\":[\"Unique\",\"Duplicate\"],\"palette\":[\"#30a2da\",\"#fc4f30\"]},\"id\":\"11064\",\"type\":\"CategoricalColorMapper\"},{\"attributes\":{},\"id\":\"11018\",\"type\":\"UnionRenderers\"},{\"attributes\":{\"coordinates\":null,\"data_source\":{\"id\":\"11463\"},\"glyph\":{\"id\":\"11466\"},\"group\":null,\"hover_glyph\":null,\"muted_glyph\":{\"id\":\"11468\"},\"nonselection_glyph\":{\"id\":\"11467\"},\"selection_glyph\":{\"id\":\"11483\"},\"view\":{\"id\":\"11470\"}},\"id\":\"11469\",\"type\":\"GlyphRenderer\"},{\"attributes\":{\"coordinates\":null,\"group\":null,\"items\":[{\"id\":\"11668\"}],\"location\":[0,0]},\"id\":\"11667\",\"type\":\"Legend\"},{\"attributes\":{\"fill_alpha\":{\"value\":0.2},\"fill_color\":{\"field\":\"labels\",\"transform\":{\"id\":\"10940\"}},\"hatch_alpha\":{\"value\":0.2},\"hatch_color\":{\"field\":\"labels\",\"transform\":{\"id\":\"10940\"}},\"height\":{\"value\":0.8},\"left\":{\"field\":\"bottom\"},\"line_alpha\":{\"value\":0.2},\"right\":{\"field\":\"top\"},\"y\":{\"field\":\"index\"}},\"id\":\"10946\",\"type\":\"HBar\"},{\"attributes\":{\"coordinates\":null,\"group\":null,\"text\":\"Datatypes\",\"text_color\":\"black\",\"text_font_size\":\"12pt\"},\"id\":\"11434\",\"type\":\"Title\"},{\"attributes\":{},\"id\":\"11477\",\"type\":\"AllLabels\"},{\"attributes\":{},\"id\":\"11476\",\"type\":\"BasicTickFormatter\"},{\"attributes\":{\"axis_label\":\"\",\"coordinates\":null,\"formatter\":{\"id\":\"10951\"},\"group\":null,\"major_label_policy\":{\"id\":\"10952\"},\"ticker\":{\"id\":\"10925\"}},\"id\":\"10924\",\"type\":\"CategoricalAxis\"},{\"attributes\":{},\"id\":\"11438\",\"type\":\"LinearScale\"},{\"attributes\":{\"coordinates\":null,\"group\":null,\"text\":\"Missing Values\",\"text_color\":\"black\",\"text_font_size\":\"12pt\"},\"id\":\"11496\",\"type\":\"Title\"},{\"attributes\":{},\"id\":\"10927\",\"type\":\"SaveTool\"},{\"attributes\":{},\"id\":\"11450\",\"type\":\"PanTool\"},{\"attributes\":{\"fill_alpha\":{\"value\":1.0},\"fill_color\":{\"field\":\"labels\",\"transform\":{\"id\":\"11462\"}},\"hatch_alpha\":{\"value\":1.0},\"hatch_color\":{\"field\":\"labels\",\"transform\":{\"id\":\"11462\"}},\"hatch_scale\":{\"value\":12.0},\"hatch_weight\":{\"value\":1.0},\"height\":{\"value\":0.8},\"left\":{\"field\":\"bottom\"},\"line_alpha\":{\"value\":1.0},\"line_cap\":{\"value\":\"butt\"},\"line_color\":{\"value\":\"black\"},\"line_dash\":{\"value\":[]},\"line_dash_offset\":{\"value\":0},\"line_join\":{\"value\":\"bevel\"},\"line_width\":{\"value\":1},\"right\":{\"field\":\"top\"},\"y\":{\"field\":\"index\"}},\"id\":\"11483\",\"type\":\"HBar\"},{\"attributes\":{\"coordinates\":null,\"group\":null,\"items\":[{\"id\":\"11482\"}],\"location\":[0,0]},\"id\":\"11481\",\"type\":\"Legend\"},{\"attributes\":{\"data\":{\"bottom\":{\"__ndarray__\":\"AAAAAAAAAAAAAAAAAABZQA==\",\"dtype\":\"float64\",\"order\":\"little\",\"shape\":[2]},\"index\":[\"values\",\"values\"],\"labels\":[\"Unique\",\"Duplicate\"],\"top\":{\"__ndarray__\":\"AAAAAAAAWUAAAAAAAABZQA==\",\"dtype\":\"float64\",\"order\":\"little\",\"shape\":[2]},\"value\":{\"__ndarray__\":\"AAAAAAAAWUAAAAAAAAAAAA==\",\"dtype\":\"float64\",\"order\":\"little\",\"shape\":[2]}},\"selected\":{\"id\":\"11004\"},\"selection_policy\":{\"id\":\"11018\"}},\"id\":\"11003\",\"type\":\"ColumnDataSource\"},{\"attributes\":{\"data\":{\"bottom\":{\"__ndarray__\":\"AAAAAAAAAADLmzf7uv9YQA==\",\"dtype\":\"float64\",\"order\":\"little\",\"shape\":[2]},\"index\":[\"values\",\"values\"],\"labels\":[\"Available\",\"Missing\"],\"top\":{\"__ndarray__\":\"y5s3+7r/WEAAAAAAAABZQA==\",\"dtype\":\"float64\",\"order\":\"little\",\"shape\":[2]},\"value\":{\"__ndarray__\":\"y5s3+7r/WEBMNw0ZMkFxPw==\",\"dtype\":\"float64\",\"order\":\"little\",\"shape\":[2]}},\"selected\":{\"id\":\"11526\"},\"selection_policy\":{\"id\":\"11540\"}},\"id\":\"11525\",\"type\":\"ColumnDataSource\"},{\"attributes\":{},\"id\":\"10928\",\"type\":\"PanTool\"},{\"attributes\":{\"axis_label\":\"\",\"coordinates\":null,\"formatter\":{\"id\":\"10954\"},\"group\":null,\"major_label_policy\":{\"id\":\"10955\"},\"ticker\":{\"id\":\"10962\"}},\"id\":\"10920\",\"type\":\"LinearAxis\"},{\"attributes\":{\"axis\":{\"id\":\"11446\"},\"coordinates\":null,\"dimension\":1,\"grid_line_color\":null,\"group\":null,\"ticker\":null},\"id\":\"11448\",\"type\":\"Grid\"},{\"attributes\":{},\"id\":\"10918\",\"type\":\"CategoricalScale\"},{\"attributes\":{},\"id\":\"11079\",\"type\":\"AllLabels\"},{\"attributes\":{\"ticks\":[0]},\"id\":\"11484\",\"type\":\"FixedTicker\"},{\"attributes\":{\"callback\":null,\"renderers\":[{\"id\":\"11469\"}],\"tags\":[\"hv_created\"],\"tooltips\":[[\"index\",\"@{index}\"],[\"labels\",\"@{labels}\"],[\"value\",\"@{value}\"]]},\"id\":\"11432\",\"type\":\"HoverTool\"},{\"attributes\":{\"axis_label\":\"\",\"coordinates\":null,\"formatter\":{\"id\":\"11538\"},\"group\":null,\"major_label_policy\":{\"id\":\"11539\"},\"ticker\":{\"id\":\"11546\"}},\"id\":\"11504\",\"type\":\"LinearAxis\"},{\"attributes\":{\"bottom_units\":\"screen\",\"coordinates\":null,\"fill_alpha\":0.5,\"fill_color\":\"lightgrey\",\"group\":null,\"left_units\":\"screen\",\"level\":\"overlay\",\"line_alpha\":1.0,\"line_color\":\"black\",\"line_dash\":[4,4],\"line_width\":2,\"right_units\":\"screen\",\"syncable\":false,\"top_units\":\"screen\"},\"id\":\"10932\",\"type\":\"BoxAnnotation\"},{\"attributes\":{},\"id\":\"11453\",\"type\":\"ResetTool\"},{\"attributes\":{},\"id\":\"11474\",\"type\":\"AllLabels\"},{\"attributes\":{\"source\":{\"id\":\"11649\"}},\"id\":\"11656\",\"type\":\"CDSView\"},{\"attributes\":{\"fill_alpha\":{\"value\":0.1},\"fill_color\":{\"field\":\"labels\",\"transform\":{\"id\":\"10940\"}},\"hatch_alpha\":{\"value\":0.1},\"hatch_color\":{\"field\":\"labels\",\"transform\":{\"id\":\"10940\"}},\"height\":{\"value\":0.8},\"left\":{\"field\":\"bottom\"},\"line_alpha\":{\"value\":0.1},\"right\":{\"field\":\"top\"},\"y\":{\"field\":\"index\"}},\"id\":\"10945\",\"type\":\"HBar\"},{\"attributes\":{\"axis\":{\"id\":\"11442\"},\"coordinates\":null,\"grid_line_color\":null,\"group\":null,\"ticker\":null},\"id\":\"11445\",\"type\":\"Grid\"},{\"attributes\":{\"bottom_units\":\"screen\",\"coordinates\":null,\"fill_alpha\":0.5,\"fill_color\":\"lightgrey\",\"group\":null,\"left_units\":\"screen\",\"level\":\"overlay\",\"line_alpha\":1.0,\"line_color\":\"black\",\"line_dash\":[4,4],\"line_width\":2,\"right_units\":\"screen\",\"syncable\":false,\"top_units\":\"screen\"},\"id\":\"11516\",\"type\":\"BoxAnnotation\"},{\"attributes\":{\"source\":{\"id\":\"11463\"}},\"id\":\"11470\",\"type\":\"CDSView\"},{\"attributes\":{\"axis\":{\"id\":\"10920\"},\"coordinates\":null,\"grid_line_color\":null,\"group\":null,\"ticker\":null},\"id\":\"10923\",\"type\":\"Grid\"},{\"attributes\":{\"coordinates\":null,\"data_source\":{\"id\":\"10941\"},\"glyph\":{\"id\":\"10944\"},\"group\":null,\"hover_glyph\":null,\"muted_glyph\":{\"id\":\"10946\"},\"nonselection_glyph\":{\"id\":\"10945\"},\"selection_glyph\":{\"id\":\"10961\"},\"view\":{\"id\":\"10948\"}},\"id\":\"10947\",\"type\":\"GlyphRenderer\"},{\"attributes\":{},\"id\":\"11078\",\"type\":\"BasicTickFormatter\"},{\"attributes\":{\"source\":{\"id\":\"10941\"}},\"id\":\"10948\",\"type\":\"CDSView\"},{\"attributes\":{\"label\":{\"field\":\"labels\"},\"renderers\":[{\"id\":\"11071\"}]},\"id\":\"11084\",\"type\":\"LegendItem\"},{\"attributes\":{},\"id\":\"11478\",\"type\":\"UnionRenderers\"},{\"attributes\":{},\"id\":\"11500\",\"type\":\"LinearScale\"},{\"attributes\":{\"data\":{\"bottom\":{\"__ndarray__\":\"AAAAAAAAAAAAAAAAAAApQAAAAAAAwFJA\",\"dtype\":\"float64\",\"order\":\"little\",\"shape\":[3]},\"index\":[\"values\",\"values\",\"values\"],\"labels\":[\"Date\",\"Numeric\",\"Others\"],\"top\":{\"__ndarray__\":\"AAAAAAAAKUAAAAAAAMBSQAAAAAAAAFlA\",\"dtype\":\"float64\",\"order\":\"little\",\"shape\":[3]},\"value\":{\"__ndarray__\":\"AAAAAAAAKUAAAAAAAEBPQAAAAAAAADlA\",\"dtype\":\"float64\",\"order\":\"little\",\"shape\":[3]}},\"selected\":{\"id\":\"11464\"},\"selection_policy\":{\"id\":\"11478\"}},\"id\":\"11463\",\"type\":\"ColumnDataSource\"},{\"attributes\":{},\"id\":\"11659\",\"type\":\"CategoricalTickFormatter\"},{\"attributes\":{},\"id\":\"11076\",\"type\":\"AllLabels\"},{\"attributes\":{\"axis_label\":\"\",\"coordinates\":null,\"formatter\":{\"id\":\"11535\"},\"group\":null,\"major_label_policy\":{\"id\":\"11536\"},\"ticker\":{\"id\":\"11509\"}},\"id\":\"11508\",\"type\":\"CategoricalAxis\"},{\"attributes\":{},\"id\":\"11512\",\"type\":\"PanTool\"},{\"attributes\":{},\"id\":\"11515\",\"type\":\"ResetTool\"},{\"attributes\":{\"below\":[{\"id\":\"11442\"}],\"center\":[{\"id\":\"11445\"},{\"id\":\"11448\"},{\"id\":\"11481\"}],\"height\":100,\"left\":[{\"id\":\"11446\"}],\"margin\":null,\"min_border_bottom\":10,\"min_border_left\":10,\"min_border_right\":10,\"min_border_top\":10,\"renderers\":[{\"id\":\"11469\"}],\"right\":[{\"id\":\"11481\"}],\"sizing_mode\":\"fixed\",\"title\":{\"id\":\"11434\"},\"toolbar\":{\"id\":\"11455\"},\"toolbar_location\":null,\"width\":700,\"x_range\":{\"id\":\"10846\"},\"x_scale\":{\"id\":\"11438\"},\"y_range\":{\"id\":\"10847\"},\"y_scale\":{\"id\":\"11440\"}},\"id\":\"11433\",\"subtype\":\"Figure\",\"type\":\"Plot\"},{\"attributes\":{},\"id\":\"11511\",\"type\":\"SaveTool\"},{\"attributes\":{\"axis\":{\"id\":\"11504\"},\"coordinates\":null,\"grid_line_color\":null,\"group\":null,\"ticker\":null},\"id\":\"11507\",\"type\":\"Grid\"},{\"attributes\":{\"fill_alpha\":{\"value\":0.2},\"fill_color\":{\"field\":\"labels\",\"transform\":{\"id\":\"11462\"}},\"hatch_alpha\":{\"value\":0.2},\"hatch_color\":{\"field\":\"labels\",\"transform\":{\"id\":\"11462\"}},\"height\":{\"value\":0.8},\"left\":{\"field\":\"bottom\"},\"line_alpha\":{\"value\":0.2},\"right\":{\"field\":\"top\"},\"y\":{\"field\":\"index\"}},\"id\":\"11468\",\"type\":\"HBar\"},{\"attributes\":{\"label\":{\"field\":\"labels\"},\"renderers\":[{\"id\":\"11655\"}]},\"id\":\"11668\",\"type\":\"LegendItem\"},{\"attributes\":{\"tools\":[{\"id\":\"10910\"},{\"id\":\"10927\"},{\"id\":\"10928\"},{\"id\":\"10929\"},{\"id\":\"10930\"},{\"id\":\"10931\"}]},\"id\":\"10933\",\"type\":\"Toolbar\"},{\"attributes\":{},\"id\":\"10854\",\"type\":\"LinearScale\"},{\"attributes\":{},\"id\":\"11080\",\"type\":\"UnionRenderers\"},{\"attributes\":{\"callback\":null,\"renderers\":[{\"id\":\"11531\"}],\"tags\":[\"hv_created\"],\"tooltips\":[[\"index\",\"@{index}\"],[\"labels\",\"@{labels}\"],[\"value\",\"@{value}\"]]},\"id\":\"11494\",\"type\":\"HoverTool\"},{\"attributes\":{\"coordinates\":null,\"group\":null,\"items\":[{\"id\":\"10960\"}],\"location\":[0,0]},\"id\":\"10959\",\"type\":\"Legend\"},{\"attributes\":{},\"id\":\"11513\",\"type\":\"WheelZoomTool\"},{\"attributes\":{},\"id\":\"11502\",\"type\":\"CategoricalScale\"},{\"attributes\":{\"fill_alpha\":{\"value\":0.1},\"fill_color\":{\"field\":\"labels\",\"transform\":{\"id\":\"11462\"}},\"hatch_alpha\":{\"value\":0.1},\"hatch_color\":{\"field\":\"labels\",\"transform\":{\"id\":\"11462\"}},\"height\":{\"value\":0.8},\"left\":{\"field\":\"bottom\"},\"line_alpha\":{\"value\":0.1},\"right\":{\"field\":\"top\"},\"y\":{\"field\":\"index\"}},\"id\":\"11467\",\"type\":\"HBar\"},{\"attributes\":{},\"id\":\"11660\",\"type\":\"AllLabels\"},{\"attributes\":{\"overlay\":{\"id\":\"11516\"}},\"id\":\"11514\",\"type\":\"BoxZoomTool\"},{\"attributes\":{\"axis\":{\"id\":\"11508\"},\"coordinates\":null,\"dimension\":1,\"grid_line_color\":null,\"group\":null,\"ticker\":null},\"id\":\"11510\",\"type\":\"Grid\"},{\"attributes\":{\"fill_alpha\":{\"value\":1.0},\"fill_color\":{\"field\":\"labels\",\"transform\":{\"id\":\"11002\"}},\"hatch_alpha\":{\"value\":1.0},\"hatch_color\":{\"field\":\"labels\",\"transform\":{\"id\":\"11002\"}},\"hatch_scale\":{\"value\":12.0},\"hatch_weight\":{\"value\":1.0},\"height\":{\"value\":0.8},\"left\":{\"field\":\"bottom\"},\"line_alpha\":{\"value\":1.0},\"line_cap\":{\"value\":\"butt\"},\"line_color\":{\"value\":\"black\"},\"line_dash\":{\"value\":[]},\"line_dash_offset\":{\"value\":0},\"line_join\":{\"value\":\"bevel\"},\"line_width\":{\"value\":1},\"right\":{\"field\":\"top\"},\"y\":{\"field\":\"index\"}},\"id\":\"11023\",\"type\":\"HBar\"},{\"attributes\":{\"tools\":[{\"id\":\"11494\"},{\"id\":\"11511\"},{\"id\":\"11512\"},{\"id\":\"11513\"},{\"id\":\"11514\"},{\"id\":\"11515\"}]},\"id\":\"11517\",\"type\":\"Toolbar\"},{\"attributes\":{\"fill_color\":{\"field\":\"labels\",\"transform\":{\"id\":\"10940\"}},\"hatch_color\":{\"field\":\"labels\",\"transform\":{\"id\":\"10940\"}},\"height\":{\"value\":0.8},\"left\":{\"field\":\"bottom\"},\"right\":{\"field\":\"top\"},\"y\":{\"field\":\"index\"}},\"id\":\"10944\",\"type\":\"HBar\"},{\"attributes\":{\"fill_color\":{\"field\":\"labels\",\"transform\":{\"id\":\"11462\"}},\"hatch_color\":{\"field\":\"labels\",\"transform\":{\"id\":\"11462\"}},\"height\":{\"value\":0.8},\"left\":{\"field\":\"bottom\"},\"right\":{\"field\":\"top\"},\"y\":{\"field\":\"index\"}},\"id\":\"11466\",\"type\":\"HBar\"},{\"attributes\":{},\"id\":\"11509\",\"type\":\"CategoricalTicker\"},{\"attributes\":{\"below\":[{\"id\":\"11504\"}],\"center\":[{\"id\":\"11507\"},{\"id\":\"11510\"},{\"id\":\"11543\"}],\"height\":100,\"left\":[{\"id\":\"11508\"}],\"margin\":null,\"min_border_bottom\":10,\"min_border_left\":10,\"min_border_right\":10,\"min_border_top\":10,\"renderers\":[{\"id\":\"11531\"}],\"right\":[{\"id\":\"11543\"}],\"sizing_mode\":\"fixed\",\"title\":{\"id\":\"11496\"},\"toolbar\":{\"id\":\"11517\"},\"toolbar_location\":null,\"width\":700,\"x_range\":{\"id\":\"10846\"},\"x_scale\":{\"id\":\"11500\"},\"y_range\":{\"id\":\"10847\"},\"y_scale\":{\"id\":\"11502\"}},\"id\":\"11495\",\"subtype\":\"Figure\",\"type\":\"Plot\"},{\"attributes\":{\"tools\":[{\"id\":\"11432\"},{\"id\":\"11449\"},{\"id\":\"11450\"},{\"id\":\"11451\"},{\"id\":\"11452\"},{\"id\":\"11453\"}]},\"id\":\"11455\",\"type\":\"Toolbar\"},{\"attributes\":{\"coordinates\":null,\"group\":null,\"items\":[{\"id\":\"10898\"}],\"location\":[0,0]},\"id\":\"10897\",\"type\":\"Legend\"},{\"attributes\":{\"source\":{\"id\":\"10879\"}},\"id\":\"10886\",\"type\":\"CDSView\"},{\"attributes\":{},\"id\":\"11662\",\"type\":\"BasicTickFormatter\"},{\"attributes\":{},\"id\":\"10951\",\"type\":\"CategoricalTickFormatter\"},{\"attributes\":{},\"id\":\"11663\",\"type\":\"AllLabels\"},{\"attributes\":{\"fill_alpha\":{\"value\":0.1},\"fill_color\":{\"field\":\"labels\",\"transform\":{\"id\":\"10878\"}},\"hatch_alpha\":{\"value\":0.1},\"hatch_color\":{\"field\":\"labels\",\"transform\":{\"id\":\"10878\"}},\"height\":{\"value\":0.8},\"left\":{\"field\":\"bottom\"},\"line_alpha\":{\"value\":0.1},\"right\":{\"field\":\"top\"},\"y\":{\"field\":\"index\"}},\"id\":\"10883\",\"type\":\"HBar\"},{\"attributes\":{\"factors\":[\"Available\",\"Missing\"],\"palette\":[\"#30a2da\",\"#fc4f30\"]},\"id\":\"10940\",\"type\":\"CategoricalColorMapper\"},{\"attributes\":{},\"id\":\"10856\",\"type\":\"CategoricalScale\"},{\"attributes\":{\"children\":[{\"id\":\"11137\"},{\"id\":\"11135\"}]},\"id\":\"11138\",\"type\":\"Column\"},{\"attributes\":{\"fill_color\":{\"field\":\"labels\",\"transform\":{\"id\":\"10878\"}},\"hatch_color\":{\"field\":\"labels\",\"transform\":{\"id\":\"10878\"}},\"height\":{\"value\":0.8},\"left\":{\"field\":\"bottom\"},\"right\":{\"field\":\"top\"},\"y\":{\"field\":\"index\"}},\"id\":\"10882\",\"type\":\"HBar\"},{\"attributes\":{},\"id\":\"10954\",\"type\":\"BasicTickFormatter\"},{\"attributes\":{},\"id\":\"10955\",\"type\":\"AllLabels\"},{\"attributes\":{\"children\":[{\"id\":\"11139\"},{\"id\":\"11138\"}]},\"id\":\"11140\",\"type\":\"Column\"},{\"attributes\":{\"end\":100.0,\"reset_end\":100.0,\"reset_start\":0.0,\"tags\":[[[\"value\",\"value\",null]]]},\"id\":\"10846\",\"type\":\"Range1d\"},{\"attributes\":{},\"id\":\"11664\",\"type\":\"UnionRenderers\"},{\"attributes\":{\"coordinates\":null,\"group\":null,\"text\":\"Datatypes\",\"text_color\":\"black\",\"text_font_size\":\"12pt\"},\"id\":\"10850\",\"type\":\"Title\"},{\"attributes\":{\"fill_alpha\":{\"value\":1.0},\"fill_color\":{\"field\":\"labels\",\"transform\":{\"id\":\"11586\"}},\"hatch_alpha\":{\"value\":1.0},\"hatch_color\":{\"field\":\"labels\",\"transform\":{\"id\":\"11586\"}},\"hatch_scale\":{\"value\":12.0},\"hatch_weight\":{\"value\":1.0},\"height\":{\"value\":0.8},\"left\":{\"field\":\"bottom\"},\"line_alpha\":{\"value\":1.0},\"line_cap\":{\"value\":\"butt\"},\"line_color\":{\"value\":\"black\"},\"line_dash\":{\"value\":[]},\"line_dash_offset\":{\"value\":0},\"line_join\":{\"value\":\"bevel\"},\"line_width\":{\"value\":1},\"right\":{\"field\":\"top\"},\"y\":{\"field\":\"index\"}},\"id\":\"11607\",\"type\":\"HBar\"},{\"attributes\":{},\"id\":\"11637\",\"type\":\"WheelZoomTool\"},{\"attributes\":{\"style\":{\"white-space\":\"nowrap\"},\"text\":\"<span style=\\\"color:black;font-family:Arial;font-style:bold;font-weight:bold;font-size:12pt\\\">Data Shape:(313571, 16)</span>\",\"width\":450},\"id\":\"11139\",\"type\":\"Div\"},{\"attributes\":{\"factors\":[\"values\"],\"tags\":[[[\"index\",\"index\",null]]]},\"id\":\"10847\",\"type\":\"FactorRange\"},{\"attributes\":{\"children\":[{\"id\":\"11723\"},{\"id\":\"11722\"}]},\"id\":\"11724\",\"type\":\"Column\"},{\"attributes\":{},\"id\":\"10952\",\"type\":\"AllLabels\"},{\"attributes\":{\"style\":{\"white-space\":\"nowrap\"},\"text\":\"<span style=\\\"color:black;font-family:Arial;font-style:bold;font-weight:bold;font-size:12pt\\\">Data Shape:(142431, 8)</span>\",\"width\":450},\"id\":\"11723\",\"type\":\"Div\"},{\"attributes\":{\"axis\":{\"id\":\"10858\"},\"coordinates\":null,\"grid_line_color\":null,\"group\":null,\"ticker\":null},\"id\":\"10861\",\"type\":\"Grid\"},{\"attributes\":{\"ticks\":[0]},\"id\":\"11608\",\"type\":\"FixedTicker\"},{\"attributes\":{\"fill_alpha\":{\"value\":0.2},\"fill_color\":{\"field\":\"labels\",\"transform\":{\"id\":\"11648\"}},\"hatch_alpha\":{\"value\":0.2},\"hatch_color\":{\"field\":\"labels\",\"transform\":{\"id\":\"11648\"}},\"height\":{\"value\":0.8},\"left\":{\"field\":\"bottom\"},\"line_alpha\":{\"value\":0.2},\"right\":{\"field\":\"top\"},\"y\":{\"field\":\"index\"}},\"id\":\"11654\",\"type\":\"HBar\"},{\"attributes\":{},\"id\":\"11626\",\"type\":\"CategoricalScale\"},{\"attributes\":{\"children\":[{\"id\":\"11721\"},{\"id\":\"11719\"}]},\"id\":\"11722\",\"type\":\"Column\"},{\"attributes\":{},\"id\":\"10880\",\"type\":\"Selection\"},{\"attributes\":{\"callback\":null,\"renderers\":[{\"id\":\"11655\"}],\"tags\":[\"hv_created\"],\"tooltips\":[[\"index\",\"@{index}\"],[\"labels\",\"@{labels}\"],[\"value\",\"@{value}\"]]},\"id\":\"11618\",\"type\":\"HoverTool\"},{\"attributes\":{\"factors\":[\"Date\",\"Numeric\",\"Others\"],\"palette\":[\"#30a2da\",\"#fc4f30\",\"#e5ae38\"]},\"id\":\"10878\",\"type\":\"CategoricalColorMapper\"},{\"attributes\":{},\"id\":\"10991\",\"type\":\"WheelZoomTool\"},{\"attributes\":{},\"id\":\"10956\",\"type\":\"UnionRenderers\"},{\"attributes\":{\"factors\":[\"Unique\",\"Duplicate\"],\"palette\":[\"#30a2da\",\"#fc4f30\"]},\"id\":\"11648\",\"type\":\"CategoricalColorMapper\"},{\"attributes\":{\"child\":{\"id\":\"11140\"},\"name\":\"opportunity_df\",\"title\":\"opportunity_df\"},\"id\":\"11429\",\"type\":\"Panel\"},{\"attributes\":{\"bottom_units\":\"screen\",\"coordinates\":null,\"fill_alpha\":0.5,\"fill_color\":\"lightgrey\",\"group\":null,\"left_units\":\"screen\",\"level\":\"overlay\",\"line_alpha\":1.0,\"line_color\":\"black\",\"line_dash\":[4,4],\"line_width\":2,\"right_units\":\"screen\",\"syncable\":false,\"top_units\":\"screen\"},\"id\":\"10870\",\"type\":\"BoxAnnotation\"},{\"attributes\":{},\"id\":\"10890\",\"type\":\"AllLabels\"},{\"attributes\":{\"overlay\":{\"id\":\"11640\"}},\"id\":\"11638\",\"type\":\"BoxZoomTool\"},{\"attributes\":{},\"id\":\"10893\",\"type\":\"AllLabels\"},{\"attributes\":{\"fill_alpha\":{\"value\":0.1},\"fill_color\":{\"field\":\"labels\",\"transform\":{\"id\":\"11002\"}},\"hatch_alpha\":{\"value\":0.1},\"hatch_color\":{\"field\":\"labels\",\"transform\":{\"id\":\"11002\"}},\"height\":{\"value\":0.8},\"left\":{\"field\":\"bottom\"},\"line_alpha\":{\"value\":0.1},\"right\":{\"field\":\"top\"},\"y\":{\"field\":\"index\"}},\"id\":\"11007\",\"type\":\"HBar\"},{\"attributes\":{\"axis\":{\"id\":\"11628\"},\"coordinates\":null,\"grid_line_color\":null,\"group\":null,\"ticker\":null},\"id\":\"11631\",\"type\":\"Grid\"},{\"attributes\":{},\"id\":\"10892\",\"type\":\"BasicTickFormatter\"},{\"attributes\":{},\"id\":\"11636\",\"type\":\"PanTool\"},{\"attributes\":{},\"id\":\"11635\",\"type\":\"SaveTool\"},{\"attributes\":{\"coordinates\":null,\"group\":null,\"text\":\"Duplicate Columns\",\"text_color\":\"black\",\"text_font_size\":\"12pt\"},\"id\":\"11620\",\"type\":\"Title\"},{\"attributes\":{},\"id\":\"11624\",\"type\":\"LinearScale\"},{\"attributes\":{\"child\":{\"id\":\"11724\"},\"name\":\"product_df\",\"title\":\"product_df\"},\"id\":\"12013\",\"type\":\"Panel\"},{\"attributes\":{\"axis_label\":\"\",\"coordinates\":null,\"formatter\":{\"id\":\"11662\"},\"group\":null,\"major_label_policy\":{\"id\":\"11663\"},\"ticker\":{\"id\":\"11670\"}},\"id\":\"11628\",\"type\":\"LinearAxis\"},{\"attributes\":{\"fill_color\":{\"field\":\"labels\",\"transform\":{\"id\":\"11648\"}},\"hatch_color\":{\"field\":\"labels\",\"transform\":{\"id\":\"11648\"}},\"height\":{\"value\":0.8},\"left\":{\"field\":\"bottom\"},\"right\":{\"field\":\"top\"},\"y\":{\"field\":\"index\"}},\"id\":\"11652\",\"type\":\"HBar\"},{\"attributes\":{},\"id\":\"10863\",\"type\":\"CategoricalTicker\"},{\"attributes\":{\"label\":{\"field\":\"labels\"},\"renderers\":[{\"id\":\"10885\"}]},\"id\":\"10898\",\"type\":\"LegendItem\"},{\"attributes\":{\"fill_alpha\":{\"value\":0.2},\"fill_color\":{\"field\":\"labels\",\"transform\":{\"id\":\"10878\"}},\"hatch_alpha\":{\"value\":0.2},\"hatch_color\":{\"field\":\"labels\",\"transform\":{\"id\":\"10878\"}},\"height\":{\"value\":0.8},\"left\":{\"field\":\"bottom\"},\"line_alpha\":{\"value\":0.2},\"right\":{\"field\":\"top\"},\"y\":{\"field\":\"index\"}},\"id\":\"10884\",\"type\":\"HBar\"},{\"attributes\":{},\"id\":\"10889\",\"type\":\"CategoricalTickFormatter\"},{\"attributes\":{\"below\":[{\"id\":\"11628\"}],\"center\":[{\"id\":\"11631\"},{\"id\":\"11634\"},{\"id\":\"11667\"}],\"height\":100,\"left\":[{\"id\":\"11632\"}],\"margin\":null,\"min_border_bottom\":10,\"min_border_left\":10,\"min_border_right\":10,\"min_border_top\":10,\"renderers\":[{\"id\":\"11655\"}],\"right\":[{\"id\":\"11667\"}],\"sizing_mode\":\"fixed\",\"title\":{\"id\":\"11620\"},\"toolbar\":{\"id\":\"11641\"},\"toolbar_location\":null,\"width\":700,\"x_range\":{\"id\":\"10846\"},\"x_scale\":{\"id\":\"11624\"},\"y_range\":{\"id\":\"10847\"},\"y_scale\":{\"id\":\"11626\"}},\"id\":\"11619\",\"subtype\":\"Figure\",\"type\":\"Plot\"},{\"attributes\":{},\"id\":\"11633\",\"type\":\"CategoricalTicker\"},{\"attributes\":{\"tools\":[{\"id\":\"10848\"},{\"id\":\"10865\"},{\"id\":\"10866\"},{\"id\":\"10867\"},{\"id\":\"10868\"},{\"id\":\"10869\"}]},\"id\":\"10871\",\"type\":\"Toolbar\"},{\"attributes\":{\"coordinates\":null,\"data_source\":{\"id\":\"10879\"},\"glyph\":{\"id\":\"10882\"},\"group\":null,\"hover_glyph\":null,\"muted_glyph\":{\"id\":\"10884\"},\"nonselection_glyph\":{\"id\":\"10883\"},\"selection_glyph\":{\"id\":\"10899\"},\"view\":{\"id\":\"10886\"}},\"id\":\"10885\",\"type\":\"GlyphRenderer\"},{\"attributes\":{},\"id\":\"11639\",\"type\":\"ResetTool\"},{\"attributes\":{\"fill_alpha\":{\"value\":1.0},\"fill_color\":{\"field\":\"labels\",\"transform\":{\"id\":\"11648\"}},\"hatch_alpha\":{\"value\":1.0},\"hatch_color\":{\"field\":\"labels\",\"transform\":{\"id\":\"11648\"}},\"hatch_scale\":{\"value\":12.0},\"hatch_weight\":{\"value\":1.0},\"height\":{\"value\":0.8},\"left\":{\"field\":\"bottom\"},\"line_alpha\":{\"value\":1.0},\"line_cap\":{\"value\":\"butt\"},\"line_color\":{\"value\":\"black\"},\"line_dash\":{\"value\":[]},\"line_dash_offset\":{\"value\":0},\"line_join\":{\"value\":\"bevel\"},\"line_width\":{\"value\":1},\"right\":{\"field\":\"top\"},\"y\":{\"field\":\"index\"}},\"id\":\"11669\",\"type\":\"HBar\"},{\"attributes\":{\"axis_label\":\"\",\"coordinates\":null,\"formatter\":{\"id\":\"11659\"},\"group\":null,\"major_label_policy\":{\"id\":\"11660\"},\"ticker\":{\"id\":\"11633\"}},\"id\":\"11632\",\"type\":\"CategoricalAxis\"},{\"attributes\":{\"axis\":{\"id\":\"11632\"},\"coordinates\":null,\"dimension\":1,\"grid_line_color\":null,\"group\":null,\"ticker\":null},\"id\":\"11634\",\"type\":\"Grid\"},{\"attributes\":{\"toolbar\":{\"id\":\"11720\"},\"toolbar_location\":\"above\"},\"id\":\"11721\",\"type\":\"ToolbarBox\"},{\"attributes\":{},\"id\":\"11650\",\"type\":\"Selection\"},{\"attributes\":{\"axis_label\":\"\",\"coordinates\":null,\"formatter\":{\"id\":\"10889\"},\"group\":null,\"major_label_policy\":{\"id\":\"10890\"},\"ticker\":{\"id\":\"10863\"}},\"id\":\"10862\",\"type\":\"CategoricalAxis\"},{\"attributes\":{},\"id\":\"10916\",\"type\":\"LinearScale\"},{\"attributes\":{\"fill_alpha\":{\"value\":0.1},\"fill_color\":{\"field\":\"labels\",\"transform\":{\"id\":\"11648\"}},\"hatch_alpha\":{\"value\":0.1},\"hatch_color\":{\"field\":\"labels\",\"transform\":{\"id\":\"11648\"}},\"height\":{\"value\":0.8},\"left\":{\"field\":\"bottom\"},\"line_alpha\":{\"value\":0.1},\"right\":{\"field\":\"top\"},\"y\":{\"field\":\"index\"}},\"id\":\"11653\",\"type\":\"HBar\"},{\"attributes\":{\"axis_label\":\"\",\"coordinates\":null,\"formatter\":{\"id\":\"10892\"},\"group\":null,\"major_label_policy\":{\"id\":\"10893\"},\"ticker\":{\"id\":\"10900\"}},\"id\":\"10858\",\"type\":\"LinearAxis\"},{\"attributes\":{\"ticks\":[0]},\"id\":\"11670\",\"type\":\"FixedTicker\"},{\"attributes\":{},\"id\":\"11562\",\"type\":\"LinearScale\"},{\"attributes\":{},\"id\":\"11588\",\"type\":\"Selection\"},{\"attributes\":{\"coordinates\":null,\"group\":null,\"items\":[{\"id\":\"11606\"}],\"location\":[0,0]},\"id\":\"11605\",\"type\":\"Legend\"},{\"attributes\":{},\"id\":\"11571\",\"type\":\"CategoricalTicker\"},{\"attributes\":{},\"id\":\"11575\",\"type\":\"WheelZoomTool\"},{\"attributes\":{\"axis\":{\"id\":\"11570\"},\"coordinates\":null,\"dimension\":1,\"grid_line_color\":null,\"group\":null,\"ticker\":null},\"id\":\"11572\",\"type\":\"Grid\"},{\"attributes\":{\"overlay\":{\"id\":\"11578\"}},\"id\":\"11576\",\"type\":\"BoxZoomTool\"},{\"attributes\":{},\"id\":\"11597\",\"type\":\"CategoricalTickFormatter\"},{\"attributes\":{},\"id\":\"11577\",\"type\":\"ResetTool\"},{\"attributes\":{},\"id\":\"11600\",\"type\":\"BasicTickFormatter\"},{\"attributes\":{\"factors\":[\"Unique\",\"Duplicate\"],\"palette\":[\"#30a2da\",\"#fc4f30\"]},\"id\":\"11586\",\"type\":\"CategoricalColorMapper\"},{\"attributes\":{\"data\":{\"bottom\":{\"__ndarray__\":\"AAAAAAAAAABUisNZVstYQA==\",\"dtype\":\"float64\",\"order\":\"little\",\"shape\":[2]},\"index\":[\"values\",\"values\"],\"labels\":[\"Unique\",\"Duplicate\"],\"top\":{\"__ndarray__\":\"VIrDWVbLWED///////9YQA==\",\"dtype\":\"float64\",\"order\":\"little\",\"shape\":[2]},\"value\":{\"__ndarray__\":\"VIrDWVbLWEC31Toe01TqPw==\",\"dtype\":\"float64\",\"order\":\"little\",\"shape\":[2]}},\"selected\":{\"id\":\"11588\"},\"selection_policy\":{\"id\":\"11602\"}},\"id\":\"11587\",\"type\":\"ColumnDataSource\"},{\"attributes\":{\"coordinates\":null,\"group\":null,\"text\":\"Duplicate Values\",\"text_color\":\"black\",\"text_font_size\":\"12pt\"},\"id\":\"11558\",\"type\":\"Title\"},{\"attributes\":{\"fill_color\":{\"field\":\"labels\",\"transform\":{\"id\":\"11586\"}},\"hatch_color\":{\"field\":\"labels\",\"transform\":{\"id\":\"11586\"}},\"height\":{\"value\":0.8},\"left\":{\"field\":\"bottom\"},\"right\":{\"field\":\"top\"},\"y\":{\"field\":\"index\"}},\"id\":\"11590\",\"type\":\"HBar\"},{\"attributes\":{\"axis_label\":\"\",\"coordinates\":null,\"formatter\":{\"id\":\"11597\"},\"group\":null,\"major_label_policy\":{\"id\":\"11598\"},\"ticker\":{\"id\":\"11571\"}},\"id\":\"11570\",\"type\":\"CategoricalAxis\"},{\"attributes\":{},\"id\":\"11573\",\"type\":\"SaveTool\"},{\"attributes\":{},\"id\":\"11601\",\"type\":\"AllLabels\"},{\"attributes\":{},\"id\":\"11574\",\"type\":\"PanTool\"},{\"attributes\":{\"axis_label\":\"\",\"coordinates\":null,\"formatter\":{\"id\":\"11600\"},\"group\":null,\"major_label_policy\":{\"id\":\"11601\"},\"ticker\":{\"id\":\"11608\"}},\"id\":\"11566\",\"type\":\"LinearAxis\"},{\"attributes\":{},\"id\":\"11564\",\"type\":\"CategoricalScale\"},{\"attributes\":{\"bottom_units\":\"screen\",\"coordinates\":null,\"fill_alpha\":0.5,\"fill_color\":\"lightgrey\",\"group\":null,\"left_units\":\"screen\",\"level\":\"overlay\",\"line_alpha\":1.0,\"line_color\":\"black\",\"line_dash\":[4,4],\"line_width\":2,\"right_units\":\"screen\",\"syncable\":false,\"top_units\":\"screen\"},\"id\":\"11578\",\"type\":\"BoxAnnotation\"},{\"attributes\":{},\"id\":\"11598\",\"type\":\"AllLabels\"},{\"attributes\":{\"label\":{\"field\":\"labels\"},\"renderers\":[{\"id\":\"11593\"}]},\"id\":\"11606\",\"type\":\"LegendItem\"},{\"attributes\":{\"fill_alpha\":{\"value\":1.0},\"fill_color\":{\"field\":\"labels\",\"transform\":{\"id\":\"11064\"}},\"hatch_alpha\":{\"value\":1.0},\"hatch_color\":{\"field\":\"labels\",\"transform\":{\"id\":\"11064\"}},\"hatch_scale\":{\"value\":12.0},\"hatch_weight\":{\"value\":1.0},\"height\":{\"value\":0.8},\"left\":{\"field\":\"bottom\"},\"line_alpha\":{\"value\":1.0},\"line_cap\":{\"value\":\"butt\"},\"line_color\":{\"value\":\"black\"},\"line_dash\":{\"value\":[]},\"line_dash_offset\":{\"value\":0},\"line_join\":{\"value\":\"bevel\"},\"line_width\":{\"value\":1},\"right\":{\"field\":\"top\"},\"y\":{\"field\":\"index\"}},\"id\":\"11085\",\"type\":\"HBar\"},{\"attributes\":{\"axis\":{\"id\":\"11566\"},\"coordinates\":null,\"grid_line_color\":null,\"group\":null,\"ticker\":null},\"id\":\"11569\",\"type\":\"Grid\"},{\"attributes\":{\"ticks\":[0]},\"id\":\"11086\",\"type\":\"FixedTicker\"},{\"attributes\":{},\"id\":\"11602\",\"type\":\"UnionRenderers\"},{\"attributes\":{\"margin\":[0,0,0,0],\"tabs\":[{\"id\":\"11429\"},{\"id\":\"12013\"}]},\"id\":\"10845\",\"type\":\"panel.models.tabs.Tabs\"},{\"attributes\":{\"coordinates\":null,\"data_source\":{\"id\":\"11587\"},\"glyph\":{\"id\":\"11590\"},\"group\":null,\"hover_glyph\":null,\"muted_glyph\":{\"id\":\"11592\"},\"nonselection_glyph\":{\"id\":\"11591\"},\"selection_glyph\":{\"id\":\"11607\"},\"view\":{\"id\":\"11594\"}},\"id\":\"11593\",\"type\":\"GlyphRenderer\"},{\"attributes\":{\"children\":[[{\"id\":\"11433\"},0,0],[{\"id\":\"11495\"},1,0],[{\"id\":\"11557\"},2,0],[{\"id\":\"11619\"},3,0]]},\"id\":\"11719\",\"type\":\"GridBox\"},{\"attributes\":{\"label\":{\"field\":\"labels\"},\"renderers\":[{\"id\":\"11531\"}]},\"id\":\"11544\",\"type\":\"LegendItem\"},{\"attributes\":{\"fill_alpha\":{\"value\":0.2},\"fill_color\":{\"field\":\"labels\",\"transform\":{\"id\":\"11586\"}},\"hatch_alpha\":{\"value\":0.2},\"hatch_color\":{\"field\":\"labels\",\"transform\":{\"id\":\"11586\"}},\"height\":{\"value\":0.8},\"left\":{\"field\":\"bottom\"},\"line_alpha\":{\"value\":0.2},\"right\":{\"field\":\"top\"},\"y\":{\"field\":\"index\"}},\"id\":\"11592\",\"type\":\"HBar\"},{\"attributes\":{\"client_comm_id\":\"bf1967eb3c444ab6a2367d6c597eb2f5\",\"comm_id\":\"87b51888da5846c3865d212ce4cecb54\",\"plot_id\":\"10845\"},\"id\":\"12230\",\"type\":\"panel.models.comm_manager.CommManager\"},{\"attributes\":{\"fill_alpha\":{\"value\":0.1},\"fill_color\":{\"field\":\"labels\",\"transform\":{\"id\":\"11586\"}},\"hatch_alpha\":{\"value\":0.1},\"hatch_color\":{\"field\":\"labels\",\"transform\":{\"id\":\"11586\"}},\"height\":{\"value\":0.8},\"left\":{\"field\":\"bottom\"},\"line_alpha\":{\"value\":0.1},\"right\":{\"field\":\"top\"},\"y\":{\"field\":\"index\"}},\"id\":\"11591\",\"type\":\"HBar\"},{\"attributes\":{\"tools\":[{\"id\":\"11556\"},{\"id\":\"11573\"},{\"id\":\"11574\"},{\"id\":\"11575\"},{\"id\":\"11576\"},{\"id\":\"11577\"}]},\"id\":\"11579\",\"type\":\"Toolbar\"},{\"attributes\":{\"toolbar\":{\"id\":\"11136\"},\"toolbar_location\":\"above\"},\"id\":\"11137\",\"type\":\"ToolbarBox\"},{\"attributes\":{\"source\":{\"id\":\"11587\"}},\"id\":\"11594\",\"type\":\"CDSView\"},{\"attributes\":{\"data\":{\"bottom\":{\"__ndarray__\":\"AAAAAAAAAAAAAAAAAABZQA==\",\"dtype\":\"float64\",\"order\":\"little\",\"shape\":[2]},\"index\":[\"values\",\"values\"],\"labels\":[\"Unique\",\"Duplicate\"],\"top\":{\"__ndarray__\":\"AAAAAAAAWUAAAAAAAABZQA==\",\"dtype\":\"float64\",\"order\":\"little\",\"shape\":[2]},\"value\":{\"__ndarray__\":\"AAAAAAAAWUAAAAAAAAAAAA==\",\"dtype\":\"float64\",\"order\":\"little\",\"shape\":[2]}},\"selected\":{\"id\":\"11650\"},\"selection_policy\":{\"id\":\"11664\"}},\"id\":\"11649\",\"type\":\"ColumnDataSource\"},{\"attributes\":{\"label\":{\"field\":\"labels\"},\"renderers\":[{\"id\":\"11009\"}]},\"id\":\"11022\",\"type\":\"LegendItem\"},{\"attributes\":{},\"id\":\"10894\",\"type\":\"UnionRenderers\"},{\"attributes\":{\"fill_color\":{\"field\":\"labels\",\"transform\":{\"id\":\"11524\"}},\"hatch_color\":{\"field\":\"labels\",\"transform\":{\"id\":\"11524\"}},\"height\":{\"value\":0.8},\"left\":{\"field\":\"bottom\"},\"right\":{\"field\":\"top\"},\"y\":{\"field\":\"index\"}},\"id\":\"11528\",\"type\":\"HBar\"},{\"attributes\":{\"overlay\":{\"id\":\"11056\"}},\"id\":\"11054\",\"type\":\"BoxZoomTool\"},{\"attributes\":{\"coordinates\":null,\"data_source\":{\"id\":\"11003\"},\"glyph\":{\"id\":\"11006\"},\"group\":null,\"hover_glyph\":null,\"muted_glyph\":{\"id\":\"11008\"},\"nonselection_glyph\":{\"id\":\"11007\"},\"selection_glyph\":{\"id\":\"11023\"},\"view\":{\"id\":\"11010\"}},\"id\":\"11009\",\"type\":\"GlyphRenderer\"},{\"attributes\":{\"bottom_units\":\"screen\",\"coordinates\":null,\"fill_alpha\":0.5,\"fill_color\":\"lightgrey\",\"group\":null,\"left_units\":\"screen\",\"level\":\"overlay\",\"line_alpha\":1.0,\"line_color\":\"black\",\"line_dash\":[4,4],\"line_width\":2,\"right_units\":\"screen\",\"syncable\":false,\"top_units\":\"screen\"},\"id\":\"10994\",\"type\":\"BoxAnnotation\"},{\"attributes\":{\"data\":{\"bottom\":{\"__ndarray__\":\"AAAAAAAAAAAAAAAAAABZQA==\",\"dtype\":\"float64\",\"order\":\"little\",\"shape\":[2]},\"index\":[\"values\",\"values\"],\"labels\":[\"Unique\",\"Duplicate\"],\"top\":{\"__ndarray__\":\"AAAAAAAAWUAAAAAAAABZQA==\",\"dtype\":\"float64\",\"order\":\"little\",\"shape\":[2]},\"value\":{\"__ndarray__\":\"AAAAAAAAWUAAAAAAAAAAAA==\",\"dtype\":\"float64\",\"order\":\"little\",\"shape\":[2]}},\"selected\":{\"id\":\"11066\"},\"selection_policy\":{\"id\":\"11080\"}},\"id\":\"11065\",\"type\":\"ColumnDataSource\"},{\"attributes\":{\"axis\":{\"id\":\"10862\"},\"coordinates\":null,\"dimension\":1,\"grid_line_color\":null,\"group\":null,\"ticker\":null},\"id\":\"10864\",\"type\":\"Grid\"},{\"attributes\":{},\"id\":\"11539\",\"type\":\"AllLabels\"},{\"attributes\":{},\"id\":\"11538\",\"type\":\"BasicTickFormatter\"},{\"attributes\":{},\"id\":\"11536\",\"type\":\"AllLabels\"},{\"attributes\":{\"fill_alpha\":{\"value\":0.1},\"fill_color\":{\"field\":\"labels\",\"transform\":{\"id\":\"11064\"}},\"hatch_alpha\":{\"value\":0.1},\"hatch_color\":{\"field\":\"labels\",\"transform\":{\"id\":\"11064\"}},\"height\":{\"value\":0.8},\"left\":{\"field\":\"bottom\"},\"line_alpha\":{\"value\":0.1},\"right\":{\"field\":\"top\"},\"y\":{\"field\":\"index\"}},\"id\":\"11069\",\"type\":\"HBar\"},{\"attributes\":{\"tools\":[{\"id\":\"10972\"},{\"id\":\"10989\"},{\"id\":\"10990\"},{\"id\":\"10991\"},{\"id\":\"10992\"},{\"id\":\"10993\"}]},\"id\":\"10995\",\"type\":\"Toolbar\"},{\"attributes\":{},\"id\":\"10869\",\"type\":\"ResetTool\"},{\"attributes\":{\"callback\":null,\"renderers\":[{\"id\":\"11071\"}],\"tags\":[\"hv_created\"],\"tooltips\":[[\"index\",\"@{index}\"],[\"labels\",\"@{labels}\"],[\"value\",\"@{value}\"]]},\"id\":\"11034\",\"type\":\"HoverTool\"},{\"attributes\":{},\"id\":\"11053\",\"type\":\"WheelZoomTool\"},{\"attributes\":{\"fill_alpha\":{\"value\":1.0},\"fill_color\":{\"field\":\"labels\",\"transform\":{\"id\":\"11524\"}},\"hatch_alpha\":{\"value\":1.0},\"hatch_color\":{\"field\":\"labels\",\"transform\":{\"id\":\"11524\"}},\"hatch_scale\":{\"value\":12.0},\"hatch_weight\":{\"value\":1.0},\"height\":{\"value\":0.8},\"left\":{\"field\":\"bottom\"},\"line_alpha\":{\"value\":1.0},\"line_cap\":{\"value\":\"butt\"},\"line_color\":{\"value\":\"black\"},\"line_dash\":{\"value\":[]},\"line_dash_offset\":{\"value\":0},\"line_join\":{\"value\":\"bevel\"},\"line_width\":{\"value\":1},\"right\":{\"field\":\"top\"},\"y\":{\"field\":\"index\"}},\"id\":\"11545\",\"type\":\"HBar\"},{\"attributes\":{\"toolbars\":[{\"id\":\"10871\"},{\"id\":\"10933\"},{\"id\":\"10995\"},{\"id\":\"11057\"}],\"tools\":[{\"id\":\"10848\"},{\"id\":\"10865\"},{\"id\":\"10866\"},{\"id\":\"10867\"},{\"id\":\"10868\"},{\"id\":\"10869\"},{\"id\":\"10910\"},{\"id\":\"10927\"},{\"id\":\"10928\"},{\"id\":\"10929\"},{\"id\":\"10930\"},{\"id\":\"10931\"},{\"id\":\"10972\"},{\"id\":\"10989\"},{\"id\":\"10990\"},{\"id\":\"10991\"},{\"id\":\"10992\"},{\"id\":\"10993\"},{\"id\":\"11034\"},{\"id\":\"11051\"},{\"id\":\"11052\"},{\"id\":\"11053\"},{\"id\":\"11054\"},{\"id\":\"11055\"}]},\"id\":\"11136\",\"type\":\"ProxyToolbar\"},{\"attributes\":{},\"id\":\"10865\",\"type\":\"SaveTool\"},{\"attributes\":{},\"id\":\"10993\",\"type\":\"ResetTool\"},{\"attributes\":{\"coordinates\":null,\"group\":null,\"items\":[{\"id\":\"11544\"}],\"location\":[0,0]},\"id\":\"11543\",\"type\":\"Legend\"},{\"attributes\":{\"coordinates\":null,\"group\":null,\"items\":[{\"id\":\"11022\"}],\"location\":[0,0]},\"id\":\"11021\",\"type\":\"Legend\"},{\"attributes\":{\"bottom_units\":\"screen\",\"coordinates\":null,\"fill_alpha\":0.5,\"fill_color\":\"lightgrey\",\"group\":null,\"left_units\":\"screen\",\"level\":\"overlay\",\"line_alpha\":1.0,\"line_color\":\"black\",\"line_dash\":[4,4],\"line_width\":2,\"right_units\":\"screen\",\"syncable\":false,\"top_units\":\"screen\"},\"id\":\"11056\",\"type\":\"BoxAnnotation\"},{\"attributes\":{\"fill_alpha\":{\"value\":1.0},\"fill_color\":{\"field\":\"labels\",\"transform\":{\"id\":\"10940\"}},\"hatch_alpha\":{\"value\":1.0},\"hatch_color\":{\"field\":\"labels\",\"transform\":{\"id\":\"10940\"}},\"hatch_scale\":{\"value\":12.0},\"hatch_weight\":{\"value\":1.0},\"height\":{\"value\":0.8},\"left\":{\"field\":\"bottom\"},\"line_alpha\":{\"value\":1.0},\"line_cap\":{\"value\":\"butt\"},\"line_color\":{\"value\":\"black\"},\"line_dash\":{\"value\":[]},\"line_dash_offset\":{\"value\":0},\"line_join\":{\"value\":\"bevel\"},\"line_width\":{\"value\":1},\"right\":{\"field\":\"top\"},\"y\":{\"field\":\"index\"}},\"id\":\"10961\",\"type\":\"HBar\"},{\"attributes\":{\"axis\":{\"id\":\"10986\"},\"coordinates\":null,\"dimension\":1,\"grid_line_color\":null,\"group\":null,\"ticker\":null},\"id\":\"10988\",\"type\":\"Grid\"},{\"attributes\":{},\"id\":\"11540\",\"type\":\"UnionRenderers\"},{\"attributes\":{\"children\":[[{\"id\":\"10849\"},0,0],[{\"id\":\"10911\"},1,0],[{\"id\":\"10973\"},2,0],[{\"id\":\"11035\"},3,0]]},\"id\":\"11135\",\"type\":\"GridBox\"},{\"attributes\":{\"axis_label\":\"\",\"coordinates\":null,\"formatter\":{\"id\":\"11078\"},\"group\":null,\"major_label_policy\":{\"id\":\"11079\"},\"ticker\":{\"id\":\"11086\"}},\"id\":\"11044\",\"type\":\"LinearAxis\"},{\"attributes\":{\"fill_alpha\":{\"value\":0.2},\"fill_color\":{\"field\":\"labels\",\"transform\":{\"id\":\"11524\"}},\"hatch_alpha\":{\"value\":0.2},\"hatch_color\":{\"field\":\"labels\",\"transform\":{\"id\":\"11524\"}},\"height\":{\"value\":0.8},\"left\":{\"field\":\"bottom\"},\"line_alpha\":{\"value\":0.2},\"right\":{\"field\":\"top\"},\"y\":{\"field\":\"index\"}},\"id\":\"11530\",\"type\":\"HBar\"},{\"attributes\":{\"axis_label\":\"\",\"coordinates\":null,\"formatter\":{\"id\":\"11075\"},\"group\":null,\"major_label_policy\":{\"id\":\"11076\"},\"ticker\":{\"id\":\"11049\"}},\"id\":\"11048\",\"type\":\"CategoricalAxis\"},{\"attributes\":{},\"id\":\"11535\",\"type\":\"CategoricalTickFormatter\"},{\"attributes\":{\"ticks\":[0]},\"id\":\"10962\",\"type\":\"FixedTicker\"},{\"attributes\":{\"axis_label\":\"\",\"coordinates\":null,\"formatter\":{\"id\":\"11016\"},\"group\":null,\"major_label_policy\":{\"id\":\"11017\"},\"ticker\":{\"id\":\"11024\"}},\"id\":\"10982\",\"type\":\"LinearAxis\"},{\"attributes\":{\"axis\":{\"id\":\"11044\"},\"coordinates\":null,\"grid_line_color\":null,\"group\":null,\"ticker\":null},\"id\":\"11047\",\"type\":\"Grid\"},{\"attributes\":{},\"id\":\"11052\",\"type\":\"PanTool\"},{\"attributes\":{\"source\":{\"id\":\"11525\"}},\"id\":\"11532\",\"type\":\"CDSView\"},{\"attributes\":{\"axis\":{\"id\":\"10982\"},\"coordinates\":null,\"grid_line_color\":null,\"group\":null,\"ticker\":null},\"id\":\"10985\",\"type\":\"Grid\"},{\"attributes\":{},\"id\":\"11042\",\"type\":\"CategoricalScale\"},{\"attributes\":{},\"id\":\"11051\",\"type\":\"SaveTool\"},{\"attributes\":{\"fill_alpha\":{\"value\":0.1},\"fill_color\":{\"field\":\"labels\",\"transform\":{\"id\":\"11524\"}},\"hatch_alpha\":{\"value\":0.1},\"hatch_color\":{\"field\":\"labels\",\"transform\":{\"id\":\"11524\"}},\"height\":{\"value\":0.8},\"left\":{\"field\":\"bottom\"},\"line_alpha\":{\"value\":0.1},\"right\":{\"field\":\"top\"},\"y\":{\"field\":\"index\"}},\"id\":\"11529\",\"type\":\"HBar\"},{\"attributes\":{\"source\":{\"id\":\"11003\"}},\"id\":\"11010\",\"type\":\"CDSView\"},{\"attributes\":{},\"id\":\"11040\",\"type\":\"LinearScale\"},{\"attributes\":{\"tools\":[{\"id\":\"11034\"},{\"id\":\"11051\"},{\"id\":\"11052\"},{\"id\":\"11053\"},{\"id\":\"11054\"},{\"id\":\"11055\"}]},\"id\":\"11057\",\"type\":\"Toolbar\"},{\"attributes\":{\"coordinates\":null,\"group\":null,\"text\":\"Duplicate Columns\",\"text_color\":\"black\",\"text_font_size\":\"12pt\"},\"id\":\"11036\",\"type\":\"Title\"},{\"attributes\":{\"axis\":{\"id\":\"11048\"},\"coordinates\":null,\"dimension\":1,\"grid_line_color\":null,\"group\":null,\"ticker\":null},\"id\":\"11050\",\"type\":\"Grid\"},{\"attributes\":{},\"id\":\"10978\",\"type\":\"LinearScale\"},{\"attributes\":{},\"id\":\"11066\",\"type\":\"Selection\"},{\"attributes\":{\"below\":[{\"id\":\"11044\"}],\"center\":[{\"id\":\"11047\"},{\"id\":\"11050\"},{\"id\":\"11083\"}],\"height\":100,\"left\":[{\"id\":\"11048\"}],\"margin\":null,\"min_border_bottom\":10,\"min_border_left\":10,\"min_border_right\":10,\"min_border_top\":10,\"renderers\":[{\"id\":\"11071\"}],\"right\":[{\"id\":\"11083\"}],\"sizing_mode\":\"fixed\",\"title\":{\"id\":\"11036\"},\"toolbar\":{\"id\":\"11057\"},\"toolbar_location\":null,\"width\":700,\"x_range\":{\"id\":\"10846\"},\"x_scale\":{\"id\":\"11040\"},\"y_range\":{\"id\":\"10847\"},\"y_scale\":{\"id\":\"11042\"}},\"id\":\"11035\",\"subtype\":\"Figure\",\"type\":\"Plot\"},{\"attributes\":{},\"id\":\"10989\",\"type\":\"SaveTool\"},{\"attributes\":{},\"id\":\"10980\",\"type\":\"CategoricalScale\"},{\"attributes\":{\"fill_alpha\":{\"value\":1.0},\"fill_color\":{\"field\":\"labels\",\"transform\":{\"id\":\"10878\"}},\"hatch_alpha\":{\"value\":1.0},\"hatch_color\":{\"field\":\"labels\",\"transform\":{\"id\":\"10878\"}},\"hatch_scale\":{\"value\":12.0},\"hatch_weight\":{\"value\":1.0},\"height\":{\"value\":0.8},\"left\":{\"field\":\"bottom\"},\"line_alpha\":{\"value\":1.0},\"line_cap\":{\"value\":\"butt\"},\"line_color\":{\"value\":\"black\"},\"line_dash\":{\"value\":[]},\"line_dash_offset\":{\"value\":0},\"line_join\":{\"value\":\"bevel\"},\"line_width\":{\"value\":1},\"right\":{\"field\":\"top\"},\"y\":{\"field\":\"index\"}},\"id\":\"10899\",\"type\":\"HBar\"},{\"attributes\":{\"callback\":null,\"renderers\":[{\"id\":\"11009\"}],\"tags\":[\"hv_created\"],\"tooltips\":[[\"index\",\"@{index}\"],[\"labels\",\"@{labels}\"],[\"value\",\"@{value}\"]]},\"id\":\"10972\",\"type\":\"HoverTool\"},{\"attributes\":{},\"id\":\"11055\",\"type\":\"ResetTool\"},{\"attributes\":{\"below\":[{\"id\":\"10982\"}],\"center\":[{\"id\":\"10985\"},{\"id\":\"10988\"},{\"id\":\"11021\"}],\"height\":100,\"left\":[{\"id\":\"10986\"}],\"margin\":null,\"min_border_bottom\":10,\"min_border_left\":10,\"min_border_right\":10,\"min_border_top\":10,\"renderers\":[{\"id\":\"11009\"}],\"right\":[{\"id\":\"11021\"}],\"sizing_mode\":\"fixed\",\"title\":{\"id\":\"10974\"},\"toolbar\":{\"id\":\"10995\"},\"toolbar_location\":null,\"width\":700,\"x_range\":{\"id\":\"10846\"},\"x_scale\":{\"id\":\"10978\"},\"y_range\":{\"id\":\"10847\"},\"y_scale\":{\"id\":\"10980\"}},\"id\":\"10973\",\"subtype\":\"Figure\",\"type\":\"Plot\"},{\"attributes\":{},\"id\":\"10867\",\"type\":\"WheelZoomTool\"},{\"attributes\":{},\"id\":\"11013\",\"type\":\"CategoricalTickFormatter\"},{\"attributes\":{\"below\":[{\"id\":\"10858\"}],\"center\":[{\"id\":\"10861\"},{\"id\":\"10864\"},{\"id\":\"10897\"}],\"height\":100,\"left\":[{\"id\":\"10862\"}],\"margin\":null,\"min_border_bottom\":10,\"min_border_left\":10,\"min_border_right\":10,\"min_border_top\":10,\"renderers\":[{\"id\":\"10885\"}],\"right\":[{\"id\":\"10897\"}],\"sizing_mode\":\"fixed\",\"title\":{\"id\":\"10850\"},\"toolbar\":{\"id\":\"10871\"},\"toolbar_location\":null,\"width\":700,\"x_range\":{\"id\":\"10846\"},\"x_scale\":{\"id\":\"10854\"},\"y_range\":{\"id\":\"10847\"},\"y_scale\":{\"id\":\"10856\"}},\"id\":\"10849\",\"subtype\":\"Figure\",\"type\":\"Plot\"},{\"attributes\":{},\"id\":\"10866\",\"type\":\"PanTool\"},{\"attributes\":{\"ticks\":[0]},\"id\":\"11546\",\"type\":\"FixedTicker\"},{\"attributes\":{\"data\":{\"bottom\":{\"__ndarray__\":\"AAAAAAAAAAAAAAAAAAApQAAAAAAAQD9A\",\"dtype\":\"float64\",\"order\":\"little\",\"shape\":[3]},\"index\":[\"values\",\"values\",\"values\"],\"labels\":[\"Date\",\"Numeric\",\"Others\"],\"top\":{\"__ndarray__\":\"AAAAAAAAKUAAAAAAAEA/QAAAAAAAAFlA\",\"dtype\":\"float64\",\"order\":\"little\",\"shape\":[3]},\"value\":{\"__ndarray__\":\"AAAAAAAAKUAAAAAAAMAyQAAAAAAAMFFA\",\"dtype\":\"float64\",\"order\":\"little\",\"shape\":[3]}},\"selected\":{\"id\":\"10880\"},\"selection_policy\":{\"id\":\"10894\"}},\"id\":\"10879\",\"type\":\"ColumnDataSource\"},{\"attributes\":{\"ticks\":[0]},\"id\":\"10900\",\"type\":\"FixedTicker\"},{\"attributes\":{\"below\":[{\"id\":\"10920\"}],\"center\":[{\"id\":\"10923\"},{\"id\":\"10926\"},{\"id\":\"10959\"}],\"height\":100,\"left\":[{\"id\":\"10924\"}],\"margin\":null,\"min_border_bottom\":10,\"min_border_left\":10,\"min_border_right\":10,\"min_border_top\":10,\"renderers\":[{\"id\":\"10947\"}],\"right\":[{\"id\":\"10959\"}],\"sizing_mode\":\"fixed\",\"title\":{\"id\":\"10912\"},\"toolbar\":{\"id\":\"10933\"},\"toolbar_location\":null,\"width\":700,\"x_range\":{\"id\":\"10846\"},\"x_scale\":{\"id\":\"10916\"},\"y_range\":{\"id\":\"10847\"},\"y_scale\":{\"id\":\"10918\"}},\"id\":\"10911\",\"subtype\":\"Figure\",\"type\":\"Plot\"},{\"attributes\":{\"overlay\":{\"id\":\"10994\"}},\"id\":\"10992\",\"type\":\"BoxZoomTool\"},{\"attributes\":{\"overlay\":{\"id\":\"10870\"}},\"id\":\"10868\",\"type\":\"BoxZoomTool\"},{\"attributes\":{},\"id\":\"11049\",\"type\":\"CategoricalTicker\"},{\"attributes\":{\"factors\":[\"Unique\",\"Duplicate\"],\"palette\":[\"#30a2da\",\"#fc4f30\"]},\"id\":\"11002\",\"type\":\"CategoricalColorMapper\"},{\"attributes\":{\"callback\":null,\"renderers\":[{\"id\":\"11593\"}],\"tags\":[\"hv_created\"],\"tooltips\":[[\"index\",\"@{index}\"],[\"labels\",\"@{labels}\"],[\"value\",\"@{value}\"]]},\"id\":\"11556\",\"type\":\"HoverTool\"},{\"attributes\":{\"coordinates\":null,\"data_source\":{\"id\":\"11525\"},\"glyph\":{\"id\":\"11528\"},\"group\":null,\"hover_glyph\":null,\"muted_glyph\":{\"id\":\"11530\"},\"nonselection_glyph\":{\"id\":\"11529\"},\"selection_glyph\":{\"id\":\"11545\"},\"view\":{\"id\":\"11532\"}},\"id\":\"11531\",\"type\":\"GlyphRenderer\"},{\"attributes\":{},\"id\":\"10987\",\"type\":\"CategoricalTicker\"},{\"attributes\":{\"coordinates\":null,\"data_source\":{\"id\":\"11065\"},\"glyph\":{\"id\":\"11068\"},\"group\":null,\"hover_glyph\":null,\"muted_glyph\":{\"id\":\"11070\"},\"nonselection_glyph\":{\"id\":\"11069\"},\"selection_glyph\":{\"id\":\"11085\"},\"view\":{\"id\":\"11072\"}},\"id\":\"11071\",\"type\":\"GlyphRenderer\"},{\"attributes\":{\"data\":{\"bottom\":{\"__ndarray__\":\"AAAAAAAAAACqBczwqdZXQA==\",\"dtype\":\"float64\",\"order\":\"little\",\"shape\":[2]},\"index\":[\"values\",\"values\"],\"labels\":[\"Available\",\"Missing\"],\"top\":{\"__ndarray__\":\"qgXM8KnWV0AAAAAAAABZQA==\",\"dtype\":\"float64\",\"order\":\"little\",\"shape\":[2]},\"value\":{\"__ndarray__\":\"qgXM8KnWV0BZpT/zYJUSQA==\",\"dtype\":\"float64\",\"order\":\"little\",\"shape\":[2]}},\"selected\":{\"id\":\"10942\"},\"selection_policy\":{\"id\":\"10956\"}},\"id\":\"10941\",\"type\":\"ColumnDataSource\"},{\"attributes\":{\"fill_color\":{\"field\":\"labels\",\"transform\":{\"id\":\"11002\"}},\"hatch_color\":{\"field\":\"labels\",\"transform\":{\"id\":\"11002\"}},\"height\":{\"value\":0.8},\"left\":{\"field\":\"bottom\"},\"right\":{\"field\":\"top\"},\"y\":{\"field\":\"index\"}},\"id\":\"11006\",\"type\":\"HBar\"},{\"attributes\":{\"below\":[{\"id\":\"11566\"}],\"center\":[{\"id\":\"11569\"},{\"id\":\"11572\"},{\"id\":\"11605\"}],\"height\":100,\"left\":[{\"id\":\"11570\"}],\"margin\":null,\"min_border_bottom\":10,\"min_border_left\":10,\"min_border_right\":10,\"min_border_top\":10,\"renderers\":[{\"id\":\"11593\"}],\"right\":[{\"id\":\"11605\"}],\"sizing_mode\":\"fixed\",\"title\":{\"id\":\"11558\"},\"toolbar\":{\"id\":\"11579\"},\"toolbar_location\":null,\"width\":700,\"x_range\":{\"id\":\"10846\"},\"x_scale\":{\"id\":\"11562\"},\"y_range\":{\"id\":\"10847\"},\"y_scale\":{\"id\":\"11564\"}},\"id\":\"11557\",\"subtype\":\"Figure\",\"type\":\"Plot\"},{\"attributes\":{\"axis_label\":\"\",\"coordinates\":null,\"formatter\":{\"id\":\"11013\"},\"group\":null,\"major_label_policy\":{\"id\":\"11014\"},\"ticker\":{\"id\":\"10987\"}},\"id\":\"10986\",\"type\":\"CategoricalAxis\"},{\"attributes\":{\"callback\":null,\"renderers\":[{\"id\":\"10885\"}],\"tags\":[\"hv_created\"],\"tooltips\":[[\"index\",\"@{index}\"],[\"labels\",\"@{labels}\"],[\"value\",\"@{value}\"]]},\"id\":\"10848\",\"type\":\"HoverTool\"},{\"attributes\":{\"fill_alpha\":{\"value\":0.2},\"fill_color\":{\"field\":\"labels\",\"transform\":{\"id\":\"11002\"}},\"hatch_alpha\":{\"value\":0.2},\"hatch_color\":{\"field\":\"labels\",\"transform\":{\"id\":\"11002\"}},\"height\":{\"value\":0.8},\"left\":{\"field\":\"bottom\"},\"line_alpha\":{\"value\":0.2},\"right\":{\"field\":\"top\"},\"y\":{\"field\":\"index\"}},\"id\":\"11008\",\"type\":\"HBar\"},{\"attributes\":{\"factors\":[\"Available\",\"Missing\"],\"palette\":[\"#30a2da\",\"#fc4f30\"]},\"id\":\"11524\",\"type\":\"CategoricalColorMapper\"},{\"attributes\":{\"ticks\":[0]},\"id\":\"11024\",\"type\":\"FixedTicker\"},{\"attributes\":{\"source\":{\"id\":\"11065\"}},\"id\":\"11072\",\"type\":\"CDSView\"},{\"attributes\":{},\"id\":\"11526\",\"type\":\"Selection\"},{\"attributes\":{\"coordinates\":null,\"group\":null,\"text\":\"Duplicate Values\",\"text_color\":\"black\",\"text_font_size\":\"12pt\"},\"id\":\"10974\",\"type\":\"Title\"},{\"attributes\":{},\"id\":\"11014\",\"type\":\"AllLabels\"},{\"attributes\":{\"fill_color\":{\"field\":\"labels\",\"transform\":{\"id\":\"11064\"}},\"hatch_color\":{\"field\":\"labels\",\"transform\":{\"id\":\"11064\"}},\"height\":{\"value\":0.8},\"left\":{\"field\":\"bottom\"},\"right\":{\"field\":\"top\"},\"y\":{\"field\":\"index\"}},\"id\":\"11068\",\"type\":\"HBar\"},{\"attributes\":{},\"id\":\"11004\",\"type\":\"Selection\"},{\"attributes\":{},\"id\":\"10990\",\"type\":\"PanTool\"},{\"attributes\":{\"callback\":null,\"renderers\":[{\"id\":\"10947\"}],\"tags\":[\"hv_created\"],\"tooltips\":[[\"index\",\"@{index}\"],[\"labels\",\"@{labels}\"],[\"value\",\"@{value}\"]]},\"id\":\"10910\",\"type\":\"HoverTool\"},{\"attributes\":{\"fill_alpha\":{\"value\":0.2},\"fill_color\":{\"field\":\"labels\",\"transform\":{\"id\":\"11064\"}},\"hatch_alpha\":{\"value\":0.2},\"hatch_color\":{\"field\":\"labels\",\"transform\":{\"id\":\"11064\"}},\"height\":{\"value\":0.8},\"left\":{\"field\":\"bottom\"},\"line_alpha\":{\"value\":0.2},\"right\":{\"field\":\"top\"},\"y\":{\"field\":\"index\"}},\"id\":\"11070\",\"type\":\"HBar\"}],\"root_ids\":[\"10845\",\"12230\"]},\"title\":\"Bokeh Application\",\"version\":\"2.4.3\"}};\n",
       "    var render_items = [{\"docid\":\"15baa194-c6d5-4509-8ec0-b5780ac8b91e\",\"root_ids\":[\"10845\"],\"roots\":{\"10845\":\"19948a0d-551c-4e95-a8b2-d3d5c991ea71\"}}];\n",
       "    root.Bokeh.embed.embed_items_notebook(docs_json, render_items);\n",
       "  }\n",
       "  if (root.Bokeh !== undefined && root.Bokeh.Panel !== undefined) {\n",
       "    embed_document(root);\n",
       "  } else {\n",
       "    var attempts = 0;\n",
       "    var timer = setInterval(function(root) {\n",
       "      if (root.Bokeh !== undefined && root.Bokeh.Panel !== undefined) {\n",
       "        clearInterval(timer);\n",
       "        embed_document(root);\n",
       "      } else if (document.readyState == \"complete\") {\n",
       "        attempts++;\n",
       "        if (attempts > 200) {\n",
       "          clearInterval(timer);\n",
       "          console.log(\"Bokeh: ERROR: Unable to run BokehJS code because BokehJS library is missing\");\n",
       "        }\n",
       "      }\n",
       "    }, 25, root)\n",
       "  }\n",
       "})(window);</script>"
      ],
      "text/plain": [
       "Tabs\n",
       "    [0] HoloViews(Layout, name='opportunity_df')\n",
       "    [1] HoloViews(Layout, name='product_df')"
      ]
     },
     "execution_count": 83,
     "metadata": {
      "application/vnd.holoviews_exec.v0+json": {
       "id": "10845"
      }
     },
     "output_type": "execute_result"
    }
   ],
   "source": [
    "summaries_and_plots = [analysis.get_data_health_summary(data[x], return_plot=True) for x in data.keys()]\n",
    "plots = [x[1] for x in summaries_and_plots]\n",
    "display_as_tabs([(x, plots[idx]) for idx, x in enumerate(data.keys())])"
   ]
  },
  {
   "cell_type": "markdown",
   "metadata": {},
   "source": [
    "**Dev NOTES**\n",
    "\n",
    "<details>\n",
    "1. Datatypes : We have both numeric and other types. The bulk of them seem to be numeric. `Numeric` is defined to be one of [float|int|date] and the rest are categorized as `Others`. A column is assumed to have `date` values if it has the string `date` in the column name.\n",
    "\n",
    "**[TODO]** We prob. need more types: integral, float, bool, dates/timestamps, strings. We have this functionality in Dataprocessor.\n",
    "\n",
    "2. The missing value plot seems to indicate missing values are not present but we do have them. \n",
    "\n",
    "**[TODO]** The plot can be improved to better display small values\n",
    "\n",
    "3. We are looking for duplicate observations (rows in the data). The plot shows the % of rows that are an exact replica of another row (using `df.duplicated`)\n",
    "\n",
    "4. We are looking for duplicate features (columns in the data).\n",
    "\n",
    "**[TODO]** The tigerml code seems complicated but it looks like we compare each column against all other similar columns (numeric/categoric) after dropping nans, infs\n",
    "\n",
    "\n",
    "**[TODO]** We need better data inspectors. The current data inspectors show columns from the dataframe used to construct the plot and **not** the original data. This does not make sense for an end-user who didn't expicitly construct the intermediate data used for the plot. It would be more meaningful to have labels that match the legends (e.g unique_columns:100%, duplicate_columns:0). Also, the y-axis label doesen't tell anything. The x-axis prob. needs an axis (0 to 100%).\n",
    "\n",
    "</details>\n",
    "\n",
    "### Missing Values summary\n",
    "\n",
    "This provides an overall view focussing on amount of missing values in the dataset.\n",
    "\n",
    "**Watch out for:**\n",
    "* A few columns have significant number of missing values \n",
    "* Most columns have significant number of missing values"
   ]
  },
  {
   "cell_type": "code",
   "execution_count": 84,
   "metadata": {},
   "outputs": [
    {
     "data": {},
     "metadata": {},
     "output_type": "display_data"
    },
    {
     "data": {},
     "metadata": {},
     "output_type": "display_data"
    },
    {
     "data": {
      "application/vnd.holoviews_exec.v0+json": "",
      "text/html": [
       "<div id='12591'>\n",
       "  <div class=\"bk-root\" id=\"8cbcef8f-67ad-445b-babc-30f379283d63\" data-root-id=\"12591\"></div>\n",
       "</div>\n",
       "<script type=\"application/javascript\">(function(root) {\n",
       "  function embed_document(root) {\n",
       "    var docs_json = {\"0e066321-009b-49ef-a2a3-c3142831ea82\":{\"defs\":[{\"extends\":null,\"module\":null,\"name\":\"ReactiveHTML1\",\"overrides\":[],\"properties\":[]},{\"extends\":null,\"module\":null,\"name\":\"FlexBox1\",\"overrides\":[],\"properties\":[{\"default\":\"flex-start\",\"kind\":null,\"name\":\"align_content\"},{\"default\":\"flex-start\",\"kind\":null,\"name\":\"align_items\"},{\"default\":\"row\",\"kind\":null,\"name\":\"flex_direction\"},{\"default\":\"wrap\",\"kind\":null,\"name\":\"flex_wrap\"},{\"default\":\"flex-start\",\"kind\":null,\"name\":\"justify_content\"}]},{\"extends\":null,\"module\":null,\"name\":\"GridStack1\",\"overrides\":[],\"properties\":[{\"default\":\"warn\",\"kind\":null,\"name\":\"mode\"},{\"default\":null,\"kind\":null,\"name\":\"ncols\"},{\"default\":null,\"kind\":null,\"name\":\"nrows\"},{\"default\":true,\"kind\":null,\"name\":\"allow_resize\"},{\"default\":true,\"kind\":null,\"name\":\"allow_drag\"},{\"default\":[],\"kind\":null,\"name\":\"state\"}]},{\"extends\":null,\"module\":null,\"name\":\"click1\",\"overrides\":[],\"properties\":[{\"default\":\"\",\"kind\":null,\"name\":\"terminal_output\"},{\"default\":\"\",\"kind\":null,\"name\":\"debug_name\"},{\"default\":0,\"kind\":null,\"name\":\"clears\"}]},{\"extends\":null,\"module\":null,\"name\":\"NotificationAreaBase1\",\"overrides\":[],\"properties\":[{\"default\":\"bottom-right\",\"kind\":null,\"name\":\"position\"},{\"default\":0,\"kind\":null,\"name\":\"_clear\"}]},{\"extends\":null,\"module\":null,\"name\":\"NotificationArea1\",\"overrides\":[],\"properties\":[{\"default\":[],\"kind\":null,\"name\":\"notifications\"},{\"default\":\"bottom-right\",\"kind\":null,\"name\":\"position\"},{\"default\":0,\"kind\":null,\"name\":\"_clear\"},{\"default\":[{\"background\":\"#ffc107\",\"icon\":{\"className\":\"fas fa-exclamation-triangle\",\"color\":\"white\",\"tagName\":\"i\"},\"type\":\"warning\"},{\"background\":\"#007bff\",\"icon\":{\"className\":\"fas fa-info-circle\",\"color\":\"white\",\"tagName\":\"i\"},\"type\":\"info\"}],\"kind\":null,\"name\":\"types\"}]},{\"extends\":null,\"module\":null,\"name\":\"Notification\",\"overrides\":[],\"properties\":[{\"default\":null,\"kind\":null,\"name\":\"background\"},{\"default\":3000,\"kind\":null,\"name\":\"duration\"},{\"default\":null,\"kind\":null,\"name\":\"icon\"},{\"default\":\"\",\"kind\":null,\"name\":\"message\"},{\"default\":null,\"kind\":null,\"name\":\"notification_type\"},{\"default\":false,\"kind\":null,\"name\":\"_destroyed\"}]},{\"extends\":null,\"module\":null,\"name\":\"TemplateActions1\",\"overrides\":[],\"properties\":[{\"default\":0,\"kind\":null,\"name\":\"open_modal\"},{\"default\":0,\"kind\":null,\"name\":\"close_modal\"}]},{\"extends\":null,\"module\":null,\"name\":\"MaterialTemplateActions1\",\"overrides\":[],\"properties\":[{\"default\":0,\"kind\":null,\"name\":\"open_modal\"},{\"default\":0,\"kind\":null,\"name\":\"close_modal\"}]}],\"roots\":{\"references\":[{\"attributes\":{},\"id\":\"12600\",\"type\":\"CategoricalScale\"},{\"attributes\":{\"coordinates\":null,\"data_source\":{\"id\":\"12624\"},\"glyph\":{\"id\":\"12627\"},\"group\":null,\"hover_glyph\":null,\"muted_glyph\":{\"id\":\"12629\"},\"nonselection_glyph\":{\"id\":\"12628\"},\"selection_glyph\":{\"id\":\"12632\"},\"view\":{\"id\":\"12631\"}},\"id\":\"12630\",\"type\":\"GlyphRenderer\"},{\"attributes\":{},\"id\":\"12696\",\"type\":\"AllLabels\"},{\"attributes\":{},\"id\":\"12695\",\"type\":\"BasicTickFormatter\"},{\"attributes\":{\"data\":{\"A_0\":[7,1,0,0,0,0,0,0],\"index\":[\"No Missing\",\"0-5%\",\"5-10%\",\"10-20%\",\"20-30%\",\"30-40%\",\"40-50%\",\"50-100%\"]},\"selected\":{\"id\":\"12683\"},\"selection_policy\":{\"id\":\"12704\"}},\"id\":\"12682\",\"type\":\"ColumnDataSource\"},{\"attributes\":{\"tools\":[{\"id\":\"12652\"},{\"id\":\"12669\"},{\"id\":\"12670\"},{\"id\":\"12671\"},{\"id\":\"12672\"},{\"id\":\"12673\"}]},\"id\":\"12675\",\"type\":\"Toolbar\"},{\"attributes\":{\"fill_color\":{\"value\":\"#30a2da\"},\"hatch_color\":{\"value\":\"#30a2da\"},\"top\":{\"field\":\"A_0\"},\"width\":{\"value\":0.8},\"x\":{\"field\":\"index\"}},\"id\":\"12685\",\"type\":\"VBar\"},{\"attributes\":{\"axis\":{\"id\":\"12607\"},\"coordinates\":null,\"dimension\":1,\"grid_line_color\":null,\"group\":null,\"ticker\":null},\"id\":\"12610\",\"type\":\"Grid\"},{\"attributes\":{},\"id\":\"12637\",\"type\":\"BasicTickFormatter\"},{\"attributes\":{\"bottom\":{\"value\":0},\"fill_alpha\":{\"value\":1.0},\"fill_color\":{\"value\":\"#30a2da\"},\"hatch_alpha\":{\"value\":1.0},\"hatch_color\":{\"value\":\"#30a2da\"},\"hatch_scale\":{\"value\":12.0},\"hatch_weight\":{\"value\":1.0},\"line_alpha\":{\"value\":1.0},\"line_cap\":{\"value\":\"butt\"},\"line_color\":{\"value\":\"black\"},\"line_dash\":{\"value\":[]},\"line_dash_offset\":{\"value\":0},\"line_join\":{\"value\":\"bevel\"},\"line_width\":{\"value\":1},\"top\":{\"field\":\"A_0\"},\"width\":{\"value\":0.8},\"x\":{\"field\":\"index\"}},\"id\":\"12690\",\"type\":\"VBar\"},{\"attributes\":{\"axis_label\":\"# of variables\",\"coordinates\":null,\"formatter\":{\"id\":\"12695\"},\"group\":null,\"major_label_policy\":{\"id\":\"12696\"},\"ticker\":{\"id\":\"12666\"}},\"id\":\"12665\",\"type\":\"LinearAxis\"},{\"attributes\":{\"source\":{\"id\":\"12624\"}},\"id\":\"12631\",\"type\":\"CDSView\"},{\"attributes\":{},\"id\":\"12666\",\"type\":\"BasicTicker\"},{\"attributes\":{\"child\":{\"id\":\"12653\"},\"name\":\"product_df\",\"title\":\"product_df\"},\"id\":\"12707\",\"type\":\"Panel\"},{\"attributes\":{\"axis\":{\"id\":\"12665\"},\"coordinates\":null,\"dimension\":1,\"grid_line_color\":null,\"group\":null,\"ticker\":null},\"id\":\"12668\",\"type\":\"Grid\"},{\"attributes\":{},\"id\":\"12669\",\"type\":\"SaveTool\"},{\"attributes\":{},\"id\":\"12605\",\"type\":\"CategoricalTicker\"},{\"attributes\":{\"bottom_units\":\"screen\",\"coordinates\":null,\"fill_alpha\":0.5,\"fill_color\":\"lightgrey\",\"group\":null,\"left_units\":\"screen\",\"level\":\"overlay\",\"line_alpha\":1.0,\"line_color\":\"black\",\"line_dash\":[4,4],\"line_width\":2,\"right_units\":\"screen\",\"syncable\":false,\"top_units\":\"screen\"},\"id\":\"12674\",\"type\":\"BoxAnnotation\"},{\"attributes\":{},\"id\":\"12602\",\"type\":\"LinearScale\"},{\"attributes\":{\"overlay\":{\"id\":\"12616\"}},\"id\":\"12614\",\"type\":\"BoxZoomTool\"},{\"attributes\":{\"coordinates\":null,\"data_source\":{\"id\":\"12682\"},\"glyph\":{\"id\":\"12685\"},\"group\":null,\"hover_glyph\":null,\"muted_glyph\":{\"id\":\"12687\"},\"nonselection_glyph\":{\"id\":\"12686\"},\"selection_glyph\":{\"id\":\"12690\"},\"view\":{\"id\":\"12689\"}},\"id\":\"12688\",\"type\":\"GlyphRenderer\"},{\"attributes\":{},\"id\":\"12613\",\"type\":\"WheelZoomTool\"},{\"attributes\":{},\"id\":\"12683\",\"type\":\"Selection\"},{\"attributes\":{\"axis_label\":\"# of missing observations\",\"coordinates\":null,\"formatter\":{\"id\":\"12692\"},\"group\":null,\"major_label_policy\":{\"id\":\"12693\"},\"ticker\":{\"id\":\"12663\"}},\"id\":\"12662\",\"type\":\"CategoricalAxis\"},{\"attributes\":{\"fill_alpha\":{\"value\":0.2},\"fill_color\":{\"value\":\"#30a2da\"},\"hatch_alpha\":{\"value\":0.2},\"hatch_color\":{\"value\":\"#30a2da\"},\"line_alpha\":{\"value\":0.2},\"top\":{\"field\":\"A_0\"},\"width\":{\"value\":0.8},\"x\":{\"field\":\"index\"}},\"id\":\"12629\",\"type\":\"VBar\"},{\"attributes\":{},\"id\":\"12612\",\"type\":\"PanTool\"},{\"attributes\":{\"callback\":null,\"renderers\":[{\"id\":\"12688\"}],\"tags\":[\"hv_created\"],\"tooltips\":[[\"index\",\"@{index}\"],[\"0\",\"@{A_0}\"]]},\"id\":\"12652\",\"type\":\"HoverTool\"},{\"attributes\":{},\"id\":\"12692\",\"type\":\"CategoricalTickFormatter\"},{\"attributes\":{},\"id\":\"12704\",\"type\":\"UnionRenderers\"},{\"attributes\":{},\"id\":\"12638\",\"type\":\"AllLabels\"},{\"attributes\":{\"axis\":{\"id\":\"12662\"},\"coordinates\":null,\"grid_line_color\":null,\"group\":null,\"ticker\":null},\"id\":\"12664\",\"type\":\"Grid\"},{\"attributes\":{},\"id\":\"12615\",\"type\":\"ResetTool\"},{\"attributes\":{\"fill_alpha\":{\"value\":0.1},\"fill_color\":{\"value\":\"#30a2da\"},\"hatch_alpha\":{\"value\":0.1},\"hatch_color\":{\"value\":\"#30a2da\"},\"line_alpha\":{\"value\":0.1},\"top\":{\"field\":\"A_0\"},\"width\":{\"value\":0.8},\"x\":{\"field\":\"index\"}},\"id\":\"12686\",\"type\":\"VBar\"},{\"attributes\":{},\"id\":\"12646\",\"type\":\"UnionRenderers\"},{\"attributes\":{},\"id\":\"12625\",\"type\":\"Selection\"},{\"attributes\":{\"margin\":[0,0,0,0],\"tabs\":[{\"id\":\"12649\"},{\"id\":\"12707\"}]},\"id\":\"12591\",\"type\":\"panel.models.tabs.Tabs\"},{\"attributes\":{},\"id\":\"12658\",\"type\":\"CategoricalScale\"},{\"attributes\":{\"source\":{\"id\":\"12682\"}},\"id\":\"12689\",\"type\":\"CDSView\"},{\"attributes\":{\"below\":[{\"id\":\"12662\"}],\"center\":[{\"id\":\"12664\"},{\"id\":\"12668\"}],\"height\":300,\"left\":[{\"id\":\"12665\"}],\"margin\":[5,5,5,5],\"min_border_bottom\":10,\"min_border_left\":10,\"min_border_right\":10,\"min_border_top\":10,\"renderers\":[{\"id\":\"12688\"}],\"sizing_mode\":\"fixed\",\"title\":{\"id\":\"12654\"},\"toolbar\":{\"id\":\"12675\"},\"width\":700,\"x_range\":{\"id\":\"12592\"},\"x_scale\":{\"id\":\"12658\"},\"y_range\":{\"id\":\"12593\"},\"y_scale\":{\"id\":\"12660\"}},\"id\":\"12653\",\"subtype\":\"Figure\",\"type\":\"Plot\"},{\"attributes\":{\"coordinates\":null,\"group\":null,\"text\":\"Missing Variables - Data Shape:(313571, 16)\",\"text_color\":\"black\",\"text_font_size\":\"12pt\"},\"id\":\"12596\",\"type\":\"Title\"},{\"attributes\":{\"axis_label\":\"# of variables\",\"coordinates\":null,\"formatter\":{\"id\":\"12637\"},\"group\":null,\"major_label_policy\":{\"id\":\"12638\"},\"ticker\":{\"id\":\"12608\"}},\"id\":\"12607\",\"type\":\"LinearAxis\"},{\"attributes\":{\"factors\":[\"No Missing\",\"0-5%\",\"5-10%\",\"10-20%\",\"20-30%\",\"30-40%\",\"40-50%\",\"50-100%\"],\"tags\":[[[\"index\",\"index\",null]]]},\"id\":\"12592\",\"type\":\"FactorRange\"},{\"attributes\":{\"client_comm_id\":\"62bf6f44727340d6b71140260913c9fe\",\"comm_id\":\"83d5fe21aa144672a88ed1fb059853e3\",\"plot_id\":\"12591\"},\"id\":\"12768\",\"type\":\"panel.models.comm_manager.CommManager\"},{\"attributes\":{\"callback\":null,\"renderers\":[{\"id\":\"12630\"}],\"tags\":[\"hv_created\"],\"tooltips\":[[\"index\",\"@{index}\"],[\"0\",\"@{A_0}\"]]},\"id\":\"12594\",\"type\":\"HoverTool\"},{\"attributes\":{},\"id\":\"12693\",\"type\":\"AllLabels\"},{\"attributes\":{\"below\":[{\"id\":\"12604\"}],\"center\":[{\"id\":\"12606\"},{\"id\":\"12610\"}],\"height\":300,\"left\":[{\"id\":\"12607\"}],\"margin\":[5,5,5,5],\"min_border_bottom\":10,\"min_border_left\":10,\"min_border_right\":10,\"min_border_top\":10,\"renderers\":[{\"id\":\"12630\"}],\"sizing_mode\":\"fixed\",\"title\":{\"id\":\"12596\"},\"toolbar\":{\"id\":\"12617\"},\"width\":700,\"x_range\":{\"id\":\"12592\"},\"x_scale\":{\"id\":\"12600\"},\"y_range\":{\"id\":\"12593\"},\"y_scale\":{\"id\":\"12602\"}},\"id\":\"12595\",\"subtype\":\"Figure\",\"type\":\"Plot\"},{\"attributes\":{},\"id\":\"12608\",\"type\":\"BasicTicker\"},{\"attributes\":{\"fill_alpha\":{\"value\":0.2},\"fill_color\":{\"value\":\"#30a2da\"},\"hatch_alpha\":{\"value\":0.2},\"hatch_color\":{\"value\":\"#30a2da\"},\"line_alpha\":{\"value\":0.2},\"top\":{\"field\":\"A_0\"},\"width\":{\"value\":0.8},\"x\":{\"field\":\"index\"}},\"id\":\"12687\",\"type\":\"VBar\"},{\"attributes\":{\"axis\":{\"id\":\"12604\"},\"coordinates\":null,\"grid_line_color\":null,\"group\":null,\"ticker\":null},\"id\":\"12606\",\"type\":\"Grid\"},{\"attributes\":{},\"id\":\"12635\",\"type\":\"AllLabels\"},{\"attributes\":{},\"id\":\"12663\",\"type\":\"CategoricalTicker\"},{\"attributes\":{},\"id\":\"12671\",\"type\":\"WheelZoomTool\"},{\"attributes\":{},\"id\":\"12673\",\"type\":\"ResetTool\"},{\"attributes\":{},\"id\":\"12611\",\"type\":\"SaveTool\"},{\"attributes\":{\"axis_label\":\"# of missing observations\",\"coordinates\":null,\"formatter\":{\"id\":\"12634\"},\"group\":null,\"major_label_policy\":{\"id\":\"12635\"},\"ticker\":{\"id\":\"12605\"}},\"id\":\"12604\",\"type\":\"CategoricalAxis\"},{\"attributes\":{\"bottom\":{\"value\":0},\"fill_alpha\":{\"value\":1.0},\"fill_color\":{\"value\":\"#30a2da\"},\"hatch_alpha\":{\"value\":1.0},\"hatch_color\":{\"value\":\"#30a2da\"},\"hatch_scale\":{\"value\":12.0},\"hatch_weight\":{\"value\":1.0},\"line_alpha\":{\"value\":1.0},\"line_cap\":{\"value\":\"butt\"},\"line_color\":{\"value\":\"black\"},\"line_dash\":{\"value\":[]},\"line_dash_offset\":{\"value\":0},\"line_join\":{\"value\":\"bevel\"},\"line_width\":{\"value\":1},\"top\":{\"field\":\"A_0\"},\"width\":{\"value\":0.8},\"x\":{\"field\":\"index\"}},\"id\":\"12632\",\"type\":\"VBar\"},{\"attributes\":{},\"id\":\"12670\",\"type\":\"PanTool\"},{\"attributes\":{\"end\":12.1,\"reset_end\":12.1,\"reset_start\":0.0,\"tags\":[[[\"0\",\"0\",null]]]},\"id\":\"12593\",\"type\":\"Range1d\"},{\"attributes\":{\"tools\":[{\"id\":\"12594\"},{\"id\":\"12611\"},{\"id\":\"12612\"},{\"id\":\"12613\"},{\"id\":\"12614\"},{\"id\":\"12615\"}]},\"id\":\"12617\",\"type\":\"Toolbar\"},{\"attributes\":{\"coordinates\":null,\"group\":null,\"text\":\"Missing Variables - Data Shape:(142431, 8)\",\"text_color\":\"black\",\"text_font_size\":\"12pt\"},\"id\":\"12654\",\"type\":\"Title\"},{\"attributes\":{\"data\":{\"A_0\":[11,3,1,0,0,0,0,1],\"index\":[\"No Missing\",\"0-5%\",\"5-10%\",\"10-20%\",\"20-30%\",\"30-40%\",\"40-50%\",\"50-100%\"]},\"selected\":{\"id\":\"12625\"},\"selection_policy\":{\"id\":\"12646\"}},\"id\":\"12624\",\"type\":\"ColumnDataSource\"},{\"attributes\":{},\"id\":\"12660\",\"type\":\"LinearScale\"},{\"attributes\":{\"fill_color\":{\"value\":\"#30a2da\"},\"hatch_color\":{\"value\":\"#30a2da\"},\"top\":{\"field\":\"A_0\"},\"width\":{\"value\":0.8},\"x\":{\"field\":\"index\"}},\"id\":\"12627\",\"type\":\"VBar\"},{\"attributes\":{\"bottom_units\":\"screen\",\"coordinates\":null,\"fill_alpha\":0.5,\"fill_color\":\"lightgrey\",\"group\":null,\"left_units\":\"screen\",\"level\":\"overlay\",\"line_alpha\":1.0,\"line_color\":\"black\",\"line_dash\":[4,4],\"line_width\":2,\"right_units\":\"screen\",\"syncable\":false,\"top_units\":\"screen\"},\"id\":\"12616\",\"type\":\"BoxAnnotation\"},{\"attributes\":{\"child\":{\"id\":\"12595\"},\"name\":\"opportunity_df\",\"title\":\"opportunity_df\"},\"id\":\"12649\",\"type\":\"Panel\"},{\"attributes\":{\"overlay\":{\"id\":\"12674\"}},\"id\":\"12672\",\"type\":\"BoxZoomTool\"},{\"attributes\":{},\"id\":\"12634\",\"type\":\"CategoricalTickFormatter\"},{\"attributes\":{\"fill_alpha\":{\"value\":0.1},\"fill_color\":{\"value\":\"#30a2da\"},\"hatch_alpha\":{\"value\":0.1},\"hatch_color\":{\"value\":\"#30a2da\"},\"line_alpha\":{\"value\":0.1},\"top\":{\"field\":\"A_0\"},\"width\":{\"value\":0.8},\"x\":{\"field\":\"index\"}},\"id\":\"12628\",\"type\":\"VBar\"}],\"root_ids\":[\"12591\",\"12768\"]},\"title\":\"Bokeh Application\",\"version\":\"2.4.3\"}};\n",
       "    var render_items = [{\"docid\":\"0e066321-009b-49ef-a2a3-c3142831ea82\",\"root_ids\":[\"12591\"],\"roots\":{\"12591\":\"8cbcef8f-67ad-445b-babc-30f379283d63\"}}];\n",
       "    root.Bokeh.embed.embed_items_notebook(docs_json, render_items);\n",
       "  }\n",
       "  if (root.Bokeh !== undefined && root.Bokeh.Panel !== undefined) {\n",
       "    embed_document(root);\n",
       "  } else {\n",
       "    var attempts = 0;\n",
       "    var timer = setInterval(function(root) {\n",
       "      if (root.Bokeh !== undefined && root.Bokeh.Panel !== undefined) {\n",
       "        clearInterval(timer);\n",
       "        embed_document(root);\n",
       "      } else if (document.readyState == \"complete\") {\n",
       "        attempts++;\n",
       "        if (attempts > 200) {\n",
       "          clearInterval(timer);\n",
       "          console.log(\"Bokeh: ERROR: Unable to run BokehJS code because BokehJS library is missing\");\n",
       "        }\n",
       "      }\n",
       "    }, 25, root)\n",
       "  }\n",
       "})(window);</script>"
      ],
      "text/plain": [
       "Tabs\n",
       "    [0] HoloViews(Bars, name='opportunity_df')\n",
       "    [1] HoloViews(Bars, name='product_df')"
      ]
     },
     "execution_count": 84,
     "metadata": {
      "application/vnd.holoviews_exec.v0+json": {
       "id": "12591"
      }
     },
     "output_type": "execute_result"
    }
   ],
   "source": [
    "summaries_and_plots = [analysis.get_missing_values_summary(data[x], return_plot=True) for x in data.keys()]\n",
    "plots = [x[1] for x in summaries_and_plots]\n",
    "display_as_tabs([(x, plots[idx]) for idx, x in enumerate(data.keys())])"
   ]
  },
  {
   "cell_type": "markdown",
   "metadata": {},
   "source": [
    "**Dev notes:**\n",
    "\n",
    "<details>\n",
    "    \n",
    "    * By default, the following are considered missing/NA values : `[np.Nan, pd.NaT, 'NA', None]`\n",
    "    * additional values can be passed to tigerml (add_additional_na_values)\n",
    "    * these are applied to all columns.\n",
    "    \n",
    "    * some of the above information can be learnt from the data discovery step (see discussion below)\n",
    "    \n",
    "</details>\n",
    "\n",
    "### Duplicate Columns"
   ]
  },
  {
   "cell_type": "code",
   "execution_count": 85,
   "metadata": {},
   "outputs": [
    {
     "data": {},
     "metadata": {},
     "output_type": "display_data"
    },
    {
     "data": {
      "application/vnd.holoviews_exec.v0+json": "",
      "text/html": [
       "<div id='12869'>\n",
       "  <div class=\"bk-root\" id=\"9135a47c-b23e-48bf-b3c3-ecf5aaa48297\" data-root-id=\"12869\"></div>\n",
       "</div>\n",
       "<script type=\"application/javascript\">(function(root) {\n",
       "  function embed_document(root) {\n",
       "    var docs_json = {\"fc27875a-2701-4410-96f7-4a2278fed59d\":{\"defs\":[{\"extends\":null,\"module\":null,\"name\":\"ReactiveHTML1\",\"overrides\":[],\"properties\":[]},{\"extends\":null,\"module\":null,\"name\":\"FlexBox1\",\"overrides\":[],\"properties\":[{\"default\":\"flex-start\",\"kind\":null,\"name\":\"align_content\"},{\"default\":\"flex-start\",\"kind\":null,\"name\":\"align_items\"},{\"default\":\"row\",\"kind\":null,\"name\":\"flex_direction\"},{\"default\":\"wrap\",\"kind\":null,\"name\":\"flex_wrap\"},{\"default\":\"flex-start\",\"kind\":null,\"name\":\"justify_content\"}]},{\"extends\":null,\"module\":null,\"name\":\"GridStack1\",\"overrides\":[],\"properties\":[{\"default\":\"warn\",\"kind\":null,\"name\":\"mode\"},{\"default\":null,\"kind\":null,\"name\":\"ncols\"},{\"default\":null,\"kind\":null,\"name\":\"nrows\"},{\"default\":true,\"kind\":null,\"name\":\"allow_resize\"},{\"default\":true,\"kind\":null,\"name\":\"allow_drag\"},{\"default\":[],\"kind\":null,\"name\":\"state\"}]},{\"extends\":null,\"module\":null,\"name\":\"click1\",\"overrides\":[],\"properties\":[{\"default\":\"\",\"kind\":null,\"name\":\"terminal_output\"},{\"default\":\"\",\"kind\":null,\"name\":\"debug_name\"},{\"default\":0,\"kind\":null,\"name\":\"clears\"}]},{\"extends\":null,\"module\":null,\"name\":\"NotificationAreaBase1\",\"overrides\":[],\"properties\":[{\"default\":\"bottom-right\",\"kind\":null,\"name\":\"position\"},{\"default\":0,\"kind\":null,\"name\":\"_clear\"}]},{\"extends\":null,\"module\":null,\"name\":\"NotificationArea1\",\"overrides\":[],\"properties\":[{\"default\":[],\"kind\":null,\"name\":\"notifications\"},{\"default\":\"bottom-right\",\"kind\":null,\"name\":\"position\"},{\"default\":0,\"kind\":null,\"name\":\"_clear\"},{\"default\":[{\"background\":\"#ffc107\",\"icon\":{\"className\":\"fas fa-exclamation-triangle\",\"color\":\"white\",\"tagName\":\"i\"},\"type\":\"warning\"},{\"background\":\"#007bff\",\"icon\":{\"className\":\"fas fa-info-circle\",\"color\":\"white\",\"tagName\":\"i\"},\"type\":\"info\"}],\"kind\":null,\"name\":\"types\"}]},{\"extends\":null,\"module\":null,\"name\":\"Notification\",\"overrides\":[],\"properties\":[{\"default\":null,\"kind\":null,\"name\":\"background\"},{\"default\":3000,\"kind\":null,\"name\":\"duration\"},{\"default\":null,\"kind\":null,\"name\":\"icon\"},{\"default\":\"\",\"kind\":null,\"name\":\"message\"},{\"default\":null,\"kind\":null,\"name\":\"notification_type\"},{\"default\":false,\"kind\":null,\"name\":\"_destroyed\"}]},{\"extends\":null,\"module\":null,\"name\":\"TemplateActions1\",\"overrides\":[],\"properties\":[{\"default\":0,\"kind\":null,\"name\":\"open_modal\"},{\"default\":0,\"kind\":null,\"name\":\"close_modal\"}]},{\"extends\":null,\"module\":null,\"name\":\"MaterialTemplateActions1\",\"overrides\":[],\"properties\":[{\"default\":0,\"kind\":null,\"name\":\"open_modal\"},{\"default\":0,\"kind\":null,\"name\":\"close_modal\"}]}],\"roots\":{\"references\":[{\"attributes\":{\"margin\":[0,0,0,0],\"tabs\":[{\"id\":\"12871\"},{\"id\":\"12873\"}]},\"id\":\"12869\",\"type\":\"panel.models.tabs.Tabs\"},{\"attributes\":{\"client_comm_id\":\"26d0dc301fee49f5ae8d718f23ff0198\",\"comm_id\":\"c7375dc029b2456fb0ddb1a382bd9c28\",\"plot_id\":\"12869\"},\"id\":\"12874\",\"type\":\"panel.models.comm_manager.CommManager\"},{\"attributes\":{\"css_classes\":[\"markdown\"],\"margin\":[5,5,5,5],\"name\":\"opportunity_df\",\"text\":\"&lt;p&gt;No duplicate variables&lt;/p&gt;\"},\"id\":\"12870\",\"type\":\"panel.models.markup.HTML\"},{\"attributes\":{\"child\":{\"id\":\"12872\"},\"name\":\"product_df\",\"title\":\"product_df\"},\"id\":\"12873\",\"type\":\"Panel\"},{\"attributes\":{\"css_classes\":[\"markdown\"],\"margin\":[5,5,5,5],\"name\":\"product_df\",\"text\":\"&lt;p&gt;No duplicate variables&lt;/p&gt;\"},\"id\":\"12872\",\"type\":\"panel.models.markup.HTML\"},{\"attributes\":{\"child\":{\"id\":\"12870\"},\"name\":\"opportunity_df\",\"title\":\"opportunity_df\"},\"id\":\"12871\",\"type\":\"Panel\"}],\"root_ids\":[\"12869\",\"12874\"]},\"title\":\"Bokeh Application\",\"version\":\"2.4.3\"}};\n",
       "    var render_items = [{\"docid\":\"fc27875a-2701-4410-96f7-4a2278fed59d\",\"root_ids\":[\"12869\"],\"roots\":{\"12869\":\"9135a47c-b23e-48bf-b3c3-ecf5aaa48297\"}}];\n",
       "    root.Bokeh.embed.embed_items_notebook(docs_json, render_items);\n",
       "  }\n",
       "  if (root.Bokeh !== undefined && root.Bokeh.Panel !== undefined) {\n",
       "    embed_document(root);\n",
       "  } else {\n",
       "    var attempts = 0;\n",
       "    var timer = setInterval(function(root) {\n",
       "      if (root.Bokeh !== undefined && root.Bokeh.Panel !== undefined) {\n",
       "        clearInterval(timer);\n",
       "        embed_document(root);\n",
       "      } else if (document.readyState == \"complete\") {\n",
       "        attempts++;\n",
       "        if (attempts > 200) {\n",
       "          clearInterval(timer);\n",
       "          console.log(\"Bokeh: ERROR: Unable to run BokehJS code because BokehJS library is missing\");\n",
       "        }\n",
       "      }\n",
       "    }, 25, root)\n",
       "  }\n",
       "})(window);</script>"
      ],
      "text/plain": [
       "Tabs\n",
       "    [0] Markdown(str, name='opportunity_df')\n",
       "    [1] Markdown(str, name='product_df')"
      ]
     },
     "execution_count": 85,
     "metadata": {
      "application/vnd.holoviews_exec.v0+json": {
       "id": "12869"
      }
     },
     "output_type": "execute_result"
    }
   ],
   "source": [
    "summaries = [analysis.get_duplicate_columns(data[x]) for x in data.keys()]\n",
    "display_as_tabs([(x, summaries[idx]) for idx, x in enumerate(data.keys())])"
   ]
  },
  {
   "cell_type": "markdown",
   "metadata": {},
   "source": [
    "### Outlier Checks"
   ]
  },
  {
   "cell_type": "code",
   "execution_count": 86,
   "metadata": {},
   "outputs": [
    {
     "data": {},
     "metadata": {},
     "output_type": "display_data"
    },
    {
     "data": {
      "application/vnd.holoviews_exec.v0+json": "",
      "text/html": [
       "<div id='12875'>\n",
       "  <div class=\"bk-root\" id=\"dbc1d5d6-1275-4892-9faa-bb2acb491f00\" data-root-id=\"12875\"></div>\n",
       "</div>\n",
       "<script type=\"application/javascript\">(function(root) {\n",
       "  function embed_document(root) {\n",
       "    var docs_json = {\"ea20a7ce-4757-40bd-bc10-9fbc389a9d92\":{\"defs\":[{\"extends\":null,\"module\":null,\"name\":\"ReactiveHTML1\",\"overrides\":[],\"properties\":[]},{\"extends\":null,\"module\":null,\"name\":\"FlexBox1\",\"overrides\":[],\"properties\":[{\"default\":\"flex-start\",\"kind\":null,\"name\":\"align_content\"},{\"default\":\"flex-start\",\"kind\":null,\"name\":\"align_items\"},{\"default\":\"row\",\"kind\":null,\"name\":\"flex_direction\"},{\"default\":\"wrap\",\"kind\":null,\"name\":\"flex_wrap\"},{\"default\":\"flex-start\",\"kind\":null,\"name\":\"justify_content\"}]},{\"extends\":null,\"module\":null,\"name\":\"GridStack1\",\"overrides\":[],\"properties\":[{\"default\":\"warn\",\"kind\":null,\"name\":\"mode\"},{\"default\":null,\"kind\":null,\"name\":\"ncols\"},{\"default\":null,\"kind\":null,\"name\":\"nrows\"},{\"default\":true,\"kind\":null,\"name\":\"allow_resize\"},{\"default\":true,\"kind\":null,\"name\":\"allow_drag\"},{\"default\":[],\"kind\":null,\"name\":\"state\"}]},{\"extends\":null,\"module\":null,\"name\":\"click1\",\"overrides\":[],\"properties\":[{\"default\":\"\",\"kind\":null,\"name\":\"terminal_output\"},{\"default\":\"\",\"kind\":null,\"name\":\"debug_name\"},{\"default\":0,\"kind\":null,\"name\":\"clears\"}]},{\"extends\":null,\"module\":null,\"name\":\"NotificationAreaBase1\",\"overrides\":[],\"properties\":[{\"default\":\"bottom-right\",\"kind\":null,\"name\":\"position\"},{\"default\":0,\"kind\":null,\"name\":\"_clear\"}]},{\"extends\":null,\"module\":null,\"name\":\"NotificationArea1\",\"overrides\":[],\"properties\":[{\"default\":[],\"kind\":null,\"name\":\"notifications\"},{\"default\":\"bottom-right\",\"kind\":null,\"name\":\"position\"},{\"default\":0,\"kind\":null,\"name\":\"_clear\"},{\"default\":[{\"background\":\"#ffc107\",\"icon\":{\"className\":\"fas fa-exclamation-triangle\",\"color\":\"white\",\"tagName\":\"i\"},\"type\":\"warning\"},{\"background\":\"#007bff\",\"icon\":{\"className\":\"fas fa-info-circle\",\"color\":\"white\",\"tagName\":\"i\"},\"type\":\"info\"}],\"kind\":null,\"name\":\"types\"}]},{\"extends\":null,\"module\":null,\"name\":\"Notification\",\"overrides\":[],\"properties\":[{\"default\":null,\"kind\":null,\"name\":\"background\"},{\"default\":3000,\"kind\":null,\"name\":\"duration\"},{\"default\":null,\"kind\":null,\"name\":\"icon\"},{\"default\":\"\",\"kind\":null,\"name\":\"message\"},{\"default\":null,\"kind\":null,\"name\":\"notification_type\"},{\"default\":false,\"kind\":null,\"name\":\"_destroyed\"}]},{\"extends\":null,\"module\":null,\"name\":\"TemplateActions1\",\"overrides\":[],\"properties\":[{\"default\":0,\"kind\":null,\"name\":\"open_modal\"},{\"default\":0,\"kind\":null,\"name\":\"close_modal\"}]},{\"extends\":null,\"module\":null,\"name\":\"MaterialTemplateActions1\",\"overrides\":[],\"properties\":[{\"default\":0,\"kind\":null,\"name\":\"open_modal\"},{\"default\":0,\"kind\":null,\"name\":\"close_modal\"}]}],\"roots\":{\"references\":[{\"attributes\":{},\"id\":\"12953\",\"type\":\"IntEditor\"},{\"attributes\":{\"editor\":{\"id\":\"12938\"},\"field\":\"('Data Shape:(142431, 8)', '< (1stQ - 1.5 * IQR)')\",\"formatter\":{\"id\":\"12937\"},\"title\":\"('Data Shape:(142431, 8)', '< (1stQ - 1.5 * IQR)')\",\"width\":0},\"id\":\"12939\",\"type\":\"TableColumn\"},{\"attributes\":{\"text_align\":\"right\"},\"id\":\"12894\",\"type\":\"NumberFormatter\"},{\"attributes\":{},\"id\":\"12895\",\"type\":\"IntEditor\"},{\"attributes\":{},\"id\":\"12921\",\"type\":\"StringFormatter\"},{\"attributes\":{},\"id\":\"12905\",\"type\":\"IntEditor\"},{\"attributes\":{},\"id\":\"12943\",\"type\":\"IntEditor\"},{\"attributes\":{\"editor\":{\"id\":\"12943\"},\"field\":\"('Data Shape:(142431, 8)', '> (3rdQ + 1.5 * IQR)')\",\"formatter\":{\"id\":\"12942\"},\"title\":\"('Data Shape:(142431, 8)', '> (3rdQ + 1.5 * IQR)')\",\"width\":0},\"id\":\"12944\",\"type\":\"TableColumn\"},{\"attributes\":{\"text_align\":\"right\"},\"id\":\"12884\",\"type\":\"NumberFormatter\"},{\"attributes\":{},\"id\":\"12890\",\"type\":\"IntEditor\"},{\"attributes\":{},\"id\":\"12948\",\"type\":\"IntEditor\"},{\"attributes\":{\"indices\":[]},\"id\":\"12920\",\"type\":\"Selection\"},{\"attributes\":{},\"id\":\"12962\",\"type\":\"UnionRenderers\"},{\"attributes\":{},\"id\":\"12900\",\"type\":\"IntEditor\"},{\"attributes\":{\"text_align\":\"right\"},\"id\":\"12899\",\"type\":\"NumberFormatter\"},{\"attributes\":{},\"id\":\"12933\",\"type\":\"IntEditor\"},{\"attributes\":{\"source\":{\"id\":\"12919\"}},\"id\":\"12959\",\"type\":\"CDSView\"},{\"attributes\":{\"editor\":{\"id\":\"12880\"},\"field\":\"index\",\"formatter\":{\"id\":\"12878\"},\"title\":\"index\",\"width\":0},\"id\":\"12881\",\"type\":\"TableColumn\"},{\"attributes\":{\"child\":{\"id\":\"12914\"},\"name\":\"opportunity_df\",\"title\":\"opportunity_df\"},\"id\":\"12918\",\"type\":\"Panel\"},{\"attributes\":{\"text_align\":\"right\"},\"id\":\"12952\",\"type\":\"NumberFormatter\"},{\"attributes\":{\"editor\":{\"id\":\"12895\"},\"field\":\"('Data Shape:(313571, 16)', '< (1stQ - 1.5 * IQR)')\",\"formatter\":{\"id\":\"12894\"},\"title\":\"('Data Shape:(313571, 16)', '< (1stQ - 1.5 * IQR)')\",\"width\":0},\"id\":\"12896\",\"type\":\"TableColumn\"},{\"attributes\":{\"editor\":{\"id\":\"12928\"},\"field\":\"('Data Shape:(142431, 8)', '< (mean-3*std)')\",\"formatter\":{\"id\":\"12927\"},\"title\":\"('Data Shape:(142431, 8)', '< (mean-3*std)')\",\"width\":0},\"id\":\"12929\",\"type\":\"TableColumn\"},{\"attributes\":{},\"id\":\"12923\",\"type\":\"CellEditor\"},{\"attributes\":{\"columns\":[{\"id\":\"12881\"},{\"id\":\"12886\"},{\"id\":\"12891\"},{\"id\":\"12896\"},{\"id\":\"12901\"},{\"id\":\"12906\"},{\"id\":\"12911\"}],\"editable\":true,\"height\":300,\"index_position\":null,\"margin\":[5,10,5,10],\"name\":\"opportunity_df\",\"row_height\":40,\"sizing_mode\":\"fixed\",\"source\":{\"id\":\"12876\"},\"view\":{\"id\":\"12916\"},\"width\":800},\"id\":\"12914\",\"type\":\"DataTable\"},{\"attributes\":{\"data\":{\"('Data Shape:(313571, 16)', '+inf')\":[0,0,0],\"('Data Shape:(313571, 16)', '-inf')\":[0,0,0],\"('Data Shape:(313571, 16)', '< (1stQ - 1.5 * IQR)')\":[0,71980,71980],\"('Data Shape:(313571, 16)', '< (mean-3*std)')\":[0,0,0],\"('Data Shape:(313571, 16)', '> (3rdQ + 1.5 * IQR)')\":[23189,0,0],\"('Data Shape:(313571, 16)', '> (mean+3*std)')\":[4780,0,0],\"index\":[\"\\u00efopportunity id\",\"transition to timestamp\",\"transition from timestamp\"]},\"selected\":{\"id\":\"12877\"},\"selection_policy\":{\"id\":\"12962\"}},\"id\":\"12876\",\"type\":\"ColumnDataSource\"},{\"attributes\":{\"text_align\":\"right\"},\"id\":\"12942\",\"type\":\"NumberFormatter\"},{\"attributes\":{\"editor\":{\"id\":\"12953\"},\"field\":\"('Data Shape:(142431, 8)', '+inf')\",\"formatter\":{\"id\":\"12952\"},\"title\":\"('Data Shape:(142431, 8)', '+inf')\",\"width\":0},\"id\":\"12954\",\"type\":\"TableColumn\"},{\"attributes\":{\"editor\":{\"id\":\"12900\"},\"field\":\"('Data Shape:(313571, 16)', '> (3rdQ + 1.5 * IQR)')\",\"formatter\":{\"id\":\"12899\"},\"title\":\"('Data Shape:(313571, 16)', '> (3rdQ + 1.5 * IQR)')\",\"width\":0},\"id\":\"12901\",\"type\":\"TableColumn\"},{\"attributes\":{\"text_align\":\"right\"},\"id\":\"12927\",\"type\":\"NumberFormatter\"},{\"attributes\":{\"text_align\":\"right\"},\"id\":\"12904\",\"type\":\"NumberFormatter\"},{\"attributes\":{},\"id\":\"12938\",\"type\":\"IntEditor\"},{\"attributes\":{\"editor\":{\"id\":\"12923\"},\"field\":\"index\",\"formatter\":{\"id\":\"12921\"},\"title\":\"index\",\"width\":0},\"id\":\"12924\",\"type\":\"TableColumn\"},{\"attributes\":{},\"id\":\"12910\",\"type\":\"IntEditor\"},{\"attributes\":{\"child\":{\"id\":\"12957\"},\"name\":\"product_df\",\"title\":\"product_df\"},\"id\":\"12961\",\"type\":\"Panel\"},{\"attributes\":{\"text_align\":\"right\"},\"id\":\"12889\",\"type\":\"NumberFormatter\"},{\"attributes\":{},\"id\":\"12964\",\"type\":\"UnionRenderers\"},{\"attributes\":{\"text_align\":\"right\"},\"id\":\"12937\",\"type\":\"NumberFormatter\"},{\"attributes\":{\"text_align\":\"right\"},\"id\":\"12932\",\"type\":\"NumberFormatter\"},{\"attributes\":{\"editor\":{\"id\":\"12910\"},\"field\":\"('Data Shape:(313571, 16)', '+inf')\",\"formatter\":{\"id\":\"12909\"},\"title\":\"('Data Shape:(313571, 16)', '+inf')\",\"width\":0},\"id\":\"12911\",\"type\":\"TableColumn\"},{\"attributes\":{\"data\":{\"('Data Shape:(142431, 8)', '+inf')\":[0,0,0,0],\"('Data Shape:(142431, 8)', '-inf')\":[0,0,0,0],\"('Data Shape:(142431, 8)', '< (1stQ - 1.5 * IQR)')\":[0,0,0,0],\"('Data Shape:(142431, 8)', '< (mean-3*std)')\":[0,0,0,0],\"('Data Shape:(142431, 8)', '> (3rdQ + 1.5 * IQR)')\":[374,18741,19242,10979],\"('Data Shape:(142431, 8)', '> (mean+3*std)')\":[374,705,544,10979],\"index\":[\"\\u00efopportunity id\",\"product $\",\"product quantity\",\"snapshot time\"]},\"selected\":{\"id\":\"12920\"},\"selection_policy\":{\"id\":\"12964\"}},\"id\":\"12919\",\"type\":\"ColumnDataSource\"},{\"attributes\":{\"source\":{\"id\":\"12876\"}},\"id\":\"12916\",\"type\":\"CDSView\"},{\"attributes\":{\"editor\":{\"id\":\"12885\"},\"field\":\"('Data Shape:(313571, 16)', '< (mean-3*std)')\",\"formatter\":{\"id\":\"12884\"},\"title\":\"('Data Shape:(313571, 16)', '< (mean-3*std)')\",\"width\":0},\"id\":\"12886\",\"type\":\"TableColumn\"},{\"attributes\":{},\"id\":\"12928\",\"type\":\"IntEditor\"},{\"attributes\":{\"text_align\":\"right\"},\"id\":\"12947\",\"type\":\"NumberFormatter\"},{\"attributes\":{\"editor\":{\"id\":\"12890\"},\"field\":\"('Data Shape:(313571, 16)', '> (mean+3*std)')\",\"formatter\":{\"id\":\"12889\"},\"title\":\"('Data Shape:(313571, 16)', '> (mean+3*std)')\",\"width\":0},\"id\":\"12891\",\"type\":\"TableColumn\"},{\"attributes\":{\"editor\":{\"id\":\"12905\"},\"field\":\"('Data Shape:(313571, 16)', '-inf')\",\"formatter\":{\"id\":\"12904\"},\"title\":\"('Data Shape:(313571, 16)', '-inf')\",\"width\":0},\"id\":\"12906\",\"type\":\"TableColumn\"},{\"attributes\":{\"editor\":{\"id\":\"12933\"},\"field\":\"('Data Shape:(142431, 8)', '> (mean+3*std)')\",\"formatter\":{\"id\":\"12932\"},\"title\":\"('Data Shape:(142431, 8)', '> (mean+3*std)')\",\"width\":0},\"id\":\"12934\",\"type\":\"TableColumn\"},{\"attributes\":{\"columns\":[{\"id\":\"12924\"},{\"id\":\"12929\"},{\"id\":\"12934\"},{\"id\":\"12939\"},{\"id\":\"12944\"},{\"id\":\"12949\"},{\"id\":\"12954\"}],\"editable\":true,\"height\":300,\"index_position\":null,\"margin\":[5,10,5,10],\"name\":\"product_df\",\"row_height\":40,\"sizing_mode\":\"fixed\",\"source\":{\"id\":\"12919\"},\"view\":{\"id\":\"12959\"},\"width\":800},\"id\":\"12957\",\"type\":\"DataTable\"},{\"attributes\":{},\"id\":\"12878\",\"type\":\"StringFormatter\"},{\"attributes\":{},\"id\":\"12880\",\"type\":\"CellEditor\"},{\"attributes\":{\"text_align\":\"right\"},\"id\":\"12909\",\"type\":\"NumberFormatter\"},{\"attributes\":{\"client_comm_id\":\"9328648fad4b4d8fa337c3b65c43c54e\",\"comm_id\":\"94bc3ee351194a3abacc2943285b16fc\",\"plot_id\":\"12875\"},\"id\":\"12974\",\"type\":\"panel.models.comm_manager.CommManager\"},{\"attributes\":{\"indices\":[]},\"id\":\"12877\",\"type\":\"Selection\"},{\"attributes\":{\"margin\":[0,0,0,0],\"tabs\":[{\"id\":\"12918\"},{\"id\":\"12961\"}]},\"id\":\"12875\",\"type\":\"panel.models.tabs.Tabs\"},{\"attributes\":{},\"id\":\"12885\",\"type\":\"IntEditor\"},{\"attributes\":{\"editor\":{\"id\":\"12948\"},\"field\":\"('Data Shape:(142431, 8)', '-inf')\",\"formatter\":{\"id\":\"12947\"},\"title\":\"('Data Shape:(142431, 8)', '-inf')\",\"width\":0},\"id\":\"12949\",\"type\":\"TableColumn\"}],\"root_ids\":[\"12875\",\"12974\"]},\"title\":\"Bokeh Application\",\"version\":\"2.4.3\"}};\n",
       "    var render_items = [{\"docid\":\"ea20a7ce-4757-40bd-bc10-9fbc389a9d92\",\"root_ids\":[\"12875\"],\"roots\":{\"12875\":\"dbc1d5d6-1275-4892-9faa-bb2acb491f00\"}}];\n",
       "    root.Bokeh.embed.embed_items_notebook(docs_json, render_items);\n",
       "  }\n",
       "  if (root.Bokeh !== undefined && root.Bokeh.Panel !== undefined) {\n",
       "    embed_document(root);\n",
       "  } else {\n",
       "    var attempts = 0;\n",
       "    var timer = setInterval(function(root) {\n",
       "      if (root.Bokeh !== undefined && root.Bokeh.Panel !== undefined) {\n",
       "        clearInterval(timer);\n",
       "        embed_document(root);\n",
       "      } else if (document.readyState == \"complete\") {\n",
       "        attempts++;\n",
       "        if (attempts > 200) {\n",
       "          clearInterval(timer);\n",
       "          console.log(\"Bokeh: ERROR: Unable to run BokehJS code because BokehJS library is missing\");\n",
       "        }\n",
       "      }\n",
       "    }, 25, root)\n",
       "  }\n",
       "})(window);</script>"
      ],
      "text/plain": [
       "Tabs\n",
       "    [0] DataFrame(height=300, name='opportunity_df', sizing_mode='fixed', value=                          ..., width=800)\n",
       "    [1] DataFrame(height=300, name='product_df', sizing_mode='fixed', value=                  ('Data S..., width=800)"
      ]
     },
     "execution_count": 86,
     "metadata": {
      "application/vnd.holoviews_exec.v0+json": {
       "id": "12875"
      }
     },
     "output_type": "execute_result"
    }
   ],
   "source": [
    "summaries = [analysis.get_outliers(data[x]) for x in data.keys()]\n",
    "display_as_tabs([(x, summaries[idx]) for idx, x in enumerate(data.keys())])"
   ]
  },
  {
   "cell_type": "code",
   "execution_count": 87,
   "metadata": {},
   "outputs": [
    {
     "data": {
      "text/html": [
       "<div>\n",
       "<style scoped>\n",
       "    .dataframe tbody tr th:only-of-type {\n",
       "        vertical-align: middle;\n",
       "    }\n",
       "\n",
       "    .dataframe tbody tr th {\n",
       "        vertical-align: top;\n",
       "    }\n",
       "\n",
       "    .dataframe thead th {\n",
       "        text-align: right;\n",
       "    }\n",
       "</style>\n",
       "<table border=\"1\" class=\"dataframe\">\n",
       "  <thead>\n",
       "    <tr style=\"text-align: right;\">\n",
       "      <th></th>\n",
       "      <th>ïopportunity id</th>\n",
       "      <th>transition to stage</th>\n",
       "      <th>transition to timestamp</th>\n",
       "      <th>transition from stage name</th>\n",
       "      <th>transition from timestamp</th>\n",
       "      <th>customer name</th>\n",
       "      <th>risk status</th>\n",
       "      <th>creation date</th>\n",
       "      <th>decision date</th>\n",
       "      <th>opportunity status</th>\n",
       "      <th>opportunity type</th>\n",
       "      <th>core consumption market</th>\n",
       "      <th>core product segment</th>\n",
       "      <th>core sales segment</th>\n",
       "      <th>geography</th>\n",
       "      <th>core product application</th>\n",
       "    </tr>\n",
       "  </thead>\n",
       "  <tbody>\n",
       "    <tr>\n",
       "      <th>0</th>\n",
       "      <td>5</td>\n",
       "      <td>Stage 3</td>\n",
       "      <td>20150211130001</td>\n",
       "      <td>NaN</td>\n",
       "      <td>NaN</td>\n",
       "      <td>Customer 83</td>\n",
       "      <td>NaN</td>\n",
       "      <td>2015-02-11</td>\n",
       "      <td>2015-03-12</td>\n",
       "      <td>NaN</td>\n",
       "      <td>NaN</td>\n",
       "      <td>Core Market 11</td>\n",
       "      <td>Core Prd Seg 3</td>\n",
       "      <td>Sales Segment 8</td>\n",
       "      <td>Geo NA</td>\n",
       "      <td>Prd App 4</td>\n",
       "    </tr>\n",
       "    <tr>\n",
       "      <th>1</th>\n",
       "      <td>5</td>\n",
       "      <td>Stage 3</td>\n",
       "      <td>20150213050002</td>\n",
       "      <td>Stage 3</td>\n",
       "      <td>2.015021e+13</td>\n",
       "      <td>Customer 83</td>\n",
       "      <td>NaN</td>\n",
       "      <td>2015-02-11</td>\n",
       "      <td>2015-03-12</td>\n",
       "      <td>NaN</td>\n",
       "      <td>NaN</td>\n",
       "      <td>Core Market 11</td>\n",
       "      <td>Core Prd Seg 3</td>\n",
       "      <td>Sales Segment 8</td>\n",
       "      <td>Geo NA</td>\n",
       "      <td>Prd App 4</td>\n",
       "    </tr>\n",
       "    <tr>\n",
       "      <th>2</th>\n",
       "      <td>5</td>\n",
       "      <td>Stage 3</td>\n",
       "      <td>20150218210007</td>\n",
       "      <td>Stage 3</td>\n",
       "      <td>2.015021e+13</td>\n",
       "      <td>Customer 83</td>\n",
       "      <td>NaN</td>\n",
       "      <td>2015-02-11</td>\n",
       "      <td>2015-03-12</td>\n",
       "      <td>NaN</td>\n",
       "      <td>NaN</td>\n",
       "      <td>Core Market 11</td>\n",
       "      <td>Core Prd Seg 3</td>\n",
       "      <td>Sales Segment 8</td>\n",
       "      <td>Geo NA</td>\n",
       "      <td>Prd App 4</td>\n",
       "    </tr>\n",
       "    <tr>\n",
       "      <th>3</th>\n",
       "      <td>5</td>\n",
       "      <td>Stage 3</td>\n",
       "      <td>20150304210002</td>\n",
       "      <td>Stage 3</td>\n",
       "      <td>2.015022e+13</td>\n",
       "      <td>Customer 83</td>\n",
       "      <td>NaN</td>\n",
       "      <td>2015-02-11</td>\n",
       "      <td>2015-03-12</td>\n",
       "      <td>NaN</td>\n",
       "      <td>NaN</td>\n",
       "      <td>Core Market 11</td>\n",
       "      <td>Core Prd Seg 3</td>\n",
       "      <td>Sales Segment 8</td>\n",
       "      <td>Geo NA</td>\n",
       "      <td>Prd App 4</td>\n",
       "    </tr>\n",
       "    <tr>\n",
       "      <th>4</th>\n",
       "      <td>5</td>\n",
       "      <td>Stage 3</td>\n",
       "      <td>20150304210002</td>\n",
       "      <td>Stage 3</td>\n",
       "      <td>2.015030e+13</td>\n",
       "      <td>Customer 83</td>\n",
       "      <td>NaN</td>\n",
       "      <td>2015-02-11</td>\n",
       "      <td>2015-03-12</td>\n",
       "      <td>Open</td>\n",
       "      <td>NaN</td>\n",
       "      <td>Core Market 11</td>\n",
       "      <td>Core Prd Seg 3</td>\n",
       "      <td>Sales Segment 8</td>\n",
       "      <td>Geo NA</td>\n",
       "      <td>Prd App 4</td>\n",
       "    </tr>\n",
       "  </tbody>\n",
       "</table>\n",
       "</div>"
      ],
      "text/plain": [
       "   ïopportunity id transition to stage  transition to timestamp  \\\n",
       "0                5             Stage 3           20150211130001   \n",
       "1                5             Stage 3           20150213050002   \n",
       "2                5             Stage 3           20150218210007   \n",
       "3                5             Stage 3           20150304210002   \n",
       "4                5             Stage 3           20150304210002   \n",
       "\n",
       "  transition from stage name  transition from timestamp customer name  \\\n",
       "0                        NaN                        NaN   Customer 83   \n",
       "1                    Stage 3               2.015021e+13   Customer 83   \n",
       "2                    Stage 3               2.015021e+13   Customer 83   \n",
       "3                    Stage 3               2.015022e+13   Customer 83   \n",
       "4                    Stage 3               2.015030e+13   Customer 83   \n",
       "\n",
       "  risk status creation date decision date opportunity status opportunity type  \\\n",
       "0         NaN    2015-02-11    2015-03-12                NaN              NaN   \n",
       "1         NaN    2015-02-11    2015-03-12                NaN              NaN   \n",
       "2         NaN    2015-02-11    2015-03-12                NaN              NaN   \n",
       "3         NaN    2015-02-11    2015-03-12                NaN              NaN   \n",
       "4         NaN    2015-02-11    2015-03-12               Open              NaN   \n",
       "\n",
       "  core consumption market core product segment core sales segment geography  \\\n",
       "0          Core Market 11       Core Prd Seg 3    Sales Segment 8    Geo NA   \n",
       "1          Core Market 11       Core Prd Seg 3    Sales Segment 8    Geo NA   \n",
       "2          Core Market 11       Core Prd Seg 3    Sales Segment 8    Geo NA   \n",
       "3          Core Market 11       Core Prd Seg 3    Sales Segment 8    Geo NA   \n",
       "4          Core Market 11       Core Prd Seg 3    Sales Segment 8    Geo NA   \n",
       "\n",
       "  core product application  \n",
       "0                Prd App 4  \n",
       "1                Prd App 4  \n",
       "2                Prd App 4  \n",
       "3                Prd App 4  \n",
       "4                Prd App 4  "
      ]
     },
     "execution_count": 87,
     "metadata": {},
     "output_type": "execute_result"
    }
   ],
   "source": [
    "data['opportunity_df'].head()"
   ]
  },
  {
   "cell_type": "code",
   "execution_count": 88,
   "metadata": {},
   "outputs": [
    {
     "data": {
      "text/html": [
       "<div>\n",
       "<style scoped>\n",
       "    .dataframe tbody tr th:only-of-type {\n",
       "        vertical-align: middle;\n",
       "    }\n",
       "\n",
       "    .dataframe tbody tr th {\n",
       "        vertical-align: top;\n",
       "    }\n",
       "\n",
       "    .dataframe thead th {\n",
       "        text-align: right;\n",
       "    }\n",
       "</style>\n",
       "<table border=\"1\" class=\"dataframe\">\n",
       "  <thead>\n",
       "    <tr style=\"text-align: right;\">\n",
       "      <th></th>\n",
       "      <th>ïopportunity id</th>\n",
       "      <th>product id</th>\n",
       "      <th>product segment name</th>\n",
       "      <th>product status</th>\n",
       "      <th>product $</th>\n",
       "      <th>product quantity</th>\n",
       "      <th>decision date</th>\n",
       "      <th>snapshot time</th>\n",
       "    </tr>\n",
       "  </thead>\n",
       "  <tbody>\n",
       "    <tr>\n",
       "      <th>0</th>\n",
       "      <td>1361</td>\n",
       "      <td>6669</td>\n",
       "      <td>Product Segment NA</td>\n",
       "      <td>Win Approved</td>\n",
       "      <td>0.0</td>\n",
       "      <td>1.0</td>\n",
       "      <td>2015-08-12</td>\n",
       "      <td>20151125050002</td>\n",
       "    </tr>\n",
       "    <tr>\n",
       "      <th>1</th>\n",
       "      <td>1361</td>\n",
       "      <td>6669</td>\n",
       "      <td>Product Segment NA</td>\n",
       "      <td>Win Approved</td>\n",
       "      <td>0.0</td>\n",
       "      <td>1.0</td>\n",
       "      <td>2015-08-12</td>\n",
       "      <td>20151025050002</td>\n",
       "    </tr>\n",
       "    <tr>\n",
       "      <th>2</th>\n",
       "      <td>1361</td>\n",
       "      <td>6669</td>\n",
       "      <td>Product Segment NA</td>\n",
       "      <td>Win Approved</td>\n",
       "      <td>0.0</td>\n",
       "      <td>1.0</td>\n",
       "      <td>2015-08-12</td>\n",
       "      <td>20160105050003</td>\n",
       "    </tr>\n",
       "    <tr>\n",
       "      <th>3</th>\n",
       "      <td>1361</td>\n",
       "      <td>6669</td>\n",
       "      <td>Product Segment NA</td>\n",
       "      <td>Win Approved</td>\n",
       "      <td>0.0</td>\n",
       "      <td>1.0</td>\n",
       "      <td>2015-08-12</td>\n",
       "      <td>20160101050003</td>\n",
       "    </tr>\n",
       "    <tr>\n",
       "      <th>4</th>\n",
       "      <td>1361</td>\n",
       "      <td>6669</td>\n",
       "      <td>Product Segment NA</td>\n",
       "      <td>Pending</td>\n",
       "      <td>0.0</td>\n",
       "      <td>1.0</td>\n",
       "      <td>2015-08-31</td>\n",
       "      <td>20150525050003</td>\n",
       "    </tr>\n",
       "  </tbody>\n",
       "</table>\n",
       "</div>"
      ],
      "text/plain": [
       "   ïopportunity id  product id product segment name product status  product $  \\\n",
       "0             1361        6669   Product Segment NA   Win Approved        0.0   \n",
       "1             1361        6669   Product Segment NA   Win Approved        0.0   \n",
       "2             1361        6669   Product Segment NA   Win Approved        0.0   \n",
       "3             1361        6669   Product Segment NA   Win Approved        0.0   \n",
       "4             1361        6669   Product Segment NA        Pending        0.0   \n",
       "\n",
       "   product quantity decision date   snapshot time  \n",
       "0               1.0    2015-08-12  20151125050002  \n",
       "1               1.0    2015-08-12  20151025050002  \n",
       "2               1.0    2015-08-12  20160105050003  \n",
       "3               1.0    2015-08-12  20160101050003  \n",
       "4               1.0    2015-08-31  20150525050003  "
      ]
     },
     "execution_count": 88,
     "metadata": {},
     "output_type": "execute_result"
    }
   ],
   "source": [
    "data['product_df'].head()"
   ]
  },
  {
   "cell_type": "markdown",
   "metadata": {},
   "source": [
    "## Data Cleaning"
   ]
  },
  {
   "cell_type": "markdown",
   "metadata": {},
   "source": [
    "### opportunity data\n",
    "* transition to timestamp, transition from timestamp: convert timestamp to datetime object\n",
    "* core consumption market, core product segment. core sales segment, geography, core product application: make strings to    integer(geo 1 - geo)\n",
    "* Encode 'transition to stage', 'transition from stage name', 'customer name', 'risk status', 'opportunity status', and 'opportunity type' as numerical values\n",
    "* dropped duplicates"
   ]
  },
  {
   "cell_type": "markdown",
   "metadata": {},
   "source": [
    "### product data\n",
    "* snapshot time: convert timestamp to datetime object\n",
    "* encode the product status\n",
    "* sorted the daya\n",
    "* removing duplicates\n",
    "* dropped product segment column as it has only one unique value"
   ]
  },
  {
   "cell_type": "code",
   "execution_count": 89,
   "metadata": {},
   "outputs": [],
   "source": [
    "data={}\n",
    "for i in dataset.list_datasets(context):\n",
    "    if '/raw/' in i:\n",
    "        dataset_name = i.replace('/raw/','')\n",
    "        key_ = dataset_name+'_df'\n",
    "        data[key_] = dataset.load_dataset(context,i)\n",
    "        \n",
    "        # converting column names to lowercase for uniformity\n",
    "        data[key_].columns = string_cleaning(data[key_].columns,lower=True)\n",
    "        data[key_].rename(columns = {'ïopportunity id' : 'opportunity id'}, inplace = True)\n",
    "        if key_ == 'opportunity_df':\n",
    "            \n",
    "            # Convert transition timestamps to datetime objects\n",
    "            data[key_]['transition from timestamp']=pd.to_datetime(data[key_]['transition from timestamp'], format='%Y%m%d%H%M%S')\n",
    "            data[key_]['transition to timestamp']=pd.to_datetime(data[key_]['transition to timestamp'], format='%Y%m%d%H%M%S')\n",
    "                        \n",
    "            # Encode 'transition to stage', 'transition from stage name', 'customer name', 'risk status', \n",
    "            # 'opportunity status', and 'opportunity type' as numerical values\n",
    "            for col in ['transition to stage', 'transition from stage name']:\n",
    "                temp=[]\n",
    "                for i in data[key_][col]:\n",
    "                    if type(i)==str:\n",
    "                        temp.append(int(i[-1]))\n",
    "                    else:\n",
    "                        temp.append(-1)           \n",
    "                data[key_][col]=temp \n",
    "                \n",
    "            \n",
    "            temp=[]\n",
    "            for i in data[key_][\"customer name\"]:\n",
    "                if i!='Customer NA':\n",
    "                    cust_no = int(i.split(\" \")[-1])\n",
    "                    temp.append(cust_no)\n",
    "                else:\n",
    "                    temp.append(-1)           \n",
    "            data[key_][\"customer name\"]=temp\n",
    "            \n",
    "            for col in ['risk status', 'opportunity status', 'opportunity type']:\n",
    "                unique_vals = data[key_][col].unique()\n",
    "                val_dict = {unique_vals[i]: i for i in range(len(unique_vals))}\n",
    "                temp = []\n",
    "                for val in data[key_][col]:\n",
    "                    temp.append(val_dict[val])\n",
    "                data[key_][col] = temp\n",
    "            \n",
    "            # Encode 'core consumption market' and 'core product segment' as numerical values\n",
    "            for col in ['core consumption market', 'core product segment','core sales segment']:\n",
    "                temp = []\n",
    "                for val in data[key_][col]:\n",
    "                    if val != 'Customer NA':\n",
    "                        num = int(val.split(\" \")[-1])\n",
    "                        temp.append(num)\n",
    "                    else:\n",
    "                        temp.append(-1)\n",
    "                data[key_][col] = temp\n",
    "            \n",
    "            temp=[]\n",
    "            for i in data[key_][\"geography\"]:\n",
    "                if i!='Geo NA':\n",
    "                    geo_no = int(i.split(\" \")[-1])\n",
    "                    temp.append(geo_no)\n",
    "                else:\n",
    "                    temp.append(-1)           \n",
    "            data[key_][\"geography\"]=temp\n",
    "            \n",
    "            temp=[]\n",
    "            for i in data[key_][\"core product application\"]:\n",
    "                if i!='Prd App 4 NA':\n",
    "                    prod_app_no = int(i.split(\" \")[-1])\n",
    "                    temp.append(prod_app_no)\n",
    "                else:\n",
    "                    temp.append(-1)           \n",
    "            data[key_][\"core product application\"]=temp\n",
    "            \n",
    "            #removing duplicates\n",
    "            data['opportunity_df']=data['opportunity_df'].drop_duplicates(subset=[\"opportunity id\",\n",
    "            \"transition to stage\",\"transition from stage name\",\"customer name\",\"risk status\",\"creation date\",\"decision date\",\n",
    "            \"opportunity status\",\"opportunity type\",\"core sales segment\",\"geography\",\"core product application\"],keep=\"first\")\n",
    "\n",
    "            opportunity = data['opportunity_df']\n",
    "        if key_ == 'product_df':\n",
    "            \n",
    "            #calculating time taken for transition\n",
    "            data[key_]['snapshot time']=pd.to_datetime(data[key_]['snapshot time'], format='%Y%m%d%H%M%S')\n",
    "            \n",
    "            \n",
    "            temp=[]\n",
    "            prod_status=data[key_]['product status'].unique()\n",
    "            prod_stat_dict= {prod_status[i] : i for i in range(len(prod_status)) }\n",
    "            for i in data[key_][\"product status\"]:\n",
    "                temp.append(prod_stat_dict[i])         \n",
    "            data[key_][\"product status\"]=temp\n",
    "            \n",
    "            #sorting in ascending order\n",
    "            data['product_df'].sort_values(by=['opportunity id','product id','snapshot time','decision date','product $','product quantity'],inplace=True)\n",
    "\n",
    "            #dropping product segment name as it has only NA value\n",
    "            data['product_df'].drop(columns=['product segment name'],inplace=True)\n",
    "            \n",
    "            #dropping duplicates\n",
    "            data['product_df'].drop_duplicates(subset=['opportunity id','product id','product status','product $','product quantity','product quantity'],inplace=True)\n",
    "            product=data['product_df']\n",
    "        \n",
    "        dataset.save_dataset(context, data[key_], 'cleaned/'+dataset_name, index = False)"
   ]
  },
  {
   "cell_type": "code",
   "execution_count": 90,
   "metadata": {},
   "outputs": [
    {
     "data": {
      "text/html": [
       "<div>\n",
       "<style scoped>\n",
       "    .dataframe tbody tr th:only-of-type {\n",
       "        vertical-align: middle;\n",
       "    }\n",
       "\n",
       "    .dataframe tbody tr th {\n",
       "        vertical-align: top;\n",
       "    }\n",
       "\n",
       "    .dataframe thead th {\n",
       "        text-align: right;\n",
       "    }\n",
       "</style>\n",
       "<table border=\"1\" class=\"dataframe\">\n",
       "  <thead>\n",
       "    <tr style=\"text-align: right;\">\n",
       "      <th></th>\n",
       "      <th>opportunity id</th>\n",
       "      <th>product id</th>\n",
       "      <th>product status</th>\n",
       "      <th>product $</th>\n",
       "      <th>product quantity</th>\n",
       "      <th>decision date</th>\n",
       "      <th>snapshot time</th>\n",
       "    </tr>\n",
       "  </thead>\n",
       "  <tbody>\n",
       "    <tr>\n",
       "      <th>245</th>\n",
       "      <td>5</td>\n",
       "      <td>404</td>\n",
       "      <td>1</td>\n",
       "      <td>230400.0</td>\n",
       "      <td>1200.0</td>\n",
       "      <td>12-03-2015</td>\n",
       "      <td>2015-02-11 21:00:01</td>\n",
       "    </tr>\n",
       "    <tr>\n",
       "      <th>272</th>\n",
       "      <td>5</td>\n",
       "      <td>404</td>\n",
       "      <td>0</td>\n",
       "      <td>230400.0</td>\n",
       "      <td>1200.0</td>\n",
       "      <td>16-03-2015</td>\n",
       "      <td>2015-03-16 13:00:01</td>\n",
       "    </tr>\n",
       "    <tr>\n",
       "      <th>526</th>\n",
       "      <td>19</td>\n",
       "      <td>16377</td>\n",
       "      <td>1</td>\n",
       "      <td>0.0</td>\n",
       "      <td>400000.0</td>\n",
       "      <td>14-08-2015</td>\n",
       "      <td>2015-05-11 05:00:04</td>\n",
       "    </tr>\n",
       "    <tr>\n",
       "      <th>455</th>\n",
       "      <td>19</td>\n",
       "      <td>16377</td>\n",
       "      <td>0</td>\n",
       "      <td>0.0</td>\n",
       "      <td>400000.0</td>\n",
       "      <td>18-08-2015</td>\n",
       "      <td>2015-08-18 13:00:02</td>\n",
       "    </tr>\n",
       "    <tr>\n",
       "      <th>443</th>\n",
       "      <td>19</td>\n",
       "      <td>16378</td>\n",
       "      <td>1</td>\n",
       "      <td>0.0</td>\n",
       "      <td>200000.0</td>\n",
       "      <td>14-08-2015</td>\n",
       "      <td>2015-05-11 05:00:04</td>\n",
       "    </tr>\n",
       "  </tbody>\n",
       "</table>\n",
       "</div>"
      ],
      "text/plain": [
       "     opportunity id  product id  product status  product $  product quantity  \\\n",
       "245               5         404               1   230400.0            1200.0   \n",
       "272               5         404               0   230400.0            1200.0   \n",
       "526              19       16377               1        0.0          400000.0   \n",
       "455              19       16377               0        0.0          400000.0   \n",
       "443              19       16378               1        0.0          200000.0   \n",
       "\n",
       "    decision date       snapshot time  \n",
       "245    12-03-2015 2015-02-11 21:00:01  \n",
       "272    16-03-2015 2015-03-16 13:00:01  \n",
       "526    14-08-2015 2015-05-11 05:00:04  \n",
       "455    18-08-2015 2015-08-18 13:00:02  \n",
       "443    14-08-2015 2015-05-11 05:00:04  "
      ]
     },
     "execution_count": 90,
     "metadata": {},
     "output_type": "execute_result"
    }
   ],
   "source": [
    "product.head()"
   ]
  },
  {
   "cell_type": "code",
   "execution_count": 91,
   "metadata": {},
   "outputs": [
    {
     "data": {
      "text/plain": [
       "(9376, 7)"
      ]
     },
     "execution_count": 91,
     "metadata": {},
     "output_type": "execute_result"
    }
   ],
   "source": [
    "product.shape"
   ]
  },
  {
   "cell_type": "code",
   "execution_count": 92,
   "metadata": {},
   "outputs": [
    {
     "data": {
      "text/plain": [
       "(36135, 16)"
      ]
     },
     "execution_count": 92,
     "metadata": {},
     "output_type": "execute_result"
    }
   ],
   "source": [
    "opportunity.shape"
   ]
  },
  {
   "cell_type": "code",
   "execution_count": 93,
   "metadata": {},
   "outputs": [],
   "source": [
    "merged_df=pd.merge(opportunity,product,how='inner',left_on=['opportunity id','decision date'],right_on=['opportunity id','decision date'])\n",
    "dataset.save_dataset(context,merged_df , 'processed/'+'merged_final_dataset')"
   ]
  },
  {
   "cell_type": "code",
   "execution_count": 94,
   "metadata": {},
   "outputs": [
    {
     "data": {
      "text/plain": [
       "(23474, 21)"
      ]
     },
     "execution_count": 94,
     "metadata": {},
     "output_type": "execute_result"
    }
   ],
   "source": [
    "merged_df.shape"
   ]
  },
  {
   "cell_type": "code",
   "execution_count": 95,
   "metadata": {},
   "outputs": [
    {
     "data": {
      "text/html": [
       "<div>\n",
       "<style scoped>\n",
       "    .dataframe tbody tr th:only-of-type {\n",
       "        vertical-align: middle;\n",
       "    }\n",
       "\n",
       "    .dataframe tbody tr th {\n",
       "        vertical-align: top;\n",
       "    }\n",
       "\n",
       "    .dataframe thead th {\n",
       "        text-align: right;\n",
       "    }\n",
       "</style>\n",
       "<table border=\"1\" class=\"dataframe\">\n",
       "  <thead>\n",
       "    <tr style=\"text-align: right;\">\n",
       "      <th></th>\n",
       "      <th>opportunity id</th>\n",
       "      <th>transition to stage</th>\n",
       "      <th>transition to timestamp</th>\n",
       "      <th>transition from stage name</th>\n",
       "      <th>transition from timestamp</th>\n",
       "      <th>customer name</th>\n",
       "      <th>risk status</th>\n",
       "      <th>creation date</th>\n",
       "      <th>decision date</th>\n",
       "      <th>opportunity status</th>\n",
       "      <th>...</th>\n",
       "      <th>core consumption market</th>\n",
       "      <th>core product segment</th>\n",
       "      <th>core sales segment</th>\n",
       "      <th>geography</th>\n",
       "      <th>core product application</th>\n",
       "      <th>product id</th>\n",
       "      <th>product status</th>\n",
       "      <th>product $</th>\n",
       "      <th>product quantity</th>\n",
       "      <th>snapshot time</th>\n",
       "    </tr>\n",
       "  </thead>\n",
       "  <tbody>\n",
       "    <tr>\n",
       "      <th>0</th>\n",
       "      <td>5</td>\n",
       "      <td>3</td>\n",
       "      <td>2015-02-11 13:00:01</td>\n",
       "      <td>-1</td>\n",
       "      <td>NaT</td>\n",
       "      <td>83</td>\n",
       "      <td>0</td>\n",
       "      <td>11-02-2015</td>\n",
       "      <td>12-03-2015</td>\n",
       "      <td>0</td>\n",
       "      <td>...</td>\n",
       "      <td>11</td>\n",
       "      <td>3</td>\n",
       "      <td>8</td>\n",
       "      <td>-1</td>\n",
       "      <td>4</td>\n",
       "      <td>404</td>\n",
       "      <td>1</td>\n",
       "      <td>230400.0</td>\n",
       "      <td>1200.0</td>\n",
       "      <td>2015-02-11 21:00:01</td>\n",
       "    </tr>\n",
       "    <tr>\n",
       "      <th>1</th>\n",
       "      <td>5</td>\n",
       "      <td>3</td>\n",
       "      <td>2015-02-13 05:00:02</td>\n",
       "      <td>3</td>\n",
       "      <td>2015-02-11 13:00:01</td>\n",
       "      <td>83</td>\n",
       "      <td>0</td>\n",
       "      <td>11-02-2015</td>\n",
       "      <td>12-03-2015</td>\n",
       "      <td>0</td>\n",
       "      <td>...</td>\n",
       "      <td>11</td>\n",
       "      <td>3</td>\n",
       "      <td>8</td>\n",
       "      <td>-1</td>\n",
       "      <td>4</td>\n",
       "      <td>404</td>\n",
       "      <td>1</td>\n",
       "      <td>230400.0</td>\n",
       "      <td>1200.0</td>\n",
       "      <td>2015-02-11 21:00:01</td>\n",
       "    </tr>\n",
       "    <tr>\n",
       "      <th>2</th>\n",
       "      <td>5</td>\n",
       "      <td>3</td>\n",
       "      <td>2015-03-04 21:00:02</td>\n",
       "      <td>3</td>\n",
       "      <td>2015-03-04 21:00:02</td>\n",
       "      <td>83</td>\n",
       "      <td>0</td>\n",
       "      <td>11-02-2015</td>\n",
       "      <td>12-03-2015</td>\n",
       "      <td>1</td>\n",
       "      <td>...</td>\n",
       "      <td>11</td>\n",
       "      <td>3</td>\n",
       "      <td>8</td>\n",
       "      <td>-1</td>\n",
       "      <td>4</td>\n",
       "      <td>404</td>\n",
       "      <td>1</td>\n",
       "      <td>230400.0</td>\n",
       "      <td>1200.0</td>\n",
       "      <td>2015-02-11 21:00:01</td>\n",
       "    </tr>\n",
       "    <tr>\n",
       "      <th>3</th>\n",
       "      <td>5</td>\n",
       "      <td>4</td>\n",
       "      <td>2015-03-16 13:00:01</td>\n",
       "      <td>3</td>\n",
       "      <td>2015-03-04 21:00:02</td>\n",
       "      <td>83</td>\n",
       "      <td>0</td>\n",
       "      <td>11-02-2015</td>\n",
       "      <td>12-03-2015</td>\n",
       "      <td>2</td>\n",
       "      <td>...</td>\n",
       "      <td>11</td>\n",
       "      <td>3</td>\n",
       "      <td>8</td>\n",
       "      <td>-1</td>\n",
       "      <td>4</td>\n",
       "      <td>404</td>\n",
       "      <td>1</td>\n",
       "      <td>230400.0</td>\n",
       "      <td>1200.0</td>\n",
       "      <td>2015-02-11 21:00:01</td>\n",
       "    </tr>\n",
       "    <tr>\n",
       "      <th>4</th>\n",
       "      <td>5</td>\n",
       "      <td>4</td>\n",
       "      <td>2015-03-17 13:00:01</td>\n",
       "      <td>4</td>\n",
       "      <td>2015-03-16 13:00:01</td>\n",
       "      <td>83</td>\n",
       "      <td>0</td>\n",
       "      <td>11-02-2015</td>\n",
       "      <td>12-03-2015</td>\n",
       "      <td>2</td>\n",
       "      <td>...</td>\n",
       "      <td>11</td>\n",
       "      <td>3</td>\n",
       "      <td>8</td>\n",
       "      <td>1</td>\n",
       "      <td>4</td>\n",
       "      <td>404</td>\n",
       "      <td>1</td>\n",
       "      <td>230400.0</td>\n",
       "      <td>1200.0</td>\n",
       "      <td>2015-02-11 21:00:01</td>\n",
       "    </tr>\n",
       "  </tbody>\n",
       "</table>\n",
       "<p>5 rows × 21 columns</p>\n",
       "</div>"
      ],
      "text/plain": [
       "   opportunity id  transition to stage transition to timestamp  \\\n",
       "0               5                    3     2015-02-11 13:00:01   \n",
       "1               5                    3     2015-02-13 05:00:02   \n",
       "2               5                    3     2015-03-04 21:00:02   \n",
       "3               5                    4     2015-03-16 13:00:01   \n",
       "4               5                    4     2015-03-17 13:00:01   \n",
       "\n",
       "   transition from stage name transition from timestamp  customer name  \\\n",
       "0                          -1                       NaT             83   \n",
       "1                           3       2015-02-11 13:00:01             83   \n",
       "2                           3       2015-03-04 21:00:02             83   \n",
       "3                           3       2015-03-04 21:00:02             83   \n",
       "4                           4       2015-03-16 13:00:01             83   \n",
       "\n",
       "   risk status creation date decision date  opportunity status  ...  \\\n",
       "0            0    11-02-2015    12-03-2015                   0  ...   \n",
       "1            0    11-02-2015    12-03-2015                   0  ...   \n",
       "2            0    11-02-2015    12-03-2015                   1  ...   \n",
       "3            0    11-02-2015    12-03-2015                   2  ...   \n",
       "4            0    11-02-2015    12-03-2015                   2  ...   \n",
       "\n",
       "   core consumption market  core product segment  core sales segment  \\\n",
       "0                       11                     3                   8   \n",
       "1                       11                     3                   8   \n",
       "2                       11                     3                   8   \n",
       "3                       11                     3                   8   \n",
       "4                       11                     3                   8   \n",
       "\n",
       "   geography  core product application  product id  product status  product $  \\\n",
       "0         -1                         4         404               1   230400.0   \n",
       "1         -1                         4         404               1   230400.0   \n",
       "2         -1                         4         404               1   230400.0   \n",
       "3         -1                         4         404               1   230400.0   \n",
       "4          1                         4         404               1   230400.0   \n",
       "\n",
       "   product quantity       snapshot time  \n",
       "0            1200.0 2015-02-11 21:00:01  \n",
       "1            1200.0 2015-02-11 21:00:01  \n",
       "2            1200.0 2015-02-11 21:00:01  \n",
       "3            1200.0 2015-02-11 21:00:01  \n",
       "4            1200.0 2015-02-11 21:00:01  \n",
       "\n",
       "[5 rows x 21 columns]"
      ]
     },
     "execution_count": 95,
     "metadata": {},
     "output_type": "execute_result"
    }
   ],
   "source": [
    "merged_df.head()"
   ]
  },
  {
   "cell_type": "markdown",
   "metadata": {},
   "source": [
    "## Feature Engineering"
   ]
  },
  {
   "cell_type": "code",
   "execution_count": 96,
   "metadata": {
    "scrolled": true
   },
   "outputs": [],
   "source": [
    "#time taken to transition from one stage to another\n",
    "merged_df['transition days']=(merged_df['transition to timestamp']-merged_df['transition from timestamp']).dt.days"
   ]
  },
  {
   "cell_type": "code",
   "execution_count": 97,
   "metadata": {},
   "outputs": [
    {
     "data": {
      "text/plain": [
       "-280.0"
      ]
     },
     "execution_count": 97,
     "metadata": {},
     "output_type": "execute_result"
    }
   ],
   "source": [
    "merged_df['cost_per_product']=merged_df['product $']/merged_df['product quantity']\n",
    "merged_df['cost_per_product']\n",
    "\n",
    "average_price = merged_df.groupby('product id')['cost_per_product'].mean()\n",
    "merged_df['diff_avgcost'] = merged_df['cost_per_product'] - merged_df['product id'].map(average_price)\n",
    "merged_df['diff_avgcost'].min()"
   ]
  },
  {
   "cell_type": "code",
   "execution_count": 98,
   "metadata": {},
   "outputs": [],
   "source": [
    "#calculate total time taken for taking decision that is difference between time when a particular opportunity id opened and first time its status changes\n",
    "#to either win or loss\n",
    "merged_df = merged_df.sort_values(by=['opportunity id', 'transition to timestamp'])\n",
    "merged_df[\"time difference\"] = np.nan\n",
    "first_transition_from_timestamp = None\n",
    "\n",
    "for i in range(1, len(merged_df)):\n",
    "    \n",
    "    if merged_df[\"opportunity id\"][i] != merged_df[\"opportunity id\"][i-1]:\n",
    "        first_transition_from_timestamp = np.where(pd.notnull(merged_df[\"transition from timestamp\"][i]), merged_df[\"transition from timestamp\"][i], merged_df[\"transition to timestamp\"][i])\n",
    "    elif first_transition_from_timestamp is None:\n",
    "        first_transition_from_timestamp = merged_df[\"transition from timestamp\"][i]\n",
    "    \n",
    "    if merged_df[\"opportunity status\"][i] in [2,3]:\n",
    "        merged_df[\"time difference\"][i] = (merged_df[\"transition to timestamp\"][i] - first_transition_from_timestamp).total_seconds()/86400\n",
    "        \n",
    "#print(first_transition_from_timestamp)"
   ]
  },
  {
   "cell_type": "code",
   "execution_count": 99,
   "metadata": {},
   "outputs": [],
   "source": [
    "df_min=merged_df[['opportunity id','time difference']]\n",
    "merged_df=merged_df.rename(columns={'time difference':'time taken for decision'})\n",
    "df_min = df_min.groupby('opportunity id', as_index=False)['time difference'].min()\n",
    "merged_df=pd.merge(merged_df, df_min, on=['opportunity id'], how='left')"
   ]
  },
  {
   "cell_type": "code",
   "execution_count": 100,
   "metadata": {},
   "outputs": [
    {
     "data": {
      "text/plain": [
       "opportunity id       0\n",
       "time difference    906\n",
       "dtype: int64"
      ]
     },
     "execution_count": 100,
     "metadata": {},
     "output_type": "execute_result"
    }
   ],
   "source": [
    "df_min.isnull().sum()"
   ]
  },
  {
   "cell_type": "code",
   "execution_count": 101,
   "metadata": {},
   "outputs": [
    {
     "data": {
      "text/html": [
       "<div>\n",
       "<style scoped>\n",
       "    .dataframe tbody tr th:only-of-type {\n",
       "        vertical-align: middle;\n",
       "    }\n",
       "\n",
       "    .dataframe tbody tr th {\n",
       "        vertical-align: top;\n",
       "    }\n",
       "\n",
       "    .dataframe thead th {\n",
       "        text-align: right;\n",
       "    }\n",
       "</style>\n",
       "<table border=\"1\" class=\"dataframe\">\n",
       "  <thead>\n",
       "    <tr style=\"text-align: right;\">\n",
       "      <th></th>\n",
       "      <th>opportunity id</th>\n",
       "      <th>transition to stage</th>\n",
       "      <th>transition to timestamp</th>\n",
       "      <th>transition from stage name</th>\n",
       "      <th>transition from timestamp</th>\n",
       "      <th>customer name</th>\n",
       "      <th>risk status</th>\n",
       "      <th>creation date</th>\n",
       "      <th>decision date</th>\n",
       "      <th>opportunity status</th>\n",
       "      <th>...</th>\n",
       "      <th>core product application</th>\n",
       "      <th>product id</th>\n",
       "      <th>product status</th>\n",
       "      <th>product $</th>\n",
       "      <th>product quantity</th>\n",
       "      <th>snapshot time</th>\n",
       "      <th>transition days</th>\n",
       "      <th>cost_per_product</th>\n",
       "      <th>diff_avgcost</th>\n",
       "      <th>time taken for decision</th>\n",
       "    </tr>\n",
       "  </thead>\n",
       "  <tbody>\n",
       "    <tr>\n",
       "      <th>0</th>\n",
       "      <td>5</td>\n",
       "      <td>3</td>\n",
       "      <td>2015-02-11 13:00:01</td>\n",
       "      <td>-1</td>\n",
       "      <td>NaT</td>\n",
       "      <td>83</td>\n",
       "      <td>0</td>\n",
       "      <td>11-02-2015</td>\n",
       "      <td>12-03-2015</td>\n",
       "      <td>0</td>\n",
       "      <td>...</td>\n",
       "      <td>4</td>\n",
       "      <td>404</td>\n",
       "      <td>1</td>\n",
       "      <td>230400.0</td>\n",
       "      <td>1200.0</td>\n",
       "      <td>2015-02-11 21:00:01</td>\n",
       "      <td>NaN</td>\n",
       "      <td>192.0</td>\n",
       "      <td>0.0</td>\n",
       "      <td>33.000000</td>\n",
       "    </tr>\n",
       "    <tr>\n",
       "      <th>1</th>\n",
       "      <td>5</td>\n",
       "      <td>3</td>\n",
       "      <td>2015-02-13 05:00:02</td>\n",
       "      <td>3</td>\n",
       "      <td>2015-02-11 13:00:01</td>\n",
       "      <td>83</td>\n",
       "      <td>0</td>\n",
       "      <td>11-02-2015</td>\n",
       "      <td>12-03-2015</td>\n",
       "      <td>0</td>\n",
       "      <td>...</td>\n",
       "      <td>4</td>\n",
       "      <td>404</td>\n",
       "      <td>1</td>\n",
       "      <td>230400.0</td>\n",
       "      <td>1200.0</td>\n",
       "      <td>2015-02-11 21:00:01</td>\n",
       "      <td>1.0</td>\n",
       "      <td>192.0</td>\n",
       "      <td>0.0</td>\n",
       "      <td>33.000000</td>\n",
       "    </tr>\n",
       "    <tr>\n",
       "      <th>2</th>\n",
       "      <td>5</td>\n",
       "      <td>3</td>\n",
       "      <td>2015-03-04 21:00:02</td>\n",
       "      <td>3</td>\n",
       "      <td>2015-03-04 21:00:02</td>\n",
       "      <td>83</td>\n",
       "      <td>0</td>\n",
       "      <td>11-02-2015</td>\n",
       "      <td>12-03-2015</td>\n",
       "      <td>1</td>\n",
       "      <td>...</td>\n",
       "      <td>4</td>\n",
       "      <td>404</td>\n",
       "      <td>1</td>\n",
       "      <td>230400.0</td>\n",
       "      <td>1200.0</td>\n",
       "      <td>2015-02-11 21:00:01</td>\n",
       "      <td>0.0</td>\n",
       "      <td>192.0</td>\n",
       "      <td>0.0</td>\n",
       "      <td>33.000000</td>\n",
       "    </tr>\n",
       "    <tr>\n",
       "      <th>3</th>\n",
       "      <td>5</td>\n",
       "      <td>4</td>\n",
       "      <td>2015-03-16 13:00:01</td>\n",
       "      <td>3</td>\n",
       "      <td>2015-03-04 21:00:02</td>\n",
       "      <td>83</td>\n",
       "      <td>0</td>\n",
       "      <td>11-02-2015</td>\n",
       "      <td>12-03-2015</td>\n",
       "      <td>2</td>\n",
       "      <td>...</td>\n",
       "      <td>4</td>\n",
       "      <td>404</td>\n",
       "      <td>1</td>\n",
       "      <td>230400.0</td>\n",
       "      <td>1200.0</td>\n",
       "      <td>2015-02-11 21:00:01</td>\n",
       "      <td>11.0</td>\n",
       "      <td>192.0</td>\n",
       "      <td>0.0</td>\n",
       "      <td>33.000000</td>\n",
       "    </tr>\n",
       "    <tr>\n",
       "      <th>4</th>\n",
       "      <td>5</td>\n",
       "      <td>4</td>\n",
       "      <td>2015-03-17 13:00:01</td>\n",
       "      <td>4</td>\n",
       "      <td>2015-03-16 13:00:01</td>\n",
       "      <td>83</td>\n",
       "      <td>0</td>\n",
       "      <td>11-02-2015</td>\n",
       "      <td>12-03-2015</td>\n",
       "      <td>2</td>\n",
       "      <td>...</td>\n",
       "      <td>4</td>\n",
       "      <td>404</td>\n",
       "      <td>1</td>\n",
       "      <td>230400.0</td>\n",
       "      <td>1200.0</td>\n",
       "      <td>2015-02-11 21:00:01</td>\n",
       "      <td>1.0</td>\n",
       "      <td>192.0</td>\n",
       "      <td>0.0</td>\n",
       "      <td>33.000000</td>\n",
       "    </tr>\n",
       "    <tr>\n",
       "      <th>...</th>\n",
       "      <td>...</td>\n",
       "      <td>...</td>\n",
       "      <td>...</td>\n",
       "      <td>...</td>\n",
       "      <td>...</td>\n",
       "      <td>...</td>\n",
       "      <td>...</td>\n",
       "      <td>...</td>\n",
       "      <td>...</td>\n",
       "      <td>...</td>\n",
       "      <td>...</td>\n",
       "      <td>...</td>\n",
       "      <td>...</td>\n",
       "      <td>...</td>\n",
       "      <td>...</td>\n",
       "      <td>...</td>\n",
       "      <td>...</td>\n",
       "      <td>...</td>\n",
       "      <td>...</td>\n",
       "      <td>...</td>\n",
       "      <td>...</td>\n",
       "    </tr>\n",
       "    <tr>\n",
       "      <th>23469</th>\n",
       "      <td>42789</td>\n",
       "      <td>1</td>\n",
       "      <td>2016-06-12 21:00:04</td>\n",
       "      <td>6</td>\n",
       "      <td>2016-06-10 07:13:44</td>\n",
       "      <td>9787</td>\n",
       "      <td>0</td>\n",
       "      <td>15-11-2015</td>\n",
       "      <td>01-09-2016</td>\n",
       "      <td>3</td>\n",
       "      <td>...</td>\n",
       "      <td>5</td>\n",
       "      <td>38158</td>\n",
       "      <td>1</td>\n",
       "      <td>6000.0</td>\n",
       "      <td>1000.0</td>\n",
       "      <td>2015-11-16 13:00:03</td>\n",
       "      <td>2.0</td>\n",
       "      <td>6.0</td>\n",
       "      <td>0.0</td>\n",
       "      <td>66.666678</td>\n",
       "    </tr>\n",
       "    <tr>\n",
       "      <th>23470</th>\n",
       "      <td>42789</td>\n",
       "      <td>1</td>\n",
       "      <td>2016-06-15 13:00:03</td>\n",
       "      <td>1</td>\n",
       "      <td>2016-06-12 21:00:04</td>\n",
       "      <td>9787</td>\n",
       "      <td>0</td>\n",
       "      <td>15-11-2015</td>\n",
       "      <td>01-09-2016</td>\n",
       "      <td>3</td>\n",
       "      <td>...</td>\n",
       "      <td>5</td>\n",
       "      <td>38158</td>\n",
       "      <td>1</td>\n",
       "      <td>60000.0</td>\n",
       "      <td>10000.0</td>\n",
       "      <td>2015-11-15 13:00:03</td>\n",
       "      <td>2.0</td>\n",
       "      <td>6.0</td>\n",
       "      <td>0.0</td>\n",
       "      <td>66.666678</td>\n",
       "    </tr>\n",
       "    <tr>\n",
       "      <th>23471</th>\n",
       "      <td>42789</td>\n",
       "      <td>1</td>\n",
       "      <td>2016-06-15 13:00:03</td>\n",
       "      <td>1</td>\n",
       "      <td>2016-06-12 21:00:04</td>\n",
       "      <td>9787</td>\n",
       "      <td>0</td>\n",
       "      <td>15-11-2015</td>\n",
       "      <td>01-09-2016</td>\n",
       "      <td>3</td>\n",
       "      <td>...</td>\n",
       "      <td>5</td>\n",
       "      <td>38158</td>\n",
       "      <td>1</td>\n",
       "      <td>6000.0</td>\n",
       "      <td>1000.0</td>\n",
       "      <td>2015-11-16 13:00:03</td>\n",
       "      <td>2.0</td>\n",
       "      <td>6.0</td>\n",
       "      <td>0.0</td>\n",
       "      <td>66.666678</td>\n",
       "    </tr>\n",
       "    <tr>\n",
       "      <th>23472</th>\n",
       "      <td>42789</td>\n",
       "      <td>1</td>\n",
       "      <td>2016-07-01 05:00:04</td>\n",
       "      <td>1</td>\n",
       "      <td>2016-06-25 05:00:03</td>\n",
       "      <td>9787</td>\n",
       "      <td>1</td>\n",
       "      <td>15-11-2015</td>\n",
       "      <td>01-09-2016</td>\n",
       "      <td>3</td>\n",
       "      <td>...</td>\n",
       "      <td>5</td>\n",
       "      <td>38158</td>\n",
       "      <td>1</td>\n",
       "      <td>60000.0</td>\n",
       "      <td>10000.0</td>\n",
       "      <td>2015-11-15 13:00:03</td>\n",
       "      <td>6.0</td>\n",
       "      <td>6.0</td>\n",
       "      <td>0.0</td>\n",
       "      <td>66.666678</td>\n",
       "    </tr>\n",
       "    <tr>\n",
       "      <th>23473</th>\n",
       "      <td>42789</td>\n",
       "      <td>1</td>\n",
       "      <td>2016-07-01 05:00:04</td>\n",
       "      <td>1</td>\n",
       "      <td>2016-06-25 05:00:03</td>\n",
       "      <td>9787</td>\n",
       "      <td>1</td>\n",
       "      <td>15-11-2015</td>\n",
       "      <td>01-09-2016</td>\n",
       "      <td>3</td>\n",
       "      <td>...</td>\n",
       "      <td>5</td>\n",
       "      <td>38158</td>\n",
       "      <td>1</td>\n",
       "      <td>6000.0</td>\n",
       "      <td>1000.0</td>\n",
       "      <td>2015-11-16 13:00:03</td>\n",
       "      <td>6.0</td>\n",
       "      <td>6.0</td>\n",
       "      <td>0.0</td>\n",
       "      <td>66.666678</td>\n",
       "    </tr>\n",
       "  </tbody>\n",
       "</table>\n",
       "<p>23474 rows × 25 columns</p>\n",
       "</div>"
      ],
      "text/plain": [
       "       opportunity id  transition to stage transition to timestamp  \\\n",
       "0                   5                    3     2015-02-11 13:00:01   \n",
       "1                   5                    3     2015-02-13 05:00:02   \n",
       "2                   5                    3     2015-03-04 21:00:02   \n",
       "3                   5                    4     2015-03-16 13:00:01   \n",
       "4                   5                    4     2015-03-17 13:00:01   \n",
       "...               ...                  ...                     ...   \n",
       "23469           42789                    1     2016-06-12 21:00:04   \n",
       "23470           42789                    1     2016-06-15 13:00:03   \n",
       "23471           42789                    1     2016-06-15 13:00:03   \n",
       "23472           42789                    1     2016-07-01 05:00:04   \n",
       "23473           42789                    1     2016-07-01 05:00:04   \n",
       "\n",
       "       transition from stage name transition from timestamp  customer name  \\\n",
       "0                              -1                       NaT             83   \n",
       "1                               3       2015-02-11 13:00:01             83   \n",
       "2                               3       2015-03-04 21:00:02             83   \n",
       "3                               3       2015-03-04 21:00:02             83   \n",
       "4                               4       2015-03-16 13:00:01             83   \n",
       "...                           ...                       ...            ...   \n",
       "23469                           6       2016-06-10 07:13:44           9787   \n",
       "23470                           1       2016-06-12 21:00:04           9787   \n",
       "23471                           1       2016-06-12 21:00:04           9787   \n",
       "23472                           1       2016-06-25 05:00:03           9787   \n",
       "23473                           1       2016-06-25 05:00:03           9787   \n",
       "\n",
       "       risk status creation date decision date  opportunity status  ...  \\\n",
       "0                0    11-02-2015    12-03-2015                   0  ...   \n",
       "1                0    11-02-2015    12-03-2015                   0  ...   \n",
       "2                0    11-02-2015    12-03-2015                   1  ...   \n",
       "3                0    11-02-2015    12-03-2015                   2  ...   \n",
       "4                0    11-02-2015    12-03-2015                   2  ...   \n",
       "...            ...           ...           ...                 ...  ...   \n",
       "23469            0    15-11-2015    01-09-2016                   3  ...   \n",
       "23470            0    15-11-2015    01-09-2016                   3  ...   \n",
       "23471            0    15-11-2015    01-09-2016                   3  ...   \n",
       "23472            1    15-11-2015    01-09-2016                   3  ...   \n",
       "23473            1    15-11-2015    01-09-2016                   3  ...   \n",
       "\n",
       "       core product application  product id  product status  product $  \\\n",
       "0                             4         404               1   230400.0   \n",
       "1                             4         404               1   230400.0   \n",
       "2                             4         404               1   230400.0   \n",
       "3                             4         404               1   230400.0   \n",
       "4                             4         404               1   230400.0   \n",
       "...                         ...         ...             ...        ...   \n",
       "23469                         5       38158               1     6000.0   \n",
       "23470                         5       38158               1    60000.0   \n",
       "23471                         5       38158               1     6000.0   \n",
       "23472                         5       38158               1    60000.0   \n",
       "23473                         5       38158               1     6000.0   \n",
       "\n",
       "       product quantity       snapshot time  transition days  \\\n",
       "0                1200.0 2015-02-11 21:00:01              NaN   \n",
       "1                1200.0 2015-02-11 21:00:01              1.0   \n",
       "2                1200.0 2015-02-11 21:00:01              0.0   \n",
       "3                1200.0 2015-02-11 21:00:01             11.0   \n",
       "4                1200.0 2015-02-11 21:00:01              1.0   \n",
       "...                 ...                 ...              ...   \n",
       "23469            1000.0 2015-11-16 13:00:03              2.0   \n",
       "23470           10000.0 2015-11-15 13:00:03              2.0   \n",
       "23471            1000.0 2015-11-16 13:00:03              2.0   \n",
       "23472           10000.0 2015-11-15 13:00:03              6.0   \n",
       "23473            1000.0 2015-11-16 13:00:03              6.0   \n",
       "\n",
       "       cost_per_product  diff_avgcost  time taken for decision  \n",
       "0                 192.0           0.0                33.000000  \n",
       "1                 192.0           0.0                33.000000  \n",
       "2                 192.0           0.0                33.000000  \n",
       "3                 192.0           0.0                33.000000  \n",
       "4                 192.0           0.0                33.000000  \n",
       "...                 ...           ...                      ...  \n",
       "23469               6.0           0.0                66.666678  \n",
       "23470               6.0           0.0                66.666678  \n",
       "23471               6.0           0.0                66.666678  \n",
       "23472               6.0           0.0                66.666678  \n",
       "23473               6.0           0.0                66.666678  \n",
       "\n",
       "[23474 rows x 25 columns]"
      ]
     },
     "execution_count": 101,
     "metadata": {},
     "output_type": "execute_result"
    }
   ],
   "source": [
    "merged_df.drop(['time taken for decision'],axis=1,inplace=True)\n",
    "merged_df=merged_df.rename(columns={'time difference':'time taken for decision'})\n",
    "merged_df"
   ]
  },
  {
   "cell_type": "code",
   "execution_count": 106,
   "metadata": {},
   "outputs": [],
   "source": [
    "merged_df['decision date'] = pd.to_datetime(merged_df['decision date'], format = '%d-%m-%Y')\n",
    "merged_df['creation date'] = pd.to_datetime(merged_df['creation date'], format = '%d-%m-%Y')"
   ]
  },
  {
   "cell_type": "code",
   "execution_count": 107,
   "metadata": {},
   "outputs": [
    {
     "data": {
      "text/plain": [
       "85.372667632274"
      ]
     },
     "execution_count": 107,
     "metadata": {},
     "output_type": "execute_result"
    }
   ],
   "source": [
    "merged_df['decision days']=(merged_df['decision date']-merged_df['creation date']).dt.days\n",
    "merged_df['decision days'].mean()"
   ]
  },
  {
   "cell_type": "code",
   "execution_count": 109,
   "metadata": {},
   "outputs": [
    {
     "name": "stdout",
     "output_type": "stream",
     "text": [
      "2215-03-20 00:00:00\n",
      "2020-03-31 00:00:00\n"
     ]
    }
   ],
   "source": [
    "print(merged_df['decision date'].max())\n",
    "# it seems that there is typo in decision date, so we will convert 2215-03-20 00:00:00 to 2015-03-20 00:00:00\n",
    "merged_df['decision date'].replace('2215-03-20 00:00:00','2015-03-20 00:00:00', inplace=True)\n",
    "print(merged_df['decision date'].max())"
   ]
  },
  {
   "cell_type": "markdown",
   "metadata": {},
   "source": [
    "## Define DV"
   ]
  },
  {
   "cell_type": "markdown",
   "metadata": {},
   "source": [
    "Here opportunity status is missing for less than 0.5% so we can ignore these.\n",
    "Around for 18% opportunity status is open, we can't just drop these, so we will have different file for these values. -"
   ]
  },
  {
   "cell_type": "code",
   "execution_count": 110,
   "metadata": {},
   "outputs": [
    {
     "data": {
      "text/plain": [
       "1    11807\n",
       "2     9816\n",
       "0      971\n",
       "3      880\n",
       "Name: opportunity status, dtype: int64"
      ]
     },
     "execution_count": 110,
     "metadata": {},
     "output_type": "execute_result"
    }
   ],
   "source": [
    "#there  2 : win\n",
    "# 1 : open\n",
    "# 0 : na\n",
    "# 3 : lost\n",
    "merged_df['opportunity status'].value_counts()\n",
    "#for a small proportion opportunity status is zero (<0.5%), it turns out that this zero value given to intially to opportunity before they are considered\n",
    "#open, so we should have 1 value of opportnuity status for every opportunity id, so we will chabe these values to there final opportnutiy status"
   ]
  },
  {
   "cell_type": "code",
   "execution_count": 111,
   "metadata": {},
   "outputs": [],
   "source": [
    "merged_df[\"opportunity status\"] = merged_df.groupby('opportunity id')[\"opportunity status\"].transform(\"max\")"
   ]
  },
  {
   "cell_type": "code",
   "execution_count": 112,
   "metadata": {},
   "outputs": [],
   "source": [
    "#for opportunities that are still open and we don't know there final value, we will have a different dataset for it,after testing our model we can find \n",
    "#opportunity status for these values\n",
    "test2=merged_df[merged_df['opportunity status']==1]\n",
    "test2.shape\n",
    "dataset.save_dataset(context, test2, 'test/'+'test2')"
   ]
  },
  {
   "cell_type": "code",
   "execution_count": 113,
   "metadata": {},
   "outputs": [],
   "source": [
    "merged_df = merged_df[~((merged_df['opportunity status'] == 0) | (merged_df['opportunity status'] == 1))]"
   ]
  },
  {
   "cell_type": "code",
   "execution_count": 114,
   "metadata": {},
   "outputs": [
    {
     "data": {
      "text/plain": [
       "(19755, 26)"
      ]
     },
     "execution_count": 114,
     "metadata": {},
     "output_type": "execute_result"
    }
   ],
   "source": [
    "merged_df.shape"
   ]
  },
  {
   "cell_type": "code",
   "execution_count": 115,
   "metadata": {},
   "outputs": [],
   "source": [
    "merged_df['opportunity status'].replace(3,0,inplace=True)\n",
    "merged_df['opportunity status'].replace(2,1,inplace=True)"
   ]
  },
  {
   "cell_type": "code",
   "execution_count": 116,
   "metadata": {},
   "outputs": [],
   "source": [
    "dataset.save_dataset(context,merged_df , 'processed/'+'merged_final_dataset')"
   ]
  },
  {
   "cell_type": "code",
   "execution_count": null,
   "metadata": {},
   "outputs": [],
   "source": [
    "one hot encoding\n",
    "key drivers - interaction with target variable\n",
    "make initial pipeline\n",
    "model tune\n",
    "gridsearchcv\n",
    "best estimators\n",
    "make pipeline using best estimators\n",
    "model evaluation\n",
    "classification error analysis\n",
    "model summary\n",
    "most influencing features\n",
    "classification reports\n",
    "model comparison\n",
    "\n"
   ]
  }
 ],
 "metadata": {
  "kernelspec": {
   "display_name": "Python 3 (ipykernel)",
   "language": "python",
   "name": "python3"
  },
  "language_info": {
   "codemirror_mode": {
    "name": "ipython",
    "version": 3
   },
   "file_extension": ".py",
   "mimetype": "text/x-python",
   "name": "python",
   "nbconvert_exporter": "python",
   "pygments_lexer": "ipython3",
   "version": "3.9.13"
  },
  "vscode": {
   "interpreter": {
    "hash": "d725ecf970a6b085f2b232a6eda9af7d734b1d5658ca9f4ff478a4371e6cf262"
   }
  }
 },
 "nbformat": 4,
 "nbformat_minor": 4
}
